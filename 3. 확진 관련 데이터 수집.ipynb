{
 "cells": [
  {
   "cell_type": "code",
   "execution_count": 1,
   "metadata": {},
   "outputs": [],
   "source": [
    "import pandas as pd\n",
    "import numpy as np\n",
    "import matplotlib.pyplot as plt\n",
    "import seaborn as sns\n",
    "import math\n",
    "import warnings\n",
    "warnings.filterwarnings(action='ignore')\n",
    "\n",
    "from IPython.core.interactiveshell import InteractiveShell\n",
    "InteractiveShell.ast_node_interactivity ='all'\n",
    "\n",
    "from selenium import webdriver\n",
    "from selenium.webdriver.support.ui import Select\n",
    "import time\n",
    "from tqdm.notebook import tqdm\n",
    "\n",
    "import datetime\n",
    "from datetime import timedelta"
   ]
  },
  {
   "cell_type": "code",
   "execution_count": 2,
   "metadata": {},
   "outputs": [],
   "source": [
    "patient = [] # 환자번호\n",
    "route = [] # 감영경로\n",
    "date = [] # 날짜\n",
    "residence = [] # 거주지\n",
    "status = [] # 퇴원현황\n",
    "detail = []"
   ]
  },
  {
   "cell_type": "code",
   "execution_count": 5,
   "metadata": {},
   "outputs": [],
   "source": [
    "# 페이지 접속\n",
    "driver = webdriver.Chrome(\"chromedriver.exe\")\n",
    "driver.get(\"https://www.seoul.go.kr/coronaV/coronaStatus.do#route_page_top\")"
   ]
  },
  {
   "cell_type": "code",
   "execution_count": 19,
   "metadata": {
    "scrolled": true
   },
   "outputs": [
    {
     "data": {
      "application/vnd.jupyter.widget-view+json": {
       "model_id": "6fc4d26416a44c1d879a5c8512ccf671",
       "version_major": 2,
       "version_minor": 0
      },
      "text/plain": [
       "HBox(children=(IntProgress(value=0), HTML(value='')))"
      ]
     },
     "metadata": {},
     "output_type": "display_data"
    },
    {
     "name": "stdout",
     "output_type": "stream",
     "text": [
      "\n",
      "page19\n"
     ]
    }
   ],
   "source": [
    "# #환자정보 크롤링\n",
    "# for page in range(20): \n",
    "#     page_elem = driver.find_element_by_xpath(\"/html/body/div[2]/div[2]/div[2]/div/div[9]/div[2]/div[2]/div[2]/div/div/div[2]/div[5]/span[1]/a[2]\")\n",
    "#     page_elem.click()\n",
    "#     time.sleep(1.5)\n",
    "\n",
    "for i in tqdm(range(1,101)):\n",
    "    patient_elem = driver.find_element_by_xpath(\"/html/body/div[2]/div[2]/div[2]/div/div[9]/div[2]/div[2]/div[2]/div/div/div[2]/table/tbody/tr[\"+str(i)+\"]/td[1]\")\n",
    "    patient.append(patient_elem.text)              \n",
    "\n",
    "#     route_elem = driver.find_element_by_xpath(\"/html/body/div[1]/div[2]/div[2]/div/div[8]/div[3]/div[2]/div/div[2]/table/tbody/tr[\"+str(i)+\"]/td[5]\")\n",
    "#     route.append(route_elem.text)\n",
    "\n",
    "    date_elem = driver.find_element_by_xpath(\"/html/body/div[2]/div[2]/div[2]/div/div[9]/div[2]/div[2]/div[2]/div/div/div[2]/table/tbody/tr[\"+str(i)+\"]/td[2]\")\n",
    "    date.append(date_elem.text)\n",
    "\n",
    "    residence_elem = driver.find_element_by_xpath(\"/html/body/div[2]/div[2]/div[2]/div/div[9]/div[2]/div[2]/div[2]/div/div/div[2]/table/tbody/tr[\"+str(i)+\"]/td[3]\")\n",
    "    residence.append(residence_elem.text)\n",
    "\n",
    "    detail_elem = driver.find_element_by_xpath(\"/html/body/div[2]/div[2]/div[2]/div/div[9]/div[2]/div[2]/div[2]/div/div/div[2]/table/tbody/tr[\"+str(i)+\"]/td[5]\")\n",
    "    detail.append(detail_elem.text)\n",
    "\n",
    "    status_elem = driver.find_element_by_xpath(\"/html/body/div[2]/div[2]/div[2]/div/div[9]/div[2]/div[2]/div[2]/div/div/div[2]/table/tbody/tr[\"+str(i)+\"]/td[6]/b\")\n",
    "    status.append(status_elem.text)\n",
    "print(\"page{0}\".format(page))\n",
    "time.sleep(0.5)\n"
   ]
  },
  {
   "cell_type": "code",
   "execution_count": 20,
   "metadata": {},
   "outputs": [
    {
     "data": {
      "text/plain": [
       "4704"
      ]
     },
     "execution_count": 20,
     "metadata": {},
     "output_type": "execute_result"
    },
    {
     "data": {
      "text/plain": [
       "0"
      ]
     },
     "execution_count": 20,
     "metadata": {},
     "output_type": "execute_result"
    },
    {
     "data": {
      "text/plain": [
       "4704"
      ]
     },
     "execution_count": 20,
     "metadata": {},
     "output_type": "execute_result"
    },
    {
     "data": {
      "text/plain": [
       "4704"
      ]
     },
     "execution_count": 20,
     "metadata": {},
     "output_type": "execute_result"
    },
    {
     "data": {
      "text/plain": [
       "4704"
      ]
     },
     "execution_count": 20,
     "metadata": {},
     "output_type": "execute_result"
    },
    {
     "data": {
      "text/plain": [
       "4704"
      ]
     },
     "execution_count": 20,
     "metadata": {},
     "output_type": "execute_result"
    }
   ],
   "source": [
    "len(patient)\n",
    "len(route)\n",
    "len(date)\n",
    "len(residence)\n",
    "len(status)\n",
    "len(detail)"
   ]
  },
  {
   "cell_type": "code",
   "execution_count": 105,
   "metadata": {},
   "outputs": [
    {
     "data": {
      "text/plain": [
       "11708    21.01.03.\n",
       "11709    21.01.03.\n",
       "11710    21.01.03.\n",
       "11711    21.01.03.\n",
       "11712    21.01.03.\n",
       "           ...    \n",
       "11833    21.01.03.\n",
       "11834    21.01.03.\n",
       "11835    21.01.03.\n",
       "11836    21.01.03.\n",
       "11837    21.01.03.\n",
       "Length: 130, dtype: object"
      ]
     },
     "execution_count": 105,
     "metadata": {},
     "output_type": "execute_result"
    }
   ],
   "source": [
    "pd.Series(date).tail(130)"
   ]
  },
  {
   "cell_type": "code",
   "execution_count": 81,
   "metadata": {},
   "outputs": [],
   "source": [
    "patient = patient[:4138]\n",
    "# route = route[:4100]\n",
    "date = date[:4138]\n",
    "residence = residence[:4138]\n",
    "status = status[:4138]\n",
    "detail = detail[:4138]"
   ]
  },
  {
   "cell_type": "code",
   "execution_count": 21,
   "metadata": {},
   "outputs": [],
   "source": [
    "df = pd.DataFrame({\"환자번호\" : patient,\n",
    "                   \"날짜\" : date,\n",
    "                   \"거주지\" : residence,\n",
    "                   \"퇴원현황\" :status,\n",
    "                   \"세부정보\" : detail})"
   ]
  },
  {
   "cell_type": "code",
   "execution_count": 22,
   "metadata": {},
   "outputs": [],
   "source": [
    "df.drop_duplicates(inplace=True)"
   ]
  },
  {
   "cell_type": "code",
   "execution_count": 30,
   "metadata": {},
   "outputs": [],
   "source": [
    "df = df.sort_values(by='날짜').reset_index(drop=True)"
   ]
  },
  {
   "cell_type": "code",
   "execution_count": 37,
   "metadata": {},
   "outputs": [],
   "source": [
    "df = df.iloc[:4683]"
   ]
  },
  {
   "cell_type": "code",
   "execution_count": 39,
   "metadata": {},
   "outputs": [],
   "source": [
    "df.to_excel(\"최종수집.xlsx\")"
   ]
  },
  {
   "cell_type": "code",
   "execution_count": 108,
   "metadata": {},
   "outputs": [],
   "source": [
    "data = pd.read_excel('확진자정보.xlsx')"
   ]
  },
  {
   "cell_type": "code",
   "execution_count": 109,
   "metadata": {},
   "outputs": [
    {
     "data": {
      "text/html": [
       "<div>\n",
       "<style scoped>\n",
       "    .dataframe tbody tr th:only-of-type {\n",
       "        vertical-align: middle;\n",
       "    }\n",
       "\n",
       "    .dataframe tbody tr th {\n",
       "        vertical-align: top;\n",
       "    }\n",
       "\n",
       "    .dataframe thead th {\n",
       "        text-align: right;\n",
       "    }\n",
       "</style>\n",
       "<table border=\"1\" class=\"dataframe\">\n",
       "  <thead>\n",
       "    <tr style=\"text-align: right;\">\n",
       "      <th></th>\n",
       "      <th>Unnamed: 0</th>\n",
       "      <th>감염경로</th>\n",
       "      <th>거주지</th>\n",
       "      <th>날짜</th>\n",
       "      <th>세부정보</th>\n",
       "      <th>퇴원현황</th>\n",
       "      <th>환자번호</th>\n",
       "    </tr>\n",
       "  </thead>\n",
       "  <tbody>\n",
       "    <tr>\n",
       "      <td>0</td>\n",
       "      <td>0</td>\n",
       "      <td>해외 접촉(중국 우한시)</td>\n",
       "      <td>강서구</td>\n",
       "      <td>1/24</td>\n",
       "      <td>이동경로 공개기간 경과</td>\n",
       "      <td>퇴원</td>\n",
       "      <td>#2</td>\n",
       "    </tr>\n",
       "    <tr>\n",
       "      <td>1</td>\n",
       "      <td>1</td>\n",
       "      <td>해외 접촉(중국 우한시)</td>\n",
       "      <td>마포구</td>\n",
       "      <td>1/30</td>\n",
       "      <td>이동경로 공개기간 경과</td>\n",
       "      <td>퇴원</td>\n",
       "      <td>#7</td>\n",
       "    </tr>\n",
       "    <tr>\n",
       "      <td>2</td>\n",
       "      <td>2</td>\n",
       "      <td>#3 접촉</td>\n",
       "      <td>종로구</td>\n",
       "      <td>1/30</td>\n",
       "      <td>이동경로 공개기간 경과</td>\n",
       "      <td>퇴원</td>\n",
       "      <td>#6</td>\n",
       "    </tr>\n",
       "    <tr>\n",
       "      <td>3</td>\n",
       "      <td>3</td>\n",
       "      <td>해외 접촉(중국 우한시)</td>\n",
       "      <td>중랑구</td>\n",
       "      <td>1/30</td>\n",
       "      <td>이동경로 공개기간 경과</td>\n",
       "      <td>퇴원</td>\n",
       "      <td>#5</td>\n",
       "    </tr>\n",
       "    <tr>\n",
       "      <td>4</td>\n",
       "      <td>4</td>\n",
       "      <td>#6 접촉</td>\n",
       "      <td>종로구</td>\n",
       "      <td>1/31</td>\n",
       "      <td>이동경로 공개기간 경과</td>\n",
       "      <td>퇴원</td>\n",
       "      <td>#11</td>\n",
       "    </tr>\n",
       "    <tr>\n",
       "      <td>...</td>\n",
       "      <td>...</td>\n",
       "      <td>...</td>\n",
       "      <td>...</td>\n",
       "      <td>...</td>\n",
       "      <td>...</td>\n",
       "      <td>...</td>\n",
       "      <td>...</td>\n",
       "    </tr>\n",
       "    <tr>\n",
       "      <td>10116</td>\n",
       "      <td>4030</td>\n",
       "      <td>종로구 소재 파고다타운 관련</td>\n",
       "      <td>동대문구</td>\n",
       "      <td>20.12.05.</td>\n",
       "      <td>종로구 소재 파고다타운 관련</td>\n",
       "      <td>NaN</td>\n",
       "      <td>37066</td>\n",
       "    </tr>\n",
       "    <tr>\n",
       "      <td>10117</td>\n",
       "      <td>4029</td>\n",
       "      <td>기타 확진자 접촉</td>\n",
       "      <td>성북구</td>\n",
       "      <td>20.12.05.</td>\n",
       "      <td>기타 확진자 접촉</td>\n",
       "      <td>NaN</td>\n",
       "      <td>37023</td>\n",
       "    </tr>\n",
       "    <tr>\n",
       "      <td>10118</td>\n",
       "      <td>4028</td>\n",
       "      <td>종로구 소재 파고다타운 관련</td>\n",
       "      <td>노원구</td>\n",
       "      <td>20.12.05.</td>\n",
       "      <td>종로구 소재 파고다타운 관련</td>\n",
       "      <td>퇴원</td>\n",
       "      <td>37070</td>\n",
       "    </tr>\n",
       "    <tr>\n",
       "      <td>10119</td>\n",
       "      <td>4051</td>\n",
       "      <td>기타 확진자 접촉</td>\n",
       "      <td>기타</td>\n",
       "      <td>20.12.05.</td>\n",
       "      <td>기타 확진자 접촉</td>\n",
       "      <td>퇴원</td>\n",
       "      <td>37546</td>\n",
       "    </tr>\n",
       "    <tr>\n",
       "      <td>10120</td>\n",
       "      <td>4012</td>\n",
       "      <td>기타 확진자 접촉</td>\n",
       "      <td>강남구</td>\n",
       "      <td>20.12.05.</td>\n",
       "      <td>기타 확진자 접촉</td>\n",
       "      <td>NaN</td>\n",
       "      <td>37121</td>\n",
       "    </tr>\n",
       "  </tbody>\n",
       "</table>\n",
       "<p>10121 rows × 7 columns</p>\n",
       "</div>"
      ],
      "text/plain": [
       "       Unnamed: 0             감염경로   거주지         날짜             세부정보 퇴원현황  \\\n",
       "0               0    해외 접촉(중국 우한시)   강서구       1/24     이동경로 공개기간 경과   퇴원   \n",
       "1               1    해외 접촉(중국 우한시)   마포구       1/30     이동경로 공개기간 경과   퇴원   \n",
       "2               2            #3 접촉   종로구       1/30     이동경로 공개기간 경과   퇴원   \n",
       "3               3    해외 접촉(중국 우한시)   중랑구       1/30     이동경로 공개기간 경과   퇴원   \n",
       "4               4            #6 접촉   종로구       1/31     이동경로 공개기간 경과   퇴원   \n",
       "...           ...              ...   ...        ...              ...  ...   \n",
       "10116        4030  종로구 소재 파고다타운 관련  동대문구  20.12.05.  종로구 소재 파고다타운 관련  NaN   \n",
       "10117        4029        기타 확진자 접촉   성북구  20.12.05.        기타 확진자 접촉  NaN   \n",
       "10118        4028  종로구 소재 파고다타운 관련   노원구  20.12.05.  종로구 소재 파고다타운 관련   퇴원   \n",
       "10119        4051        기타 확진자 접촉    기타  20.12.05.        기타 확진자 접촉   퇴원   \n",
       "10120        4012        기타 확진자 접촉   강남구  20.12.05.        기타 확진자 접촉  NaN   \n",
       "\n",
       "        환자번호  \n",
       "0         #2  \n",
       "1         #7  \n",
       "2         #6  \n",
       "3         #5  \n",
       "4        #11  \n",
       "...      ...  \n",
       "10116  37066  \n",
       "10117  37023  \n",
       "10118  37070  \n",
       "10119  37546  \n",
       "10120  37121  \n",
       "\n",
       "[10121 rows x 7 columns]"
      ]
     },
     "execution_count": 109,
     "metadata": {},
     "output_type": "execute_result"
    }
   ],
   "source": [
    "data"
   ]
  },
  {
   "cell_type": "code",
   "execution_count": 111,
   "metadata": {},
   "outputs": [],
   "source": [
    "df = pd.concat([data,df])"
   ]
  },
  {
   "cell_type": "code",
   "execution_count": 116,
   "metadata": {},
   "outputs": [
    {
     "data": {
      "text/html": [
       "<div>\n",
       "<style scoped>\n",
       "    .dataframe tbody tr th:only-of-type {\n",
       "        vertical-align: middle;\n",
       "    }\n",
       "\n",
       "    .dataframe tbody tr th {\n",
       "        vertical-align: top;\n",
       "    }\n",
       "\n",
       "    .dataframe thead th {\n",
       "        text-align: right;\n",
       "    }\n",
       "</style>\n",
       "<table border=\"1\" class=\"dataframe\">\n",
       "  <thead>\n",
       "    <tr style=\"text-align: right;\">\n",
       "      <th></th>\n",
       "      <th>Unnamed: 0</th>\n",
       "      <th>감염경로</th>\n",
       "      <th>거주지</th>\n",
       "      <th>날짜</th>\n",
       "      <th>세부정보</th>\n",
       "      <th>퇴원현황</th>\n",
       "      <th>환자번호</th>\n",
       "    </tr>\n",
       "  </thead>\n",
       "  <tbody>\n",
       "    <tr>\n",
       "      <td>0</td>\n",
       "      <td>0</td>\n",
       "      <td>해외 접촉(중국 우한시)</td>\n",
       "      <td>강서구</td>\n",
       "      <td>1/24</td>\n",
       "      <td>이동경로 공개기간 경과</td>\n",
       "      <td>퇴원</td>\n",
       "      <td>#2</td>\n",
       "    </tr>\n",
       "    <tr>\n",
       "      <td>1</td>\n",
       "      <td>1</td>\n",
       "      <td>해외 접촉(중국 우한시)</td>\n",
       "      <td>마포구</td>\n",
       "      <td>1/30</td>\n",
       "      <td>이동경로 공개기간 경과</td>\n",
       "      <td>퇴원</td>\n",
       "      <td>#7</td>\n",
       "    </tr>\n",
       "    <tr>\n",
       "      <td>2</td>\n",
       "      <td>2</td>\n",
       "      <td>#3 접촉</td>\n",
       "      <td>종로구</td>\n",
       "      <td>1/30</td>\n",
       "      <td>이동경로 공개기간 경과</td>\n",
       "      <td>퇴원</td>\n",
       "      <td>#6</td>\n",
       "    </tr>\n",
       "    <tr>\n",
       "      <td>3</td>\n",
       "      <td>3</td>\n",
       "      <td>해외 접촉(중국 우한시)</td>\n",
       "      <td>중랑구</td>\n",
       "      <td>1/30</td>\n",
       "      <td>이동경로 공개기간 경과</td>\n",
       "      <td>퇴원</td>\n",
       "      <td>#5</td>\n",
       "    </tr>\n",
       "    <tr>\n",
       "      <td>4</td>\n",
       "      <td>4</td>\n",
       "      <td>#6 접촉</td>\n",
       "      <td>종로구</td>\n",
       "      <td>1/31</td>\n",
       "      <td>이동경로 공개기간 경과</td>\n",
       "      <td>퇴원</td>\n",
       "      <td>#11</td>\n",
       "    </tr>\n",
       "    <tr>\n",
       "      <td>...</td>\n",
       "      <td>...</td>\n",
       "      <td>...</td>\n",
       "      <td>...</td>\n",
       "      <td>...</td>\n",
       "      <td>...</td>\n",
       "      <td>...</td>\n",
       "      <td>...</td>\n",
       "    </tr>\n",
       "    <tr>\n",
       "      <td>10116</td>\n",
       "      <td>4030</td>\n",
       "      <td>종로구 소재 파고다타운 관련</td>\n",
       "      <td>동대문구</td>\n",
       "      <td>20.12.05.</td>\n",
       "      <td>종로구 소재 파고다타운 관련</td>\n",
       "      <td>NaN</td>\n",
       "      <td>37066</td>\n",
       "    </tr>\n",
       "    <tr>\n",
       "      <td>10117</td>\n",
       "      <td>4029</td>\n",
       "      <td>기타 확진자 접촉</td>\n",
       "      <td>성북구</td>\n",
       "      <td>20.12.05.</td>\n",
       "      <td>기타 확진자 접촉</td>\n",
       "      <td>NaN</td>\n",
       "      <td>37023</td>\n",
       "    </tr>\n",
       "    <tr>\n",
       "      <td>10118</td>\n",
       "      <td>4028</td>\n",
       "      <td>종로구 소재 파고다타운 관련</td>\n",
       "      <td>노원구</td>\n",
       "      <td>20.12.05.</td>\n",
       "      <td>종로구 소재 파고다타운 관련</td>\n",
       "      <td>퇴원</td>\n",
       "      <td>37070</td>\n",
       "    </tr>\n",
       "    <tr>\n",
       "      <td>10119</td>\n",
       "      <td>4051</td>\n",
       "      <td>기타 확진자 접촉</td>\n",
       "      <td>기타</td>\n",
       "      <td>20.12.05.</td>\n",
       "      <td>기타 확진자 접촉</td>\n",
       "      <td>퇴원</td>\n",
       "      <td>37546</td>\n",
       "    </tr>\n",
       "    <tr>\n",
       "      <td>10120</td>\n",
       "      <td>4012</td>\n",
       "      <td>기타 확진자 접촉</td>\n",
       "      <td>강남구</td>\n",
       "      <td>20.12.05.</td>\n",
       "      <td>기타 확진자 접촉</td>\n",
       "      <td>NaN</td>\n",
       "      <td>37121</td>\n",
       "    </tr>\n",
       "  </tbody>\n",
       "</table>\n",
       "<p>10121 rows × 7 columns</p>\n",
       "</div>"
      ],
      "text/plain": [
       "       Unnamed: 0             감염경로   거주지         날짜             세부정보 퇴원현황  \\\n",
       "0               0    해외 접촉(중국 우한시)   강서구       1/24     이동경로 공개기간 경과   퇴원   \n",
       "1               1    해외 접촉(중국 우한시)   마포구       1/30     이동경로 공개기간 경과   퇴원   \n",
       "2               2            #3 접촉   종로구       1/30     이동경로 공개기간 경과   퇴원   \n",
       "3               3    해외 접촉(중국 우한시)   중랑구       1/30     이동경로 공개기간 경과   퇴원   \n",
       "4               4            #6 접촉   종로구       1/31     이동경로 공개기간 경과   퇴원   \n",
       "...           ...              ...   ...        ...              ...  ...   \n",
       "10116        4030  종로구 소재 파고다타운 관련  동대문구  20.12.05.  종로구 소재 파고다타운 관련  NaN   \n",
       "10117        4029        기타 확진자 접촉   성북구  20.12.05.        기타 확진자 접촉  NaN   \n",
       "10118        4028  종로구 소재 파고다타운 관련   노원구  20.12.05.  종로구 소재 파고다타운 관련   퇴원   \n",
       "10119        4051        기타 확진자 접촉    기타  20.12.05.        기타 확진자 접촉   퇴원   \n",
       "10120        4012        기타 확진자 접촉   강남구  20.12.05.        기타 확진자 접촉  NaN   \n",
       "\n",
       "        환자번호  \n",
       "0         #2  \n",
       "1         #7  \n",
       "2         #6  \n",
       "3         #5  \n",
       "4        #11  \n",
       "...      ...  \n",
       "10116  37066  \n",
       "10117  37023  \n",
       "10118  37070  \n",
       "10119  37546  \n",
       "10120  37121  \n",
       "\n",
       "[10121 rows x 7 columns]"
      ]
     },
     "execution_count": 116,
     "metadata": {},
     "output_type": "execute_result"
    }
   ],
   "source": [
    "data"
   ]
  },
  {
   "cell_type": "code",
   "execution_count": null,
   "metadata": {},
   "outputs": [],
   "source": []
  }
 ],
 "metadata": {
  "kernelspec": {
   "display_name": "Python 3",
   "language": "python",
   "name": "python3"
  },
  "language_info": {
   "codemirror_mode": {
    "name": "ipython",
    "version": 3
   },
   "file_extension": ".py",
   "mimetype": "text/x-python",
   "name": "python",
   "nbconvert_exporter": "python",
   "pygments_lexer": "ipython3",
   "version": "3.7.4"
  }
 },
 "nbformat": 4,
 "nbformat_minor": 2
}
