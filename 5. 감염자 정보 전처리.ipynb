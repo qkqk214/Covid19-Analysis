{
 "cells": [
  {
   "cell_type": "code",
   "execution_count": 1,
   "metadata": {},
   "outputs": [],
   "source": [
    "import pandas as pd\n",
    "import numpy as np\n",
    "import matplotlib.pyplot as plt\n",
    "import seaborn as sns\n",
    "import math\n",
    "import warnings\n",
    "warnings.filterwarnings(action='ignore')\n",
    "\n",
    "from IPython.core.interactiveshell import InteractiveShell\n",
    "InteractiveShell.ast_node_interactivity ='all'\n",
    "\n",
    "import time\n",
    "from tqdm.notebook import tqdm\n",
    "\n",
    "import datetime\n",
    "from datetime import timedelta\n",
    "\n",
    "from datetime import datetime\n",
    "import re"
   ]
  },
  {
   "cell_type": "code",
   "execution_count": 143,
   "metadata": {},
   "outputs": [],
   "source": [
    "data = pd.read_excel('확진자정보.xlsx')\n",
    "del data['Unnamed: 0']"
   ]
  },
  {
   "cell_type": "code",
   "execution_count": 144,
   "metadata": {},
   "outputs": [
    {
     "data": {
      "text/html": [
       "<div>\n",
       "<style scoped>\n",
       "    .dataframe tbody tr th:only-of-type {\n",
       "        vertical-align: middle;\n",
       "    }\n",
       "\n",
       "    .dataframe tbody tr th {\n",
       "        vertical-align: top;\n",
       "    }\n",
       "\n",
       "    .dataframe thead th {\n",
       "        text-align: right;\n",
       "    }\n",
       "</style>\n",
       "<table border=\"1\" class=\"dataframe\">\n",
       "  <thead>\n",
       "    <tr style=\"text-align: right;\">\n",
       "      <th></th>\n",
       "      <th>감염경로</th>\n",
       "      <th>거주지</th>\n",
       "      <th>날짜</th>\n",
       "      <th>세부정보</th>\n",
       "      <th>퇴원현황</th>\n",
       "      <th>환자번호</th>\n",
       "    </tr>\n",
       "  </thead>\n",
       "  <tbody>\n",
       "    <tr>\n",
       "      <td>0</td>\n",
       "      <td>해외 접촉(중국 우한시)</td>\n",
       "      <td>강서구</td>\n",
       "      <td>1/24</td>\n",
       "      <td>이동경로 공개기간 경과</td>\n",
       "      <td>퇴원</td>\n",
       "      <td>#2</td>\n",
       "    </tr>\n",
       "    <tr>\n",
       "      <td>1</td>\n",
       "      <td>해외 접촉(중국 우한시)</td>\n",
       "      <td>마포구</td>\n",
       "      <td>1/30</td>\n",
       "      <td>이동경로 공개기간 경과</td>\n",
       "      <td>퇴원</td>\n",
       "      <td>#7</td>\n",
       "    </tr>\n",
       "    <tr>\n",
       "      <td>2</td>\n",
       "      <td>#3 접촉</td>\n",
       "      <td>종로구</td>\n",
       "      <td>1/30</td>\n",
       "      <td>이동경로 공개기간 경과</td>\n",
       "      <td>퇴원</td>\n",
       "      <td>#6</td>\n",
       "    </tr>\n",
       "    <tr>\n",
       "      <td>3</td>\n",
       "      <td>해외 접촉(중국 우한시)</td>\n",
       "      <td>중랑구</td>\n",
       "      <td>1/30</td>\n",
       "      <td>이동경로 공개기간 경과</td>\n",
       "      <td>퇴원</td>\n",
       "      <td>#5</td>\n",
       "    </tr>\n",
       "    <tr>\n",
       "      <td>4</td>\n",
       "      <td>#6 접촉</td>\n",
       "      <td>종로구</td>\n",
       "      <td>1/31</td>\n",
       "      <td>이동경로 공개기간 경과</td>\n",
       "      <td>퇴원</td>\n",
       "      <td>#11</td>\n",
       "    </tr>\n",
       "    <tr>\n",
       "      <td>...</td>\n",
       "      <td>...</td>\n",
       "      <td>...</td>\n",
       "      <td>...</td>\n",
       "      <td>...</td>\n",
       "      <td>...</td>\n",
       "      <td>...</td>\n",
       "    </tr>\n",
       "    <tr>\n",
       "      <td>21954</td>\n",
       "      <td>확인 중</td>\n",
       "      <td>타시도</td>\n",
       "      <td>9/08</td>\n",
       "      <td>확인 중</td>\n",
       "      <td>NaN</td>\n",
       "      <td>21457</td>\n",
       "    </tr>\n",
       "    <tr>\n",
       "      <td>21955</td>\n",
       "      <td>기타 확진자 접촉</td>\n",
       "      <td>관악구</td>\n",
       "      <td>9/08</td>\n",
       "      <td>확인 중</td>\n",
       "      <td>NaN</td>\n",
       "      <td>21556</td>\n",
       "    </tr>\n",
       "    <tr>\n",
       "      <td>21956</td>\n",
       "      <td>확인 중</td>\n",
       "      <td>도봉구</td>\n",
       "      <td>9/08</td>\n",
       "      <td>확인 중</td>\n",
       "      <td>NaN</td>\n",
       "      <td>21459</td>\n",
       "    </tr>\n",
       "    <tr>\n",
       "      <td>21957</td>\n",
       "      <td>관악구 가족모임</td>\n",
       "      <td>은평구</td>\n",
       "      <td>9/08</td>\n",
       "      <td>확인 중</td>\n",
       "      <td>NaN</td>\n",
       "      <td>21545</td>\n",
       "    </tr>\n",
       "    <tr>\n",
       "      <td>21958</td>\n",
       "      <td>기타 확진자 접촉</td>\n",
       "      <td>강동구</td>\n",
       "      <td>9/08</td>\n",
       "      <td>확인 중</td>\n",
       "      <td>NaN</td>\n",
       "      <td>21576</td>\n",
       "    </tr>\n",
       "  </tbody>\n",
       "</table>\n",
       "<p>21959 rows × 6 columns</p>\n",
       "</div>"
      ],
      "text/plain": [
       "                감염경로  거주지    날짜          세부정보 퇴원현황   환자번호\n",
       "0      해외 접촉(중국 우한시)  강서구  1/24  이동경로 공개기간 경과   퇴원     #2\n",
       "1      해외 접촉(중국 우한시)  마포구  1/30  이동경로 공개기간 경과   퇴원     #7\n",
       "2              #3 접촉  종로구  1/30  이동경로 공개기간 경과   퇴원     #6\n",
       "3      해외 접촉(중국 우한시)  중랑구  1/30  이동경로 공개기간 경과   퇴원     #5\n",
       "4              #6 접촉  종로구  1/31  이동경로 공개기간 경과   퇴원    #11\n",
       "...              ...  ...   ...           ...  ...    ...\n",
       "21954           확인 중  타시도  9/08          확인 중  NaN  21457\n",
       "21955      기타 확진자 접촉  관악구  9/08          확인 중  NaN  21556\n",
       "21956           확인 중  도봉구  9/08          확인 중  NaN  21459\n",
       "21957       관악구 가족모임  은평구  9/08          확인 중  NaN  21545\n",
       "21958      기타 확진자 접촉  강동구  9/08          확인 중  NaN  21576\n",
       "\n",
       "[21959 rows x 6 columns]"
      ]
     },
     "execution_count": 144,
     "metadata": {},
     "output_type": "execute_result"
    }
   ],
   "source": [
    "data"
   ]
  },
  {
   "cell_type": "code",
   "execution_count": 145,
   "metadata": {},
   "outputs": [],
   "source": [
    "data['퇴원현황'].fillna('입원',inplace=True)\n",
    "data['세부정보'].fillna('없음',inplace=True)"
   ]
  },
  {
   "cell_type": "code",
   "execution_count": 146,
   "metadata": {},
   "outputs": [],
   "source": [
    "data.dropna(inplace=True)\n",
    "data = data.reset_index(drop=True)"
   ]
  },
  {
   "cell_type": "code",
   "execution_count": 147,
   "metadata": {},
   "outputs": [],
   "source": [
    "data.drop_duplicates(inplace=True)"
   ]
  },
  {
   "cell_type": "code",
   "execution_count": 148,
   "metadata": {},
   "outputs": [],
   "source": [
    "data.reset_index(drop=True,inplace=True)"
   ]
  },
  {
   "cell_type": "code",
   "execution_count": 149,
   "metadata": {},
   "outputs": [],
   "source": [
    "for i in range(len(data)):\n",
    "    data['환자번호'][i] = str(data['환자번호'][i])\n",
    "    data['감염경로'][i] = str(data['감염경로'][i])\n",
    "    data['거주지'][i] = str(data['거주지'][i])\n",
    "    data['퇴원현황'][i] = str(data['퇴원현황'][i])"
   ]
  },
  {
   "cell_type": "code",
   "execution_count": 150,
   "metadata": {},
   "outputs": [
    {
     "data": {
      "application/vnd.jupyter.widget-view+json": {
       "model_id": "9192ea8ce6ea4419b147dc7858ce93ac",
       "version_major": 2,
       "version_minor": 0
      },
      "text/plain": [
       "HBox(children=(IntProgress(value=0, max=20003), HTML(value='')))"
      ]
     },
     "metadata": {},
     "output_type": "display_data"
    },
    {
     "name": "stdout",
     "output_type": "stream",
     "text": [
      "\n"
     ]
    }
   ],
   "source": [
    "for i in tqdm(range(len(data))):\n",
    "    data['환자번호'][i] = data['환자번호'][i].replace('#','')"
   ]
  },
  {
   "cell_type": "code",
   "execution_count": 151,
   "metadata": {},
   "outputs": [
    {
     "data": {
      "application/vnd.jupyter.widget-view+json": {
       "model_id": "c0c67608dbbe4060b8ded5068fd9aa7a",
       "version_major": 2,
       "version_minor": 0
      },
      "text/plain": [
       "HBox(children=(IntProgress(value=0, max=20003), HTML(value='')))"
      ]
     },
     "metadata": {},
     "output_type": "display_data"
    },
    {
     "name": "stdout",
     "output_type": "stream",
     "text": [
      "\n"
     ]
    }
   ],
   "source": [
    "for i in tqdm(range(len(data))):\n",
    "    data['감염경로'] = data['감염경로'].replace('#','')"
   ]
  },
  {
   "cell_type": "code",
   "execution_count": 152,
   "metadata": {},
   "outputs": [],
   "source": [
    "data = data[data['환자번호']!='미부여']\n",
    "data = data.drop_duplicates('환자번호')\n",
    "data = data.reset_index(drop=True)"
   ]
  },
  {
   "cell_type": "code",
   "execution_count": 153,
   "metadata": {},
   "outputs": [],
   "source": [
    "from konlpy.tag import Twitter\n",
    "from collections import Counter\n",
    "from konlpy.tag import Okt\n",
    "\n",
    "okt = Okt()"
   ]
  },
  {
   "cell_type": "code",
   "execution_count": 154,
   "metadata": {
    "scrolled": true
   },
   "outputs": [],
   "source": [
    "for i in range(len(data)):\n",
    "    data[\"감염경로\"][i] = okt.pos(data['감염경로'][i])"
   ]
  },
  {
   "cell_type": "code",
   "execution_count": 155,
   "metadata": {},
   "outputs": [],
   "source": [
    "total = []\n",
    "for i in range(len(data)):\n",
    "    snt = data['감염경로'][i]\n",
    "    category = []\n",
    "    word = []\n",
    "    for j in range(len(snt)): \n",
    "        category.append(snt[j][1])\n",
    "        word.append(snt[j][0])\n",
    "    if 'Number' in category:\n",
    "        total.append(snt[1][0])\n",
    "    else:    \n",
    "        total.append(\"\".join(word))"
   ]
  },
  {
   "cell_type": "code",
   "execution_count": 156,
   "metadata": {},
   "outputs": [
    {
     "data": {
      "text/plain": [
       "19738"
      ]
     },
     "execution_count": 156,
     "metadata": {},
     "output_type": "execute_result"
    },
    {
     "data": {
      "text/plain": [
       "19738"
      ]
     },
     "execution_count": 156,
     "metadata": {},
     "output_type": "execute_result"
    }
   ],
   "source": [
    "len(data)\n",
    "len(total)"
   ]
  },
  {
   "cell_type": "code",
   "execution_count": 157,
   "metadata": {},
   "outputs": [],
   "source": [
    "data['virus_route'] = total"
   ]
  },
  {
   "cell_type": "code",
   "execution_count": 15,
   "metadata": {},
   "outputs": [],
   "source": [
    "data.loc[8,'virus_route'] =  2621\n",
    "data.loc[8,'virus_route'] = str(data.loc[8,'virus_route'])"
   ]
  },
  {
   "cell_type": "code",
   "execution_count": 16,
   "metadata": {},
   "outputs": [],
   "source": [
    "data.loc[128,'virus_route'] = 6921\n",
    "data.loc[128,'virus_route'] = str(data.loc[128,'virus_route'])"
   ]
  },
  {
   "cell_type": "code",
   "execution_count": 158,
   "metadata": {},
   "outputs": [],
   "source": [
    "for i in range(len(data)):\n",
    "    data['virus_route'][i] = data['virus_route'][i].rstrip('관련')\n",
    "    data['virus_route'][i] = data['virus_route'][i].rstrip('접촉')"
   ]
  },
  {
   "cell_type": "markdown",
   "metadata": {},
   "source": [
    "- 해외가 들어가면 해외로 분류"
   ]
  },
  {
   "cell_type": "code",
   "execution_count": 159,
   "metadata": {},
   "outputs": [],
   "source": [
    "idx = data.loc[data['virus_route'].str.contains('해외')].index\n",
    "\n",
    "for i in idx:\n",
    "    data['virus_route'][i] = '해외'"
   ]
  },
  {
   "cell_type": "markdown",
   "metadata": {},
   "source": [
    "- 확인중이 들어가면 확인중으로 분류"
   ]
  },
  {
   "cell_type": "code",
   "execution_count": 160,
   "metadata": {},
   "outputs": [],
   "source": [
    "idx = data.loc[data['virus_route'].str.contains('확인중')].index\n",
    "\n",
    "for i in idx:\n",
    "    data['virus_route'][i] = '확인중'"
   ]
  },
  {
   "cell_type": "markdown",
   "metadata": {},
   "source": [
    "- 타시도확진자가 들어가면 타시도확진자"
   ]
  },
  {
   "cell_type": "code",
   "execution_count": 161,
   "metadata": {},
   "outputs": [],
   "source": [
    "idx = data.loc[data['virus_route'].str.contains('타시도확진자')].index\n",
    "\n",
    "for i in idx:\n",
    "    data['virus_route'][i] = '타시도확진자'"
   ]
  },
  {
   "cell_type": "markdown",
   "metadata": {},
   "source": [
    "- 신천지가 들어가면 대구신천지"
   ]
  },
  {
   "cell_type": "code",
   "execution_count": 162,
   "metadata": {},
   "outputs": [],
   "source": [
    "idx = data.loc[data['virus_route'].str.contains('신천지')].index\n",
    "\n",
    "for i in idx:\n",
    "    data['virus_route'][i] = '대구신천지'"
   ]
  },
  {
   "cell_type": "markdown",
   "metadata": {},
   "source": [
    "- 명성이 들어가면 대구명성교회"
   ]
  },
  {
   "cell_type": "code",
   "execution_count": 163,
   "metadata": {},
   "outputs": [],
   "source": [
    "idx = data.loc[data['virus_route'].str.contains('명성')].index\n",
    "\n",
    "for i in idx:\n",
    "    data['virus_route'][i] = '대구명성교회'"
   ]
  },
  {
   "cell_type": "markdown",
   "metadata": {},
   "source": [
    "- 대구가 들어가면 대구"
   ]
  },
  {
   "cell_type": "code",
   "execution_count": 164,
   "metadata": {},
   "outputs": [],
   "source": [
    "idx = data.loc[data['virus_route'].str.contains('대구')].index\n",
    "\n",
    "for i in idx:\n",
    "    data['virus_route'][i] = '대구'"
   ]
  },
  {
   "cell_type": "markdown",
   "metadata": {},
   "source": [
    "- 고양시 반석교회"
   ]
  },
  {
   "cell_type": "code",
   "execution_count": 165,
   "metadata": {},
   "outputs": [],
   "source": [
    "idx = data.loc[data['virus_route'].str.contains('고양시반석')].index\n",
    "\n",
    "for i in idx:\n",
    "    data['virus_route'][i] = '고양시반석교회'"
   ]
  },
  {
   "cell_type": "markdown",
   "metadata": {},
   "source": [
    "- 골드 트레인"
   ]
  },
  {
   "cell_type": "code",
   "execution_count": 166,
   "metadata": {},
   "outputs": [],
   "source": [
    "idx = data.loc[data['virus_route'].str.contains('골드트레인')].index\n",
    "\n",
    "for i in idx:\n",
    "    data['virus_route'][i] = '골드트레인'"
   ]
  },
  {
   "cell_type": "markdown",
   "metadata": {},
   "source": [
    "- 케네디 상가"
   ]
  },
  {
   "cell_type": "code",
   "execution_count": 167,
   "metadata": {},
   "outputs": [],
   "source": [
    "idx = data.loc[data['virus_route'].str.contains('케네디상가')].index\n",
    "\n",
    "for i in idx:\n",
    "    data['virus_route'][i] = '케네디상가'"
   ]
  },
  {
   "cell_type": "markdown",
   "metadata": {},
   "source": [
    "- 성북구사랑제일교회가 들어가면 성북구사랑제일교회"
   ]
  },
  {
   "cell_type": "code",
   "execution_count": 168,
   "metadata": {},
   "outputs": [],
   "source": [
    "idx = data.loc[data['virus_route'].str.contains('성북구사랑제일교회')].index\n",
    "\n",
    "for i in idx:\n",
    "    data['virus_route'][i] = '성북구사랑제일교회'"
   ]
  },
  {
   "cell_type": "code",
   "execution_count": 169,
   "metadata": {},
   "outputs": [],
   "source": [
    "del data['감염경로']"
   ]
  },
  {
   "cell_type": "code",
   "execution_count": 46,
   "metadata": {},
   "outputs": [
    {
     "data": {
      "text/plain": [
       "['#2621번',\n",
       " '#6921접촉자',\n",
       " '10015',\n",
       " '10044',\n",
       " '10054',\n",
       " '10084',\n",
       " '10115',\n",
       " '10142',\n",
       " '10377',\n",
       " '10407',\n",
       " '11196',\n",
       " '1247',\n",
       " '136',\n",
       " '14483',\n",
       " '14488',\n",
       " '29',\n",
       " '3',\n",
       " '30',\n",
       " '5',\n",
       " '56',\n",
       " '6',\n",
       " '6727',\n",
       " '6832',\n",
       " '6937',\n",
       " '6959',\n",
       " '7280',\n",
       " '7500',\n",
       " '7573',\n",
       " '780',\n",
       " '7914',\n",
       " '7923',\n",
       " '794',\n",
       " '8044',\n",
       " '8057',\n",
       " '8063',\n",
       " '8079',\n",
       " '8138',\n",
       " '8196',\n",
       " '8245',\n",
       " '8271',\n",
       " '83',\n",
       " '8486',\n",
       " '8601',\n",
       " '8646',\n",
       " '8669',\n",
       " '8709',\n",
       " '8717',\n",
       " '8791',\n",
       " '8881',\n",
       " '9020',\n",
       " '9219',\n",
       " '9287',\n",
       " '935',\n",
       " '9364',\n",
       " '9525',\n",
       " '9572',\n",
       " '9621',\n",
       " '9641',\n",
       " '9734',\n",
       " '9765',\n",
       " '9800',\n",
       " '9912',\n",
       " '9946',\n",
       " 'KT가좌지사',\n",
       " 'kb생명보험',\n",
       " '가족',\n",
       " '감염경로조사중',\n",
       " '강남구CJ텔레닉스',\n",
       " '강남구CJ텔레닉스[잠언의료기]',\n",
       " '강남구K보건산업',\n",
       " '강남구개인사저경비팀',\n",
       " '강남구동인교회',\n",
       " '강남구디와이디벨로먼트',\n",
       " '강남구럭키사우나',\n",
       " '강남구사무실',\n",
       " '강남구사무실K빌딩',\n",
       " '강남구삼성화재',\n",
       " '강남구소재공기업',\n",
       " '강남구소재금융회사',\n",
       " '강남구소재대우디오빌플러스',\n",
       " '강남구소재마사지샵',\n",
       " '강남구소재병원',\n",
       " '강남구소재아파트',\n",
       " '강남구소재요양병원',\n",
       " '강남구소재콜센터',\n",
       " '강남구신도벤처타워',\n",
       " '강남구어학원관련Ⅰ',\n",
       " '강남구어학원관련Ⅱ',\n",
       " '강남구역삼동모임',\n",
       " '강남구역삼역',\n",
       " '강남구연기학원',\n",
       " '강남구음식점Ⅱ',\n",
       " '강남구이동통신종사자',\n",
       " '강남구커피전문점',\n",
       " '강남구콜센터',\n",
       " '강남구콜센터Ⅱ',\n",
       " '강남구통신판매업',\n",
       " '강남구판매업소',\n",
       " '강남구해냄세무회계',\n",
       " '강남구헬스장',\n",
       " '강남구확진자',\n",
       " '강남서초지인모임',\n",
       " '강남승광빌딩',\n",
       " '강남역삼동금융회사',\n",
       " '강동구BF모바일',\n",
       " '강동구BF모바일콜센터',\n",
       " '강동구소재건설현장',\n",
       " '강동구소재병원',\n",
       " '강동구어린이집',\n",
       " '강동구지인모임',\n",
       " '강동구행복데이케어센터',\n",
       " '강동구확진자',\n",
       " '강북구북서울꿈의교회',\n",
       " '강북구새노래교회',\n",
       " '강북구소재아동관련시설',\n",
       " '강북구일가족',\n",
       " '강북구확진자',\n",
       " '강서구가족',\n",
       " '강서구경로당',\n",
       " '강서구교회',\n",
       " '강서구댄스교습관련시설',\n",
       " '강서구댄스교습연관병원',\n",
       " '강서구병원',\n",
       " '강서구보안회사',\n",
       " '강서구보험회사',\n",
       " '강서구사우나',\n",
       " '강서구서울대효요양병원',\n",
       " '강서구소재댄스교습시설연관병원',\n",
       " '강서구소재병원Ⅲ',\n",
       " '강서구요양시설',\n",
       " '강서구직장',\n",
       " '강서구확진자',\n",
       " '건축설명회',\n",
       " '경찰병원',\n",
       " '고대안암병원',\n",
       " '고려대학교밴드동아리',\n",
       " '고양시반석교회',\n",
       " '고양시부부',\n",
       " '고양시부부관련(마포구어린이집&서초구우체국)',\n",
       " '골드트레인',\n",
       " '관악구가족',\n",
       " '관악구가족관련(가가호호데이케어센터)',\n",
       " '관악구가족모임',\n",
       " '관악구김혜근의원',\n",
       " '관악구사랑나무어린이집',\n",
       " '관악구사무실',\n",
       " '관악구삼모스포렉스',\n",
       " '관악구삼모스포렉스Ⅱ',\n",
       " '관악구소재음식점',\n",
       " '관악구소재종교시설',\n",
       " '관악구식당',\n",
       " '관악구에바다',\n",
       " '관악구요양병원',\n",
       " '관악구일가족',\n",
       " '관악구지인모임',\n",
       " '관악구큰믿음유신감리교회',\n",
       " '관악구확진자',\n",
       " '관악구휘트니스',\n",
       " '광진구소재병원',\n",
       " '광진구혜민병원',\n",
       " '광진구확진자',\n",
       " '광화문집회',\n",
       " '구로구가족',\n",
       " '구로구가족관련[부천무용학원관련]',\n",
       " '구로구고등학교',\n",
       " '구로구교회',\n",
       " '구로구보성운수',\n",
       " '구로구소재고등학교',\n",
       " '구로구소재병원',\n",
       " '구로구소재보험회사',\n",
       " '구로구소재산후조리원',\n",
       " '구로구소재요양병원',\n",
       " '구로구아파트',\n",
       " '구로구콜센터',\n",
       " '구로구확진자',\n",
       " '군인권센터',\n",
       " '극단산',\n",
       " '금천구도정기회사',\n",
       " '금천구소재교회',\n",
       " '금천구확진자',\n",
       " '기타확진자',\n",
       " '기타확진자접촉[강남구제약회사관련]',\n",
       " '기타확진자접촉[경기도SRC재활병원]',\n",
       " '기타확진자접촉종',\n",
       " '노원구가족',\n",
       " '노원구기도모임',\n",
       " '노원구빛가온교회',\n",
       " '노원구소재교회',\n",
       " '노원구소재병원',\n",
       " '노원구소재회사',\n",
       " '노원구손해보험',\n",
       " '노원구의료기',\n",
       " '노원구재가요양서비스',\n",
       " '노원구청',\n",
       " '노원구체육시설',\n",
       " '다래경매',\n",
       " '대구',\n",
       " '대자연코리아',\n",
       " '대전꿈꾸는교회',\n",
       " '대전다단계',\n",
       " '도봉구가족',\n",
       " '도봉구건설현장',\n",
       " '도봉구다나병원',\n",
       " '도봉구소재아파트',\n",
       " '도봉구소재종교시설',\n",
       " '도봉구예마루데이케어센터',\n",
       " '도봉구운동시설',\n",
       " '도봉구의류업작업장',\n",
       " '도봉구청련사',\n",
       " '도봉구확진자',\n",
       " '도심',\n",
       " '동대문구',\n",
       " '동대문구sk탁구클럽',\n",
       " '동대문구고등학교',\n",
       " '동대문구고등학교(마포구홍대새교회관련)',\n",
       " '동대문구노인요양시설',\n",
       " '동대문구노인요양시설(에이스희망케어센터)',\n",
       " '동대문구성경모임',\n",
       " '동대문구성경모임(발산대우주어린이집)',\n",
       " '동대문구소재교회',\n",
       " '동대문구소재교회관련(하예성교회)',\n",
       " '동대문구소재어르신복지시설',\n",
       " '동대문구에이스희망케어센터',\n",
       " '동대문구요양시설',\n",
       " '동대문구지혜병원',\n",
       " '동대문구체육시설',\n",
       " '동대문구한국산업인력공단',\n",
       " '동부구치소',\n",
       " '동작구JH글로벌',\n",
       " '동작구가족',\n",
       " '동작구교회기도처',\n",
       " '동작구모조카페',\n",
       " '동작구부동산회사',\n",
       " '동작구사우나',\n",
       " '동작구소재서울신학교',\n",
       " '동작구스터디카페',\n",
       " '동작구요양시설',\n",
       " '동작구임용단기고시',\n",
       " '동작구임용단기학원',\n",
       " '동작구진흥글로벌',\n",
       " '동작구최비야',\n",
       " '동작구카드발급업체',\n",
       " '동작구확진자',\n",
       " '동창운동모임',\n",
       " '롯데리아종사자모임',\n",
       " '롯데자산개발',\n",
       " '리치웨이',\n",
       " '마포구빌딩',\n",
       " '마포구서울디자인고등학교',\n",
       " '마포구소재노인복지시설',\n",
       " '마포구소재보험회사',\n",
       " '마포구푸본생명콜센터',\n",
       " '마포구홈쇼핑회사',\n",
       " '마포구홍대새교회',\n",
       " '마포구홍대세교회',\n",
       " '마포구확진자',\n",
       " '부동산중개법인',\n",
       " '부동산중개업',\n",
       " '부산시방문주사',\n",
       " '부산제일나라요양병원',\n",
       " '부천무용학원관련[구로구가족관련]',\n",
       " '부천시쿠팡',\n",
       " '산악회',\n",
       " '삼성서울병원',\n",
       " '삼성화재',\n",
       " '생일파티모임',\n",
       " '서대문구세브란스병원',\n",
       " '서대문구소재장례식장',\n",
       " '서대문구요양시설',\n",
       " '서대문구지인모임',\n",
       " '서울',\n",
       " '서울대병원발생',\n",
       " '서울음악교습',\n",
       " '서울재생병원',\n",
       " '서울지방국세청',\n",
       " '서초구LG유플러스',\n",
       " '서초구가족',\n",
       " '서초구건설회사',\n",
       " '서초구빌딩',\n",
       " '서초구사우나',\n",
       " '서초구사우나Ⅱ',\n",
       " '서초구소재교회,교육원',\n",
       " '서초구소재교회/교육원',\n",
       " '서초구소재병원',\n",
       " '서초구소재카페',\n",
       " '서초구어린이집',\n",
       " '서초구장애인교육시설',\n",
       " '서초구확진자',\n",
       " '선교회소모임',\n",
       " '성',\n",
       " '성동구가족',\n",
       " '성동구금호노인요양원',\n",
       " '성동구덕수고야구부',\n",
       " '성동구병원',\n",
       " '성동구소재PC방',\n",
       " '성동구소재병원',\n",
       " '성동구소재의료기',\n",
       " '성동구시장',\n",
       " '성동구아파트',\n",
       " '성동구체육시설',\n",
       " '성동구확진자',\n",
       " '성북구가족',\n",
       " '성북구벧엘장로교회',\n",
       " '성북구사랑제일교회',\n",
       " '성북구소재공연연습실',\n",
       " '성북구소재의료기',\n",
       " '성북구요양시설',\n",
       " '성북구종교시설(장암교회)',\n",
       " '성북구체대입시',\n",
       " '성북구확진자',\n",
       " '소규모지인모임',\n",
       " '소재',\n",
       " '송파구',\n",
       " '송파구교회',\n",
       " '송파구사우나',\n",
       " '송파구서민국수',\n",
       " '송파구소재교회',\n",
       " '송파구소재병원',\n",
       " '송파구소재의료기',\n",
       " '송파구소재장애인거주시설',\n",
       " '송파구시장',\n",
       " '송파구우리교회',\n",
       " '송파구잠언의료기',\n",
       " '송파구잠언의료기(CJ텔레닉스)',\n",
       " '송파구잠언의료기(강남구CJ텔레닉스)',\n",
       " '송파구잠언의료기(강남구CJ텔레닉스)관련]',\n",
       " '송파구잠언의료기[강남구CJ텔레닉스]',\n",
       " '송파구지인강원여행모임',\n",
       " '송파구지인모임',\n",
       " '송파구체육시설',\n",
       " '송파구쿠팡',\n",
       " '송파구쿠팡물류센터',\n",
       " '송파구탁구클럽',\n",
       " '송파구확진자',\n",
       " '쇼핑몰',\n",
       " '수도권개척교회',\n",
       " '수도권골프모임',\n",
       " '수도권미술대학원/아이스하키',\n",
       " '수도권지인모임',\n",
       " '순복음강북교회',\n",
       " '시청',\n",
       " '시청역',\n",
       " '신도림역사',\n",
       " '아산병원',\n",
       " '안양군포목회자',\n",
       " '양천구되새김교회',\n",
       " '양천구소재요양시설',\n",
       " '양천구소재요양시설Ⅰ',\n",
       " '양천구소재요양시설Ⅱ',\n",
       " '양천구양천경찰서',\n",
       " '양천구운동시설',\n",
       " '양천구확진자',\n",
       " '어플소모임',\n",
       " '언론인',\n",
       " '여의도건설현장',\n",
       " '여의도순복음교회',\n",
       " '연세대학생',\n",
       " '연아나뉴스클래스',\n",
       " '영등포IFC몰오케스트로',\n",
       " '영등포구LG트윈타워',\n",
       " '영등포구가족',\n",
       " '영등포구가족관련(송파구소재건설현장]',\n",
       " '영등포구가족관련[송파구소재건설현장)',\n",
       " '영등포구국회출입기자',\n",
       " '영등포구권능교회',\n",
       " '영등포구방문판매업체',\n",
       " '영등포구소모임',\n",
       " '영등포구소재교회',\n",
       " '영등포구소재마트',\n",
       " '영등포구소재의료기',\n",
       " '영등포구소재콜센터',\n",
       " '영등포구일련정종서울포교소',\n",
       " '영등포구증권회사',\n",
       " '영등포구직장',\n",
       " '영등포구큰권능교회',\n",
       " '영등포구학원',\n",
       " '영등포구확진자',\n",
       " '영등포구회사',\n",
       " '영등포소재의료기',\n",
       " '영등포소재증권회사',\n",
       " '영등포지인모임',\n",
       " '영등포학원',\n",
       " '오렌지라이프',\n",
       " '왕성교회',\n",
       " '요양시설',\n",
       " '용산구국군복지단',\n",
       " '용산구소재건설현장',\n",
       " '용산구소재음식점등',\n",
       " '용산구소재의류업체',\n",
       " '용산구음식점',\n",
       " '용산구확진자',\n",
       " '용인시동문골프모임',\n",
       " '용인시우리제일교회',\n",
       " '용인형제',\n",
       " '원어성경연구회',\n",
       " '은평구방문교사',\n",
       " '은평구병원',\n",
       " '은평구성경공부모임',\n",
       " '은평구소재역사',\n",
       " '은평구수색성당',\n",
       " '은평구헤어콕',\n",
       " '은평구확진자',\n",
       " '의왕물류센터',\n",
       " '이태원클럽',\n",
       " '저축금융컨설팅',\n",
       " '제주게스트하우스',\n",
       " '제주도골프모임',\n",
       " '제주도지인모임',\n",
       " '제주여행(퇴직교사)',\n",
       " '종로구고등학교',\n",
       " '종로구녹음실',\n",
       " '종로구서울대병원',\n",
       " '종로구소재요양시설',\n",
       " '종로구소재파고다타운',\n",
       " '종로구지인모임신명투자',\n",
       " '종로구청',\n",
       " '종로구청근로자',\n",
       " '종로구혜화경찰서',\n",
       " '종로구확진자',\n",
       " '중구교회',\n",
       " '중구보험회사(현대해상)',\n",
       " '중구소재보람상조회사',\n",
       " '중구소재빌딩',\n",
       " '중구소재상조회사',\n",
       " '중구소재시장(남대문시장)',\n",
       " '중구소재은행',\n",
       " '중구소재직장',\n",
       " '중구소재콜센터',\n",
       " '중구소재콜센터(한전SCS)',\n",
       " '중구소재판매시설',\n",
       " '중구제조업공장',\n",
       " '중구콜센터',\n",
       " '중구콜센터Ⅰ',\n",
       " '중구콜센터Ⅱ',\n",
       " '중구통일상가',\n",
       " '중구확진자',\n",
       " '중랑구서울의료원',\n",
       " '중랑구소재병원',\n",
       " '중랑구소재종교시설',\n",
       " '중랑구소재체육시설',\n",
       " '중랑구실내체육시설',\n",
       " '중랑구실내체육시설Ⅱ',\n",
       " '중랑구이마트상봉점',\n",
       " '중랑구일가족',\n",
       " '중랑구체육시설',\n",
       " '중앙보훈병원',\n",
       " '지인',\n",
       " '지인-가족전파',\n",
       " '춘천연탄봉사모임',\n",
       " '콜센터직원',\n",
       " '타시도확진자',\n",
       " '프로그래머지인모임',\n",
       " '한국대학생선교회',\n",
       " '한양대병원',\n",
       " '해외',\n",
       " '현대커머셜',\n",
       " '확인중']"
      ]
     },
     "execution_count": 46,
     "metadata": {},
     "output_type": "execute_result"
    }
   ],
   "source": [
    "sorted(data['virus_route'].unique().tolist())"
   ]
  },
  {
   "cell_type": "code",
   "execution_count": 30,
   "metadata": {},
   "outputs": [],
   "source": [
    "num = ['10015', '10044', '10054', '10084', '10115', '10142','10377', '10407', '11196', '1247',\n",
    " '136', '14483', '14488', '2621', '29', '3', '30', '5', '56', '6', '6727', '6832', '6921',\n",
    " '6937', '6959', '7280', '7500', '7573', '780', '7914', '7923', '794', '8044', '8057', '8063',\n",
    " '8079', '8138', '8196', '8245', '8271', '83', '8486', '8601', '8646', '8669', '8709',\n",
    " '8717', '8791', '8881', '9020', '9219', '9287', '935', '9364', '9525', '9572', '9621',\n",
    " '9641', '9734', '9765','9800', '9912', '9946']"
   ]
  },
  {
   "cell_type": "markdown",
   "metadata": {},
   "source": [
    "- 지역 혹은 단체가 나와있는 경우에 숫자 매핑"
   ]
  },
  {
   "cell_type": "code",
   "execution_count": 31,
   "metadata": {},
   "outputs": [],
   "source": [
    "a = []\n",
    "aid = []\n",
    "b = []\n",
    "bid = []\n",
    "for i in range(len(data)):\n",
    "    if data['virus_route'][i] in num:\n",
    "        a.append(data['virus_route'][i])\n",
    "        aid.append(data['환자번호'][i])\n",
    "    else:\n",
    "        b.append(data['virus_route'][i])\n",
    "        bid.append(data['환자번호'][i])"
   ]
  },
  {
   "cell_type": "code",
   "execution_count": 32,
   "metadata": {},
   "outputs": [],
   "source": [
    "df_num = pd.DataFrame({'환자번호': aid , 'virus_route' : a}) # 확진자 id가 있는 것만 추출\n",
    "df_str = pd.DataFrame({'환자번호': bid ,'virus_route' : b}) # 집단인 경우만 추출"
   ]
  },
  {
   "cell_type": "code",
   "execution_count": 33,
   "metadata": {},
   "outputs": [],
   "source": [
    "df_num['label'] = pd.to_numeric(df_num['virus_route']) # 문자열숫자(확진자번호)를 숫자형"
   ]
  },
  {
   "cell_type": "code",
   "execution_count": 93,
   "metadata": {},
   "outputs": [],
   "source": [
    "df_str = pd.merge(df_str,where_df,how='left')"
   ]
  },
  {
   "cell_type": "code",
   "execution_count": 94,
   "metadata": {},
   "outputs": [],
   "source": [
    "df = pd.concat([df_num,df_str]) # 최종 concat (행으로붙이기)"
   ]
  },
  {
   "cell_type": "markdown",
   "metadata": {},
   "source": [
    "-  500~649는 집단감염 번호이므로 실제 환자번호와 무관"
   ]
  },
  {
   "cell_type": "code",
   "execution_count": 95,
   "metadata": {},
   "outputs": [],
   "source": [
    "data = pd.merge(data,df,how='left')"
   ]
  },
  {
   "cell_type": "code",
   "execution_count": 96,
   "metadata": {},
   "outputs": [],
   "source": [
    "data.rename(columns={'virus_route' : '발생지',\n",
    "                     'label':'감염자'},inplace=True)"
   ]
  },
  {
   "cell_type": "markdown",
   "metadata": {},
   "source": [
    "- 날짜 전처리"
   ]
  },
  {
   "cell_type": "code",
   "execution_count": 170,
   "metadata": {},
   "outputs": [
    {
     "data": {
      "application/vnd.jupyter.widget-view+json": {
       "model_id": "d109e487fd744b0b8c5eb70e46d9ea21",
       "version_major": 2,
       "version_minor": 0
      },
      "text/plain": [
       "HBox(children=(IntProgress(value=0, max=19738), HTML(value='')))"
      ]
     },
     "metadata": {},
     "output_type": "display_data"
    },
    {
     "name": "stdout",
     "output_type": "stream",
     "text": [
      "\n"
     ]
    }
   ],
   "source": [
    "for i in tqdm(range(len(data))):\n",
    "    if type(data[\"날짜\"][i]) == str:\n",
    "        data[\"날짜\"][i] = \"2020-\"+data[\"날짜\"][i].replace(\"/\",\"-\")"
   ]
  },
  {
   "cell_type": "code",
   "execution_count": 171,
   "metadata": {},
   "outputs": [],
   "source": [
    "idx = data[data['날짜'].str.contains('21.01')].index"
   ]
  },
  {
   "cell_type": "code",
   "execution_count": 172,
   "metadata": {},
   "outputs": [
    {
     "data": {
      "text/plain": [
       "거주지            object\n",
       "날짜             object\n",
       "세부정보           object\n",
       "퇴원현황           object\n",
       "환자번호           object\n",
       "virus_route    object\n",
       "dtype: object"
      ]
     },
     "execution_count": 172,
     "metadata": {},
     "output_type": "execute_result"
    }
   ],
   "source": [
    "data.dtypes"
   ]
  },
  {
   "cell_type": "code",
   "execution_count": 173,
   "metadata": {},
   "outputs": [
    {
     "data": {
      "text/html": [
       "<div>\n",
       "<style scoped>\n",
       "    .dataframe tbody tr th:only-of-type {\n",
       "        vertical-align: middle;\n",
       "    }\n",
       "\n",
       "    .dataframe tbody tr th {\n",
       "        vertical-align: top;\n",
       "    }\n",
       "\n",
       "    .dataframe thead th {\n",
       "        text-align: right;\n",
       "    }\n",
       "</style>\n",
       "<table border=\"1\" class=\"dataframe\">\n",
       "  <thead>\n",
       "    <tr style=\"text-align: right;\">\n",
       "      <th></th>\n",
       "      <th>거주지</th>\n",
       "      <th>날짜</th>\n",
       "      <th>세부정보</th>\n",
       "      <th>퇴원현황</th>\n",
       "      <th>환자번호</th>\n",
       "      <th>virus_route</th>\n",
       "    </tr>\n",
       "  </thead>\n",
       "  <tbody>\n",
       "    <tr>\n",
       "      <td>0</td>\n",
       "      <td>강서구</td>\n",
       "      <td>2020-1-24</td>\n",
       "      <td>이동경로 공개기간 경과</td>\n",
       "      <td>퇴원</td>\n",
       "      <td>2</td>\n",
       "      <td>해외</td>\n",
       "    </tr>\n",
       "    <tr>\n",
       "      <td>1</td>\n",
       "      <td>마포구</td>\n",
       "      <td>2020-1-30</td>\n",
       "      <td>이동경로 공개기간 경과</td>\n",
       "      <td>퇴원</td>\n",
       "      <td>7</td>\n",
       "      <td>해외</td>\n",
       "    </tr>\n",
       "    <tr>\n",
       "      <td>2</td>\n",
       "      <td>종로구</td>\n",
       "      <td>2020-1-30</td>\n",
       "      <td>이동경로 공개기간 경과</td>\n",
       "      <td>퇴원</td>\n",
       "      <td>6</td>\n",
       "      <td>3</td>\n",
       "    </tr>\n",
       "    <tr>\n",
       "      <td>3</td>\n",
       "      <td>중랑구</td>\n",
       "      <td>2020-1-30</td>\n",
       "      <td>이동경로 공개기간 경과</td>\n",
       "      <td>퇴원</td>\n",
       "      <td>5</td>\n",
       "      <td>해외</td>\n",
       "    </tr>\n",
       "    <tr>\n",
       "      <td>4</td>\n",
       "      <td>종로구</td>\n",
       "      <td>2020-1-31</td>\n",
       "      <td>이동경로 공개기간 경과</td>\n",
       "      <td>퇴원</td>\n",
       "      <td>11</td>\n",
       "      <td>6</td>\n",
       "    </tr>\n",
       "    <tr>\n",
       "      <td>...</td>\n",
       "      <td>...</td>\n",
       "      <td>...</td>\n",
       "      <td>...</td>\n",
       "      <td>...</td>\n",
       "      <td>...</td>\n",
       "      <td>...</td>\n",
       "    </tr>\n",
       "    <tr>\n",
       "      <td>18959</td>\n",
       "      <td>영등포구</td>\n",
       "      <td>2020-9-08</td>\n",
       "      <td>확인 중</td>\n",
       "      <td>입원</td>\n",
       "      <td>21522</td>\n",
       "      <td>타시도확진자</td>\n",
       "    </tr>\n",
       "    <tr>\n",
       "      <td>18960</td>\n",
       "      <td>관악구</td>\n",
       "      <td>2020-9-08</td>\n",
       "      <td>확인 중</td>\n",
       "      <td>입원</td>\n",
       "      <td>21554</td>\n",
       "      <td>기타확진자</td>\n",
       "    </tr>\n",
       "    <tr>\n",
       "      <td>18961</td>\n",
       "      <td>관악구</td>\n",
       "      <td>2020-9-08</td>\n",
       "      <td>확인 중</td>\n",
       "      <td>입원</td>\n",
       "      <td>21546</td>\n",
       "      <td>기타확진자</td>\n",
       "    </tr>\n",
       "    <tr>\n",
       "      <td>18962</td>\n",
       "      <td>타시도</td>\n",
       "      <td>2020-9-08</td>\n",
       "      <td>확인 중</td>\n",
       "      <td>입원</td>\n",
       "      <td>21457</td>\n",
       "      <td>확인중</td>\n",
       "    </tr>\n",
       "    <tr>\n",
       "      <td>18963</td>\n",
       "      <td>관악구</td>\n",
       "      <td>2020-9-08</td>\n",
       "      <td>확인 중</td>\n",
       "      <td>입원</td>\n",
       "      <td>21556</td>\n",
       "      <td>기타확진자</td>\n",
       "    </tr>\n",
       "  </tbody>\n",
       "</table>\n",
       "<p>18964 rows × 6 columns</p>\n",
       "</div>"
      ],
      "text/plain": [
       "        거주지         날짜          세부정보 퇴원현황   환자번호 virus_route\n",
       "0       강서구  2020-1-24  이동경로 공개기간 경과   퇴원      2          해외\n",
       "1       마포구  2020-1-30  이동경로 공개기간 경과   퇴원      7          해외\n",
       "2       종로구  2020-1-30  이동경로 공개기간 경과   퇴원      6           3\n",
       "3       중랑구  2020-1-30  이동경로 공개기간 경과   퇴원      5          해외\n",
       "4       종로구  2020-1-31  이동경로 공개기간 경과   퇴원     11           6\n",
       "...     ...        ...           ...  ...    ...         ...\n",
       "18959  영등포구  2020-9-08          확인 중   입원  21522      타시도확진자\n",
       "18960   관악구  2020-9-08          확인 중   입원  21554       기타확진자\n",
       "18961   관악구  2020-9-08          확인 중   입원  21546       기타확진자\n",
       "18962   타시도  2020-9-08          확인 중   입원  21457         확인중\n",
       "18963   관악구  2020-9-08          확인 중   입원  21556       기타확진자\n",
       "\n",
       "[18964 rows x 6 columns]"
      ]
     },
     "execution_count": 173,
     "metadata": {},
     "output_type": "execute_result"
    }
   ],
   "source": [
    "data = data.drop(idx).reset_index(drop=True)\n",
    "data"
   ]
  },
  {
   "cell_type": "code",
   "execution_count": 174,
   "metadata": {},
   "outputs": [],
   "source": [
    "# 12월\n",
    "idx = data[data['날짜'].str.contains('20.12')].index\n",
    "\n",
    "a = data.iloc[idx]['날짜']\n",
    "a.reset_index(drop=True,inplace=True)"
   ]
  },
  {
   "cell_type": "code",
   "execution_count": 177,
   "metadata": {},
   "outputs": [],
   "source": [
    "pre = []\n",
    "for i in range(len(a)):\n",
    "    pre.append(\"2020-\"+a[i][8:10]+\"-\"+a[i][11:13])\n",
    "\n",
    "data.loc[idx,'날짜'] = pre"
   ]
  },
  {
   "cell_type": "code",
   "execution_count": 179,
   "metadata": {},
   "outputs": [],
   "source": [
    "# 11월\n",
    "idx = data[data['날짜'].str.contains('20.11')].index\n",
    "\n",
    "a = data.iloc[idx]['날짜']\n",
    "a.reset_index(drop=True,inplace=True)\n",
    "\n",
    "pre = []\n",
    "for i in range(len(a)):\n",
    "    pre.append(\"2020-\"+a[i][8:10]+\"-\"+a[i][11:13])\n",
    "\n",
    "data.loc[idx,'날짜'] = pre"
   ]
  },
  {
   "cell_type": "code",
   "execution_count": 181,
   "metadata": {},
   "outputs": [
    {
     "data": {
      "text/plain": [
       "821     2020-11-01\n",
       "822     2020-11-01\n",
       "823     2020-11-01\n",
       "824     2020-11-01\n",
       "825     2020-11-01\n",
       "           ...    \n",
       "3716    2020-11-30\n",
       "3717    2020-11-30\n",
       "3718    2020-11-30\n",
       "3719    2020-11-30\n",
       "3720    2020-11-30\n",
       "Name: 날짜, Length: 2900, dtype: object"
      ]
     },
     "execution_count": 181,
     "metadata": {},
     "output_type": "execute_result"
    }
   ],
   "source": [
    "data.loc[idx,'날짜']"
   ]
  },
  {
   "cell_type": "code",
   "execution_count": 198,
   "metadata": {},
   "outputs": [],
   "source": [
    "# 8월\n",
    "idx = data[data['날짜'].str.contains('2020-8')].index\n",
    "\n",
    "a = data.iloc[idx]['날짜']\n",
    "a.reset_index(drop=True,inplace=True)\n",
    "\n",
    "pre = []\n",
    "for i in range(len(a)):\n",
    "    pre.append(\"2020-\"+a[i][5]+\"-\"+a[i][7:9])\n",
    "\n",
    "data.loc[idx,'날짜'] = pre"
   ]
  },
  {
   "cell_type": "code",
   "execution_count": 214,
   "metadata": {},
   "outputs": [
    {
     "data": {
      "text/html": [
       "<div>\n",
       "<style scoped>\n",
       "    .dataframe tbody tr th:only-of-type {\n",
       "        vertical-align: middle;\n",
       "    }\n",
       "\n",
       "    .dataframe tbody tr th {\n",
       "        vertical-align: top;\n",
       "    }\n",
       "\n",
       "    .dataframe thead th {\n",
       "        text-align: right;\n",
       "    }\n",
       "</style>\n",
       "<table border=\"1\" class=\"dataframe\">\n",
       "  <thead>\n",
       "    <tr style=\"text-align: right;\">\n",
       "      <th></th>\n",
       "      <th>거주지</th>\n",
       "      <th>날짜</th>\n",
       "      <th>세부정보</th>\n",
       "      <th>퇴원현황</th>\n",
       "      <th>환자번호</th>\n",
       "      <th>virus_route</th>\n",
       "    </tr>\n",
       "  </thead>\n",
       "  <tbody>\n",
       "    <tr>\n",
       "      <td>821</td>\n",
       "      <td>마포구</td>\n",
       "      <td>2020-11-01</td>\n",
       "      <td>타시도 확진자 접촉</td>\n",
       "      <td>퇴원</td>\n",
       "      <td>26644</td>\n",
       "      <td>타시도확진자</td>\n",
       "    </tr>\n",
       "    <tr>\n",
       "      <td>822</td>\n",
       "      <td>기타</td>\n",
       "      <td>2020-11-01</td>\n",
       "      <td>해외 유입</td>\n",
       "      <td>퇴원</td>\n",
       "      <td>26652</td>\n",
       "      <td>해외</td>\n",
       "    </tr>\n",
       "    <tr>\n",
       "      <td>823</td>\n",
       "      <td>동대문구</td>\n",
       "      <td>2020-11-01</td>\n",
       "      <td>동대문구 에이스희망케어센터 관련</td>\n",
       "      <td>퇴원</td>\n",
       "      <td>26658</td>\n",
       "      <td>동대문구에이스희망케어센터</td>\n",
       "    </tr>\n",
       "    <tr>\n",
       "      <td>824</td>\n",
       "      <td>도봉구</td>\n",
       "      <td>2020-11-01</td>\n",
       "      <td>동대문구 에이스희망케어센터 관련</td>\n",
       "      <td>퇴원</td>\n",
       "      <td>26659</td>\n",
       "      <td>동대문구에이스희망케어센터</td>\n",
       "    </tr>\n",
       "    <tr>\n",
       "      <td>825</td>\n",
       "      <td>강서구</td>\n",
       "      <td>2020-11-01</td>\n",
       "      <td>기타 확진자 접촉</td>\n",
       "      <td>퇴원</td>\n",
       "      <td>26691</td>\n",
       "      <td>기타확진자</td>\n",
       "    </tr>\n",
       "    <tr>\n",
       "      <td>...</td>\n",
       "      <td>...</td>\n",
       "      <td>...</td>\n",
       "      <td>...</td>\n",
       "      <td>...</td>\n",
       "      <td>...</td>\n",
       "      <td>...</td>\n",
       "    </tr>\n",
       "    <tr>\n",
       "      <td>3716</td>\n",
       "      <td>타시도</td>\n",
       "      <td>2020-11-30</td>\n",
       "      <td>강서구 댄스교습관련 시설</td>\n",
       "      <td>퇴원</td>\n",
       "      <td>34473</td>\n",
       "      <td>강서구댄스교습관련시설</td>\n",
       "    </tr>\n",
       "    <tr>\n",
       "      <td>3717</td>\n",
       "      <td>강남구</td>\n",
       "      <td>2020-11-30</td>\n",
       "      <td>기타 확진자 접촉</td>\n",
       "      <td>퇴원</td>\n",
       "      <td>34534</td>\n",
       "      <td>기타확진자</td>\n",
       "    </tr>\n",
       "    <tr>\n",
       "      <td>3718</td>\n",
       "      <td>중구</td>\n",
       "      <td>2020-11-30</td>\n",
       "      <td>감염경로 조사중</td>\n",
       "      <td>퇴원</td>\n",
       "      <td>34525</td>\n",
       "      <td>감염경로조사중</td>\n",
       "    </tr>\n",
       "    <tr>\n",
       "      <td>3719</td>\n",
       "      <td>영등포구</td>\n",
       "      <td>2020-11-30</td>\n",
       "      <td>강서구 소재 댄스교습시설 연관 병원</td>\n",
       "      <td>퇴원</td>\n",
       "      <td>34472</td>\n",
       "      <td>강서구소재댄스교습시설연관병원</td>\n",
       "    </tr>\n",
       "    <tr>\n",
       "      <td>3720</td>\n",
       "      <td>기타</td>\n",
       "      <td>2020-11-30</td>\n",
       "      <td>강서구 소재 댄스교습시설 연관 병원</td>\n",
       "      <td>입원</td>\n",
       "      <td>34476</td>\n",
       "      <td>강서구소재댄스교습시설연관병원</td>\n",
       "    </tr>\n",
       "  </tbody>\n",
       "</table>\n",
       "<p>2900 rows × 6 columns</p>\n",
       "</div>"
      ],
      "text/plain": [
       "       거주지          날짜                 세부정보 퇴원현황   환자번호      virus_route\n",
       "821    마포구  2020-11-01           타시도 확진자 접촉   퇴원  26644           타시도확진자\n",
       "822     기타  2020-11-01                해외 유입   퇴원  26652               해외\n",
       "823   동대문구  2020-11-01    동대문구 에이스희망케어센터 관련   퇴원  26658    동대문구에이스희망케어센터\n",
       "824    도봉구  2020-11-01    동대문구 에이스희망케어센터 관련   퇴원  26659    동대문구에이스희망케어센터\n",
       "825    강서구  2020-11-01            기타 확진자 접촉   퇴원  26691            기타확진자\n",
       "...    ...         ...                  ...  ...    ...              ...\n",
       "3716   타시도  2020-11-30        강서구 댄스교습관련 시설   퇴원  34473      강서구댄스교습관련시설\n",
       "3717   강남구  2020-11-30            기타 확진자 접촉   퇴원  34534            기타확진자\n",
       "3718    중구  2020-11-30             감염경로 조사중   퇴원  34525          감염경로조사중\n",
       "3719  영등포구  2020-11-30  강서구 소재 댄스교습시설 연관 병원   퇴원  34472  강서구소재댄스교습시설연관병원\n",
       "3720    기타  2020-11-30  강서구 소재 댄스교습시설 연관 병원   입원  34476  강서구소재댄스교습시설연관병원\n",
       "\n",
       "[2900 rows x 6 columns]"
      ]
     },
     "execution_count": 214,
     "metadata": {},
     "output_type": "execute_result"
    }
   ],
   "source": [
    "data[data['날짜'].str.contains('20.11')]"
   ]
  },
  {
   "cell_type": "code",
   "execution_count": 216,
   "metadata": {},
   "outputs": [
    {
     "data": {
      "text/html": [
       "<div>\n",
       "<style scoped>\n",
       "    .dataframe tbody tr th:only-of-type {\n",
       "        vertical-align: middle;\n",
       "    }\n",
       "\n",
       "    .dataframe tbody tr th {\n",
       "        vertical-align: top;\n",
       "    }\n",
       "\n",
       "    .dataframe thead th {\n",
       "        text-align: right;\n",
       "    }\n",
       "</style>\n",
       "<table border=\"1\" class=\"dataframe\">\n",
       "  <thead>\n",
       "    <tr style=\"text-align: right;\">\n",
       "      <th></th>\n",
       "      <th>거주지</th>\n",
       "      <th>날짜</th>\n",
       "      <th>세부정보</th>\n",
       "      <th>퇴원현황</th>\n",
       "      <th>환자번호</th>\n",
       "      <th>virus_route</th>\n",
       "    </tr>\n",
       "  </thead>\n",
       "  <tbody>\n",
       "    <tr>\n",
       "      <td>820</td>\n",
       "      <td>영등포구</td>\n",
       "      <td>2020-20.08.25.</td>\n",
       "      <td>감염경로 조사중</td>\n",
       "      <td>사망</td>\n",
       "      <td>28770</td>\n",
       "      <td>감염경로조사중</td>\n",
       "    </tr>\n",
       "  </tbody>\n",
       "</table>\n",
       "</div>"
      ],
      "text/plain": [
       "      거주지              날짜      세부정보 퇴원현황   환자번호 virus_route\n",
       "820  영등포구  2020-20.08.25.  감염경로 조사중   사망  28770     감염경로조사중"
      ]
     },
     "execution_count": 216,
     "metadata": {},
     "output_type": "execute_result"
    }
   ],
   "source": [
    "data[data['날짜'].str.contains('20.08')]"
   ]
  },
  {
   "cell_type": "code",
   "execution_count": 217,
   "metadata": {},
   "outputs": [],
   "source": [
    "# 08월\n",
    "idx = data[data['날짜'].str.contains('20.08')].index\n",
    "\n",
    "a = data.iloc[idx]['날짜']\n",
    "a.reset_index(drop=True,inplace=True)\n",
    "\n",
    "pre = []\n",
    "for i in range(len(a)):\n",
    "    pre.append(\"2020-\"+a[i][8:10]+\"-\"+a[i][11:13])\n",
    "\n",
    "data.loc[idx,'날짜'] = pre"
   ]
  },
  {
   "cell_type": "code",
   "execution_count": 200,
   "metadata": {},
   "outputs": [],
   "source": [
    "# 9월\n",
    "idx = data[data['날짜'].str.contains('2020-9')].index\n",
    "\n",
    "a = data.iloc[idx]['날짜']\n",
    "a.reset_index(drop=True,inplace=True)\n",
    "\n",
    "pre = []\n",
    "for i in range(len(a)):\n",
    "    pre.append(\"2020-\"+a[i][5]+\"-\"+a[i][7:9])\n",
    "\n",
    "data.loc[idx,'날짜'] = pre"
   ]
  },
  {
   "cell_type": "code",
   "execution_count": 203,
   "metadata": {},
   "outputs": [],
   "source": [
    "# 10월\n",
    "idx = data[data['날짜'].str.contains('2020-10')].index\n",
    "\n",
    "a = data.iloc[idx]['날짜']\n",
    "a.reset_index(drop=True,inplace=True)\n",
    "\n",
    "pre = []\n",
    "for i in range(len(a)):\n",
    "    pre.append(\"2020-\"+a[i][5:7]+\"-\"+a[i][8:10])\n",
    "\n",
    "data.loc[idx,'날짜'] = pre"
   ]
  },
  {
   "cell_type": "code",
   "execution_count": 218,
   "metadata": {},
   "outputs": [],
   "source": [
    "data['날짜'] = pd.to_datetime(data['날짜'])"
   ]
  },
  {
   "cell_type": "code",
   "execution_count": 229,
   "metadata": {},
   "outputs": [],
   "source": [
    "data = data.sort_values('날짜').reset_index(drop=True)"
   ]
  },
  {
   "cell_type": "markdown",
   "metadata": {},
   "source": [
    "- Plot에서 x축 조절을 위해 그림용 번호 만들기"
   ]
  },
  {
   "cell_type": "code",
   "execution_count": 99,
   "metadata": {},
   "outputs": [
    {
     "data": {
      "text/plain": [
       "213"
      ]
     },
     "execution_count": 99,
     "metadata": {},
     "output_type": "execute_result"
    }
   ],
   "source": [
    "unique = data['감염자'].unique().tolist()\n",
    "len(unique)"
   ]
  },
  {
   "cell_type": "code",
   "execution_count": 101,
   "metadata": {},
   "outputs": [],
   "source": [
    "unique = data['감염자'].unique().tolist()\n",
    "df = pd.DataFrame({'감염자':unique,'그림번호': list(range(1,214))})\n",
    "data = pd.merge(data,df,how='left')"
   ]
  },
  {
   "cell_type": "code",
   "execution_count": 104,
   "metadata": {},
   "outputs": [],
   "source": [
    "del data['감염경로']"
   ]
  },
  {
   "cell_type": "code",
   "execution_count": 228,
   "metadata": {},
   "outputs": [],
   "source": [
    "data.to_excel('network.xlsx')"
   ]
  },
  {
   "cell_type": "code",
   "execution_count": 231,
   "metadata": {},
   "outputs": [
    {
     "data": {
      "text/html": [
       "<div>\n",
       "<style scoped>\n",
       "    .dataframe tbody tr th:only-of-type {\n",
       "        vertical-align: middle;\n",
       "    }\n",
       "\n",
       "    .dataframe tbody tr th {\n",
       "        vertical-align: top;\n",
       "    }\n",
       "\n",
       "    .dataframe thead th {\n",
       "        text-align: right;\n",
       "    }\n",
       "</style>\n",
       "<table border=\"1\" class=\"dataframe\">\n",
       "  <thead>\n",
       "    <tr style=\"text-align: right;\">\n",
       "      <th></th>\n",
       "      <th>거주지</th>\n",
       "      <th>날짜</th>\n",
       "      <th>세부정보</th>\n",
       "      <th>퇴원현황</th>\n",
       "      <th>환자번호</th>\n",
       "      <th>virus_route</th>\n",
       "    </tr>\n",
       "  </thead>\n",
       "  <tbody>\n",
       "    <tr>\n",
       "      <td>0</td>\n",
       "      <td>강서구</td>\n",
       "      <td>2020-01-24</td>\n",
       "      <td>이동경로 공개기간 경과</td>\n",
       "      <td>퇴원</td>\n",
       "      <td>2</td>\n",
       "      <td>해외</td>\n",
       "    </tr>\n",
       "    <tr>\n",
       "      <td>1</td>\n",
       "      <td>마포구</td>\n",
       "      <td>2020-01-30</td>\n",
       "      <td>이동경로 공개기간 경과</td>\n",
       "      <td>퇴원</td>\n",
       "      <td>7</td>\n",
       "      <td>해외</td>\n",
       "    </tr>\n",
       "    <tr>\n",
       "      <td>2</td>\n",
       "      <td>종로구</td>\n",
       "      <td>2020-01-30</td>\n",
       "      <td>이동경로 공개기간 경과</td>\n",
       "      <td>퇴원</td>\n",
       "      <td>6</td>\n",
       "      <td>3</td>\n",
       "    </tr>\n",
       "    <tr>\n",
       "      <td>3</td>\n",
       "      <td>중랑구</td>\n",
       "      <td>2020-01-30</td>\n",
       "      <td>이동경로 공개기간 경과</td>\n",
       "      <td>퇴원</td>\n",
       "      <td>5</td>\n",
       "      <td>해외</td>\n",
       "    </tr>\n",
       "    <tr>\n",
       "      <td>4</td>\n",
       "      <td>종로구</td>\n",
       "      <td>2020-01-31</td>\n",
       "      <td>이동경로 공개기간 경과</td>\n",
       "      <td>퇴원</td>\n",
       "      <td>11</td>\n",
       "      <td>6</td>\n",
       "    </tr>\n",
       "    <tr>\n",
       "      <td>...</td>\n",
       "      <td>...</td>\n",
       "      <td>...</td>\n",
       "      <td>...</td>\n",
       "      <td>...</td>\n",
       "      <td>...</td>\n",
       "      <td>...</td>\n",
       "    </tr>\n",
       "    <tr>\n",
       "      <td>18959</td>\n",
       "      <td>동작구</td>\n",
       "      <td>2020-12-31</td>\n",
       "      <td>감염경로 조사중</td>\n",
       "      <td>입원</td>\n",
       "      <td>61275</td>\n",
       "      <td>감염경로조사중</td>\n",
       "    </tr>\n",
       "    <tr>\n",
       "      <td>18960</td>\n",
       "      <td>영등포구</td>\n",
       "      <td>2020-12-31</td>\n",
       "      <td>감염경로 조사중</td>\n",
       "      <td>입원</td>\n",
       "      <td>61254</td>\n",
       "      <td>감염경로조사중</td>\n",
       "    </tr>\n",
       "    <tr>\n",
       "      <td>18961</td>\n",
       "      <td>영등포구</td>\n",
       "      <td>2020-12-31</td>\n",
       "      <td>감염경로 조사중</td>\n",
       "      <td>입원</td>\n",
       "      <td>61222</td>\n",
       "      <td>감염경로조사중</td>\n",
       "    </tr>\n",
       "    <tr>\n",
       "      <td>18962</td>\n",
       "      <td>강북구</td>\n",
       "      <td>2020-12-31</td>\n",
       "      <td>관악구 소재 종교시설 관련</td>\n",
       "      <td>입원</td>\n",
       "      <td>60983</td>\n",
       "      <td>관악구소재종교시설</td>\n",
       "    </tr>\n",
       "    <tr>\n",
       "      <td>18963</td>\n",
       "      <td>영등포구</td>\n",
       "      <td>2020-12-31</td>\n",
       "      <td>감염경로 조사중</td>\n",
       "      <td>입원</td>\n",
       "      <td>61358</td>\n",
       "      <td>감염경로조사중</td>\n",
       "    </tr>\n",
       "  </tbody>\n",
       "</table>\n",
       "<p>18964 rows × 6 columns</p>\n",
       "</div>"
      ],
      "text/plain": [
       "        거주지         날짜            세부정보 퇴원현황   환자번호 virus_route\n",
       "0       강서구 2020-01-24    이동경로 공개기간 경과   퇴원      2          해외\n",
       "1       마포구 2020-01-30    이동경로 공개기간 경과   퇴원      7          해외\n",
       "2       종로구 2020-01-30    이동경로 공개기간 경과   퇴원      6           3\n",
       "3       중랑구 2020-01-30    이동경로 공개기간 경과   퇴원      5          해외\n",
       "4       종로구 2020-01-31    이동경로 공개기간 경과   퇴원     11           6\n",
       "...     ...        ...             ...  ...    ...         ...\n",
       "18959   동작구 2020-12-31        감염경로 조사중   입원  61275     감염경로조사중\n",
       "18960  영등포구 2020-12-31        감염경로 조사중   입원  61254     감염경로조사중\n",
       "18961  영등포구 2020-12-31        감염경로 조사중   입원  61222     감염경로조사중\n",
       "18962   강북구 2020-12-31  관악구 소재 종교시설 관련   입원  60983   관악구소재종교시설\n",
       "18963  영등포구 2020-12-31        감염경로 조사중   입원  61358     감염경로조사중\n",
       "\n",
       "[18964 rows x 6 columns]"
      ]
     },
     "execution_count": 231,
     "metadata": {},
     "output_type": "execute_result"
    }
   ],
   "source": [
    "data"
   ]
  },
  {
   "cell_type": "code",
   "execution_count": null,
   "metadata": {},
   "outputs": [],
   "source": []
  }
 ],
 "metadata": {
  "kernelspec": {
   "display_name": "Python 3",
   "language": "python",
   "name": "python3"
  },
  "language_info": {
   "codemirror_mode": {
    "name": "ipython",
    "version": 3
   },
   "file_extension": ".py",
   "mimetype": "text/x-python",
   "name": "python",
   "nbconvert_exporter": "python",
   "pygments_lexer": "ipython3",
   "version": "3.7.4"
  }
 },
 "nbformat": 4,
 "nbformat_minor": 2
}
