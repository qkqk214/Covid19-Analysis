{
 "cells": [
  {
   "cell_type": "code",
   "execution_count": 2,
   "metadata": {},
   "outputs": [],
   "source": [
    "import pandas as pd\n",
    "import numpy as np\n",
    "import matplotlib.pyplot as plt\n",
    "import seaborn as sns\n",
    "import math\n",
    "import warnings\n",
    "warnings.filterwarnings(action='ignore')\n",
    "\n",
    "from IPython.core.interactiveshell import InteractiveShell\n",
    "InteractiveShell.ast_node_interactivity ='all'\n",
    "\n",
    "import time\n",
    "from tqdm.notebook import tqdm\n",
    "\n",
    "import datetime\n",
    "from datetime import timedelta\n",
    "import re\n",
    "\n",
    "import networkx as nx\n",
    "import chart_studio\n",
    "chart_studio.tools.set_credentials_file(username='username', api_key='api_key')\n",
    "import chart_studio.plotly as py\n",
    "import plotly.express as px\n",
    "from matplotlib import font_manager, rc\n",
    "\n",
    "rc('font',family = 'Malgun Gothic')\n",
    "plt.style.use('ggplot')"
   ]
  },
  {
   "cell_type": "markdown",
   "metadata": {},
   "source": [
    "- 동부구치소 , 성북구교회 , 해외 제거"
   ]
  },
  {
   "cell_type": "markdown",
   "metadata": {},
   "source": [
    "- 일일 확진자는 데이터 유지    \n",
    "- x에는 뺀 것 안뺀것 두개\n",
    "- 5월데이터도 제거 ( smoothing은 미리 만들어놓고 지우기 )"
   ]
  },
  {
   "cell_type": "code",
   "execution_count": 3,
   "metadata": {
    "scrolled": true
   },
   "outputs": [
    {
     "data": {
      "text/plain": [
       "기타확진자                   5524\n",
       "감염경로조사중                 3536\n",
       "타시도확진자                   844\n",
       "동부구치소                    744\n",
       "확인중                      735\n",
       "해외                       648\n",
       "성북구사랑제일교회                636\n",
       "강서구교회                    244\n",
       "종로구소재파고다타운               224\n",
       "강서구댄스교습관련시설              209\n",
       "구로구소재요양병원                175\n",
       "이태원클럽                    139\n",
       "리치웨이                     119\n",
       "서초구사우나Ⅱ                   82\n",
       "서초구사우나                    77\n",
       "용산구소재건설현장                 77\n",
       "용인시우리제일교회                 74\n",
       "동대문구지혜병원                  70\n",
       "도봉구다나병원                   68\n",
       "동대문구고등학교(마포구홍대새교회관련)      65\n",
       "송파구소재장애인거주시설              65\n",
       "강남구헬스장                    65\n",
       "소재                        61\n",
       "구로구콜센터                    61\n",
       "동대문구에이스희망케어센터             60\n",
       "중랑구소재종교시설                 59\n",
       "광화문집회                     56\n",
       "중랑구실내체육시설Ⅱ                50\n",
       "강남구럭키사우나                  45\n",
       "노원구빛가온교회                  44\n",
       "중구소재시장(남대문시장)             43\n",
       "도심                        43\n",
       "양천구운동시설                   43\n",
       "요양시설                      43\n",
       "성북구체대입시                   43\n",
       "동작구임용단기학원                 42\n",
       "구로구교회                     41\n",
       "성동구금호노인요양원                41\n",
       "서대문구세브란스병원                37\n",
       "강남구K보건산업                  37\n",
       "마포구홍대새교회                  37\n",
       "수도권개척교회                   37\n",
       "콜센터직원                     37\n",
       "극단산                       37\n",
       "강남구사무실                    36\n",
       "동작구사우나                    36\n",
       "양천구소재요양시설                 35\n",
       "노원구소재병원                   35\n",
       "도봉구예마루데이케어센터              34\n",
       "동대문구소재어르신복지시설             34\n",
       "Name: virus_route, dtype: int64"
      ]
     },
     "execution_count": 3,
     "metadata": {},
     "output_type": "execute_result"
    }
   ],
   "source": [
    "data = pd.read_excel('network.xlsx')\n",
    "del data['Unnamed: 0']\n",
    "data['virus_route'].value_counts().head(50)"
   ]
  },
  {
   "cell_type": "code",
   "execution_count": 4,
   "metadata": {},
   "outputs": [
    {
     "data": {
      "text/plain": [
       "18964"
      ]
     },
     "execution_count": 4,
     "metadata": {},
     "output_type": "execute_result"
    }
   ],
   "source": [
    "len(data)"
   ]
  },
  {
   "cell_type": "code",
   "execution_count": 5,
   "metadata": {},
   "outputs": [
    {
     "data": {
      "text/html": [
       "<div>\n",
       "<style scoped>\n",
       "    .dataframe tbody tr th:only-of-type {\n",
       "        vertical-align: middle;\n",
       "    }\n",
       "\n",
       "    .dataframe tbody tr th {\n",
       "        vertical-align: top;\n",
       "    }\n",
       "\n",
       "    .dataframe thead th {\n",
       "        text-align: right;\n",
       "    }\n",
       "</style>\n",
       "<table border=\"1\" class=\"dataframe\">\n",
       "  <thead>\n",
       "    <tr style=\"text-align: right;\">\n",
       "      <th></th>\n",
       "      <th>거주지</th>\n",
       "      <th>날짜</th>\n",
       "      <th>세부정보</th>\n",
       "      <th>퇴원현황</th>\n",
       "      <th>환자번호</th>\n",
       "      <th>virus_route</th>\n",
       "    </tr>\n",
       "  </thead>\n",
       "  <tbody>\n",
       "    <tr>\n",
       "      <td>0</td>\n",
       "      <td>종로구</td>\n",
       "      <td>2020-01-30</td>\n",
       "      <td>이동경로 공개기간 경과</td>\n",
       "      <td>퇴원</td>\n",
       "      <td>6</td>\n",
       "      <td>3</td>\n",
       "    </tr>\n",
       "    <tr>\n",
       "      <td>1</td>\n",
       "      <td>종로구</td>\n",
       "      <td>2020-01-31</td>\n",
       "      <td>이동경로 공개기간 경과</td>\n",
       "      <td>퇴원</td>\n",
       "      <td>11</td>\n",
       "      <td>6</td>\n",
       "    </tr>\n",
       "    <tr>\n",
       "      <td>2</td>\n",
       "      <td>성북구</td>\n",
       "      <td>2020-01-31</td>\n",
       "      <td>이동경로 공개기간 경과</td>\n",
       "      <td>퇴원</td>\n",
       "      <td>9</td>\n",
       "      <td>5</td>\n",
       "    </tr>\n",
       "    <tr>\n",
       "      <td>3</td>\n",
       "      <td>종로구</td>\n",
       "      <td>2020-01-31</td>\n",
       "      <td>이동경로 공개기간 경과</td>\n",
       "      <td>퇴원</td>\n",
       "      <td>10</td>\n",
       "      <td>6</td>\n",
       "    </tr>\n",
       "    <tr>\n",
       "      <td>4</td>\n",
       "      <td>성북구</td>\n",
       "      <td>2020-02-05</td>\n",
       "      <td>이동경로 공개기간 경과</td>\n",
       "      <td>퇴원</td>\n",
       "      <td>21</td>\n",
       "      <td>6</td>\n",
       "    </tr>\n",
       "    <tr>\n",
       "      <td>...</td>\n",
       "      <td>...</td>\n",
       "      <td>...</td>\n",
       "      <td>...</td>\n",
       "      <td>...</td>\n",
       "      <td>...</td>\n",
       "      <td>...</td>\n",
       "    </tr>\n",
       "    <tr>\n",
       "      <td>16931</td>\n",
       "      <td>도봉구</td>\n",
       "      <td>2020-12-31</td>\n",
       "      <td>기타 확진자 접촉</td>\n",
       "      <td>입원</td>\n",
       "      <td>61339</td>\n",
       "      <td>기타확진자</td>\n",
       "    </tr>\n",
       "    <tr>\n",
       "      <td>16932</td>\n",
       "      <td>중랑구</td>\n",
       "      <td>2020-12-31</td>\n",
       "      <td>기타 확진자 접촉</td>\n",
       "      <td>입원</td>\n",
       "      <td>60792</td>\n",
       "      <td>기타확진자</td>\n",
       "    </tr>\n",
       "    <tr>\n",
       "      <td>16933</td>\n",
       "      <td>광진구</td>\n",
       "      <td>2020-12-31</td>\n",
       "      <td>기타 확진자 접촉</td>\n",
       "      <td>입원</td>\n",
       "      <td>61634</td>\n",
       "      <td>기타확진자</td>\n",
       "    </tr>\n",
       "    <tr>\n",
       "      <td>16934</td>\n",
       "      <td>강북구</td>\n",
       "      <td>2020-12-31</td>\n",
       "      <td>감염경로 조사중</td>\n",
       "      <td>입원</td>\n",
       "      <td>61043</td>\n",
       "      <td>감염경로조사중</td>\n",
       "    </tr>\n",
       "    <tr>\n",
       "      <td>16935</td>\n",
       "      <td>영등포구</td>\n",
       "      <td>2020-12-31</td>\n",
       "      <td>감염경로 조사중</td>\n",
       "      <td>입원</td>\n",
       "      <td>61358</td>\n",
       "      <td>감염경로조사중</td>\n",
       "    </tr>\n",
       "  </tbody>\n",
       "</table>\n",
       "<p>16936 rows × 6 columns</p>\n",
       "</div>"
      ],
      "text/plain": [
       "        거주지         날짜          세부정보 퇴원현황   환자번호 virus_route\n",
       "0       종로구 2020-01-30  이동경로 공개기간 경과   퇴원      6           3\n",
       "1       종로구 2020-01-31  이동경로 공개기간 경과   퇴원     11           6\n",
       "2       성북구 2020-01-31  이동경로 공개기간 경과   퇴원      9           5\n",
       "3       종로구 2020-01-31  이동경로 공개기간 경과   퇴원     10           6\n",
       "4       성북구 2020-02-05  이동경로 공개기간 경과   퇴원     21           6\n",
       "...     ...        ...           ...  ...    ...         ...\n",
       "16931   도봉구 2020-12-31     기타 확진자 접촉   입원  61339       기타확진자\n",
       "16932   중랑구 2020-12-31     기타 확진자 접촉   입원  60792       기타확진자\n",
       "16933   광진구 2020-12-31     기타 확진자 접촉   입원  61634       기타확진자\n",
       "16934   강북구 2020-12-31      감염경로 조사중   입원  61043     감염경로조사중\n",
       "16935  영등포구 2020-12-31      감염경로 조사중   입원  61358     감염경로조사중\n",
       "\n",
       "[16936 rows x 6 columns]"
      ]
     },
     "execution_count": 5,
     "metadata": {},
     "output_type": "execute_result"
    }
   ],
   "source": [
    "large = ['동부구치소','성북구사랑제일교회','해외']\n",
    "data = data[~data['virus_route'].isin(large)].reset_index(drop=True)\n",
    "data"
   ]
  },
  {
   "cell_type": "markdown",
   "metadata": {},
   "source": [
    "### Make Complexity Metrics"
   ]
  },
  {
   "cell_type": "code",
   "execution_count": 6,
   "metadata": {},
   "outputs": [],
   "source": [
    "def Measure(data, start_month, start_day , time_delta,rep):  \n",
    "   \n",
    "    day = pd.to_datetime(\"2020-\"+str(start_month).zfill(2)+\"-\"+str(start_day))  # 시작날짜 초기화\n",
    "    start = day - timedelta(days=3)\n",
    "    end = day + timedelta(days=3)\n",
    "    output = pd.DataFrame() # 시기별 중심성지표 빈 데이터프레임 만들기\n",
    "    \n",
    "    def density(graph):\n",
    "        if len(graph.edges()) <2:\n",
    "            return 0\n",
    "        else:\n",
    "            return len(graph.edges()) / (len(graph.nodes()) * (len(graph.nodes()) - 1))\n",
    "    \n",
    "    def AVG_COEF(graph):\n",
    "        nodes = list(graph.nodes())\n",
    "        edges = list(graph.edges())\n",
    "        \n",
    "        if len(nodes) < 2:\n",
    "            return 0 \n",
    "        else:\n",
    "            deg = []  # deg()\n",
    "            for n in nodes:\n",
    "                a = []\n",
    "                for i in edges:\n",
    "                    if i[0] == n:\n",
    "                        a.append(i[1])   # 각 노드에 대한 degree 구하기\n",
    "                    elif i[1] == n:\n",
    "                        a.append(i[0])\n",
    "                    else:\n",
    "                        continue\n",
    "\n",
    "                if len(a) < 2 :\n",
    "                    deg.append(0)\n",
    "                else:\n",
    "                    deg.append(len(edges) / (len(a)*(len(a)-1)))\n",
    "                \n",
    "            return sum(deg) / len(nodes)\n",
    "\n",
    "    def modularity(graph):\n",
    "        nodes = list(graph.nodes())\n",
    "        edges = list(graph.edges())\n",
    "        deg = []\n",
    "        modular = []\n",
    "        if len(nodes) < 2 :\n",
    "            return 0\n",
    "        else:\n",
    "            for n in nodes:\n",
    "                a = []\n",
    "                for i in edges:\n",
    "                    if i[0] == n :\n",
    "                        a.append(i[1])   # 각 노드에 대한 degree 구하기\n",
    "                    elif i[1] == n:\n",
    "                        a.append(i[0])\n",
    "                    else:\n",
    "                        continue\n",
    "\n",
    "                deg.append(len(a))\n",
    "\n",
    "            for i in range(len(deg)):\n",
    "                for j in range(i+1,len(deg)):\n",
    "                    modular.append(deg[i]*deg[j] / (2*len(edges)))\n",
    "                \n",
    "        return sum(modular) / len(modular)    \n",
    "    \n",
    "    ## 그래프 형태에 따른 ADIndex\n",
    "    def ADIndex_pv(graph):\n",
    "        nodes = list(graph.nodes())\n",
    "        edges = list(graph.edges())\n",
    "        \n",
    "        if len(nodes) < 2 :\n",
    "            return 0\n",
    "        else:\n",
    "            return 6 / (len(nodes)*(len(nodes)+1))\n",
    "        \n",
    "    def ADIndex_sv(graph):\n",
    "        nodes = list(graph.nodes())\n",
    "        edges = list(graph.nodes())\n",
    "        \n",
    "        if len(nodes) < 2 :\n",
    "            return 0\n",
    "        else:\n",
    "            return 1/(len(nodes)-1)\n",
    "        \n",
    "    def ADIndex_cv(graph):\n",
    "        nodes = list(graph.nodes())\n",
    "        edges = list(graph.edges())\n",
    "        \n",
    "        if len(nodes) < 2 :\n",
    "            return 0\n",
    "        elif len(nodes) % 2 == 1:\n",
    "            return 8/(len(nodes)**2 -1)\n",
    "        else:\n",
    "            return 8/(len(nodes)**2)\n",
    "        \n",
    "    def B_sv(graph):\n",
    "        nodes = list(graph.nodes())\n",
    "        edges = list(graph.nodes())\n",
    "\n",
    "        if len(nodes) < 2 :\n",
    "            return 0\n",
    "        else:\n",
    "            return (3*len(nodes)-4)/(2*len(nodes)-3)\n",
    "\n",
    "    def B_cv(graph):\n",
    "        nodes = list(graph.nodes())\n",
    "        edges = list(graph.nodes())\n",
    "\n",
    "        if len(nodes) < 2 :\n",
    "            return 0\n",
    "        elif len(nodes) % 2 == 1:\n",
    "            return 8*len(nodes)/(len(nodes)**2 -1)\n",
    "        else:\n",
    "            return 8/(len(nodes))\n",
    "############################################################################################################\n",
    "\n",
    "    date = []   \n",
    "    dense = []\n",
    "    avg_coef =[]\n",
    "    modul = []\n",
    "    ad_pv = []\n",
    "    ad_sv = []\n",
    "    ad_cv = []\n",
    "    b_sv = []\n",
    "    b_cv = []\n",
    "    \n",
    "    for i in range(rep):\n",
    "        \n",
    "        df = data[ data['날짜'] >= start][data['날짜'] <=end].reset_index(drop=True) # 시작날짜 ~ 종료날짜 해당하는 DF 추출\n",
    "        edges = []   # Empty Edge list\n",
    "        for j in range(len(df)):\n",
    "            edges.append((str(df['virus_route'][j]),str(df['환자번호'][j]),1)) # Edge 만들기\n",
    "            \n",
    "        G = nx.Graph() # 그래프 생성\n",
    "        G.add_weighted_edges_from(edges) # 그래프 안에서 Edge 연결\n",
    "        \n",
    "        date.append(day)\n",
    "        dense.append(density(G))\n",
    "        avg_coef.append(AVG_COEF(G))\n",
    "        modul.append(modularity(G))\n",
    "        ad_pv.append(ADIndex_pv(G))\n",
    "        ad_sv.append(ADIndex_sv(G))\n",
    "        ad_cv.append(ADIndex_cv(G))\n",
    "        b_sv.append(B_sv(G))\n",
    "        b_cv.append(B_cv(G))\n",
    "        day = day + timedelta(days=time_delta)  # 종료날짜다음날부터를 시작날짜로 재설정\n",
    "        start = day - timedelta(days=3)\n",
    "        end = day + timedelta(days=3)        \n",
    "        \n",
    "    output = pd.DataFrame({'Date' : date , 'Density' : dense, 'AVG_COEF' : avg_coef , 'Modularity' : modul,\n",
    "                           'AD_Pv' : ad_pv, 'AD_Sv': ad_sv, 'AD_Cv': ad_cv, 'B_Sv':b_sv, 'B_Cv':b_cv})\n",
    "    \n",
    "\n",
    "    return output"
   ]
  },
  {
   "cell_type": "code",
   "execution_count": 7,
   "metadata": {},
   "outputs": [
    {
     "ename": "KeyboardInterrupt",
     "evalue": "",
     "output_type": "error",
     "traceback": [
      "\u001b[1;31m---------------------------------------------------------------------------\u001b[0m",
      "\u001b[1;31mKeyboardInterrupt\u001b[0m                         Traceback (most recent call last)",
      "\u001b[1;32m<ipython-input-7-5cef8a66b155>\u001b[0m in \u001b[0;36m<module>\u001b[1;34m\u001b[0m\n\u001b[1;32m----> 1\u001b[1;33m \u001b[0ma\u001b[0m \u001b[1;33m=\u001b[0m \u001b[0mMeasure\u001b[0m\u001b[1;33m(\u001b[0m\u001b[0mdata\u001b[0m\u001b[1;33m,\u001b[0m \u001b[0mstart_month\u001b[0m\u001b[1;33m=\u001b[0m\u001b[1;36m1\u001b[0m\u001b[1;33m,\u001b[0m \u001b[0mstart_day\u001b[0m\u001b[1;33m=\u001b[0m\u001b[1;36m30\u001b[0m \u001b[1;33m,\u001b[0m \u001b[0mtime_delta\u001b[0m\u001b[1;33m=\u001b[0m\u001b[1;36m1\u001b[0m\u001b[1;33m,\u001b[0m\u001b[0mrep\u001b[0m\u001b[1;33m=\u001b[0m\u001b[1;36m337\u001b[0m\u001b[1;33m)\u001b[0m \u001b[1;31m# 276\u001b[0m\u001b[1;33m\u001b[0m\u001b[1;33m\u001b[0m\u001b[0m\n\u001b[0m\u001b[0;32m      2\u001b[0m \u001b[0ma\u001b[0m\u001b[1;33m.\u001b[0m\u001b[0mhead\u001b[0m\u001b[1;33m(\u001b[0m\u001b[1;33m)\u001b[0m\u001b[1;33m\u001b[0m\u001b[1;33m\u001b[0m\u001b[0m\n",
      "\u001b[1;32m<ipython-input-6-51de6dbe0252>\u001b[0m in \u001b[0;36mMeasure\u001b[1;34m(data, start_month, start_day, time_delta, rep)\u001b[0m\n\u001b[0;32m    136\u001b[0m         \u001b[0mdate\u001b[0m\u001b[1;33m.\u001b[0m\u001b[0mappend\u001b[0m\u001b[1;33m(\u001b[0m\u001b[0mday\u001b[0m\u001b[1;33m)\u001b[0m\u001b[1;33m\u001b[0m\u001b[1;33m\u001b[0m\u001b[0m\n\u001b[0;32m    137\u001b[0m         \u001b[0mdense\u001b[0m\u001b[1;33m.\u001b[0m\u001b[0mappend\u001b[0m\u001b[1;33m(\u001b[0m\u001b[0mdensity\u001b[0m\u001b[1;33m(\u001b[0m\u001b[0mG\u001b[0m\u001b[1;33m)\u001b[0m\u001b[1;33m)\u001b[0m\u001b[1;33m\u001b[0m\u001b[1;33m\u001b[0m\u001b[0m\n\u001b[1;32m--> 138\u001b[1;33m         \u001b[0mavg_coef\u001b[0m\u001b[1;33m.\u001b[0m\u001b[0mappend\u001b[0m\u001b[1;33m(\u001b[0m\u001b[0mAVG_COEF\u001b[0m\u001b[1;33m(\u001b[0m\u001b[0mG\u001b[0m\u001b[1;33m)\u001b[0m\u001b[1;33m)\u001b[0m\u001b[1;33m\u001b[0m\u001b[1;33m\u001b[0m\u001b[0m\n\u001b[0m\u001b[0;32m    139\u001b[0m         \u001b[0mmodul\u001b[0m\u001b[1;33m.\u001b[0m\u001b[0mappend\u001b[0m\u001b[1;33m(\u001b[0m\u001b[0mmodularity\u001b[0m\u001b[1;33m(\u001b[0m\u001b[0mG\u001b[0m\u001b[1;33m)\u001b[0m\u001b[1;33m)\u001b[0m\u001b[1;33m\u001b[0m\u001b[1;33m\u001b[0m\u001b[0m\n\u001b[0;32m    140\u001b[0m         \u001b[0mad_pv\u001b[0m\u001b[1;33m.\u001b[0m\u001b[0mappend\u001b[0m\u001b[1;33m(\u001b[0m\u001b[0mADIndex_pv\u001b[0m\u001b[1;33m(\u001b[0m\u001b[0mG\u001b[0m\u001b[1;33m)\u001b[0m\u001b[1;33m)\u001b[0m\u001b[1;33m\u001b[0m\u001b[1;33m\u001b[0m\u001b[0m\n",
      "\u001b[1;32m<ipython-input-6-51de6dbe0252>\u001b[0m in \u001b[0;36mAVG_COEF\u001b[1;34m(graph)\u001b[0m\n\u001b[0;32m     25\u001b[0m                     \u001b[1;32mif\u001b[0m \u001b[0mi\u001b[0m\u001b[1;33m[\u001b[0m\u001b[1;36m0\u001b[0m\u001b[1;33m]\u001b[0m \u001b[1;33m==\u001b[0m \u001b[0mn\u001b[0m\u001b[1;33m:\u001b[0m\u001b[1;33m\u001b[0m\u001b[1;33m\u001b[0m\u001b[0m\n\u001b[0;32m     26\u001b[0m                         \u001b[0ma\u001b[0m\u001b[1;33m.\u001b[0m\u001b[0mappend\u001b[0m\u001b[1;33m(\u001b[0m\u001b[0mi\u001b[0m\u001b[1;33m[\u001b[0m\u001b[1;36m1\u001b[0m\u001b[1;33m]\u001b[0m\u001b[1;33m)\u001b[0m   \u001b[1;31m# 각 노드에 대한 degree 구하기\u001b[0m\u001b[1;33m\u001b[0m\u001b[1;33m\u001b[0m\u001b[0m\n\u001b[1;32m---> 27\u001b[1;33m                     \u001b[1;32melif\u001b[0m \u001b[0mi\u001b[0m\u001b[1;33m[\u001b[0m\u001b[1;36m1\u001b[0m\u001b[1;33m]\u001b[0m \u001b[1;33m==\u001b[0m \u001b[0mn\u001b[0m\u001b[1;33m:\u001b[0m\u001b[1;33m\u001b[0m\u001b[1;33m\u001b[0m\u001b[0m\n\u001b[0m\u001b[0;32m     28\u001b[0m                         \u001b[0ma\u001b[0m\u001b[1;33m.\u001b[0m\u001b[0mappend\u001b[0m\u001b[1;33m(\u001b[0m\u001b[0mi\u001b[0m\u001b[1;33m[\u001b[0m\u001b[1;36m0\u001b[0m\u001b[1;33m]\u001b[0m\u001b[1;33m)\u001b[0m\u001b[1;33m\u001b[0m\u001b[1;33m\u001b[0m\u001b[0m\n\u001b[0;32m     29\u001b[0m                     \u001b[1;32melse\u001b[0m\u001b[1;33m:\u001b[0m\u001b[1;33m\u001b[0m\u001b[1;33m\u001b[0m\u001b[0m\n",
      "\u001b[1;31mKeyboardInterrupt\u001b[0m: "
     ]
    }
   ],
   "source": [
    "a = Measure(data, start_month=1, start_day=30 , time_delta=1,rep=337) # 276\n",
    "a.head()"
   ]
  },
  {
   "cell_type": "markdown",
   "metadata": {},
   "source": [
    "### Smoothing"
   ]
  },
  {
   "cell_type": "markdown",
   "metadata": {},
   "source": [
    "- data shape before processing smoothing"
   ]
  },
  {
   "cell_type": "code",
   "execution_count": 7,
   "metadata": {},
   "outputs": [
    {
     "data": {
      "text/html": [
       "<div>\n",
       "<style scoped>\n",
       "    .dataframe tbody tr th:only-of-type {\n",
       "        vertical-align: middle;\n",
       "    }\n",
       "\n",
       "    .dataframe tbody tr th {\n",
       "        vertical-align: top;\n",
       "    }\n",
       "\n",
       "    .dataframe thead th {\n",
       "        text-align: right;\n",
       "    }\n",
       "</style>\n",
       "<table border=\"1\" class=\"dataframe\">\n",
       "  <thead>\n",
       "    <tr style=\"text-align: right;\">\n",
       "      <th></th>\n",
       "      <th>Date</th>\n",
       "      <th>확진자수</th>\n",
       "      <th>Density</th>\n",
       "      <th>AVG_COEF</th>\n",
       "      <th>Modularity</th>\n",
       "      <th>AD_Pv</th>\n",
       "      <th>AD_Sv</th>\n",
       "      <th>AD_Cv</th>\n",
       "      <th>B_Sv</th>\n",
       "      <th>B_Cv</th>\n",
       "    </tr>\n",
       "  </thead>\n",
       "  <tbody>\n",
       "    <tr>\n",
       "      <td>0</td>\n",
       "      <td>2020-01-30</td>\n",
       "      <td>1.0</td>\n",
       "      <td>0.133333</td>\n",
       "      <td>0.111111</td>\n",
       "      <td>0.208333</td>\n",
       "      <td>0.142857</td>\n",
       "      <td>0.200000</td>\n",
       "      <td>0.222222</td>\n",
       "      <td>1.555556</td>\n",
       "      <td>1.333333</td>\n",
       "    </tr>\n",
       "    <tr>\n",
       "      <td>1</td>\n",
       "      <td>2020-01-31</td>\n",
       "      <td>3.0</td>\n",
       "      <td>0.133333</td>\n",
       "      <td>0.111111</td>\n",
       "      <td>0.208333</td>\n",
       "      <td>0.142857</td>\n",
       "      <td>0.200000</td>\n",
       "      <td>0.222222</td>\n",
       "      <td>1.555556</td>\n",
       "      <td>1.333333</td>\n",
       "    </tr>\n",
       "    <tr>\n",
       "      <td>2</td>\n",
       "      <td>2020-02-01</td>\n",
       "      <td>0.0</td>\n",
       "      <td>0.133333</td>\n",
       "      <td>0.111111</td>\n",
       "      <td>0.208333</td>\n",
       "      <td>0.142857</td>\n",
       "      <td>0.200000</td>\n",
       "      <td>0.222222</td>\n",
       "      <td>1.555556</td>\n",
       "      <td>1.333333</td>\n",
       "    </tr>\n",
       "    <tr>\n",
       "      <td>3</td>\n",
       "      <td>2020-02-02</td>\n",
       "      <td>0.0</td>\n",
       "      <td>0.119048</td>\n",
       "      <td>0.059524</td>\n",
       "      <td>0.185714</td>\n",
       "      <td>0.107143</td>\n",
       "      <td>0.166667</td>\n",
       "      <td>0.166667</td>\n",
       "      <td>1.545455</td>\n",
       "      <td>1.166667</td>\n",
       "    </tr>\n",
       "    <tr>\n",
       "      <td>4</td>\n",
       "      <td>2020-02-03</td>\n",
       "      <td>0.0</td>\n",
       "      <td>0.133333</td>\n",
       "      <td>0.111111</td>\n",
       "      <td>0.208333</td>\n",
       "      <td>0.142857</td>\n",
       "      <td>0.200000</td>\n",
       "      <td>0.222222</td>\n",
       "      <td>1.555556</td>\n",
       "      <td>1.333333</td>\n",
       "    </tr>\n",
       "  </tbody>\n",
       "</table>\n",
       "</div>"
      ],
      "text/plain": [
       "        Date  확진자수   Density  AVG_COEF  Modularity     AD_Pv     AD_Sv  \\\n",
       "0 2020-01-30   1.0  0.133333  0.111111    0.208333  0.142857  0.200000   \n",
       "1 2020-01-31   3.0  0.133333  0.111111    0.208333  0.142857  0.200000   \n",
       "2 2020-02-01   0.0  0.133333  0.111111    0.208333  0.142857  0.200000   \n",
       "3 2020-02-02   0.0  0.119048  0.059524    0.185714  0.107143  0.166667   \n",
       "4 2020-02-03   0.0  0.133333  0.111111    0.208333  0.142857  0.200000   \n",
       "\n",
       "      AD_Cv      B_Sv      B_Cv  \n",
       "0  0.222222  1.555556  1.333333  \n",
       "1  0.222222  1.555556  1.333333  \n",
       "2  0.222222  1.555556  1.333333  \n",
       "3  0.166667  1.545455  1.166667  \n",
       "4  0.222222  1.555556  1.333333  "
      ]
     },
     "execution_count": 7,
     "metadata": {},
     "output_type": "execute_result"
    }
   ],
   "source": [
    "cum = pd.pivot_table(data,index='날짜',aggfunc='count').reset_index().iloc[:,0:2]\n",
    "cum.rename(columns={'virus_route':'확진자수'},inplace=True)\n",
    "cum2 = pd.DataFrame({'날짜':pd.date_range(start='1/30/2020', end='12/31/2020')})\n",
    "cum2 = pd.merge(cum2,cum,how='left').fillna(0)\n",
    "cum2.rename(columns={'날짜':'Date'},inplace=True)\n",
    "cum3 = pd.merge(cum2,a,how='left')\n",
    "cum3.head()"
   ]
  },
  {
   "cell_type": "markdown",
   "metadata": {},
   "source": [
    "- start smoothing"
   ]
  },
  {
   "cell_type": "code",
   "execution_count": 8,
   "metadata": {},
   "outputs": [
    {
     "ename": "NameError",
     "evalue": "name 'df' is not defined",
     "output_type": "error",
     "traceback": [
      "\u001b[1;31m---------------------------------------------------------------------------\u001b[0m",
      "\u001b[1;31mNameError\u001b[0m                                 Traceback (most recent call last)",
      "\u001b[1;32m<ipython-input-8-00cf07b74dcd>\u001b[0m in \u001b[0;36m<module>\u001b[1;34m\u001b[0m\n\u001b[1;32m----> 1\u001b[1;33m \u001b[0mdf\u001b[0m\u001b[1;33m\u001b[0m\u001b[1;33m\u001b[0m\u001b[0m\n\u001b[0m",
      "\u001b[1;31mNameError\u001b[0m: name 'df' is not defined"
     ]
    }
   ],
   "source": [
    "df"
   ]
  },
  {
   "cell_type": "code",
   "execution_count": 9,
   "metadata": {},
   "outputs": [],
   "source": [
    "current_day= []\n",
    "num = []\n",
    "density = []\n",
    "avg_coef = []\n",
    "modul = []\n",
    "adpv = []\n",
    "adsv = []\n",
    "adcv = []\n",
    "bsv = []\n",
    "bcv = []\n",
    "\n",
    "for i in pd.date_range(start='1/30/2020',end='12/31/2020'):\n",
    "    day = i\n",
    "    start = day - timedelta(days=3)\n",
    "    end = day + timedelta(days=3)\n",
    "    df = cum3[ cum3['Date'] >= start][cum3['Date'] <=end].reset_index(drop=True)\n",
    "\n",
    "    current_day.append(day)\n",
    "    num.append(df['확진자수'].sum()/7)\n",
    "    density.append(df['Density'].sum()/7)\n",
    "    avg_coef.append(df['AVG_COEF'].sum()/7)\n",
    "    modul.append(df['Modularity'].sum()/7)\n",
    "    adpv.append(df['AD_Pv'].sum()/7)\n",
    "    adsv.append(df['AD_Sv'].sum()/7)\n",
    "    adcv.append(df['AD_Cv'].sum()/7)\n",
    "    bsv.append(df['B_Sv'].sum()/7)\n",
    "    bcv.append(df['B_Cv'].sum()/7)"
   ]
  },
  {
   "cell_type": "code",
   "execution_count": 10,
   "metadata": {},
   "outputs": [
    {
     "data": {
      "text/plain": [
       "(337, 337, 337, 337, 337, 337, 337, 337, 337, 337)"
      ]
     },
     "execution_count": 10,
     "metadata": {},
     "output_type": "execute_result"
    }
   ],
   "source": [
    "len(current_day) , len(num), len(density), len(avg_coef) , len(modul) , len(adpv) , len(adsv), len(adcv) , len(bsv), len(bcv)"
   ]
  },
  {
   "cell_type": "markdown",
   "metadata": {},
   "source": [
    "- Final Data"
   ]
  },
  {
   "cell_type": "code",
   "execution_count": 140,
   "metadata": {},
   "outputs": [],
   "source": [
    "total = pd.DataFrame({'Date' : current_day , 'infected' : num , 'Density' : density , 'AVG_COEF' : avg_coef,\n",
    "                      'Modularity' : modul , 'AD_Pv' : adpv , 'AD_Sv' : adsv, 'AD_Cv' : adcv , 'B_Sv' : bsv , 'B_Cv' : bcv})"
   ]
  },
  {
   "cell_type": "code",
   "execution_count": 141,
   "metadata": {},
   "outputs": [
    {
     "data": {
      "text/html": [
       "<div>\n",
       "<style scoped>\n",
       "    .dataframe tbody tr th:only-of-type {\n",
       "        vertical-align: middle;\n",
       "    }\n",
       "\n",
       "    .dataframe tbody tr th {\n",
       "        vertical-align: top;\n",
       "    }\n",
       "\n",
       "    .dataframe thead th {\n",
       "        text-align: right;\n",
       "    }\n",
       "</style>\n",
       "<table border=\"1\" class=\"dataframe\">\n",
       "  <thead>\n",
       "    <tr style=\"text-align: right;\">\n",
       "      <th></th>\n",
       "      <th>Date</th>\n",
       "      <th>infected</th>\n",
       "      <th>Density</th>\n",
       "      <th>AVG_COEF</th>\n",
       "      <th>Modularity</th>\n",
       "      <th>AD_Pv</th>\n",
       "      <th>AD_Sv</th>\n",
       "      <th>AD_Cv</th>\n",
       "      <th>B_Sv</th>\n",
       "      <th>B_Cv</th>\n",
       "    </tr>\n",
       "  </thead>\n",
       "  <tbody>\n",
       "    <tr>\n",
       "      <td>0</td>\n",
       "      <td>2020-01-30</td>\n",
       "      <td>0.571429</td>\n",
       "      <td>0.074150</td>\n",
       "      <td>0.056122</td>\n",
       "      <td>0.115816</td>\n",
       "      <td>0.076531</td>\n",
       "      <td>0.109524</td>\n",
       "      <td>0.119048</td>\n",
       "      <td>0.887446</td>\n",
       "      <td>0.738095</td>\n",
       "    </tr>\n",
       "    <tr>\n",
       "      <td>1</td>\n",
       "      <td>2020-01-31</td>\n",
       "      <td>0.571429</td>\n",
       "      <td>0.093197</td>\n",
       "      <td>0.071995</td>\n",
       "      <td>0.145578</td>\n",
       "      <td>0.096939</td>\n",
       "      <td>0.138095</td>\n",
       "      <td>0.150794</td>\n",
       "      <td>1.109668</td>\n",
       "      <td>0.928571</td>\n",
       "    </tr>\n",
       "    <tr>\n",
       "      <td>2</td>\n",
       "      <td>2020-02-01</td>\n",
       "      <td>0.571429</td>\n",
       "      <td>0.093197</td>\n",
       "      <td>0.071995</td>\n",
       "      <td>0.217007</td>\n",
       "      <td>0.239796</td>\n",
       "      <td>0.280952</td>\n",
       "      <td>0.436508</td>\n",
       "      <td>1.395382</td>\n",
       "      <td>1.500000</td>\n",
       "    </tr>\n",
       "  </tbody>\n",
       "</table>\n",
       "</div>"
      ],
      "text/plain": [
       "        Date  infected   Density  AVG_COEF  Modularity     AD_Pv     AD_Sv  \\\n",
       "0 2020-01-30  0.571429  0.074150  0.056122    0.115816  0.076531  0.109524   \n",
       "1 2020-01-31  0.571429  0.093197  0.071995    0.145578  0.096939  0.138095   \n",
       "2 2020-02-01  0.571429  0.093197  0.071995    0.217007  0.239796  0.280952   \n",
       "\n",
       "      AD_Cv      B_Sv      B_Cv  \n",
       "0  0.119048  0.887446  0.738095  \n",
       "1  0.150794  1.109668  0.928571  \n",
       "2  0.436508  1.395382  1.500000  "
      ]
     },
     "execution_count": 141,
     "metadata": {},
     "output_type": "execute_result"
    }
   ],
   "source": [
    "total.head(3)"
   ]
  },
  {
   "cell_type": "markdown",
   "metadata": {},
   "source": [
    "### N주전까지의 확진자 평균 수와 당일 확진자수의 연관성"
   ]
  },
  {
   "cell_type": "code",
   "execution_count": 142,
   "metadata": {},
   "outputs": [],
   "source": [
    "# N주전 변수 추가 함수 \n",
    "def add_nweeks_before(data,column,week):\n",
    "    avg_infected = [] \n",
    "    for k in pd.date_range(start='01/30/2020',end='12/31/2020'):\n",
    "        day = k\n",
    "        start = day - timedelta(days= week * 7)\n",
    "        end = day - timedelta(days=1)\n",
    "        df = data[ data['Date'] >= start][data['Date'] <=end].reset_index(drop=True)\n",
    "        avg_infected.append(sum(df[column]/(week*7)))\n",
    "    col_name = str(week)+'week_before_' + column\n",
    "    data[col_name] = avg_infected\n",
    "    return data"
   ]
  },
  {
   "cell_type": "code",
   "execution_count": 143,
   "metadata": {},
   "outputs": [
    {
     "data": {
      "text/html": [
       "<div>\n",
       "<style scoped>\n",
       "    .dataframe tbody tr th:only-of-type {\n",
       "        vertical-align: middle;\n",
       "    }\n",
       "\n",
       "    .dataframe tbody tr th {\n",
       "        vertical-align: top;\n",
       "    }\n",
       "\n",
       "    .dataframe thead th {\n",
       "        text-align: right;\n",
       "    }\n",
       "</style>\n",
       "<table border=\"1\" class=\"dataframe\">\n",
       "  <thead>\n",
       "    <tr style=\"text-align: right;\">\n",
       "      <th></th>\n",
       "      <th>Date</th>\n",
       "      <th>infected</th>\n",
       "      <th>Density</th>\n",
       "      <th>AVG_COEF</th>\n",
       "      <th>Modularity</th>\n",
       "      <th>AD_Pv</th>\n",
       "      <th>AD_Sv</th>\n",
       "      <th>AD_Cv</th>\n",
       "      <th>B_Sv</th>\n",
       "      <th>B_Cv</th>\n",
       "    </tr>\n",
       "  </thead>\n",
       "  <tbody>\n",
       "    <tr>\n",
       "      <td>0</td>\n",
       "      <td>2020-01-30</td>\n",
       "      <td>0.571429</td>\n",
       "      <td>0.074150</td>\n",
       "      <td>0.056122</td>\n",
       "      <td>0.115816</td>\n",
       "      <td>0.076531</td>\n",
       "      <td>0.109524</td>\n",
       "      <td>0.119048</td>\n",
       "      <td>0.887446</td>\n",
       "      <td>0.738095</td>\n",
       "    </tr>\n",
       "    <tr>\n",
       "      <td>1</td>\n",
       "      <td>2020-01-31</td>\n",
       "      <td>0.571429</td>\n",
       "      <td>0.093197</td>\n",
       "      <td>0.071995</td>\n",
       "      <td>0.145578</td>\n",
       "      <td>0.096939</td>\n",
       "      <td>0.138095</td>\n",
       "      <td>0.150794</td>\n",
       "      <td>1.109668</td>\n",
       "      <td>0.928571</td>\n",
       "    </tr>\n",
       "    <tr>\n",
       "      <td>2</td>\n",
       "      <td>2020-02-01</td>\n",
       "      <td>0.571429</td>\n",
       "      <td>0.093197</td>\n",
       "      <td>0.071995</td>\n",
       "      <td>0.217007</td>\n",
       "      <td>0.239796</td>\n",
       "      <td>0.280952</td>\n",
       "      <td>0.436508</td>\n",
       "      <td>1.395382</td>\n",
       "      <td>1.500000</td>\n",
       "    </tr>\n",
       "  </tbody>\n",
       "</table>\n",
       "</div>"
      ],
      "text/plain": [
       "        Date  infected   Density  AVG_COEF  Modularity     AD_Pv     AD_Sv  \\\n",
       "0 2020-01-30  0.571429  0.074150  0.056122    0.115816  0.076531  0.109524   \n",
       "1 2020-01-31  0.571429  0.093197  0.071995    0.145578  0.096939  0.138095   \n",
       "2 2020-02-01  0.571429  0.093197  0.071995    0.217007  0.239796  0.280952   \n",
       "\n",
       "      AD_Cv      B_Sv      B_Cv  \n",
       "0  0.119048  0.887446  0.738095  \n",
       "1  0.150794  1.109668  0.928571  \n",
       "2  0.436508  1.395382  1.500000  "
      ]
     },
     "execution_count": 143,
     "metadata": {},
     "output_type": "execute_result"
    }
   ],
   "source": [
    "total.head(3)"
   ]
  },
  {
   "cell_type": "code",
   "execution_count": 144,
   "metadata": {},
   "outputs": [],
   "source": [
    "# 모든 컬럼에 대해 2주전까지의 지표와 상관성을 보기위해서 기존 컬럼들과 n주차 조합을 통해 새로운 데이터 생성하기\n",
    "colnames = total.columns.tolist()[1:]\n",
    "nweek = [1,2]"
   ]
  },
  {
   "cell_type": "code",
   "execution_count": 145,
   "metadata": {},
   "outputs": [],
   "source": [
    "for col in colnames:\n",
    "    for weeks in nweek:\n",
    "        total = add_nweeks_before(total , col , weeks)\n",
    "\n",
    "# 기존 컬럼들 지우기\n",
    "total = total[total.columns.difference(colnames[1:])] # infected는 남겨"
   ]
  },
  {
   "cell_type": "code",
   "execution_count": 146,
   "metadata": {},
   "outputs": [
    {
     "data": {
      "text/html": [
       "<div>\n",
       "<style scoped>\n",
       "    .dataframe tbody tr th:only-of-type {\n",
       "        vertical-align: middle;\n",
       "    }\n",
       "\n",
       "    .dataframe tbody tr th {\n",
       "        vertical-align: top;\n",
       "    }\n",
       "\n",
       "    .dataframe thead th {\n",
       "        text-align: right;\n",
       "    }\n",
       "</style>\n",
       "<table border=\"1\" class=\"dataframe\">\n",
       "  <thead>\n",
       "    <tr style=\"text-align: right;\">\n",
       "      <th></th>\n",
       "      <th>1week_before_AD_Cv</th>\n",
       "      <th>1week_before_AD_Pv</th>\n",
       "      <th>1week_before_AD_Sv</th>\n",
       "      <th>1week_before_AVG_COEF</th>\n",
       "      <th>1week_before_B_Cv</th>\n",
       "      <th>1week_before_B_Sv</th>\n",
       "      <th>1week_before_Density</th>\n",
       "      <th>1week_before_Modularity</th>\n",
       "      <th>1week_before_infected</th>\n",
       "      <th>2week_before_AD_Cv</th>\n",
       "      <th>2week_before_AD_Pv</th>\n",
       "      <th>2week_before_AD_Sv</th>\n",
       "      <th>2week_before_AVG_COEF</th>\n",
       "      <th>2week_before_B_Cv</th>\n",
       "      <th>2week_before_B_Sv</th>\n",
       "      <th>2week_before_Density</th>\n",
       "      <th>2week_before_Modularity</th>\n",
       "      <th>2week_before_infected</th>\n",
       "      <th>Date</th>\n",
       "      <th>infected</th>\n",
       "    </tr>\n",
       "  </thead>\n",
       "  <tbody>\n",
       "    <tr>\n",
       "      <td>0</td>\n",
       "      <td>0.000000</td>\n",
       "      <td>0.000000</td>\n",
       "      <td>0.000000</td>\n",
       "      <td>0.000000</td>\n",
       "      <td>0.000000</td>\n",
       "      <td>0.000000</td>\n",
       "      <td>0.000000</td>\n",
       "      <td>0.000000</td>\n",
       "      <td>0.000000</td>\n",
       "      <td>0.000000</td>\n",
       "      <td>0.000000</td>\n",
       "      <td>0.000000</td>\n",
       "      <td>0.000000</td>\n",
       "      <td>0.000000</td>\n",
       "      <td>0.000000</td>\n",
       "      <td>0.000000</td>\n",
       "      <td>0.000000</td>\n",
       "      <td>0.000000</td>\n",
       "      <td>2020-01-30</td>\n",
       "      <td>0.571429</td>\n",
       "    </tr>\n",
       "    <tr>\n",
       "      <td>1</td>\n",
       "      <td>0.017007</td>\n",
       "      <td>0.010933</td>\n",
       "      <td>0.015646</td>\n",
       "      <td>0.008017</td>\n",
       "      <td>0.105442</td>\n",
       "      <td>0.126778</td>\n",
       "      <td>0.010593</td>\n",
       "      <td>0.016545</td>\n",
       "      <td>0.081633</td>\n",
       "      <td>0.008503</td>\n",
       "      <td>0.005466</td>\n",
       "      <td>0.007823</td>\n",
       "      <td>0.004009</td>\n",
       "      <td>0.052721</td>\n",
       "      <td>0.063389</td>\n",
       "      <td>0.005296</td>\n",
       "      <td>0.008273</td>\n",
       "      <td>0.040816</td>\n",
       "      <td>2020-01-31</td>\n",
       "      <td>0.571429</td>\n",
       "    </tr>\n",
       "    <tr>\n",
       "      <td>2</td>\n",
       "      <td>0.038549</td>\n",
       "      <td>0.024781</td>\n",
       "      <td>0.035374</td>\n",
       "      <td>0.018303</td>\n",
       "      <td>0.238095</td>\n",
       "      <td>0.285302</td>\n",
       "      <td>0.023907</td>\n",
       "      <td>0.037342</td>\n",
       "      <td>0.163265</td>\n",
       "      <td>0.019274</td>\n",
       "      <td>0.012391</td>\n",
       "      <td>0.017687</td>\n",
       "      <td>0.009151</td>\n",
       "      <td>0.119048</td>\n",
       "      <td>0.142651</td>\n",
       "      <td>0.011953</td>\n",
       "      <td>0.018671</td>\n",
       "      <td>0.081633</td>\n",
       "      <td>2020-02-01</td>\n",
       "      <td>0.571429</td>\n",
       "    </tr>\n",
       "    <tr>\n",
       "      <td>3</td>\n",
       "      <td>0.100907</td>\n",
       "      <td>0.059038</td>\n",
       "      <td>0.075510</td>\n",
       "      <td>0.028588</td>\n",
       "      <td>0.452381</td>\n",
       "      <td>0.484642</td>\n",
       "      <td>0.037221</td>\n",
       "      <td>0.068343</td>\n",
       "      <td>0.244898</td>\n",
       "      <td>0.050454</td>\n",
       "      <td>0.029519</td>\n",
       "      <td>0.037755</td>\n",
       "      <td>0.014294</td>\n",
       "      <td>0.226190</td>\n",
       "      <td>0.242321</td>\n",
       "      <td>0.018610</td>\n",
       "      <td>0.034172</td>\n",
       "      <td>0.122449</td>\n",
       "      <td>2020-02-02</td>\n",
       "      <td>0.714286</td>\n",
       "    </tr>\n",
       "    <tr>\n",
       "      <td>4</td>\n",
       "      <td>0.204082</td>\n",
       "      <td>0.113703</td>\n",
       "      <td>0.136054</td>\n",
       "      <td>0.038873</td>\n",
       "      <td>0.748299</td>\n",
       "      <td>0.724799</td>\n",
       "      <td>0.050534</td>\n",
       "      <td>0.109548</td>\n",
       "      <td>0.346939</td>\n",
       "      <td>0.102041</td>\n",
       "      <td>0.056851</td>\n",
       "      <td>0.068027</td>\n",
       "      <td>0.019436</td>\n",
       "      <td>0.374150</td>\n",
       "      <td>0.362400</td>\n",
       "      <td>0.025267</td>\n",
       "      <td>0.054774</td>\n",
       "      <td>0.173469</td>\n",
       "      <td>2020-02-03</td>\n",
       "      <td>0.571429</td>\n",
       "    </tr>\n",
       "  </tbody>\n",
       "</table>\n",
       "</div>"
      ],
      "text/plain": [
       "   1week_before_AD_Cv  1week_before_AD_Pv  1week_before_AD_Sv  \\\n",
       "0            0.000000            0.000000            0.000000   \n",
       "1            0.017007            0.010933            0.015646   \n",
       "2            0.038549            0.024781            0.035374   \n",
       "3            0.100907            0.059038            0.075510   \n",
       "4            0.204082            0.113703            0.136054   \n",
       "\n",
       "   1week_before_AVG_COEF  1week_before_B_Cv  1week_before_B_Sv  \\\n",
       "0               0.000000           0.000000           0.000000   \n",
       "1               0.008017           0.105442           0.126778   \n",
       "2               0.018303           0.238095           0.285302   \n",
       "3               0.028588           0.452381           0.484642   \n",
       "4               0.038873           0.748299           0.724799   \n",
       "\n",
       "   1week_before_Density  1week_before_Modularity  1week_before_infected  \\\n",
       "0              0.000000                 0.000000               0.000000   \n",
       "1              0.010593                 0.016545               0.081633   \n",
       "2              0.023907                 0.037342               0.163265   \n",
       "3              0.037221                 0.068343               0.244898   \n",
       "4              0.050534                 0.109548               0.346939   \n",
       "\n",
       "   2week_before_AD_Cv  2week_before_AD_Pv  2week_before_AD_Sv  \\\n",
       "0            0.000000            0.000000            0.000000   \n",
       "1            0.008503            0.005466            0.007823   \n",
       "2            0.019274            0.012391            0.017687   \n",
       "3            0.050454            0.029519            0.037755   \n",
       "4            0.102041            0.056851            0.068027   \n",
       "\n",
       "   2week_before_AVG_COEF  2week_before_B_Cv  2week_before_B_Sv  \\\n",
       "0               0.000000           0.000000           0.000000   \n",
       "1               0.004009           0.052721           0.063389   \n",
       "2               0.009151           0.119048           0.142651   \n",
       "3               0.014294           0.226190           0.242321   \n",
       "4               0.019436           0.374150           0.362400   \n",
       "\n",
       "   2week_before_Density  2week_before_Modularity  2week_before_infected  \\\n",
       "0              0.000000                 0.000000               0.000000   \n",
       "1              0.005296                 0.008273               0.040816   \n",
       "2              0.011953                 0.018671               0.081633   \n",
       "3              0.018610                 0.034172               0.122449   \n",
       "4              0.025267                 0.054774               0.173469   \n",
       "\n",
       "        Date  infected  \n",
       "0 2020-01-30  0.571429  \n",
       "1 2020-01-31  0.571429  \n",
       "2 2020-02-01  0.571429  \n",
       "3 2020-02-02  0.714286  \n",
       "4 2020-02-03  0.571429  "
      ]
     },
     "execution_count": 146,
     "metadata": {},
     "output_type": "execute_result"
    },
    {
     "data": {
      "text/plain": [
       "20"
      ]
     },
     "execution_count": 146,
     "metadata": {},
     "output_type": "execute_result"
    }
   ],
   "source": [
    "total.head()\n",
    "len(total.columns) # 19개   = 변수개수(9) * 2 + Date변수"
   ]
  },
  {
   "cell_type": "markdown",
   "metadata": {},
   "source": [
    "### Modeling with linear & nonlinear regression"
   ]
  },
  {
   "cell_type": "code",
   "execution_count": 27,
   "metadata": {},
   "outputs": [],
   "source": [
    "from sklearn.linear_model import LinearRegression\n",
    "from sklearn.ensemble import RandomForestRegressor\n",
    "from sklearn.model_selection import train_test_split\n",
    "from sklearn.model_selection import KFold\n",
    "from sklearn.metrics import mean_squared_error"
   ]
  },
  {
   "cell_type": "code",
   "execution_count": 28,
   "metadata": {},
   "outputs": [],
   "source": [
    "train = total[(total['Date']>='2020-01-30') & (total['Date']<='2020-11-27')] # 12월 1일 스무딩에 들어가는 11/28 ~ 30 은 제거해줌\n",
    "test = total[total['Date']>='2020-12-01']"
   ]
  },
  {
   "cell_type": "markdown",
   "metadata": {},
   "source": [
    "- 1 . Simple Linear Regression"
   ]
  },
  {
   "cell_type": "code",
   "execution_count": 29,
   "metadata": {
    "collapsed": true
   },
   "outputs": [
    {
     "data": {
      "text/plain": [
       "LinearRegression(copy_X=True, fit_intercept=True, n_jobs=None, normalize=False)"
      ]
     },
     "execution_count": 29,
     "metadata": {},
     "output_type": "execute_result"
    },
    {
     "data": {
      "text/plain": [
       "LinearRegression(copy_X=True, fit_intercept=True, n_jobs=None, normalize=False)"
      ]
     },
     "execution_count": 29,
     "metadata": {},
     "output_type": "execute_result"
    },
    {
     "data": {
      "text/plain": [
       "LinearRegression(copy_X=True, fit_intercept=True, n_jobs=None, normalize=False)"
      ]
     },
     "execution_count": 29,
     "metadata": {},
     "output_type": "execute_result"
    },
    {
     "data": {
      "text/plain": [
       "LinearRegression(copy_X=True, fit_intercept=True, n_jobs=None, normalize=False)"
      ]
     },
     "execution_count": 29,
     "metadata": {},
     "output_type": "execute_result"
    },
    {
     "data": {
      "text/plain": [
       "LinearRegression(copy_X=True, fit_intercept=True, n_jobs=None, normalize=False)"
      ]
     },
     "execution_count": 29,
     "metadata": {},
     "output_type": "execute_result"
    },
    {
     "data": {
      "text/plain": [
       "LinearRegression(copy_X=True, fit_intercept=True, n_jobs=None, normalize=False)"
      ]
     },
     "execution_count": 29,
     "metadata": {},
     "output_type": "execute_result"
    },
    {
     "data": {
      "text/plain": [
       "LinearRegression(copy_X=True, fit_intercept=True, n_jobs=None, normalize=False)"
      ]
     },
     "execution_count": 29,
     "metadata": {},
     "output_type": "execute_result"
    },
    {
     "data": {
      "text/plain": [
       "LinearRegression(copy_X=True, fit_intercept=True, n_jobs=None, normalize=False)"
      ]
     },
     "execution_count": 29,
     "metadata": {},
     "output_type": "execute_result"
    },
    {
     "data": {
      "text/plain": [
       "LinearRegression(copy_X=True, fit_intercept=True, n_jobs=None, normalize=False)"
      ]
     },
     "execution_count": 29,
     "metadata": {},
     "output_type": "execute_result"
    },
    {
     "data": {
      "text/plain": [
       "LinearRegression(copy_X=True, fit_intercept=True, n_jobs=None, normalize=False)"
      ]
     },
     "execution_count": 29,
     "metadata": {},
     "output_type": "execute_result"
    },
    {
     "data": {
      "text/plain": [
       "LinearRegression(copy_X=True, fit_intercept=True, n_jobs=None, normalize=False)"
      ]
     },
     "execution_count": 29,
     "metadata": {},
     "output_type": "execute_result"
    },
    {
     "data": {
      "text/plain": [
       "LinearRegression(copy_X=True, fit_intercept=True, n_jobs=None, normalize=False)"
      ]
     },
     "execution_count": 29,
     "metadata": {},
     "output_type": "execute_result"
    },
    {
     "data": {
      "text/plain": [
       "LinearRegression(copy_X=True, fit_intercept=True, n_jobs=None, normalize=False)"
      ]
     },
     "execution_count": 29,
     "metadata": {},
     "output_type": "execute_result"
    },
    {
     "data": {
      "text/plain": [
       "LinearRegression(copy_X=True, fit_intercept=True, n_jobs=None, normalize=False)"
      ]
     },
     "execution_count": 29,
     "metadata": {},
     "output_type": "execute_result"
    },
    {
     "data": {
      "text/plain": [
       "LinearRegression(copy_X=True, fit_intercept=True, n_jobs=None, normalize=False)"
      ]
     },
     "execution_count": 29,
     "metadata": {},
     "output_type": "execute_result"
    },
    {
     "data": {
      "text/plain": [
       "LinearRegression(copy_X=True, fit_intercept=True, n_jobs=None, normalize=False)"
      ]
     },
     "execution_count": 29,
     "metadata": {},
     "output_type": "execute_result"
    },
    {
     "data": {
      "text/plain": [
       "LinearRegression(copy_X=True, fit_intercept=True, n_jobs=None, normalize=False)"
      ]
     },
     "execution_count": 29,
     "metadata": {},
     "output_type": "execute_result"
    },
    {
     "data": {
      "text/plain": [
       "LinearRegression(copy_X=True, fit_intercept=True, n_jobs=None, normalize=False)"
      ]
     },
     "execution_count": 29,
     "metadata": {},
     "output_type": "execute_result"
    }
   ],
   "source": [
    "scores = []\n",
    "coef = []\n",
    "for i in range(18):\n",
    "    X_train , y_train = train.iloc[:,i] , train.iloc[:,19] # 20번째 컬럼이 infected y변수\n",
    "    X_test  , y_test  = test.iloc[:,i] , test.iloc[:,19]\n",
    "    model = LinearRegression()\n",
    "    model.fit(np.array(X_train).reshape(-1,1), y_train)\n",
    "    y_pred = model.predict(np.array(X_test).reshape(-1,1))\n",
    "    scores.append(mean_squared_error(y_test,y_pred))\n",
    "    coef.append(model.coef_[0])"
   ]
  },
  {
   "cell_type": "code",
   "execution_count": 30,
   "metadata": {},
   "outputs": [
    {
     "data": {
      "text/html": [
       "<div>\n",
       "<style scoped>\n",
       "    .dataframe tbody tr th:only-of-type {\n",
       "        vertical-align: middle;\n",
       "    }\n",
       "\n",
       "    .dataframe tbody tr th {\n",
       "        vertical-align: top;\n",
       "    }\n",
       "\n",
       "    .dataframe thead th {\n",
       "        text-align: right;\n",
       "    }\n",
       "</style>\n",
       "<table border=\"1\" class=\"dataframe\">\n",
       "  <thead>\n",
       "    <tr style=\"text-align: right;\">\n",
       "      <th></th>\n",
       "      <th>var</th>\n",
       "      <th>mse</th>\n",
       "      <th>coef</th>\n",
       "    </tr>\n",
       "  </thead>\n",
       "  <tbody>\n",
       "    <tr>\n",
       "      <td>3</td>\n",
       "      <td>1week_before_AVG_COEF</td>\n",
       "      <td>133.515577</td>\n",
       "      <td>9.521162</td>\n",
       "    </tr>\n",
       "    <tr>\n",
       "      <td>8</td>\n",
       "      <td>1week_before_infected</td>\n",
       "      <td>138.887713</td>\n",
       "      <td>0.981984</td>\n",
       "    </tr>\n",
       "    <tr>\n",
       "      <td>12</td>\n",
       "      <td>2week_before_AVG_COEF</td>\n",
       "      <td>151.956587</td>\n",
       "      <td>10.120328</td>\n",
       "    </tr>\n",
       "    <tr>\n",
       "      <td>17</td>\n",
       "      <td>2week_before_infected</td>\n",
       "      <td>258.352418</td>\n",
       "      <td>0.987374</td>\n",
       "    </tr>\n",
       "    <tr>\n",
       "      <td>15</td>\n",
       "      <td>2week_before_Density</td>\n",
       "      <td>609.284403</td>\n",
       "      <td>-214.334350</td>\n",
       "    </tr>\n",
       "    <tr>\n",
       "      <td>16</td>\n",
       "      <td>2week_before_Modularity</td>\n",
       "      <td>624.289296</td>\n",
       "      <td>-79.705980</td>\n",
       "    </tr>\n",
       "    <tr>\n",
       "      <td>6</td>\n",
       "      <td>1week_before_Density</td>\n",
       "      <td>637.991442</td>\n",
       "      <td>-169.570780</td>\n",
       "    </tr>\n",
       "    <tr>\n",
       "      <td>13</td>\n",
       "      <td>2week_before_B_Cv</td>\n",
       "      <td>639.280955</td>\n",
       "      <td>-10.247991</td>\n",
       "    </tr>\n",
       "    <tr>\n",
       "      <td>7</td>\n",
       "      <td>1week_before_Modularity</td>\n",
       "      <td>641.195299</td>\n",
       "      <td>-68.749607</td>\n",
       "    </tr>\n",
       "    <tr>\n",
       "      <td>4</td>\n",
       "      <td>1week_before_B_Cv</td>\n",
       "      <td>656.232839</td>\n",
       "      <td>-8.691830</td>\n",
       "    </tr>\n",
       "    <tr>\n",
       "      <td>11</td>\n",
       "      <td>2week_before_AD_Sv</td>\n",
       "      <td>664.172571</td>\n",
       "      <td>-44.001755</td>\n",
       "    </tr>\n",
       "    <tr>\n",
       "      <td>2</td>\n",
       "      <td>1week_before_AD_Sv</td>\n",
       "      <td>681.438199</td>\n",
       "      <td>-35.665691</td>\n",
       "    </tr>\n",
       "    <tr>\n",
       "      <td>14</td>\n",
       "      <td>2week_before_B_Sv</td>\n",
       "      <td>690.305863</td>\n",
       "      <td>9.947010</td>\n",
       "    </tr>\n",
       "    <tr>\n",
       "      <td>10</td>\n",
       "      <td>2week_before_AD_Pv</td>\n",
       "      <td>690.970572</td>\n",
       "      <td>-40.526519</td>\n",
       "    </tr>\n",
       "    <tr>\n",
       "      <td>9</td>\n",
       "      <td>2week_before_AD_Cv</td>\n",
       "      <td>694.265524</td>\n",
       "      <td>-20.321847</td>\n",
       "    </tr>\n",
       "    <tr>\n",
       "      <td>5</td>\n",
       "      <td>1week_before_B_Sv</td>\n",
       "      <td>704.410815</td>\n",
       "      <td>8.831308</td>\n",
       "    </tr>\n",
       "    <tr>\n",
       "      <td>1</td>\n",
       "      <td>1week_before_AD_Pv</td>\n",
       "      <td>704.462081</td>\n",
       "      <td>-32.410798</td>\n",
       "    </tr>\n",
       "    <tr>\n",
       "      <td>0</td>\n",
       "      <td>1week_before_AD_Cv</td>\n",
       "      <td>707.376840</td>\n",
       "      <td>-16.177354</td>\n",
       "    </tr>\n",
       "  </tbody>\n",
       "</table>\n",
       "</div>"
      ],
      "text/plain": [
       "                        var         mse        coef\n",
       "3     1week_before_AVG_COEF  133.515577    9.521162\n",
       "8     1week_before_infected  138.887713    0.981984\n",
       "12    2week_before_AVG_COEF  151.956587   10.120328\n",
       "17    2week_before_infected  258.352418    0.987374\n",
       "15     2week_before_Density  609.284403 -214.334350\n",
       "16  2week_before_Modularity  624.289296  -79.705980\n",
       "6      1week_before_Density  637.991442 -169.570780\n",
       "13        2week_before_B_Cv  639.280955  -10.247991\n",
       "7   1week_before_Modularity  641.195299  -68.749607\n",
       "4         1week_before_B_Cv  656.232839   -8.691830\n",
       "11       2week_before_AD_Sv  664.172571  -44.001755\n",
       "2        1week_before_AD_Sv  681.438199  -35.665691\n",
       "14        2week_before_B_Sv  690.305863    9.947010\n",
       "10       2week_before_AD_Pv  690.970572  -40.526519\n",
       "9        2week_before_AD_Cv  694.265524  -20.321847\n",
       "5         1week_before_B_Sv  704.410815    8.831308\n",
       "1        1week_before_AD_Pv  704.462081  -32.410798\n",
       "0        1week_before_AD_Cv  707.376840  -16.177354"
      ]
     },
     "execution_count": 30,
     "metadata": {},
     "output_type": "execute_result"
    }
   ],
   "source": [
    "pd.DataFrame({'var':train.columns[:18], 'mse' : scores , 'coef' : coef}).sort_values(by='mse')"
   ]
  },
  {
   "cell_type": "code",
   "execution_count": 178,
   "metadata": {},
   "outputs": [
    {
     "data": {
      "text/plain": [
       "LinearRegression(copy_X=True, fit_intercept=True, n_jobs=None, normalize=False)"
      ]
     },
     "execution_count": 178,
     "metadata": {},
     "output_type": "execute_result"
    }
   ],
   "source": [
    "    X_train , y_train = train.iloc[:,3] , train.iloc[:,19] # 20번째 컬럼이 infected y변수\n",
    "    X_test  , y_test  = test.iloc[:,3] , test.iloc[:,19]\n",
    "    model = LinearRegression()\n",
    "    model.fit(np.array(X_train).reshape(-1,1), y_train)\n",
    "    y_pred = model.predict(np.array(X_test).reshape(-1,1))\n",
    "    scores.append(mean_squared_error(y_test,y_pred))\n",
    "    coef.append(model.coef_[0])"
   ]
  },
  {
   "cell_type": "markdown",
   "metadata": {},
   "source": [
    "### 2 . Multiple Linear Regression"
   ]
  },
  {
   "cell_type": "markdown",
   "metadata": {},
   "source": [
    "- Using all features"
   ]
  },
  {
   "cell_type": "code",
   "execution_count": 31,
   "metadata": {},
   "outputs": [
    {
     "data": {
      "text/plain": [
       "LinearRegression(copy_X=True, fit_intercept=True, n_jobs=None, normalize=False)"
      ]
     },
     "execution_count": 31,
     "metadata": {},
     "output_type": "execute_result"
    },
    {
     "data": {
      "text/plain": [
       "array([ 2.28038736e+02, -3.64059945e+02, -2.78636906e+02, -3.43897841e+00,\n",
       "        4.67433935e+01,  8.29141527e+00, -9.66486956e+01, -2.81058671e+01,\n",
       "        1.68291214e+00, -7.10627105e+02,  1.26683019e+03,  9.16415770e+02,\n",
       "        6.05409891e+00, -1.27604832e+02, -3.68305458e+00,  6.46790996e+02,\n",
       "       -5.13790623e+02, -1.13422077e+00])"
      ]
     },
     "execution_count": 31,
     "metadata": {},
     "output_type": "execute_result"
    }
   ],
   "source": [
    "X_train, y_train = train[train.columns.difference(['Date','infected'])] , train['infected']\n",
    "X_test, y_test = test[test.columns.difference(['Date','infected'])] , test['infected']\n",
    "\n",
    "model = LinearRegression()\n",
    "model.fit(X_train,y_train)\n",
    "model.coef_  "
   ]
  },
  {
   "cell_type": "code",
   "execution_count": 32,
   "metadata": {},
   "outputs": [
    {
     "data": {
      "text/plain": [
       "129.35731907185138"
      ]
     },
     "execution_count": 32,
     "metadata": {},
     "output_type": "execute_result"
    }
   ],
   "source": [
    "y_pred = model.predict(X_test)\n",
    "mean_squared_error(y_test, y_pred)"
   ]
  },
  {
   "cell_type": "code",
   "execution_count": 33,
   "metadata": {},
   "outputs": [
    {
     "data": {
      "text/plain": [
       "array([40.95942624, 48.53584975, 55.86672588, 61.91267751, 66.01004564,\n",
       "       67.43112924, 65.51479854, 60.03727484, 53.73066348, 45.328995  ,\n",
       "       36.26573348, 27.60613653, 20.5221371 , 15.16519594, 12.94732533,\n",
       "       11.32181244, 11.63165491, 13.57196318, 16.32586677, 19.4259567 ,\n",
       "       22.62497266, 24.48546335, 27.14350039, 29.47453372, 30.45143424,\n",
       "       29.89783856, 28.49112989, 26.869063  , 25.76413843, 22.25974615,\n",
       "       18.23598569])"
      ]
     },
     "execution_count": 33,
     "metadata": {},
     "output_type": "execute_result"
    },
    {
     "data": {
      "text/plain": [
       "array([63.14285714, 67.28571429, 67.        , 65.14285714, 60.28571429,\n",
       "       54.14285714, 43.57142857, 40.14285714, 32.85714286, 27.57142857,\n",
       "       25.42857143, 24.42857143, 22.57142857, 23.28571429, 21.57142857,\n",
       "       20.28571429, 22.14285714, 24.57142857, 27.28571429, 27.14285714,\n",
       "       24.57142857, 28.57142857, 28.28571429, 25.85714286, 22.        ,\n",
       "       21.85714286, 22.28571429, 22.14285714, 15.57142857, 13.85714286,\n",
       "       13.28571429])"
      ]
     },
     "execution_count": 33,
     "metadata": {},
     "output_type": "execute_result"
    }
   ],
   "source": [
    "np.array(y_pred)\n",
    "np.array(y_test)\n",
    "\n",
    "## 가장 영향력 있는 변수는 AVG_COEFF"
   ]
  },
  {
   "cell_type": "markdown",
   "metadata": {},
   "source": [
    "- Using significant features only ( 4 Features )\n",
    "    - 1week_before , 2week_before infected and avg_coef"
   ]
  },
  {
   "cell_type": "code",
   "execution_count": 34,
   "metadata": {},
   "outputs": [],
   "source": [
    "sig_features = ['1week_before_AVG_COEF','1week_before_infected','2week_before_AVG_COEF','2week_before_infected']\n",
    "X_train, y_train = train[sig_features] , train['infected']\n",
    "X_test, y_test = test[sig_features] , test['infected']"
   ]
  },
  {
   "cell_type": "code",
   "execution_count": 43,
   "metadata": {},
   "outputs": [
    {
     "data": {
      "text/plain": [
       "LinearRegression(copy_X=True, fit_intercept=True, n_jobs=None, normalize=False)"
      ]
     },
     "execution_count": 43,
     "metadata": {},
     "output_type": "execute_result"
    },
    {
     "data": {
      "text/plain": [
       "array([-3.24501734,  1.68186822,  5.34711693, -0.91451685])"
      ]
     },
     "execution_count": 43,
     "metadata": {},
     "output_type": "execute_result"
    },
    {
     "data": {
      "text/plain": [
       "145.75679416940034"
      ]
     },
     "execution_count": 43,
     "metadata": {},
     "output_type": "execute_result"
    }
   ],
   "source": [
    "model = LinearRegression()\n",
    "model.fit(X_train,y_train)\n",
    "model.coef_  \n",
    "\n",
    "y_pred = model.predict(X_test)\n",
    "mean_squared_error(y_test, y_pred)"
   ]
  },
  {
   "cell_type": "code",
   "execution_count": 44,
   "metadata": {},
   "outputs": [
    {
     "data": {
      "text/plain": [
       "array([42.39214265, 50.08974226, 57.67342733, 64.02636382, 68.51031514,\n",
       "       70.30262672, 68.73537965, 63.46041061, 57.33959071, 48.99987948,\n",
       "       39.88625971, 31.09091898, 23.76089551, 18.01263184, 15.30961611,\n",
       "       13.16696776, 12.86894038, 14.22823848, 16.46995089, 19.17024502,\n",
       "       22.04678781, 23.70061395, 26.2674661 , 28.61640383, 29.65884801,\n",
       "       29.15170888, 27.8221822 , 26.34004388, 25.37952581, 22.11811113,\n",
       "       18.50465405])"
      ]
     },
     "execution_count": 44,
     "metadata": {},
     "output_type": "execute_result"
    },
    {
     "data": {
      "text/plain": [
       "array([63.14285714, 67.28571429, 67.        , 65.14285714, 60.28571429,\n",
       "       54.14285714, 43.57142857, 40.14285714, 32.85714286, 27.57142857,\n",
       "       25.42857143, 24.42857143, 22.57142857, 23.28571429, 21.57142857,\n",
       "       20.28571429, 22.14285714, 24.57142857, 27.28571429, 27.14285714,\n",
       "       24.57142857, 28.57142857, 28.28571429, 25.85714286, 22.        ,\n",
       "       21.85714286, 22.28571429, 22.14285714, 15.57142857, 13.85714286,\n",
       "       13.28571429])"
      ]
     },
     "execution_count": 44,
     "metadata": {},
     "output_type": "execute_result"
    }
   ],
   "source": [
    "np.array(y_pred)\n",
    "np.array(y_test)\n",
    "## 가장 영향력 있는 변수는 AVG_COEFF"
   ]
  },
  {
   "cell_type": "markdown",
   "metadata": {},
   "source": [
    "### 3.  Tree-based RandomForest Regression"
   ]
  },
  {
   "cell_type": "code",
   "execution_count": 45,
   "metadata": {},
   "outputs": [
    {
     "data": {
      "text/plain": [
       "RandomForestRegressor(bootstrap=True, criterion='mse', max_depth=None,\n",
       "                      max_features='auto', max_leaf_nodes=None,\n",
       "                      min_impurity_decrease=0.0, min_impurity_split=None,\n",
       "                      min_samples_leaf=1, min_samples_split=2,\n",
       "                      min_weight_fraction_leaf=0.0, n_estimators=200,\n",
       "                      n_jobs=None, oob_score=False, random_state=25, verbose=0,\n",
       "                      warm_start=False)"
      ]
     },
     "execution_count": 45,
     "metadata": {},
     "output_type": "execute_result"
    },
    {
     "data": {
      "text/plain": [
       "229.3324824391048"
      ]
     },
     "execution_count": 45,
     "metadata": {},
     "output_type": "execute_result"
    },
    {
     "data": {
      "text/plain": [
       "array([33.84428571, 33.84428571, 33.84428571, 33.84428571, 33.84428571,\n",
       "       33.84428571, 33.84428571, 33.78      , 33.35      , 33.185     ,\n",
       "       33.05357143, 32.90714286, 30.95      , 24.78357143, 24.01071429,\n",
       "       23.57857143, 22.26857143, 21.06785714, 21.28214286, 21.71285714,\n",
       "       24.74357143, 26.07214286, 29.47714286, 30.85857143, 31.47714286,\n",
       "       32.39071429, 35.165     , 36.04928571, 37.51071429, 31.54642857,\n",
       "       22.85428571])"
      ]
     },
     "execution_count": 45,
     "metadata": {},
     "output_type": "execute_result"
    },
    {
     "data": {
      "text/plain": [
       "array([63.14285714, 67.28571429, 67.        , 65.14285714, 60.28571429,\n",
       "       54.14285714, 43.57142857, 40.14285714, 32.85714286, 27.57142857,\n",
       "       25.42857143, 24.42857143, 22.57142857, 23.28571429, 21.57142857,\n",
       "       20.28571429, 22.14285714, 24.57142857, 27.28571429, 27.14285714,\n",
       "       24.57142857, 28.57142857, 28.28571429, 25.85714286, 22.        ,\n",
       "       21.85714286, 22.28571429, 22.14285714, 15.57142857, 13.85714286,\n",
       "       13.28571429])"
      ]
     },
     "execution_count": 45,
     "metadata": {},
     "output_type": "execute_result"
    }
   ],
   "source": [
    "X_train, y_train = train[train.columns.difference(['Date','infected'])] , train['infected']\n",
    "X_test, y_test = test[test.columns.difference(['Date','infected'])] , test['infected']\n",
    "\n",
    "regr = RandomForestRegressor(n_estimators=200 ,random_state=25)\n",
    "regr.fit(X_train, y_train)\n",
    "\n",
    "y_pred = regr.predict(X_test)\n",
    "mean_squared_error(y_test, y_pred)\n",
    "\n",
    "np.array(y_pred)\n",
    "np.array(y_test)"
   ]
  },
  {
   "cell_type": "code",
   "execution_count": 46,
   "metadata": {},
   "outputs": [
    {
     "data": {
      "text/plain": [
       "array([0.00644987, 0.0050053 , 0.00674418, 0.0085724 , 0.00681436,\n",
       "       0.00801608, 0.00493744, 0.00393651, 0.88759556, 0.00521352,\n",
       "       0.00441002, 0.00365724, 0.01980024, 0.00339199, 0.00516907,\n",
       "       0.00551278, 0.00544463, 0.0093288 ])"
      ]
     },
     "execution_count": 46,
     "metadata": {},
     "output_type": "execute_result"
    },
    {
     "data": {
      "text/html": [
       "<div>\n",
       "<style scoped>\n",
       "    .dataframe tbody tr th:only-of-type {\n",
       "        vertical-align: middle;\n",
       "    }\n",
       "\n",
       "    .dataframe tbody tr th {\n",
       "        vertical-align: top;\n",
       "    }\n",
       "\n",
       "    .dataframe thead th {\n",
       "        text-align: right;\n",
       "    }\n",
       "</style>\n",
       "<table border=\"1\" class=\"dataframe\">\n",
       "  <thead>\n",
       "    <tr style=\"text-align: right;\">\n",
       "      <th></th>\n",
       "      <th>importance</th>\n",
       "      <th>columns</th>\n",
       "    </tr>\n",
       "  </thead>\n",
       "  <tbody>\n",
       "    <tr>\n",
       "      <td>8</td>\n",
       "      <td>0.887596</td>\n",
       "      <td>1week_before_infected</td>\n",
       "    </tr>\n",
       "    <tr>\n",
       "      <td>12</td>\n",
       "      <td>0.019800</td>\n",
       "      <td>2week_before_AVG_COEF</td>\n",
       "    </tr>\n",
       "    <tr>\n",
       "      <td>17</td>\n",
       "      <td>0.009329</td>\n",
       "      <td>2week_before_infected</td>\n",
       "    </tr>\n",
       "    <tr>\n",
       "      <td>3</td>\n",
       "      <td>0.008572</td>\n",
       "      <td>1week_before_AVG_COEF</td>\n",
       "    </tr>\n",
       "    <tr>\n",
       "      <td>5</td>\n",
       "      <td>0.008016</td>\n",
       "      <td>1week_before_B_Sv</td>\n",
       "    </tr>\n",
       "    <tr>\n",
       "      <td>4</td>\n",
       "      <td>0.006814</td>\n",
       "      <td>1week_before_B_Cv</td>\n",
       "    </tr>\n",
       "    <tr>\n",
       "      <td>2</td>\n",
       "      <td>0.006744</td>\n",
       "      <td>1week_before_AD_Sv</td>\n",
       "    </tr>\n",
       "    <tr>\n",
       "      <td>0</td>\n",
       "      <td>0.006450</td>\n",
       "      <td>1week_before_AD_Cv</td>\n",
       "    </tr>\n",
       "    <tr>\n",
       "      <td>15</td>\n",
       "      <td>0.005513</td>\n",
       "      <td>2week_before_Density</td>\n",
       "    </tr>\n",
       "    <tr>\n",
       "      <td>16</td>\n",
       "      <td>0.005445</td>\n",
       "      <td>2week_before_Modularity</td>\n",
       "    </tr>\n",
       "    <tr>\n",
       "      <td>9</td>\n",
       "      <td>0.005214</td>\n",
       "      <td>2week_before_AD_Cv</td>\n",
       "    </tr>\n",
       "    <tr>\n",
       "      <td>14</td>\n",
       "      <td>0.005169</td>\n",
       "      <td>2week_before_B_Sv</td>\n",
       "    </tr>\n",
       "    <tr>\n",
       "      <td>1</td>\n",
       "      <td>0.005005</td>\n",
       "      <td>1week_before_AD_Pv</td>\n",
       "    </tr>\n",
       "    <tr>\n",
       "      <td>6</td>\n",
       "      <td>0.004937</td>\n",
       "      <td>1week_before_Density</td>\n",
       "    </tr>\n",
       "    <tr>\n",
       "      <td>10</td>\n",
       "      <td>0.004410</td>\n",
       "      <td>2week_before_AD_Pv</td>\n",
       "    </tr>\n",
       "    <tr>\n",
       "      <td>7</td>\n",
       "      <td>0.003937</td>\n",
       "      <td>1week_before_Modularity</td>\n",
       "    </tr>\n",
       "    <tr>\n",
       "      <td>11</td>\n",
       "      <td>0.003657</td>\n",
       "      <td>2week_before_AD_Sv</td>\n",
       "    </tr>\n",
       "    <tr>\n",
       "      <td>13</td>\n",
       "      <td>0.003392</td>\n",
       "      <td>2week_before_B_Cv</td>\n",
       "    </tr>\n",
       "  </tbody>\n",
       "</table>\n",
       "</div>"
      ],
      "text/plain": [
       "    importance                  columns\n",
       "8     0.887596    1week_before_infected\n",
       "12    0.019800    2week_before_AVG_COEF\n",
       "17    0.009329    2week_before_infected\n",
       "3     0.008572    1week_before_AVG_COEF\n",
       "5     0.008016        1week_before_B_Sv\n",
       "4     0.006814        1week_before_B_Cv\n",
       "2     0.006744       1week_before_AD_Sv\n",
       "0     0.006450       1week_before_AD_Cv\n",
       "15    0.005513     2week_before_Density\n",
       "16    0.005445  2week_before_Modularity\n",
       "9     0.005214       2week_before_AD_Cv\n",
       "14    0.005169        2week_before_B_Sv\n",
       "1     0.005005       1week_before_AD_Pv\n",
       "6     0.004937     1week_before_Density\n",
       "10    0.004410       2week_before_AD_Pv\n",
       "7     0.003937  1week_before_Modularity\n",
       "11    0.003657       2week_before_AD_Sv\n",
       "13    0.003392        2week_before_B_Cv"
      ]
     },
     "execution_count": 46,
     "metadata": {},
     "output_type": "execute_result"
    }
   ],
   "source": [
    "regr.feature_importances_\n",
    "pd.DataFrame({'importance':regr.feature_importances_,\n",
    "              'columns' : X_train.columns}).sort_values(by='importance',ascending=False)"
   ]
  },
  {
   "cell_type": "code",
   "execution_count": 48,
   "metadata": {},
   "outputs": [
    {
     "data": {
      "text/plain": [
       "RandomForestRegressor(bootstrap=True, criterion='mse', max_depth=None,\n",
       "                      max_features='auto', max_leaf_nodes=None,\n",
       "                      min_impurity_decrease=0.0, min_impurity_split=None,\n",
       "                      min_samples_leaf=1, min_samples_split=2,\n",
       "                      min_weight_fraction_leaf=0.0, n_estimators=200,\n",
       "                      n_jobs=None, oob_score=False, random_state=25, verbose=0,\n",
       "                      warm_start=False)"
      ]
     },
     "execution_count": 48,
     "metadata": {},
     "output_type": "execute_result"
    },
    {
     "data": {
      "text/plain": [
       "221.88001405529948"
      ]
     },
     "execution_count": 48,
     "metadata": {},
     "output_type": "execute_result"
    }
   ],
   "source": [
    "sig_features = ['1week_before_AVG_COEF','1week_before_infected','2week_before_AVG_COEF','2week_before_infected']\n",
    "X_train, y_train = train[sig_features] , train['infected']\n",
    "X_test, y_test = test[sig_features] , test['infected']\n",
    "\n",
    "regr = RandomForestRegressor(n_estimators=200 ,random_state=25)\n",
    "regr.fit(X_train, y_train)\n",
    "\n",
    "y_pred = regr.predict(X_test)\n",
    "mean_squared_error(y_test, y_pred)"
   ]
  },
  {
   "cell_type": "code",
   "execution_count": 49,
   "metadata": {},
   "outputs": [
    {
     "data": {
      "text/plain": [
       "array([0.01707135, 0.91374083, 0.03884656, 0.03034127])"
      ]
     },
     "execution_count": 49,
     "metadata": {},
     "output_type": "execute_result"
    },
    {
     "data": {
      "text/html": [
       "<div>\n",
       "<style scoped>\n",
       "    .dataframe tbody tr th:only-of-type {\n",
       "        vertical-align: middle;\n",
       "    }\n",
       "\n",
       "    .dataframe tbody tr th {\n",
       "        vertical-align: top;\n",
       "    }\n",
       "\n",
       "    .dataframe thead th {\n",
       "        text-align: right;\n",
       "    }\n",
       "</style>\n",
       "<table border=\"1\" class=\"dataframe\">\n",
       "  <thead>\n",
       "    <tr style=\"text-align: right;\">\n",
       "      <th></th>\n",
       "      <th>importance</th>\n",
       "      <th>columns</th>\n",
       "    </tr>\n",
       "  </thead>\n",
       "  <tbody>\n",
       "    <tr>\n",
       "      <td>1</td>\n",
       "      <td>0.913741</td>\n",
       "      <td>1week_before_infected</td>\n",
       "    </tr>\n",
       "    <tr>\n",
       "      <td>2</td>\n",
       "      <td>0.038847</td>\n",
       "      <td>2week_before_AVG_COEF</td>\n",
       "    </tr>\n",
       "    <tr>\n",
       "      <td>3</td>\n",
       "      <td>0.030341</td>\n",
       "      <td>2week_before_infected</td>\n",
       "    </tr>\n",
       "    <tr>\n",
       "      <td>0</td>\n",
       "      <td>0.017071</td>\n",
       "      <td>1week_before_AVG_COEF</td>\n",
       "    </tr>\n",
       "  </tbody>\n",
       "</table>\n",
       "</div>"
      ],
      "text/plain": [
       "   importance                columns\n",
       "1    0.913741  1week_before_infected\n",
       "2    0.038847  2week_before_AVG_COEF\n",
       "3    0.030341  2week_before_infected\n",
       "0    0.017071  1week_before_AVG_COEF"
      ]
     },
     "execution_count": 49,
     "metadata": {},
     "output_type": "execute_result"
    }
   ],
   "source": [
    "regr.feature_importances_\n",
    "pd.DataFrame({'importance':regr.feature_importances_,\n",
    "              'columns' : X_train.columns}).sort_values(by='importance',ascending=False)"
   ]
  },
  {
   "cell_type": "markdown",
   "metadata": {},
   "source": [
    "## 4. Nonlinear Regression  - > y변수에 지수함수 씌우고 예측"
   ]
  },
  {
   "cell_type": "markdown",
   "metadata": {},
   "source": [
    "- exponential regression"
   ]
  },
  {
   "cell_type": "code",
   "execution_count": 88,
   "metadata": {},
   "outputs": [
    {
     "data": {
      "text/plain": [
       "Int64Index([ 10,  11,  12,  13,  81,  82,  83,  84,  85,  86,  87,  88,  89,\n",
       "             90,  91,  92,  93,  94,  95,  96,  97,  98,  99, 100, 101, 102,\n",
       "            103, 104, 105],\n",
       "           dtype='int64')"
      ]
     },
     "execution_count": 88,
     "metadata": {},
     "output_type": "execute_result"
    }
   ],
   "source": [
    "idx = total.index[total['infected']==0]\n",
    "idx"
   ]
  },
  {
   "cell_type": "code",
   "execution_count": 147,
   "metadata": {},
   "outputs": [],
   "source": [
    "total.iloc[idx,19] = 0.1"
   ]
  },
  {
   "cell_type": "code",
   "execution_count": 148,
   "metadata": {},
   "outputs": [],
   "source": [
    "train = total[(total['Date']>='2020-01-30') & (total['Date']<='2020-11-27')] # 12월 1일 스무딩에 들어가는 11/28 ~ 30 은 제거해줌\n",
    "test = total[total['Date']>='2020-12-01']"
   ]
  },
  {
   "cell_type": "markdown",
   "metadata": {},
   "source": [
    "#### 작은값"
   ]
  },
  {
   "cell_type": "code",
   "execution_count": 149,
   "metadata": {
    "scrolled": true
   },
   "outputs": [
    {
     "data": {
      "text/plain": [
       "LinearRegression(copy_X=True, fit_intercept=False, n_jobs=None, normalize=False)"
      ]
     },
     "execution_count": 149,
     "metadata": {},
     "output_type": "execute_result"
    },
    {
     "name": "stdout",
     "output_type": "stream",
     "text": [
      "0\n"
     ]
    },
    {
     "data": {
      "text/plain": [
       "LinearRegression(copy_X=True, fit_intercept=False, n_jobs=None, normalize=False)"
      ]
     },
     "execution_count": 149,
     "metadata": {},
     "output_type": "execute_result"
    },
    {
     "name": "stdout",
     "output_type": "stream",
     "text": [
      "1\n"
     ]
    },
    {
     "data": {
      "text/plain": [
       "LinearRegression(copy_X=True, fit_intercept=False, n_jobs=None, normalize=False)"
      ]
     },
     "execution_count": 149,
     "metadata": {},
     "output_type": "execute_result"
    },
    {
     "name": "stdout",
     "output_type": "stream",
     "text": [
      "2\n"
     ]
    },
    {
     "data": {
      "text/plain": [
       "LinearRegression(copy_X=True, fit_intercept=False, n_jobs=None, normalize=False)"
      ]
     },
     "execution_count": 149,
     "metadata": {},
     "output_type": "execute_result"
    },
    {
     "name": "stdout",
     "output_type": "stream",
     "text": [
      "3\n"
     ]
    },
    {
     "data": {
      "text/plain": [
       "LinearRegression(copy_X=True, fit_intercept=False, n_jobs=None, normalize=False)"
      ]
     },
     "execution_count": 149,
     "metadata": {},
     "output_type": "execute_result"
    },
    {
     "name": "stdout",
     "output_type": "stream",
     "text": [
      "4\n"
     ]
    },
    {
     "data": {
      "text/plain": [
       "LinearRegression(copy_X=True, fit_intercept=False, n_jobs=None, normalize=False)"
      ]
     },
     "execution_count": 149,
     "metadata": {},
     "output_type": "execute_result"
    },
    {
     "name": "stdout",
     "output_type": "stream",
     "text": [
      "5\n"
     ]
    },
    {
     "data": {
      "text/plain": [
       "LinearRegression(copy_X=True, fit_intercept=False, n_jobs=None, normalize=False)"
      ]
     },
     "execution_count": 149,
     "metadata": {},
     "output_type": "execute_result"
    },
    {
     "name": "stdout",
     "output_type": "stream",
     "text": [
      "6\n"
     ]
    },
    {
     "data": {
      "text/plain": [
       "LinearRegression(copy_X=True, fit_intercept=False, n_jobs=None, normalize=False)"
      ]
     },
     "execution_count": 149,
     "metadata": {},
     "output_type": "execute_result"
    },
    {
     "name": "stdout",
     "output_type": "stream",
     "text": [
      "7\n"
     ]
    },
    {
     "data": {
      "text/plain": [
       "LinearRegression(copy_X=True, fit_intercept=False, n_jobs=None, normalize=False)"
      ]
     },
     "execution_count": 149,
     "metadata": {},
     "output_type": "execute_result"
    },
    {
     "name": "stdout",
     "output_type": "stream",
     "text": [
      "8\n"
     ]
    },
    {
     "data": {
      "text/plain": [
       "LinearRegression(copy_X=True, fit_intercept=False, n_jobs=None, normalize=False)"
      ]
     },
     "execution_count": 149,
     "metadata": {},
     "output_type": "execute_result"
    },
    {
     "name": "stdout",
     "output_type": "stream",
     "text": [
      "9\n"
     ]
    },
    {
     "data": {
      "text/plain": [
       "LinearRegression(copy_X=True, fit_intercept=False, n_jobs=None, normalize=False)"
      ]
     },
     "execution_count": 149,
     "metadata": {},
     "output_type": "execute_result"
    },
    {
     "name": "stdout",
     "output_type": "stream",
     "text": [
      "10\n"
     ]
    },
    {
     "data": {
      "text/plain": [
       "LinearRegression(copy_X=True, fit_intercept=False, n_jobs=None, normalize=False)"
      ]
     },
     "execution_count": 149,
     "metadata": {},
     "output_type": "execute_result"
    },
    {
     "name": "stdout",
     "output_type": "stream",
     "text": [
      "11\n"
     ]
    },
    {
     "data": {
      "text/plain": [
       "LinearRegression(copy_X=True, fit_intercept=False, n_jobs=None, normalize=False)"
      ]
     },
     "execution_count": 149,
     "metadata": {},
     "output_type": "execute_result"
    },
    {
     "name": "stdout",
     "output_type": "stream",
     "text": [
      "12\n"
     ]
    },
    {
     "data": {
      "text/plain": [
       "LinearRegression(copy_X=True, fit_intercept=False, n_jobs=None, normalize=False)"
      ]
     },
     "execution_count": 149,
     "metadata": {},
     "output_type": "execute_result"
    },
    {
     "name": "stdout",
     "output_type": "stream",
     "text": [
      "13\n"
     ]
    },
    {
     "data": {
      "text/plain": [
       "LinearRegression(copy_X=True, fit_intercept=False, n_jobs=None, normalize=False)"
      ]
     },
     "execution_count": 149,
     "metadata": {},
     "output_type": "execute_result"
    },
    {
     "name": "stdout",
     "output_type": "stream",
     "text": [
      "14\n"
     ]
    },
    {
     "data": {
      "text/plain": [
       "LinearRegression(copy_X=True, fit_intercept=False, n_jobs=None, normalize=False)"
      ]
     },
     "execution_count": 149,
     "metadata": {},
     "output_type": "execute_result"
    },
    {
     "name": "stdout",
     "output_type": "stream",
     "text": [
      "15\n"
     ]
    },
    {
     "data": {
      "text/plain": [
       "LinearRegression(copy_X=True, fit_intercept=False, n_jobs=None, normalize=False)"
      ]
     },
     "execution_count": 149,
     "metadata": {},
     "output_type": "execute_result"
    },
    {
     "name": "stdout",
     "output_type": "stream",
     "text": [
      "16\n"
     ]
    },
    {
     "data": {
      "text/plain": [
       "LinearRegression(copy_X=True, fit_intercept=False, n_jobs=None, normalize=False)"
      ]
     },
     "execution_count": 149,
     "metadata": {},
     "output_type": "execute_result"
    },
    {
     "name": "stdout",
     "output_type": "stream",
     "text": [
      "17\n"
     ]
    }
   ],
   "source": [
    "scores = []\n",
    "coef = []\n",
    "for i in range(18):\n",
    "    X_train , y_train = train.iloc[:,i] , np.log(train.iloc[:,19]) # 20번째 컬럼이 infected y변수\n",
    "    X_test  , y_test  = test.iloc[:,i] , test.iloc[:,19]\n",
    "    model = LinearRegression(fit_intercept=False)   # 지수함수형태에서 교차항제거 -> 음수나옴\n",
    "    model.fit(np.array(X_train).reshape(-1,1), y_train)\n",
    "    y_pred = model.predict(np.array(X_test).reshape(-1,1))\n",
    "    y_pred = np.exp(y_pred)\n",
    "    scores.append(mean_squared_error(y_test,y_pred))\n",
    "    coef.append(model.coef_[0])\n",
    "    print(i)"
   ]
  },
  {
   "cell_type": "code",
   "execution_count": 160,
   "metadata": {},
   "outputs": [
    {
     "data": {
      "text/plain": [
       "Index(['1week_before_AD_Cv', '1week_before_AD_Pv', '1week_before_AD_Sv',\n",
       "       '1week_before_AVG_COEF', '1week_before_B_Cv', '1week_before_B_Sv',\n",
       "       '1week_before_Density', '1week_before_Modularity',\n",
       "       '1week_before_infected', '2week_before_AD_Cv', '2week_before_AD_Pv',\n",
       "       '2week_before_AD_Sv', '2week_before_AVG_COEF', '2week_before_B_Cv',\n",
       "       '2week_before_B_Sv', '2week_before_Density', '2week_before_Modularity',\n",
       "       '2week_before_infected', 'Date', 'infected'],\n",
       "      dtype='object')"
      ]
     },
     "execution_count": 160,
     "metadata": {},
     "output_type": "execute_result"
    }
   ],
   "source": [
    "train.columns"
   ]
  },
  {
   "cell_type": "code",
   "execution_count": 171,
   "metadata": {},
   "outputs": [
    {
     "data": {
      "text/plain": [
       "LinearRegression(copy_X=True, fit_intercept=False, n_jobs=None, normalize=False)"
      ]
     },
     "execution_count": 171,
     "metadata": {},
     "output_type": "execute_result"
    }
   ],
   "source": [
    "X_train , y_train = train.loc[:,'2week_before_Density'] , np.log(train.iloc[:,19]) # 20번째 컬럼이 infected y변수\n",
    "X_test  , y_test  = test.iloc[:,5] , test.iloc[:,19]\n",
    "model = LinearRegression(fit_intercept=False)   # 지수함수형태에서 교차항제거 -> 음수나옴\n",
    "model.fit(np.array(X_train).reshape(-1,1), y_train)\n",
    "y_pred = model.predict(np.array(X_test).reshape(-1,1))\n",
    "y_pred = np.exp(y_pred)"
   ]
  },
  {
   "cell_type": "code",
   "execution_count": 172,
   "metadata": {},
   "outputs": [
    {
     "data": {
      "text/plain": [
       "<matplotlib.collections.PathCollection at 0x1c7298d88c8>"
      ]
     },
     "execution_count": 172,
     "metadata": {},
     "output_type": "execute_result"
    },
    {
     "data": {
      "image/png": "[encoded data removed]",
      "text/plain": [
       "<Figure size 432x288 with 1 Axes>"
      ]
     },
     "metadata": {
      "needs_background": "light"
     },
     "output_type": "display_data"
    }
   ],
   "source": [
    "plt.scatter(X_train,y_train)"
   ]
  },
  {
   "cell_type": "code",
   "execution_count": 179,
   "metadata": {},
   "outputs": [],
   "source": [
    "predy = model.predict(np.array(X_train).reshape(-1,1))"
   ]
  },
  {
   "cell_type": "code",
   "execution_count": 114,
   "metadata": {},
   "outputs": [
    {
     "data": {
      "text/html": [
       "<div>\n",
       "<style scoped>\n",
       "    .dataframe tbody tr th:only-of-type {\n",
       "        vertical-align: middle;\n",
       "    }\n",
       "\n",
       "    .dataframe tbody tr th {\n",
       "        vertical-align: top;\n",
       "    }\n",
       "\n",
       "    .dataframe thead th {\n",
       "        text-align: right;\n",
       "    }\n",
       "</style>\n",
       "<table border=\"1\" class=\"dataframe\">\n",
       "  <thead>\n",
       "    <tr style=\"text-align: right;\">\n",
       "      <th></th>\n",
       "      <th>var</th>\n",
       "      <th>mse</th>\n",
       "      <th>coef</th>\n",
       "    </tr>\n",
       "  </thead>\n",
       "  <tbody>\n",
       "    <tr>\n",
       "      <td>5</td>\n",
       "      <td>1week_before_B_Sv</td>\n",
       "      <td>1.026538e+03</td>\n",
       "      <td>1.018345</td>\n",
       "    </tr>\n",
       "    <tr>\n",
       "      <td>14</td>\n",
       "      <td>2week_before_B_Sv</td>\n",
       "      <td>1.045539e+03</td>\n",
       "      <td>0.966471</td>\n",
       "    </tr>\n",
       "    <tr>\n",
       "      <td>6</td>\n",
       "      <td>1week_before_Density</td>\n",
       "      <td>1.237854e+03</td>\n",
       "      <td>3.331731</td>\n",
       "    </tr>\n",
       "    <tr>\n",
       "      <td>9</td>\n",
       "      <td>2week_before_AD_Cv</td>\n",
       "      <td>1.238531e+03</td>\n",
       "      <td>-7.637714</td>\n",
       "    </tr>\n",
       "    <tr>\n",
       "      <td>0</td>\n",
       "      <td>1week_before_AD_Cv</td>\n",
       "      <td>1.238532e+03</td>\n",
       "      <td>-7.406745</td>\n",
       "    </tr>\n",
       "    <tr>\n",
       "      <td>10</td>\n",
       "      <td>2week_before_AD_Pv</td>\n",
       "      <td>1.238555e+03</td>\n",
       "      <td>-14.932825</td>\n",
       "    </tr>\n",
       "    <tr>\n",
       "      <td>1</td>\n",
       "      <td>1week_before_AD_Pv</td>\n",
       "      <td>1.238555e+03</td>\n",
       "      <td>-14.330439</td>\n",
       "    </tr>\n",
       "    <tr>\n",
       "      <td>15</td>\n",
       "      <td>2week_before_Density</td>\n",
       "      <td>1.238615e+03</td>\n",
       "      <td>-0.738077</td>\n",
       "    </tr>\n",
       "    <tr>\n",
       "      <td>2</td>\n",
       "      <td>1week_before_AD_Sv</td>\n",
       "      <td>1.240964e+03</td>\n",
       "      <td>-11.564149</td>\n",
       "    </tr>\n",
       "    <tr>\n",
       "      <td>11</td>\n",
       "      <td>2week_before_AD_Sv</td>\n",
       "      <td>1.241038e+03</td>\n",
       "      <td>-11.966670</td>\n",
       "    </tr>\n",
       "    <tr>\n",
       "      <td>4</td>\n",
       "      <td>1week_before_B_Cv</td>\n",
       "      <td>1.241791e+03</td>\n",
       "      <td>-1.949181</td>\n",
       "    </tr>\n",
       "    <tr>\n",
       "      <td>13</td>\n",
       "      <td>2week_before_B_Cv</td>\n",
       "      <td>1.241901e+03</td>\n",
       "      <td>-2.023340</td>\n",
       "    </tr>\n",
       "    <tr>\n",
       "      <td>16</td>\n",
       "      <td>2week_before_Modularity</td>\n",
       "      <td>1.242416e+03</td>\n",
       "      <td>-11.198176</td>\n",
       "    </tr>\n",
       "    <tr>\n",
       "      <td>7</td>\n",
       "      <td>1week_before_Modularity</td>\n",
       "      <td>1.242495e+03</td>\n",
       "      <td>-11.327819</td>\n",
       "    </tr>\n",
       "    <tr>\n",
       "      <td>3</td>\n",
       "      <td>1week_before_AVG_COEF</td>\n",
       "      <td>1.865627e+04</td>\n",
       "      <td>1.338580</td>\n",
       "    </tr>\n",
       "    <tr>\n",
       "      <td>12</td>\n",
       "      <td>2week_before_AVG_COEF</td>\n",
       "      <td>3.216306e+04</td>\n",
       "      <td>1.401840</td>\n",
       "    </tr>\n",
       "    <tr>\n",
       "      <td>17</td>\n",
       "      <td>2week_before_infected</td>\n",
       "      <td>6.750959e+05</td>\n",
       "      <td>0.143432</td>\n",
       "    </tr>\n",
       "    <tr>\n",
       "      <td>8</td>\n",
       "      <td>1week_before_infected</td>\n",
       "      <td>3.164336e+06</td>\n",
       "      <td>0.136274</td>\n",
       "    </tr>\n",
       "  </tbody>\n",
       "</table>\n",
       "</div>"
      ],
      "text/plain": [
       "                        var           mse       coef\n",
       "5         1week_before_B_Sv  1.026538e+03   1.018345\n",
       "14        2week_before_B_Sv  1.045539e+03   0.966471\n",
       "6      1week_before_Density  1.237854e+03   3.331731\n",
       "9        2week_before_AD_Cv  1.238531e+03  -7.637714\n",
       "0        1week_before_AD_Cv  1.238532e+03  -7.406745\n",
       "10       2week_before_AD_Pv  1.238555e+03 -14.932825\n",
       "1        1week_before_AD_Pv  1.238555e+03 -14.330439\n",
       "15     2week_before_Density  1.238615e+03  -0.738077\n",
       "2        1week_before_AD_Sv  1.240964e+03 -11.564149\n",
       "11       2week_before_AD_Sv  1.241038e+03 -11.966670\n",
       "4         1week_before_B_Cv  1.241791e+03  -1.949181\n",
       "13        2week_before_B_Cv  1.241901e+03  -2.023340\n",
       "16  2week_before_Modularity  1.242416e+03 -11.198176\n",
       "7   1week_before_Modularity  1.242495e+03 -11.327819\n",
       "3     1week_before_AVG_COEF  1.865627e+04   1.338580\n",
       "12    2week_before_AVG_COEF  3.216306e+04   1.401840\n",
       "17    2week_before_infected  6.750959e+05   0.143432\n",
       "8     1week_before_infected  3.164336e+06   0.136274"
      ]
     },
     "execution_count": 114,
     "metadata": {},
     "output_type": "execute_result"
    }
   ],
   "source": [
    "pd.DataFrame({'var':train.columns[:18], 'mse' : scores , 'coef' : coef}).sort_values(by='mse')"
   ]
  },
  {
   "cell_type": "code",
   "execution_count": 165,
   "metadata": {},
   "outputs": [
    {
     "data": {
      "text/plain": [
       "303"
      ]
     },
     "execution_count": 165,
     "metadata": {},
     "output_type": "execute_result"
    },
    {
     "data": {
      "text/plain": [
       "303"
      ]
     },
     "execution_count": 165,
     "metadata": {},
     "output_type": "execute_result"
    }
   ],
   "source": [
    "len(predy)\n",
    "len(np.log(train.iloc[:,19]))"
   ]
  },
  {
   "cell_type": "code",
   "execution_count": 180,
   "metadata": {},
   "outputs": [],
   "source": [
    "sam = pd.DataFrame({'actual':train.iloc[:,19], 'pred':predy,'date':pd.date_range(start='01/30/2020',end='11/27/2020')})\n",
    "\n",
    "fig = px.line(sam, x=\"date\", y=[\"actual\",\"pred\"])\n",
    "fig.update_layout(plot_bgcolor='white',xaxis_showgrid=False, \n",
    "              yaxis_showgrid=False,width=900, height=600,\n",
    "              title='Density')\n",
    "\n",
    "## 다소 선행"
   ]
  },
  {
   "cell_type": "code",
   "execution_count": 184,
   "metadata": {},
   "outputs": [
    {
     "data": {
      "text/plain": [
       "0     2020-01-30\n",
       "1     2020-01-31\n",
       "2     2020-02-01\n",
       "3     2020-02-02\n",
       "4     2020-02-03\n",
       "         ...    \n",
       "332   2020-12-27\n",
       "333   2020-12-28\n",
       "334   2020-12-29\n",
       "335   2020-12-30\n",
       "336   2020-12-31\n",
       "Name: Date, Length: 337, dtype: datetime64[ns]"
      ]
     },
     "execution_count": 184,
     "metadata": {},
     "output_type": "execute_result"
    }
   ],
   "source": [
    "total['Date']"
   ]
  },
  {
   "cell_type": "code",
   "execution_count": 186,
   "metadata": {},
   "outputs": [
    {
     "data": {
      "text/html": [
       "<div>\n",
       "<style scoped>\n",
       "    .dataframe tbody tr th:only-of-type {\n",
       "        vertical-align: middle;\n",
       "    }\n",
       "\n",
       "    .dataframe tbody tr th {\n",
       "        vertical-align: top;\n",
       "    }\n",
       "\n",
       "    .dataframe thead th {\n",
       "        text-align: right;\n",
       "    }\n",
       "</style>\n",
       "<table border=\"1\" class=\"dataframe\">\n",
       "  <thead>\n",
       "    <tr style=\"text-align: right;\">\n",
       "      <th></th>\n",
       "      <th>1week_before_AD_Cv</th>\n",
       "      <th>1week_before_AD_Pv</th>\n",
       "      <th>1week_before_AD_Sv</th>\n",
       "      <th>1week_before_AVG_COEF</th>\n",
       "      <th>1week_before_B_Cv</th>\n",
       "      <th>1week_before_B_Sv</th>\n",
       "      <th>1week_before_Density</th>\n",
       "      <th>1week_before_Modularity</th>\n",
       "      <th>1week_before_infected</th>\n",
       "      <th>2week_before_AD_Cv</th>\n",
       "      <th>2week_before_AD_Pv</th>\n",
       "      <th>2week_before_AD_Sv</th>\n",
       "      <th>2week_before_AVG_COEF</th>\n",
       "      <th>2week_before_B_Cv</th>\n",
       "      <th>2week_before_B_Sv</th>\n",
       "      <th>2week_before_Density</th>\n",
       "      <th>2week_before_Modularity</th>\n",
       "      <th>2week_before_infected</th>\n",
       "      <th>Date</th>\n",
       "      <th>infected</th>\n",
       "    </tr>\n",
       "  </thead>\n",
       "  <tbody>\n",
       "    <tr>\n",
       "      <td>303</td>\n",
       "      <td>0.000098</td>\n",
       "      <td>0.000073</td>\n",
       "      <td>0.003471</td>\n",
       "      <td>4.293268</td>\n",
       "      <td>0.027672</td>\n",
       "      <td>1.500869</td>\n",
       "      <td>0.002908</td>\n",
       "      <td>0.005733</td>\n",
       "      <td>33.22449</td>\n",
       "      <td>0.000092</td>\n",
       "      <td>0.000069</td>\n",
       "      <td>0.00337</td>\n",
       "      <td>3.371991</td>\n",
       "      <td>0.026871</td>\n",
       "      <td>1.500844</td>\n",
       "      <td>0.002879</td>\n",
       "      <td>0.005681</td>\n",
       "      <td>36.877551</td>\n",
       "      <td>2020-11-28</td>\n",
       "      <td>46.571429</td>\n",
       "    </tr>\n",
       "  </tbody>\n",
       "</table>\n",
       "</div>"
      ],
      "text/plain": [
       "     1week_before_AD_Cv  1week_before_AD_Pv  1week_before_AD_Sv  \\\n",
       "303            0.000098            0.000073            0.003471   \n",
       "\n",
       "     1week_before_AVG_COEF  1week_before_B_Cv  1week_before_B_Sv  \\\n",
       "303               4.293268           0.027672           1.500869   \n",
       "\n",
       "     1week_before_Density  1week_before_Modularity  1week_before_infected  \\\n",
       "303              0.002908                 0.005733               33.22449   \n",
       "\n",
       "     2week_before_AD_Cv  2week_before_AD_Pv  2week_before_AD_Sv  \\\n",
       "303            0.000092            0.000069             0.00337   \n",
       "\n",
       "     2week_before_AVG_COEF  2week_before_B_Cv  2week_before_B_Sv  \\\n",
       "303               3.371991           0.026871           1.500844   \n",
       "\n",
       "     2week_before_Density  2week_before_Modularity  2week_before_infected  \\\n",
       "303              0.002879                 0.005681              36.877551   \n",
       "\n",
       "          Date   infected  \n",
       "303 2020-11-28  46.571429  "
      ]
     },
     "execution_count": 186,
     "metadata": {},
     "output_type": "execute_result"
    },
    {
     "data": {
      "text/html": [
       "<div>\n",
       "<style scoped>\n",
       "    .dataframe tbody tr th:only-of-type {\n",
       "        vertical-align: middle;\n",
       "    }\n",
       "\n",
       "    .dataframe tbody tr th {\n",
       "        vertical-align: top;\n",
       "    }\n",
       "\n",
       "    .dataframe thead th {\n",
       "        text-align: right;\n",
       "    }\n",
       "</style>\n",
       "<table border=\"1\" class=\"dataframe\">\n",
       "  <thead>\n",
       "    <tr style=\"text-align: right;\">\n",
       "      <th></th>\n",
       "      <th>1week_before_AD_Cv</th>\n",
       "      <th>1week_before_AD_Pv</th>\n",
       "      <th>1week_before_AD_Sv</th>\n",
       "      <th>1week_before_AVG_COEF</th>\n",
       "      <th>1week_before_B_Cv</th>\n",
       "      <th>1week_before_B_Sv</th>\n",
       "      <th>1week_before_Density</th>\n",
       "      <th>1week_before_Modularity</th>\n",
       "      <th>1week_before_infected</th>\n",
       "      <th>2week_before_AD_Cv</th>\n",
       "      <th>2week_before_AD_Pv</th>\n",
       "      <th>2week_before_AD_Sv</th>\n",
       "      <th>2week_before_AVG_COEF</th>\n",
       "      <th>2week_before_B_Cv</th>\n",
       "      <th>2week_before_B_Sv</th>\n",
       "      <th>2week_before_Density</th>\n",
       "      <th>2week_before_Modularity</th>\n",
       "      <th>2week_before_infected</th>\n",
       "      <th>Date</th>\n",
       "      <th>infected</th>\n",
       "    </tr>\n",
       "  </thead>\n",
       "  <tbody>\n",
       "    <tr>\n",
       "      <td>304</td>\n",
       "      <td>0.000092</td>\n",
       "      <td>0.000069</td>\n",
       "      <td>0.003344</td>\n",
       "      <td>4.374457</td>\n",
       "      <td>0.026657</td>\n",
       "      <td>1.500837</td>\n",
       "      <td>0.0028</td>\n",
       "      <td>0.005524</td>\n",
       "      <td>35.122449</td>\n",
       "      <td>0.000089</td>\n",
       "      <td>0.000067</td>\n",
       "      <td>0.003313</td>\n",
       "      <td>3.538924</td>\n",
       "      <td>0.026416</td>\n",
       "      <td>1.50083</td>\n",
       "      <td>0.002825</td>\n",
       "      <td>0.005575</td>\n",
       "      <td>37.55102</td>\n",
       "      <td>2020-11-29</td>\n",
       "      <td>55.0</td>\n",
       "    </tr>\n",
       "  </tbody>\n",
       "</table>\n",
       "</div>"
      ],
      "text/plain": [
       "     1week_before_AD_Cv  1week_before_AD_Pv  1week_before_AD_Sv  \\\n",
       "304            0.000092            0.000069            0.003344   \n",
       "\n",
       "     1week_before_AVG_COEF  1week_before_B_Cv  1week_before_B_Sv  \\\n",
       "304               4.374457           0.026657           1.500837   \n",
       "\n",
       "     1week_before_Density  1week_before_Modularity  1week_before_infected  \\\n",
       "304                0.0028                 0.005524              35.122449   \n",
       "\n",
       "     2week_before_AD_Cv  2week_before_AD_Pv  2week_before_AD_Sv  \\\n",
       "304            0.000089            0.000067            0.003313   \n",
       "\n",
       "     2week_before_AVG_COEF  2week_before_B_Cv  2week_before_B_Sv  \\\n",
       "304               3.538924           0.026416            1.50083   \n",
       "\n",
       "     2week_before_Density  2week_before_Modularity  2week_before_infected  \\\n",
       "304              0.002825                 0.005575               37.55102   \n",
       "\n",
       "          Date  infected  \n",
       "304 2020-11-29      55.0  "
      ]
     },
     "execution_count": 186,
     "metadata": {},
     "output_type": "execute_result"
    },
    {
     "data": {
      "text/html": [
       "<div>\n",
       "<style scoped>\n",
       "    .dataframe tbody tr th:only-of-type {\n",
       "        vertical-align: middle;\n",
       "    }\n",
       "\n",
       "    .dataframe tbody tr th {\n",
       "        vertical-align: top;\n",
       "    }\n",
       "\n",
       "    .dataframe thead th {\n",
       "        text-align: right;\n",
       "    }\n",
       "</style>\n",
       "<table border=\"1\" class=\"dataframe\">\n",
       "  <thead>\n",
       "    <tr style=\"text-align: right;\">\n",
       "      <th></th>\n",
       "      <th>1week_before_AD_Cv</th>\n",
       "      <th>1week_before_AD_Pv</th>\n",
       "      <th>1week_before_AD_Sv</th>\n",
       "      <th>1week_before_AVG_COEF</th>\n",
       "      <th>1week_before_B_Cv</th>\n",
       "      <th>1week_before_B_Sv</th>\n",
       "      <th>1week_before_Density</th>\n",
       "      <th>1week_before_Modularity</th>\n",
       "      <th>1week_before_infected</th>\n",
       "      <th>2week_before_AD_Cv</th>\n",
       "      <th>2week_before_AD_Pv</th>\n",
       "      <th>2week_before_AD_Sv</th>\n",
       "      <th>2week_before_AVG_COEF</th>\n",
       "      <th>2week_before_B_Cv</th>\n",
       "      <th>2week_before_B_Sv</th>\n",
       "      <th>2week_before_Density</th>\n",
       "      <th>2week_before_Modularity</th>\n",
       "      <th>2week_before_infected</th>\n",
       "      <th>Date</th>\n",
       "      <th>infected</th>\n",
       "    </tr>\n",
       "  </thead>\n",
       "  <tbody>\n",
       "    <tr>\n",
       "      <td>305</td>\n",
       "      <td>0.000083</td>\n",
       "      <td>0.000062</td>\n",
       "      <td>0.003164</td>\n",
       "      <td>4.431349</td>\n",
       "      <td>0.025226</td>\n",
       "      <td>1.500792</td>\n",
       "      <td>0.002654</td>\n",
       "      <td>0.005241</td>\n",
       "      <td>38.693878</td>\n",
       "      <td>0.000087</td>\n",
       "      <td>0.000065</td>\n",
       "      <td>0.003254</td>\n",
       "      <td>3.709542</td>\n",
       "      <td>0.025946</td>\n",
       "      <td>1.500815</td>\n",
       "      <td>0.00277</td>\n",
       "      <td>0.005467</td>\n",
       "      <td>38.622449</td>\n",
       "      <td>2020-11-30</td>\n",
       "      <td>62.714286</td>\n",
       "    </tr>\n",
       "  </tbody>\n",
       "</table>\n",
       "</div>"
      ],
      "text/plain": [
       "     1week_before_AD_Cv  1week_before_AD_Pv  1week_before_AD_Sv  \\\n",
       "305            0.000083            0.000062            0.003164   \n",
       "\n",
       "     1week_before_AVG_COEF  1week_before_B_Cv  1week_before_B_Sv  \\\n",
       "305               4.431349           0.025226           1.500792   \n",
       "\n",
       "     1week_before_Density  1week_before_Modularity  1week_before_infected  \\\n",
       "305              0.002654                 0.005241              38.693878   \n",
       "\n",
       "     2week_before_AD_Cv  2week_before_AD_Pv  2week_before_AD_Sv  \\\n",
       "305            0.000087            0.000065            0.003254   \n",
       "\n",
       "     2week_before_AVG_COEF  2week_before_B_Cv  2week_before_B_Sv  \\\n",
       "305               3.709542           0.025946           1.500815   \n",
       "\n",
       "     2week_before_Density  2week_before_Modularity  2week_before_infected  \\\n",
       "305               0.00277                 0.005467              38.622449   \n",
       "\n",
       "          Date   infected  \n",
       "305 2020-11-30  62.714286  "
      ]
     },
     "execution_count": 186,
     "metadata": {},
     "output_type": "execute_result"
    }
   ],
   "source": [
    "total[total['Date']=='2020-11-28']\n",
    "total[total['Date']=='2020-11-29']\n",
    "total[total['Date']=='2020-11-30']"
   ]
  },
  {
   "cell_type": "code",
   "execution_count": 182,
   "metadata": {},
   "outputs": [],
   "source": [
    "sam = pd.DataFrame({'actual':y_test, 'pred':y_pred, 'date':pd.date_range(start='12/01/2020',end='12/31/2020')})"
   ]
  },
  {
   "cell_type": "code",
   "execution_count": 183,
   "metadata": {},
   "outputs": [
    {
     "data": {
      "application/vnd.plotly.v1+json": {
       "config": {
        "plotlyServerURL": "https://plot.ly"
       },
       "data": [
        {
         "hovertemplate": "variable=actual<br>date=%{x}<br>value=%{y}<extra></extra>",
         "legendgroup": "actual",
         "line": {
          "color": "#636efa",
          "dash": "solid"
         },
         "mode": "lines",
         "name": "actual",
         "orientation": "v",
         "showlegend": true,
         "type": "scatter",
         "x": [
          "2020-12-01T00:00:00",
          "2020-12-02T00:00:00",
          "2020-12-03T00:00:00",
          "2020-12-04T00:00:00",
          "2020-12-05T00:00:00",
          "2020-12-06T00:00:00",
          "2020-12-07T00:00:00",
          "2020-12-08T00:00:00",
          "2020-12-09T00:00:00",
          "2020-12-10T00:00:00",
          "2020-12-11T00:00:00",
          "2020-12-12T00:00:00",
          "2020-12-13T00:00:00",
          "2020-12-14T00:00:00",
          "2020-12-15T00:00:00",
          "2020-12-16T00:00:00",
          "2020-12-17T00:00:00",
          "2020-12-18T00:00:00",
          "2020-12-19T00:00:00",
          "2020-12-20T00:00:00",
          "2020-12-21T00:00:00",
          "2020-12-22T00:00:00",
          "2020-12-23T00:00:00",
          "2020-12-24T00:00:00",
          "2020-12-25T00:00:00",
          "2020-12-26T00:00:00",
          "2020-12-27T00:00:00",
          "2020-12-28T00:00:00",
          "2020-12-29T00:00:00",
          "2020-12-30T00:00:00",
          "2020-12-31T00:00:00"
         ],
         "xaxis": "x",
         "y": [
          63.142857142857146,
          67.28571428571429,
          67,
          65.14285714285714,
          60.285714285714285,
          54.142857142857146,
          43.57142857142857,
          40.142857142857146,
          32.857142857142854,
          27.571428571428573,
          25.428571428571427,
          24.428571428571427,
          22.571428571428573,
          23.285714285714285,
          21.571428571428573,
          20.285714285714285,
          22.142857142857142,
          24.571428571428573,
          27.285714285714285,
          27.142857142857142,
          24.571428571428573,
          28.571428571428573,
          28.285714285714285,
          25.857142857142858,
          22,
          21.857142857142858,
          22.285714285714285,
          22.142857142857142,
          15.571428571428571,
          13.857142857142858,
          13.285714285714286
         ],
         "yaxis": "y"
        },
        {
         "hovertemplate": "variable=pred<br>date=%{x}<br>value=%{y}<extra></extra>",
         "legendgroup": "pred",
         "line": {
          "color": "#EF553B",
          "dash": "solid"
         },
         "mode": "lines",
         "name": "pred",
         "orientation": "v",
         "showlegend": true,
         "type": "scatter",
         "x": [
          "2020-12-01T00:00:00",
          "2020-12-02T00:00:00",
          "2020-12-03T00:00:00",
          "2020-12-04T00:00:00",
          "2020-12-05T00:00:00",
          "2020-12-06T00:00:00",
          "2020-12-07T00:00:00",
          "2020-12-08T00:00:00",
          "2020-12-09T00:00:00",
          "2020-12-10T00:00:00",
          "2020-12-11T00:00:00",
          "2020-12-12T00:00:00",
          "2020-12-13T00:00:00",
          "2020-12-14T00:00:00",
          "2020-12-15T00:00:00",
          "2020-12-16T00:00:00",
          "2020-12-17T00:00:00",
          "2020-12-18T00:00:00",
          "2020-12-19T00:00:00",
          "2020-12-20T00:00:00",
          "2020-12-21T00:00:00",
          "2020-12-22T00:00:00",
          "2020-12-23T00:00:00",
          "2020-12-24T00:00:00",
          "2020-12-25T00:00:00",
          "2020-12-26T00:00:00",
          "2020-12-27T00:00:00",
          "2020-12-28T00:00:00",
          "2020-12-29T00:00:00",
          "2020-12-30T00:00:00",
          "2020-12-31T00:00:00"
         ],
         "xaxis": "x",
         "y": [
          40.979448671765965,
          40.95304579411859,
          40.645967908517505,
          39.684419749141156,
          38.632716460201536,
          37.90294758253047,
          36.84390560595342,
          35.3981366188486,
          33.990313896594685,
          32.74785466906086,
          31.733788810860794,
          30.846935506553336,
          30.113637521021545,
          29.83336839872293,
          29.799685447247047,
          29.80207284765451,
          29.772832932675325,
          29.46292221981128,
          28.68349501274165,
          27.611990165443437,
          26.060080605147316,
          24.176177354185008,
          22.039748485379107,
          19.77070331655874,
          17.687985082115016,
          15.925656611511283,
          14.126248586711487,
          12.418008164554262,
          11.117307409394488,
          9.936189920080997,
          8.746756579813226
         ],
         "yaxis": "y"
        }
       ],
       "layout": {
        "height": 600,
        "legend": {
         "title": {
          "text": "variable"
         },
         "tracegroupgap": 0
        },
        "margin": {
         "t": 60
        },
        "plot_bgcolor": "white",
        "template": {
         "data": {
          "bar": [
           {
            "error_x": {
             "color": "#2a3f5f"
            },
            "error_y": {
             "color": "#2a3f5f"
            },
            "marker": {
             "line": {
              "color": "#E5ECF6",
              "width": 0.5
             }
            },
            "type": "bar"
           }
          ],
          "barpolar": [
           {
            "marker": {
             "line": {
              "color": "#E5ECF6",
              "width": 0.5
             }
            },
            "type": "barpolar"
           }
          ],
          "carpet": [
           {
            "aaxis": {
             "endlinecolor": "#2a3f5f",
             "gridcolor": "white",
             "linecolor": "white",
             "minorgridcolor": "white",
             "startlinecolor": "#2a3f5f"
            },
            "baxis": {
             "endlinecolor": "#2a3f5f",
             "gridcolor": "white",
             "linecolor": "white",
             "minorgridcolor": "white",
             "startlinecolor": "#2a3f5f"
            },
            "type": "carpet"
           }
          ],
          "choropleth": [
           {
            "colorbar": {
             "outlinewidth": 0,
             "ticks": ""
            },
            "type": "choropleth"
           }
          ],
          "contour": [
           {
            "colorbar": {
             "outlinewidth": 0,
             "ticks": ""
            },
            "colorscale": [
             [
              0,
              "#0d0887"
             ],
             [
              0.1111111111111111,
              "#46039f"
             ],
             [
              0.2222222222222222,
              "#7201a8"
             ],
             [
              0.3333333333333333,
              "#9c179e"
             ],
             [
              0.4444444444444444,
              "#bd3786"
             ],
             [
              0.5555555555555556,
              "#d8576b"
             ],
             [
              0.6666666666666666,
              "#ed7953"
             ],
             [
              0.7777777777777778,
              "#fb9f3a"
             ],
             [
              0.8888888888888888,
              "#fdca26"
             ],
             [
              1,
              "#f0f921"
             ]
            ],
            "type": "contour"
           }
          ],
          "contourcarpet": [
           {
            "colorbar": {
             "outlinewidth": 0,
             "ticks": ""
            },
            "type": "contourcarpet"
           }
          ],
          "heatmap": [
           {
            "colorbar": {
             "outlinewidth": 0,
             "ticks": ""
            },
            "colorscale": [
             [
              0,
              "#0d0887"
             ],
             [
              0.1111111111111111,
              "#46039f"
             ],
             [
              0.2222222222222222,
              "#7201a8"
             ],
             [
              0.3333333333333333,
              "#9c179e"
             ],
             [
              0.4444444444444444,
              "#bd3786"
             ],
             [
              0.5555555555555556,
              "#d8576b"
             ],
             [
              0.6666666666666666,
              "#ed7953"
             ],
             [
              0.7777777777777778,
              "#fb9f3a"
             ],
             [
              0.8888888888888888,
              "#fdca26"
             ],
             [
              1,
              "#f0f921"
             ]
            ],
            "type": "heatmap"
           }
          ],
          "heatmapgl": [
           {
            "colorbar": {
             "outlinewidth": 0,
             "ticks": ""
            },
            "colorscale": [
             [
              0,
              "#0d0887"
             ],
             [
              0.1111111111111111,
              "#46039f"
             ],
             [
              0.2222222222222222,
              "#7201a8"
             ],
             [
              0.3333333333333333,
              "#9c179e"
             ],
             [
              0.4444444444444444,
              "#bd3786"
             ],
             [
              0.5555555555555556,
              "#d8576b"
             ],
             [
              0.6666666666666666,
              "#ed7953"
             ],
             [
              0.7777777777777778,
              "#fb9f3a"
             ],
             [
              0.8888888888888888,
              "#fdca26"
             ],
             [
              1,
              "#f0f921"
             ]
            ],
            "type": "heatmapgl"
           }
          ],
          "histogram": [
           {
            "marker": {
             "colorbar": {
              "outlinewidth": 0,
              "ticks": ""
             }
            },
            "type": "histogram"
           }
          ],
          "histogram2d": [
           {
            "colorbar": {
             "outlinewidth": 0,
             "ticks": ""
            },
            "colorscale": [
             [
              0,
              "#0d0887"
             ],
             [
              0.1111111111111111,
              "#46039f"
             ],
             [
              0.2222222222222222,
              "#7201a8"
             ],
             [
              0.3333333333333333,
              "#9c179e"
             ],
             [
              0.4444444444444444,
              "#bd3786"
             ],
             [
              0.5555555555555556,
              "#d8576b"
             ],
             [
              0.6666666666666666,
              "#ed7953"
             ],
             [
              0.7777777777777778,
              "#fb9f3a"
             ],
             [
              0.8888888888888888,
              "#fdca26"
             ],
             [
              1,
              "#f0f921"
             ]
            ],
            "type": "histogram2d"
           }
          ],
          "histogram2dcontour": [
           {
            "colorbar": {
             "outlinewidth": 0,
             "ticks": ""
            },
            "colorscale": [
             [
              0,
              "#0d0887"
             ],
             [
              0.1111111111111111,
              "#46039f"
             ],
             [
              0.2222222222222222,
              "#7201a8"
             ],
             [
              0.3333333333333333,
              "#9c179e"
             ],
             [
              0.4444444444444444,
              "#bd3786"
             ],
             [
              0.5555555555555556,
              "#d8576b"
             ],
             [
              0.6666666666666666,
              "#ed7953"
             ],
             [
              0.7777777777777778,
              "#fb9f3a"
             ],
             [
              0.8888888888888888,
              "#fdca26"
             ],
             [
              1,
              "#f0f921"
             ]
            ],
            "type": "histogram2dcontour"
           }
          ],
          "mesh3d": [
           {
            "colorbar": {
             "outlinewidth": 0,
             "ticks": ""
            },
            "type": "mesh3d"
           }
          ],
          "parcoords": [
           {
            "line": {
             "colorbar": {
              "outlinewidth": 0,
              "ticks": ""
             }
            },
            "type": "parcoords"
           }
          ],
          "pie": [
           {
            "automargin": true,
            "type": "pie"
           }
          ],
          "scatter": [
           {
            "marker": {
             "colorbar": {
              "outlinewidth": 0,
              "ticks": ""
             }
            },
            "type": "scatter"
           }
          ],
          "scatter3d": [
           {
            "line": {
             "colorbar": {
              "outlinewidth": 0,
              "ticks": ""
             }
            },
            "marker": {
             "colorbar": {
              "outlinewidth": 0,
              "ticks": ""
             }
            },
            "type": "scatter3d"
           }
          ],
          "scattercarpet": [
           {
            "marker": {
             "colorbar": {
              "outlinewidth": 0,
              "ticks": ""
             }
            },
            "type": "scattercarpet"
           }
          ],
          "scattergeo": [
           {
            "marker": {
             "colorbar": {
              "outlinewidth": 0,
              "ticks": ""
             }
            },
            "type": "scattergeo"
           }
          ],
          "scattergl": [
           {
            "marker": {
             "colorbar": {
              "outlinewidth": 0,
              "ticks": ""
             }
            },
            "type": "scattergl"
           }
          ],
          "scattermapbox": [
           {
            "marker": {
             "colorbar": {
              "outlinewidth": 0,
              "ticks": ""
             }
            },
            "type": "scattermapbox"
           }
          ],
          "scatterpolar": [
           {
            "marker": {
             "colorbar": {
              "outlinewidth": 0,
              "ticks": ""
             }
            },
            "type": "scatterpolar"
           }
          ],
          "scatterpolargl": [
           {
            "marker": {
             "colorbar": {
              "outlinewidth": 0,
              "ticks": ""
             }
            },
            "type": "scatterpolargl"
           }
          ],
          "scatterternary": [
           {
            "marker": {
             "colorbar": {
              "outlinewidth": 0,
              "ticks": ""
             }
            },
            "type": "scatterternary"
           }
          ],
          "surface": [
           {
            "colorbar": {
             "outlinewidth": 0,
             "ticks": ""
            },
            "colorscale": [
             [
              0,
              "#0d0887"
             ],
             [
              0.1111111111111111,
              "#46039f"
             ],
             [
              0.2222222222222222,
              "#7201a8"
             ],
             [
              0.3333333333333333,
              "#9c179e"
             ],
             [
              0.4444444444444444,
              "#bd3786"
             ],
             [
              0.5555555555555556,
              "#d8576b"
             ],
             [
              0.6666666666666666,
              "#ed7953"
             ],
             [
              0.7777777777777778,
              "#fb9f3a"
             ],
             [
              0.8888888888888888,
              "#fdca26"
             ],
             [
              1,
              "#f0f921"
             ]
            ],
            "type": "surface"
           }
          ],
          "table": [
           {
            "cells": {
             "fill": {
              "color": "#EBF0F8"
             },
             "line": {
              "color": "white"
             }
            },
            "header": {
             "fill": {
              "color": "#C8D4E3"
             },
             "line": {
              "color": "white"
             }
            },
            "type": "table"
           }
          ]
         },
         "layout": {
          "annotationdefaults": {
           "arrowcolor": "#2a3f5f",
           "arrowhead": 0,
           "arrowwidth": 1
          },
          "coloraxis": {
           "colorbar": {
            "outlinewidth": 0,
            "ticks": ""
           }
          },
          "colorscale": {
           "diverging": [
            [
             0,
             "#8e0152"
            ],
            [
             0.1,
             "#c51b7d"
            ],
            [
             0.2,
             "#de77ae"
            ],
            [
             0.3,
             "#f1b6da"
            ],
            [
             0.4,
             "#fde0ef"
            ],
            [
             0.5,
             "#f7f7f7"
            ],
            [
             0.6,
             "#e6f5d0"
            ],
            [
             0.7,
             "#b8e186"
            ],
            [
             0.8,
             "#7fbc41"
            ],
            [
             0.9,
             "#4d9221"
            ],
            [
             1,
             "#276419"
            ]
           ],
           "sequential": [
            [
             0,
             "#0d0887"
            ],
            [
             0.1111111111111111,
             "#46039f"
            ],
            [
             0.2222222222222222,
             "#7201a8"
            ],
            [
             0.3333333333333333,
             "#9c179e"
            ],
            [
             0.4444444444444444,
             "#bd3786"
            ],
            [
             0.5555555555555556,
             "#d8576b"
            ],
            [
             0.6666666666666666,
             "#ed7953"
            ],
            [
             0.7777777777777778,
             "#fb9f3a"
            ],
            [
             0.8888888888888888,
             "#fdca26"
            ],
            [
             1,
             "#f0f921"
            ]
           ],
           "sequentialminus": [
            [
             0,
             "#0d0887"
            ],
            [
             0.1111111111111111,
             "#46039f"
            ],
            [
             0.2222222222222222,
             "#7201a8"
            ],
            [
             0.3333333333333333,
             "#9c179e"
            ],
            [
             0.4444444444444444,
             "#bd3786"
            ],
            [
             0.5555555555555556,
             "#d8576b"
            ],
            [
             0.6666666666666666,
             "#ed7953"
            ],
            [
             0.7777777777777778,
             "#fb9f3a"
            ],
            [
             0.8888888888888888,
             "#fdca26"
            ],
            [
             1,
             "#f0f921"
            ]
           ]
          },
          "colorway": [
           "#636efa",
           "#EF553B",
           "#00cc96",
           "#ab63fa",
           "#FFA15A",
           "#19d3f3",
           "#FF6692",
           "#B6E880",
           "#FF97FF",
           "#FECB52"
          ],
          "font": {
           "color": "#2a3f5f"
          },
          "geo": {
           "bgcolor": "white",
           "lakecolor": "white",
           "landcolor": "#E5ECF6",
           "showlakes": true,
           "showland": true,
           "subunitcolor": "white"
          },
          "hoverlabel": {
           "align": "left"
          },
          "hovermode": "closest",
          "mapbox": {
           "style": "light"
          },
          "paper_bgcolor": "white",
          "plot_bgcolor": "#E5ECF6",
          "polar": {
           "angularaxis": {
            "gridcolor": "white",
            "linecolor": "white",
            "ticks": ""
           },
           "bgcolor": "#E5ECF6",
           "radialaxis": {
            "gridcolor": "white",
            "linecolor": "white",
            "ticks": ""
           }
          },
          "scene": {
           "xaxis": {
            "backgroundcolor": "#E5ECF6",
            "gridcolor": "white",
            "gridwidth": 2,
            "linecolor": "white",
            "showbackground": true,
            "ticks": "",
            "zerolinecolor": "white"
           },
           "yaxis": {
            "backgroundcolor": "#E5ECF6",
            "gridcolor": "white",
            "gridwidth": 2,
            "linecolor": "white",
            "showbackground": true,
            "ticks": "",
            "zerolinecolor": "white"
           },
           "zaxis": {
            "backgroundcolor": "#E5ECF6",
            "gridcolor": "white",
            "gridwidth": 2,
            "linecolor": "white",
            "showbackground": true,
            "ticks": "",
            "zerolinecolor": "white"
           }
          },
          "shapedefaults": {
           "line": {
            "color": "#2a3f5f"
           }
          },
          "ternary": {
           "aaxis": {
            "gridcolor": "white",
            "linecolor": "white",
            "ticks": ""
           },
           "baxis": {
            "gridcolor": "white",
            "linecolor": "white",
            "ticks": ""
           },
           "bgcolor": "#E5ECF6",
           "caxis": {
            "gridcolor": "white",
            "linecolor": "white",
            "ticks": ""
           }
          },
          "title": {
           "x": 0.05
          },
          "xaxis": {
           "automargin": true,
           "gridcolor": "white",
           "linecolor": "white",
           "ticks": "",
           "title": {
            "standoff": 15
           },
           "zerolinecolor": "white",
           "zerolinewidth": 2
          },
          "yaxis": {
           "automargin": true,
           "gridcolor": "white",
           "linecolor": "white",
           "ticks": "",
           "title": {
            "standoff": 15
           },
           "zerolinecolor": "white",
           "zerolinewidth": 2
          }
         }
        },
        "title": {
         "text": "Density"
        },
        "width": 900,
        "xaxis": {
         "anchor": "y",
         "domain": [
          0,
          1
         ],
         "showgrid": false,
         "title": {
          "text": "date"
         }
        },
        "yaxis": {
         "anchor": "x",
         "domain": [
          0,
          1
         ],
         "showgrid": false,
         "title": {
          "text": "value"
         }
        }
       }
      },
      "text/html": [
       "<div>\n",
       "        \n",
       "        \n",
       "            <div id=\"2df7db0c-2c4b-4f8a-8e12-51388bcbd424\" class=\"plotly-graph-div\" style=\"height:600px; width:900px;\"></div>\n",
       "            <script type=\"text/javascript\">\n",
       "                require([\"plotly\"], function(Plotly) {\n",
       "                    window.PLOTLYENV=window.PLOTLYENV || {};\n",
       "                    \n",
       "                if (document.getElementById(\"2df7db0c-2c4b-4f8a-8e12-51388bcbd424\")) {\n",
       "                    Plotly.newPlot(\n",
       "                        '2df7db0c-2c4b-4f8a-8e12-51388bcbd424',\n",
       "                        [{\"hovertemplate\": \"variable=actual<br>date=%{x}<br>value=%{y}<extra></extra>\", \"legendgroup\": \"actual\", \"line\": {\"color\": \"#636efa\", \"dash\": \"solid\"}, \"mode\": \"lines\", \"name\": \"actual\", \"orientation\": \"v\", \"showlegend\": true, \"type\": \"scatter\", \"x\": [\"2020-12-01T00:00:00\", \"2020-12-02T00:00:00\", \"2020-12-03T00:00:00\", \"2020-12-04T00:00:00\", \"2020-12-05T00:00:00\", \"2020-12-06T00:00:00\", \"2020-12-07T00:00:00\", \"2020-12-08T00:00:00\", \"2020-12-09T00:00:00\", \"2020-12-10T00:00:00\", \"2020-12-11T00:00:00\", \"2020-12-12T00:00:00\", \"2020-12-13T00:00:00\", \"2020-12-14T00:00:00\", \"2020-12-15T00:00:00\", \"2020-12-16T00:00:00\", \"2020-12-17T00:00:00\", \"2020-12-18T00:00:00\", \"2020-12-19T00:00:00\", \"2020-12-20T00:00:00\", \"2020-12-21T00:00:00\", \"2020-12-22T00:00:00\", \"2020-12-23T00:00:00\", \"2020-12-24T00:00:00\", \"2020-12-25T00:00:00\", \"2020-12-26T00:00:00\", \"2020-12-27T00:00:00\", \"2020-12-28T00:00:00\", \"2020-12-29T00:00:00\", \"2020-12-30T00:00:00\", \"2020-12-31T00:00:00\"], \"xaxis\": \"x\", \"y\": [63.142857142857146, 67.28571428571429, 67.0, 65.14285714285714, 60.285714285714285, 54.142857142857146, 43.57142857142857, 40.142857142857146, 32.857142857142854, 27.571428571428573, 25.428571428571427, 24.428571428571427, 22.571428571428573, 23.285714285714285, 21.571428571428573, 20.285714285714285, 22.142857142857142, 24.571428571428573, 27.285714285714285, 27.142857142857142, 24.571428571428573, 28.571428571428573, 28.285714285714285, 25.857142857142858, 22.0, 21.857142857142858, 22.285714285714285, 22.142857142857142, 15.571428571428571, 13.857142857142858, 13.285714285714286], \"yaxis\": \"y\"}, {\"hovertemplate\": \"variable=pred<br>date=%{x}<br>value=%{y}<extra></extra>\", \"legendgroup\": \"pred\", \"line\": {\"color\": \"#EF553B\", \"dash\": \"solid\"}, \"mode\": \"lines\", \"name\": \"pred\", \"orientation\": \"v\", \"showlegend\": true, \"type\": \"scatter\", \"x\": [\"2020-12-01T00:00:00\", \"2020-12-02T00:00:00\", \"2020-12-03T00:00:00\", \"2020-12-04T00:00:00\", \"2020-12-05T00:00:00\", \"2020-12-06T00:00:00\", \"2020-12-07T00:00:00\", \"2020-12-08T00:00:00\", \"2020-12-09T00:00:00\", \"2020-12-10T00:00:00\", \"2020-12-11T00:00:00\", \"2020-12-12T00:00:00\", \"2020-12-13T00:00:00\", \"2020-12-14T00:00:00\", \"2020-12-15T00:00:00\", \"2020-12-16T00:00:00\", \"2020-12-17T00:00:00\", \"2020-12-18T00:00:00\", \"2020-12-19T00:00:00\", \"2020-12-20T00:00:00\", \"2020-12-21T00:00:00\", \"2020-12-22T00:00:00\", \"2020-12-23T00:00:00\", \"2020-12-24T00:00:00\", \"2020-12-25T00:00:00\", \"2020-12-26T00:00:00\", \"2020-12-27T00:00:00\", \"2020-12-28T00:00:00\", \"2020-12-29T00:00:00\", \"2020-12-30T00:00:00\", \"2020-12-31T00:00:00\"], \"xaxis\": \"x\", \"y\": [40.979448671765965, 40.95304579411859, 40.645967908517505, 39.684419749141156, 38.632716460201536, 37.90294758253047, 36.84390560595342, 35.3981366188486, 33.990313896594685, 32.74785466906086, 31.733788810860794, 30.846935506553336, 30.113637521021545, 29.83336839872293, 29.799685447247047, 29.80207284765451, 29.772832932675325, 29.46292221981128, 28.68349501274165, 27.611990165443437, 26.060080605147316, 24.176177354185008, 22.039748485379107, 19.77070331655874, 17.687985082115016, 15.925656611511283, 14.126248586711487, 12.418008164554262, 11.117307409394488, 9.936189920080997, 8.746756579813226], \"yaxis\": \"y\"}],\n",
       "                        {\"height\": 600, \"legend\": {\"title\": {\"text\": \"variable\"}, \"tracegroupgap\": 0}, \"margin\": {\"t\": 60}, \"plot_bgcolor\": \"white\", \"template\": {\"data\": {\"bar\": [{\"error_x\": {\"color\": \"#2a3f5f\"}, \"error_y\": {\"color\": \"#2a3f5f\"}, \"marker\": {\"line\": {\"color\": \"#E5ECF6\", \"width\": 0.5}}, \"type\": \"bar\"}], \"barpolar\": [{\"marker\": {\"line\": {\"color\": \"#E5ECF6\", \"width\": 0.5}}, \"type\": \"barpolar\"}], \"carpet\": [{\"aaxis\": {\"endlinecolor\": \"#2a3f5f\", \"gridcolor\": \"white\", \"linecolor\": \"white\", \"minorgridcolor\": \"white\", \"startlinecolor\": \"#2a3f5f\"}, \"baxis\": {\"endlinecolor\": \"#2a3f5f\", \"gridcolor\": \"white\", \"linecolor\": \"white\", \"minorgridcolor\": \"white\", \"startlinecolor\": \"#2a3f5f\"}, \"type\": \"carpet\"}], \"choropleth\": [{\"colorbar\": {\"outlinewidth\": 0, \"ticks\": \"\"}, \"type\": \"choropleth\"}], \"contour\": [{\"colorbar\": {\"outlinewidth\": 0, \"ticks\": \"\"}, \"colorscale\": [[0.0, \"#0d0887\"], [0.1111111111111111, \"#46039f\"], [0.2222222222222222, \"#7201a8\"], [0.3333333333333333, \"#9c179e\"], [0.4444444444444444, \"#bd3786\"], [0.5555555555555556, \"#d8576b\"], [0.6666666666666666, \"#ed7953\"], [0.7777777777777778, \"#fb9f3a\"], [0.8888888888888888, \"#fdca26\"], [1.0, \"#f0f921\"]], \"type\": \"contour\"}], \"contourcarpet\": [{\"colorbar\": {\"outlinewidth\": 0, \"ticks\": \"\"}, \"type\": \"contourcarpet\"}], \"heatmap\": [{\"colorbar\": {\"outlinewidth\": 0, \"ticks\": \"\"}, \"colorscale\": [[0.0, \"#0d0887\"], [0.1111111111111111, \"#46039f\"], [0.2222222222222222, \"#7201a8\"], [0.3333333333333333, \"#9c179e\"], [0.4444444444444444, \"#bd3786\"], [0.5555555555555556, \"#d8576b\"], [0.6666666666666666, \"#ed7953\"], [0.7777777777777778, \"#fb9f3a\"], [0.8888888888888888, \"#fdca26\"], [1.0, \"#f0f921\"]], \"type\": \"heatmap\"}], \"heatmapgl\": [{\"colorbar\": {\"outlinewidth\": 0, \"ticks\": \"\"}, \"colorscale\": [[0.0, \"#0d0887\"], [0.1111111111111111, \"#46039f\"], [0.2222222222222222, \"#7201a8\"], [0.3333333333333333, \"#9c179e\"], [0.4444444444444444, \"#bd3786\"], [0.5555555555555556, \"#d8576b\"], [0.6666666666666666, \"#ed7953\"], [0.7777777777777778, \"#fb9f3a\"], [0.8888888888888888, \"#fdca26\"], [1.0, \"#f0f921\"]], \"type\": \"heatmapgl\"}], \"histogram\": [{\"marker\": {\"colorbar\": {\"outlinewidth\": 0, \"ticks\": \"\"}}, \"type\": \"histogram\"}], \"histogram2d\": [{\"colorbar\": {\"outlinewidth\": 0, \"ticks\": \"\"}, \"colorscale\": [[0.0, \"#0d0887\"], [0.1111111111111111, \"#46039f\"], [0.2222222222222222, \"#7201a8\"], [0.3333333333333333, \"#9c179e\"], [0.4444444444444444, \"#bd3786\"], [0.5555555555555556, \"#d8576b\"], [0.6666666666666666, \"#ed7953\"], [0.7777777777777778, \"#fb9f3a\"], [0.8888888888888888, \"#fdca26\"], [1.0, \"#f0f921\"]], \"type\": \"histogram2d\"}], \"histogram2dcontour\": [{\"colorbar\": {\"outlinewidth\": 0, \"ticks\": \"\"}, \"colorscale\": [[0.0, \"#0d0887\"], [0.1111111111111111, \"#46039f\"], [0.2222222222222222, \"#7201a8\"], [0.3333333333333333, \"#9c179e\"], [0.4444444444444444, \"#bd3786\"], [0.5555555555555556, \"#d8576b\"], [0.6666666666666666, \"#ed7953\"], [0.7777777777777778, \"#fb9f3a\"], [0.8888888888888888, \"#fdca26\"], [1.0, \"#f0f921\"]], \"type\": \"histogram2dcontour\"}], \"mesh3d\": [{\"colorbar\": {\"outlinewidth\": 0, \"ticks\": \"\"}, \"type\": \"mesh3d\"}], \"parcoords\": [{\"line\": {\"colorbar\": {\"outlinewidth\": 0, \"ticks\": \"\"}}, \"type\": \"parcoords\"}], \"pie\": [{\"automargin\": true, \"type\": \"pie\"}], \"scatter\": [{\"marker\": {\"colorbar\": {\"outlinewidth\": 0, \"ticks\": \"\"}}, \"type\": \"scatter\"}], \"scatter3d\": [{\"line\": {\"colorbar\": {\"outlinewidth\": 0, \"ticks\": \"\"}}, \"marker\": {\"colorbar\": {\"outlinewidth\": 0, \"ticks\": \"\"}}, \"type\": \"scatter3d\"}], \"scattercarpet\": [{\"marker\": {\"colorbar\": {\"outlinewidth\": 0, \"ticks\": \"\"}}, \"type\": \"scattercarpet\"}], \"scattergeo\": [{\"marker\": {\"colorbar\": {\"outlinewidth\": 0, \"ticks\": \"\"}}, \"type\": \"scattergeo\"}], \"scattergl\": [{\"marker\": {\"colorbar\": {\"outlinewidth\": 0, \"ticks\": \"\"}}, \"type\": \"scattergl\"}], \"scattermapbox\": [{\"marker\": {\"colorbar\": {\"outlinewidth\": 0, \"ticks\": \"\"}}, \"type\": \"scattermapbox\"}], \"scatterpolar\": [{\"marker\": {\"colorbar\": {\"outlinewidth\": 0, \"ticks\": \"\"}}, \"type\": \"scatterpolar\"}], \"scatterpolargl\": [{\"marker\": {\"colorbar\": {\"outlinewidth\": 0, \"ticks\": \"\"}}, \"type\": \"scatterpolargl\"}], \"scatterternary\": [{\"marker\": {\"colorbar\": {\"outlinewidth\": 0, \"ticks\": \"\"}}, \"type\": \"scatterternary\"}], \"surface\": [{\"colorbar\": {\"outlinewidth\": 0, \"ticks\": \"\"}, \"colorscale\": [[0.0, \"#0d0887\"], [0.1111111111111111, \"#46039f\"], [0.2222222222222222, \"#7201a8\"], [0.3333333333333333, \"#9c179e\"], [0.4444444444444444, \"#bd3786\"], [0.5555555555555556, \"#d8576b\"], [0.6666666666666666, \"#ed7953\"], [0.7777777777777778, \"#fb9f3a\"], [0.8888888888888888, \"#fdca26\"], [1.0, \"#f0f921\"]], \"type\": \"surface\"}], \"table\": [{\"cells\": {\"fill\": {\"color\": \"#EBF0F8\"}, \"line\": {\"color\": \"white\"}}, \"header\": {\"fill\": {\"color\": \"#C8D4E3\"}, \"line\": {\"color\": \"white\"}}, \"type\": \"table\"}]}, \"layout\": {\"annotationdefaults\": {\"arrowcolor\": \"#2a3f5f\", \"arrowhead\": 0, \"arrowwidth\": 1}, \"coloraxis\": {\"colorbar\": {\"outlinewidth\": 0, \"ticks\": \"\"}}, \"colorscale\": {\"diverging\": [[0, \"#8e0152\"], [0.1, \"#c51b7d\"], [0.2, \"#de77ae\"], [0.3, \"#f1b6da\"], [0.4, \"#fde0ef\"], [0.5, \"#f7f7f7\"], [0.6, \"#e6f5d0\"], [0.7, \"#b8e186\"], [0.8, \"#7fbc41\"], [0.9, \"#4d9221\"], [1, \"#276419\"]], \"sequential\": [[0.0, \"#0d0887\"], [0.1111111111111111, \"#46039f\"], [0.2222222222222222, \"#7201a8\"], [0.3333333333333333, \"#9c179e\"], [0.4444444444444444, \"#bd3786\"], [0.5555555555555556, \"#d8576b\"], [0.6666666666666666, \"#ed7953\"], [0.7777777777777778, \"#fb9f3a\"], [0.8888888888888888, \"#fdca26\"], [1.0, \"#f0f921\"]], \"sequentialminus\": [[0.0, \"#0d0887\"], [0.1111111111111111, \"#46039f\"], [0.2222222222222222, \"#7201a8\"], [0.3333333333333333, \"#9c179e\"], [0.4444444444444444, \"#bd3786\"], [0.5555555555555556, \"#d8576b\"], [0.6666666666666666, \"#ed7953\"], [0.7777777777777778, \"#fb9f3a\"], [0.8888888888888888, \"#fdca26\"], [1.0, \"#f0f921\"]]}, \"colorway\": [\"#636efa\", \"#EF553B\", \"#00cc96\", \"#ab63fa\", \"#FFA15A\", \"#19d3f3\", \"#FF6692\", \"#B6E880\", \"#FF97FF\", \"#FECB52\"], \"font\": {\"color\": \"#2a3f5f\"}, \"geo\": {\"bgcolor\": \"white\", \"lakecolor\": \"white\", \"landcolor\": \"#E5ECF6\", \"showlakes\": true, \"showland\": true, \"subunitcolor\": \"white\"}, \"hoverlabel\": {\"align\": \"left\"}, \"hovermode\": \"closest\", \"mapbox\": {\"style\": \"light\"}, \"paper_bgcolor\": \"white\", \"plot_bgcolor\": \"#E5ECF6\", \"polar\": {\"angularaxis\": {\"gridcolor\": \"white\", \"linecolor\": \"white\", \"ticks\": \"\"}, \"bgcolor\": \"#E5ECF6\", \"radialaxis\": {\"gridcolor\": \"white\", \"linecolor\": \"white\", \"ticks\": \"\"}}, \"scene\": {\"xaxis\": {\"backgroundcolor\": \"#E5ECF6\", \"gridcolor\": \"white\", \"gridwidth\": 2, \"linecolor\": \"white\", \"showbackground\": true, \"ticks\": \"\", \"zerolinecolor\": \"white\"}, \"yaxis\": {\"backgroundcolor\": \"#E5ECF6\", \"gridcolor\": \"white\", \"gridwidth\": 2, \"linecolor\": \"white\", \"showbackground\": true, \"ticks\": \"\", \"zerolinecolor\": \"white\"}, \"zaxis\": {\"backgroundcolor\": \"#E5ECF6\", \"gridcolor\": \"white\", \"gridwidth\": 2, \"linecolor\": \"white\", \"showbackground\": true, \"ticks\": \"\", \"zerolinecolor\": \"white\"}}, \"shapedefaults\": {\"line\": {\"color\": \"#2a3f5f\"}}, \"ternary\": {\"aaxis\": {\"gridcolor\": \"white\", \"linecolor\": \"white\", \"ticks\": \"\"}, \"baxis\": {\"gridcolor\": \"white\", \"linecolor\": \"white\", \"ticks\": \"\"}, \"bgcolor\": \"#E5ECF6\", \"caxis\": {\"gridcolor\": \"white\", \"linecolor\": \"white\", \"ticks\": \"\"}}, \"title\": {\"x\": 0.05}, \"xaxis\": {\"automargin\": true, \"gridcolor\": \"white\", \"linecolor\": \"white\", \"ticks\": \"\", \"title\": {\"standoff\": 15}, \"zerolinecolor\": \"white\", \"zerolinewidth\": 2}, \"yaxis\": {\"automargin\": true, \"gridcolor\": \"white\", \"linecolor\": \"white\", \"ticks\": \"\", \"title\": {\"standoff\": 15}, \"zerolinecolor\": \"white\", \"zerolinewidth\": 2}}}, \"title\": {\"text\": \"Density\"}, \"width\": 900, \"xaxis\": {\"anchor\": \"y\", \"domain\": [0.0, 1.0], \"showgrid\": false, \"title\": {\"text\": \"date\"}}, \"yaxis\": {\"anchor\": \"x\", \"domain\": [0.0, 1.0], \"showgrid\": false, \"title\": {\"text\": \"value\"}}},\n",
       "                        {\"responsive\": true}\n",
       "                    ).then(function(){\n",
       "                            \n",
       "var gd = document.getElementById('2df7db0c-2c4b-4f8a-8e12-51388bcbd424');\n",
       "var x = new MutationObserver(function (mutations, observer) {{\n",
       "        var display = window.getComputedStyle(gd).display;\n",
       "        if (!display || display === 'none') {{\n",
       "            console.log([gd, 'removed!']);\n",
       "            Plotly.purge(gd);\n",
       "            observer.disconnect();\n",
       "        }}\n",
       "}});\n",
       "\n",
       "// Listen for the removal of the full notebook cells\n",
       "var notebookContainer = gd.closest('#notebook-container');\n",
       "if (notebookContainer) {{\n",
       "    x.observe(notebookContainer, {childList: true});\n",
       "}}\n",
       "\n",
       "// Listen for the clearing of the current output cell\n",
       "var outputEl = gd.closest('.output');\n",
       "if (outputEl) {{\n",
       "    x.observe(outputEl, {childList: true});\n",
       "}}\n",
       "\n",
       "                        })\n",
       "                };\n",
       "                });\n",
       "            </script>\n",
       "        </div>"
      ]
     },
     "metadata": {},
     "output_type": "display_data"
    }
   ],
   "source": [
    "fig = px.line(sam, x=\"date\", y=[\"actual\",\"pred\"])\n",
    "fig.update_layout(plot_bgcolor='white',xaxis_showgrid=False, \n",
    "              yaxis_showgrid=False,width=900, height=600,\n",
    "              title='Density')\n",
    "\n",
    "## 다소 선행"
   ]
  },
  {
   "cell_type": "markdown",
   "metadata": {},
   "source": [
    "## 5. 결론\n",
    "- 선형관계를 갖는 AVG_COEF와 AVG_INFECT는 Y변수와 linear model을 사용 시 mse를 매우 크게 낮춤 ( 상관관계가 매우 유의했기 때문에 ! )\n",
    "- 하지만 그 외의 AD_INDEX , B_INDEX, Density , Modularity는 지수함수 형태를 띄므로 exponential regression 시 mse를 낮춤\n",
    "\n",
    "- But linear regression이 확진자 수 예측에 훨씬 많은 기여를 하였음  : mse = 130 vs 274 "
   ]
  },
  {
   "cell_type": "code",
   "execution_count": null,
   "metadata": {},
   "outputs": [],
   "source": []
  },
  {
   "cell_type": "code",
   "execution_count": null,
   "metadata": {},
   "outputs": [],
   "source": []
  },
  {
   "cell_type": "code",
   "execution_count": 53,
   "metadata": {},
   "outputs": [],
   "source": [
    "X_train, y_train = train[train.columns.difference(['Date','infected'])] , train['infected']\n",
    "X_test, y_test = test[test.columns.difference(['Date','infected'])] , test['infected']"
   ]
  },
  {
   "cell_type": "code",
   "execution_count": 54,
   "metadata": {},
   "outputs": [
    {
     "data": {
      "text/plain": [
       "Index(['1week_before_AD_Cv', '1week_before_AD_Pv', '1week_before_AD_Sv',\n",
       "       '1week_before_AVG_COEF', '1week_before_B_Cv', '1week_before_B_Sv',\n",
       "       '1week_before_Density', '1week_before_Modularity',\n",
       "       '1week_before_infected', '2week_before_AD_Cv', '2week_before_AD_Pv',\n",
       "       '2week_before_AD_Sv', '2week_before_AVG_COEF', '2week_before_B_Cv',\n",
       "       '2week_before_B_Sv', '2week_before_Density', '2week_before_Modularity',\n",
       "       '2week_before_infected'],\n",
       "      dtype='object')"
      ]
     },
     "execution_count": 54,
     "metadata": {},
     "output_type": "execute_result"
    }
   ],
   "source": [
    "X_train.columns"
   ]
  },
  {
   "cell_type": "code",
   "execution_count": 60,
   "metadata": {},
   "outputs": [],
   "source": [
    "exp_fea = ['1week_before_AD_Cv', '1week_before_AD_Pv', '1week_before_AD_Sv', '1week_before_B_Cv', '1week_before_B_Sv',\n",
    "       '1week_before_Density', '1week_before_Modularity','2week_before_AD_Cv', '2week_before_AD_Pv',\n",
    "       '2week_before_AD_Sv',  '2week_before_B_Cv',\n",
    "       '2week_before_B_Sv', '2week_before_Density', '2week_before_Modularity']\n",
    "\n",
    "train[exp_fea] = np.exp(train[exp_fea])"
   ]
  },
  {
   "cell_type": "code",
   "execution_count": 61,
   "metadata": {},
   "outputs": [],
   "source": [
    "test[exp_fea] = np.exp(test[exp_fea])"
   ]
  },
  {
   "cell_type": "code",
   "execution_count": 63,
   "metadata": {
    "collapsed": true
   },
   "outputs": [
    {
     "data": {
      "text/plain": [
       "LinearRegression(copy_X=True, fit_intercept=True, n_jobs=None, normalize=False)"
      ]
     },
     "execution_count": 63,
     "metadata": {},
     "output_type": "execute_result"
    },
    {
     "data": {
      "text/plain": [
       "LinearRegression(copy_X=True, fit_intercept=True, n_jobs=None, normalize=False)"
      ]
     },
     "execution_count": 63,
     "metadata": {},
     "output_type": "execute_result"
    },
    {
     "data": {
      "text/plain": [
       "LinearRegression(copy_X=True, fit_intercept=True, n_jobs=None, normalize=False)"
      ]
     },
     "execution_count": 63,
     "metadata": {},
     "output_type": "execute_result"
    },
    {
     "data": {
      "text/plain": [
       "LinearRegression(copy_X=True, fit_intercept=True, n_jobs=None, normalize=False)"
      ]
     },
     "execution_count": 63,
     "metadata": {},
     "output_type": "execute_result"
    },
    {
     "data": {
      "text/plain": [
       "LinearRegression(copy_X=True, fit_intercept=True, n_jobs=None, normalize=False)"
      ]
     },
     "execution_count": 63,
     "metadata": {},
     "output_type": "execute_result"
    },
    {
     "data": {
      "text/plain": [
       "LinearRegression(copy_X=True, fit_intercept=True, n_jobs=None, normalize=False)"
      ]
     },
     "execution_count": 63,
     "metadata": {},
     "output_type": "execute_result"
    },
    {
     "data": {
      "text/plain": [
       "LinearRegression(copy_X=True, fit_intercept=True, n_jobs=None, normalize=False)"
      ]
     },
     "execution_count": 63,
     "metadata": {},
     "output_type": "execute_result"
    },
    {
     "data": {
      "text/plain": [
       "LinearRegression(copy_X=True, fit_intercept=True, n_jobs=None, normalize=False)"
      ]
     },
     "execution_count": 63,
     "metadata": {},
     "output_type": "execute_result"
    },
    {
     "data": {
      "text/plain": [
       "LinearRegression(copy_X=True, fit_intercept=True, n_jobs=None, normalize=False)"
      ]
     },
     "execution_count": 63,
     "metadata": {},
     "output_type": "execute_result"
    },
    {
     "data": {
      "text/plain": [
       "LinearRegression(copy_X=True, fit_intercept=True, n_jobs=None, normalize=False)"
      ]
     },
     "execution_count": 63,
     "metadata": {},
     "output_type": "execute_result"
    },
    {
     "data": {
      "text/plain": [
       "LinearRegression(copy_X=True, fit_intercept=True, n_jobs=None, normalize=False)"
      ]
     },
     "execution_count": 63,
     "metadata": {},
     "output_type": "execute_result"
    },
    {
     "data": {
      "text/plain": [
       "LinearRegression(copy_X=True, fit_intercept=True, n_jobs=None, normalize=False)"
      ]
     },
     "execution_count": 63,
     "metadata": {},
     "output_type": "execute_result"
    },
    {
     "data": {
      "text/plain": [
       "LinearRegression(copy_X=True, fit_intercept=True, n_jobs=None, normalize=False)"
      ]
     },
     "execution_count": 63,
     "metadata": {},
     "output_type": "execute_result"
    },
    {
     "data": {
      "text/plain": [
       "LinearRegression(copy_X=True, fit_intercept=True, n_jobs=None, normalize=False)"
      ]
     },
     "execution_count": 63,
     "metadata": {},
     "output_type": "execute_result"
    },
    {
     "data": {
      "text/plain": [
       "LinearRegression(copy_X=True, fit_intercept=True, n_jobs=None, normalize=False)"
      ]
     },
     "execution_count": 63,
     "metadata": {},
     "output_type": "execute_result"
    },
    {
     "data": {
      "text/plain": [
       "LinearRegression(copy_X=True, fit_intercept=True, n_jobs=None, normalize=False)"
      ]
     },
     "execution_count": 63,
     "metadata": {},
     "output_type": "execute_result"
    },
    {
     "data": {
      "text/plain": [
       "LinearRegression(copy_X=True, fit_intercept=True, n_jobs=None, normalize=False)"
      ]
     },
     "execution_count": 63,
     "metadata": {},
     "output_type": "execute_result"
    },
    {
     "data": {
      "text/plain": [
       "LinearRegression(copy_X=True, fit_intercept=True, n_jobs=None, normalize=False)"
      ]
     },
     "execution_count": 63,
     "metadata": {},
     "output_type": "execute_result"
    }
   ],
   "source": [
    "scores = []\n",
    "coef = []\n",
    "for i in range(18):\n",
    "    X_train , y_train = train.iloc[:,i] , train.iloc[:,19] # 20번째 컬럼이 infected y변수\n",
    "    X_test  , y_test  = test.iloc[:,i] , test.iloc[:,19]\n",
    "    model = LinearRegression()\n",
    "    model.fit(np.array(X_train).reshape(-1,1), y_train)\n",
    "    y_pred = model.predict(np.array(X_test).reshape(-1,1))\n",
    "    scores.append(mean_squared_error(y_test,y_pred))\n",
    "    coef.append(model.coef_[0])"
   ]
  },
  {
   "cell_type": "code",
   "execution_count": null,
   "metadata": {},
   "outputs": [],
   "source": []
  }
 ],
 "metadata": {
  "kernelspec": {
   "display_name": "Python 3",
   "language": "python",
   "name": "python3"
  },
  "language_info": {
   "codemirror_mode": {
    "name": "ipython",
    "version": 3
   },
   "file_extension": ".py",
   "mimetype": "text/x-python",
   "name": "python",
   "nbconvert_exporter": "python",
   "pygments_lexer": "ipython3",
   "version": "3.7.4"
  }
 },
 "nbformat": 4,
 "nbformat_minor": 2
}
