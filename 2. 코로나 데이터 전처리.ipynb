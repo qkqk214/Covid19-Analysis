{
 "cells": [
  {
   "cell_type": "code",
   "execution_count": 1,
   "metadata": {},
   "outputs": [],
   "source": [
    "import pandas as pd\n",
    "import numpy as np\n",
    "import matplotlib.pyplot as plt\n",
    "import seaborn as sns\n",
    "import math\n",
    "import warnings\n",
    "warnings.filterwarnings(action='ignore')\n",
    "\n",
    "from IPython.core.interactiveshell import InteractiveShell\n",
    "InteractiveShell.ast_node_interactivity ='all'\n",
    "\n",
    "import time\n",
    "from tqdm.notebook import tqdm\n",
    "\n",
    "import datetime\n",
    "from datetime import timedelta\n",
    "\n",
    "from datetime import datetime\n",
    "import re"
   ]
  },
  {
   "cell_type": "code",
   "execution_count": 64,
   "metadata": {},
   "outputs": [],
   "source": [
    "total = pd.read_excel('data.xlsx')\n",
    "aa = pd.read_excel('aadata.xlsx')\n",
    "bb = pd.read_excel('bbdata.xlsx')"
   ]
  },
  {
   "cell_type": "code",
   "execution_count": 65,
   "metadata": {},
   "outputs": [],
   "source": [
    "del aa[\"Unnamed: 0\"]\n",
    "del bb[\"Unnamed: 0\"]\n",
    "total.drop([\"Unnamed: 0\"],axis=1,inplace=True)"
   ]
  },
  {
   "cell_type": "code",
   "execution_count": 66,
   "metadata": {},
   "outputs": [],
   "source": [
    "total = pd.concat([total,aa])\n",
    "total = pd.concat([total,bb])\n",
    "total.drop(1100,inplace=True)\n",
    "total = total.reset_index(drop=True)"
   ]
  },
  {
   "cell_type": "code",
   "execution_count": 67,
   "metadata": {},
   "outputs": [],
   "source": [
    "total[\"날짜\"].fillna(method='ffill',inplace=True)\n",
    "total[\"부문\"].fillna(method='ffill',inplace=True)\n",
    "total[\"신문사\"].fillna(method='ffill',inplace=True)\n",
    "total[\"제목\"].fillna(method='ffill',inplace=True)"
   ]
  },
  {
   "cell_type": "markdown",
   "metadata": {},
   "source": [
    "### 데이터 병합"
   ]
  },
  {
   "cell_type": "code",
   "execution_count": 68,
   "metadata": {},
   "outputs": [],
   "source": [
    "df1= pd.read_excel(\"NewsResult_20200420-20200601.xlsx\")\n",
    "df2= pd.read_excel(\"NewsResult_20200602-20200715.xlsx\")\n",
    "df3= pd.read_excel(\"NewsResult_20200715-20200826.xlsx\")"
   ]
  },
  {
   "cell_type": "code",
   "execution_count": 69,
   "metadata": {},
   "outputs": [
    {
     "data": {
      "text/plain": [
       "Index(['날짜', '본문', '부문', '신문사', '제목'], dtype='object')"
      ]
     },
     "execution_count": 69,
     "metadata": {},
     "output_type": "execute_result"
    }
   ],
   "source": [
    "total.columns"
   ]
  },
  {
   "cell_type": "code",
   "execution_count": 70,
   "metadata": {},
   "outputs": [],
   "source": [
    "df1 = df1[[\"일자\",\"본문\",\"통합 분류1\",\"언론사\",\"제목\"]]\n",
    "df2 = df2[[\"일자\",\"본문\",\"통합 분류1\",\"언론사\",\"제목\"]]\n",
    "df3 = df3[[\"일자\",\"본문\",\"통합 분류1\",\"언론사\",\"제목\"]]"
   ]
  },
  {
   "cell_type": "code",
   "execution_count": 71,
   "metadata": {},
   "outputs": [],
   "source": [
    "df1.rename(columns= {'일자':'날짜','통합 분류1':'부문','언론사':'신문사'},inplace=True)\n",
    "df2.rename(columns= {'일자':'날짜','통합 분류1':'부문','언론사':'신문사'},inplace=True)\n",
    "df3.rename(columns={'일자':'날짜','통합 분류1':'부문','언론사':'신문사'},inplace=True)"
   ]
  },
  {
   "cell_type": "code",
   "execution_count": 72,
   "metadata": {},
   "outputs": [],
   "source": [
    "total.dropna(inplace=True)\n",
    "total = total.reset_index(drop=True)"
   ]
  },
  {
   "cell_type": "code",
   "execution_count": 73,
   "metadata": {},
   "outputs": [],
   "source": [
    "total = pd.concat([total,df1])\n",
    "total = pd.concat([total,df2])\n",
    "total = pd.concat([total,df3])"
   ]
  },
  {
   "cell_type": "code",
   "execution_count": 75,
   "metadata": {},
   "outputs": [],
   "source": [
    "total.dropna(inplace=True)"
   ]
  },
  {
   "cell_type": "markdown",
   "metadata": {},
   "source": [
    "### 날짜 전처리"
   ]
  },
  {
   "cell_type": "markdown",
   "metadata": {},
   "source": [
    "- 중복수집된 데이터 제거 (제목,본문을 기준으로)\n",
    "- 다른 컬럼은 중복될 수 밖에 없는 컬럼"
   ]
  },
  {
   "cell_type": "code",
   "execution_count": null,
   "metadata": {},
   "outputs": [],
   "source": [
    "total.drop_duplicates('제목',inplace=True)\n",
    "total.drop_duplicates('본문',inplace=True)"
   ]
  },
  {
   "cell_type": "code",
   "execution_count": 95,
   "metadata": {},
   "outputs": [],
   "source": [
    "total = total.reset_index(drop=True)"
   ]
  },
  {
   "cell_type": "markdown",
   "metadata": {},
   "source": [
    "- 정수형,문자열 날짜의 형식 표준화 '2020-02-01'"
   ]
  },
  {
   "cell_type": "code",
   "execution_count": 125,
   "metadata": {},
   "outputs": [
    {
     "data": {
      "application/vnd.jupyter.widget-view+json": {
       "model_id": "013f578a84644b35a057e6d830b5125c",
       "version_major": 2,
       "version_minor": 0
      },
      "text/plain": [
       "HBox(children=(IntProgress(value=0, max=50672), HTML(value='')))"
      ]
     },
     "metadata": {},
     "output_type": "display_data"
    },
    {
     "name": "stdout",
     "output_type": "stream",
     "text": [
      "\n"
     ]
    }
   ],
   "source": [
    "for i in tqdm(range(len(total))):\n",
    "    if type(total[\"날짜\"][i]) == str:\n",
    "        total[\"날짜\"][i] = total[\"날짜\"][i].replace(\"/\",\"-\")\n",
    "    elif type(total[\"날짜\"][i]) == int:\n",
    "        total[\"날짜\"][i] = str(total[\"날짜\"][i])[:4]+\"-\"+ str(total[\"날짜\"][i])[4:6]+\"-\"+str(total[\"날짜\"][i])[6:]\n",
    "    elif type(total[\"날짜\"][i]) == float:\n",
    "        total[\"날짜\"][i] = str(total[\"날짜\"][i])[:4]+\"-\"+ str(total[\"날짜\"][i])[4:6]+\"-\"+str(total[\"날짜\"][i])[6:8]\n",
    "    else:\n",
    "        continue"
   ]
  },
  {
   "cell_type": "markdown",
   "metadata": {},
   "source": [
    "- 문자열을 날짜형식으로 변환"
   ]
  },
  {
   "cell_type": "code",
   "execution_count": 126,
   "metadata": {},
   "outputs": [
    {
     "data": {
      "application/vnd.jupyter.widget-view+json": {
       "model_id": "0cd3705c5cc94542abaa4a157f6a6653",
       "version_major": 2,
       "version_minor": 0
      },
      "text/plain": [
       "HBox(children=(IntProgress(value=0, max=50672), HTML(value='')))"
      ]
     },
     "metadata": {},
     "output_type": "display_data"
    },
    {
     "name": "stdout",
     "output_type": "stream",
     "text": [
      "\n"
     ]
    }
   ],
   "source": [
    "for i in tqdm(range(len(total))):\n",
    "    if type(total[\"날짜\"][i]) == str:\n",
    "        total[\"날짜\"][i] = datetime.strptime(total[\"날짜\"][i], \"%Y-%m-%d\")\n",
    "    else:\n",
    "        continue"
   ]
  },
  {
   "cell_type": "code",
   "execution_count": 136,
   "metadata": {},
   "outputs": [],
   "source": [
    "for i in range(len(total)):\n",
    "    total[\"날짜\"][i] = str(total[\"날짜\"][i])[:10]"
   ]
  },
  {
   "cell_type": "code",
   "execution_count": 138,
   "metadata": {},
   "outputs": [],
   "source": [
    "total = total.sort_values(by='날짜').reset_index(drop=True) # 정렬"
   ]
  },
  {
   "cell_type": "markdown",
   "metadata": {},
   "source": [
    "### 부문 전처리"
   ]
  },
  {
   "cell_type": "code",
   "execution_count": 140,
   "metadata": {},
   "outputs": [],
   "source": [
    "q =[]\n",
    "for i in range(len(total)):\n",
    "    q.append(total[\"부문\"][i][:2])"
   ]
  },
  {
   "cell_type": "code",
   "execution_count": 146,
   "metadata": {},
   "outputs": [],
   "source": [
    "pre = pd.DataFrame(q, columns=['부문'])"
   ]
  },
  {
   "cell_type": "code",
   "execution_count": 148,
   "metadata": {},
   "outputs": [],
   "source": [
    "for i in range(len(pre)):\n",
    "    if pre[\"부문\"][i] == '스포':\n",
    "        pre[\"부문\"][i] = '스포츠'\n",
    "    elif pre[\"부문\"][i] =='미분':\n",
    "        pre[\"부문\"][i] = '미분류'\n",
    "    else:\n",
    "        continue"
   ]
  },
  {
   "cell_type": "code",
   "execution_count": null,
   "metadata": {},
   "outputs": [],
   "source": [
    "del total['부문']"
   ]
  },
  {
   "cell_type": "code",
   "execution_count": 154,
   "metadata": {},
   "outputs": [],
   "source": [
    "total['부문'] = pre['부문']"
   ]
  },
  {
   "cell_type": "code",
   "execution_count": 156,
   "metadata": {},
   "outputs": [],
   "source": [
    "total = total[['날짜','부문','신문사','제목','본문']]"
   ]
  },
  {
   "cell_type": "code",
   "execution_count": 157,
   "metadata": {},
   "outputs": [
    {
     "data": {
      "text/html": [
       "<div>\n",
       "<style scoped>\n",
       "    .dataframe tbody tr th:only-of-type {\n",
       "        vertical-align: middle;\n",
       "    }\n",
       "\n",
       "    .dataframe tbody tr th {\n",
       "        vertical-align: top;\n",
       "    }\n",
       "\n",
       "    .dataframe thead th {\n",
       "        text-align: right;\n",
       "    }\n",
       "</style>\n",
       "<table border=\"1\" class=\"dataframe\">\n",
       "  <thead>\n",
       "    <tr style=\"text-align: right;\">\n",
       "      <th></th>\n",
       "      <th>날짜</th>\n",
       "      <th>부문</th>\n",
       "      <th>신문사</th>\n",
       "      <th>제목</th>\n",
       "      <th>본문</th>\n",
       "    </tr>\n",
       "  </thead>\n",
       "  <tbody>\n",
       "    <tr>\n",
       "      <td>0</td>\n",
       "      <td>2020-02-01</td>\n",
       "      <td>문화</td>\n",
       "      <td>조선일보</td>\n",
       "      <td>끔찍하면서도 훌륭한 타이밍…전염병과의 전쟁 외</td>\n",
       "      <td>[아무튼, 주말- saturday's pick]\\n넷플릭스 | 판데믹\\n\\n\"이런 ...</td>\n",
       "    </tr>\n",
       "    <tr>\n",
       "      <td>1</td>\n",
       "      <td>2020-02-01</td>\n",
       "      <td>IT</td>\n",
       "      <td>서울신문</td>\n",
       "      <td>전문가 충격진단 \"신종코로나,사스 4배 이러다간…\"</td>\n",
       "      <td>신종 코로나바이러스 감염증(신종코로나) 유행이 세계 경제에 미칠 타격이 2003년 ...</td>\n",
       "    </tr>\n",
       "    <tr>\n",
       "      <td>2</td>\n",
       "      <td>2020-02-01</td>\n",
       "      <td>지역</td>\n",
       "      <td>조선일보</td>\n",
       "      <td>'우한 폐렴' 격리·직무배제로 생계곤란 시 긴급지원·유급휴가 받는다</td>\n",
       "      <td>정부가 ‘우한 폐렴’(신종 코로나바이러스 감염증)환자와의 접촉에 따른 감염전파 위험...</td>\n",
       "    </tr>\n",
       "    <tr>\n",
       "      <td>3</td>\n",
       "      <td>2020-02-01</td>\n",
       "      <td>국제</td>\n",
       "      <td>국민일보</td>\n",
       "      <td>신종 코로나 12번째 확진자, 수원 소재 친적집 방문… 수원시 긴급 방역나서</td>\n",
       "      <td>부천시에 거주 중인 신종 코로나바이러스 감염증(이하 신종 코로나) 12번째 확진자가...</td>\n",
       "    </tr>\n",
       "    <tr>\n",
       "      <td>4</td>\n",
       "      <td>2020-02-01</td>\n",
       "      <td>정치</td>\n",
       "      <td>중앙일보</td>\n",
       "      <td>\"신종코로나 후폭? 사스 4배 충격…세계경제에 191조원 타격\"</td>\n",
       "      <td>[연합뉴스] [헤럴드경제] 신종 코로나바이러스 감염증(신종코로나) 폭증으로 세계 경...</td>\n",
       "    </tr>\n",
       "    <tr>\n",
       "      <td>...</td>\n",
       "      <td>...</td>\n",
       "      <td>...</td>\n",
       "      <td>...</td>\n",
       "      <td>...</td>\n",
       "      <td>...</td>\n",
       "    </tr>\n",
       "    <tr>\n",
       "      <td>50667</td>\n",
       "      <td>2020-08-26</td>\n",
       "      <td>정치</td>\n",
       "      <td>내일신문</td>\n",
       "      <td>내년도 ‘슈퍼예산’ 올해보다 8~9% 늘린다</td>\n",
       "      <td>정부가 내년 예산안도 확장 재정 기조를 유지하기로 했다. 올해 본예산 대비 8~9%...</td>\n",
       "    </tr>\n",
       "    <tr>\n",
       "      <td>50668</td>\n",
       "      <td>2020-08-26</td>\n",
       "      <td>사회</td>\n",
       "      <td>내일신문</td>\n",
       "      <td>중 경증 분리 절실 “대기업 금융권 나서면 큰 힘”</td>\n",
       "      <td>코로나19 수도권 환자 폭증에 따라 병상 부족 문제가 시급한 과제로 떠올랐다. 대기...</td>\n",
       "    </tr>\n",
       "    <tr>\n",
       "      <td>50669</td>\n",
       "      <td>2020-08-26</td>\n",
       "      <td>지역</td>\n",
       "      <td>내일신문</td>\n",
       "      <td>광화문집회 참가자 수사 속도내다</td>\n",
       "      <td>코로나19 새로운 감염원으로 지목된 광화문 집회 참가자에 대한 경찰 수사가 속도를 ...</td>\n",
       "    </tr>\n",
       "    <tr>\n",
       "      <td>50670</td>\n",
       "      <td>2020-08-26</td>\n",
       "      <td>사회</td>\n",
       "      <td>내일신문</td>\n",
       "      <td>[어느 지역병원장의 편지] 포스트 코로나, 그 중심에는 국민이 있어야 한다</td>\n",
       "      <td>지역에서 병원을 운영하는 모 병원장이 내일신문에 편지를 보내왔다. 의사협회의 파업과...</td>\n",
       "    </tr>\n",
       "    <tr>\n",
       "      <td>50671</td>\n",
       "      <td>2020-08-26</td>\n",
       "      <td>사회</td>\n",
       "      <td>한국일보</td>\n",
       "      <td>호남대, 2학기 '대면+비대면' 혼합 수업 병행</td>\n",
       "      <td>호남대는 신종 코로나바이러스 감염증(코로나19) 재확산에 따라 2학기 수업을 비대면...</td>\n",
       "    </tr>\n",
       "  </tbody>\n",
       "</table>\n",
       "<p>50672 rows × 5 columns</p>\n",
       "</div>"
      ],
      "text/plain": [
       "               날짜  부문   신문사                                          제목  \\\n",
       "0      2020-02-01  문화  조선일보                   끔찍하면서도 훌륭한 타이밍…전염병과의 전쟁 외   \n",
       "1      2020-02-01  IT  서울신문                전문가 충격진단 \"신종코로나,사스 4배 이러다간…\"   \n",
       "2      2020-02-01  지역  조선일보       '우한 폐렴' 격리·직무배제로 생계곤란 시 긴급지원·유급휴가 받는다   \n",
       "3      2020-02-01  국제  국민일보  신종 코로나 12번째 확진자, 수원 소재 친적집 방문… 수원시 긴급 방역나서   \n",
       "4      2020-02-01  정치  중앙일보         \"신종코로나 후폭? 사스 4배 충격…세계경제에 191조원 타격\"   \n",
       "...           ...  ..   ...                                         ...   \n",
       "50667  2020-08-26  정치  내일신문                    내년도 ‘슈퍼예산’ 올해보다 8~9% 늘린다   \n",
       "50668  2020-08-26  사회  내일신문                중 경증 분리 절실 “대기업 금융권 나서면 큰 힘”   \n",
       "50669  2020-08-26  지역  내일신문                           광화문집회 참가자 수사 속도내다   \n",
       "50670  2020-08-26  사회  내일신문   [어느 지역병원장의 편지] 포스트 코로나, 그 중심에는 국민이 있어야 한다   \n",
       "50671  2020-08-26  사회  한국일보                  호남대, 2학기 '대면+비대면' 혼합 수업 병행   \n",
       "\n",
       "                                                      본문  \n",
       "0      [아무튼, 주말- saturday's pick]\\n넷플릭스 | 판데믹\\n\\n\"이런 ...  \n",
       "1      신종 코로나바이러스 감염증(신종코로나) 유행이 세계 경제에 미칠 타격이 2003년 ...  \n",
       "2      정부가 ‘우한 폐렴’(신종 코로나바이러스 감염증)환자와의 접촉에 따른 감염전파 위험...  \n",
       "3      부천시에 거주 중인 신종 코로나바이러스 감염증(이하 신종 코로나) 12번째 확진자가...  \n",
       "4      [연합뉴스] [헤럴드경제] 신종 코로나바이러스 감염증(신종코로나) 폭증으로 세계 경...  \n",
       "...                                                  ...  \n",
       "50667  정부가 내년 예산안도 확장 재정 기조를 유지하기로 했다. 올해 본예산 대비 8~9%...  \n",
       "50668  코로나19 수도권 환자 폭증에 따라 병상 부족 문제가 시급한 과제로 떠올랐다. 대기...  \n",
       "50669  코로나19 새로운 감염원으로 지목된 광화문 집회 참가자에 대한 경찰 수사가 속도를 ...  \n",
       "50670  지역에서 병원을 운영하는 모 병원장이 내일신문에 편지를 보내왔다. 의사협회의 파업과...  \n",
       "50671  호남대는 신종 코로나바이러스 감염증(코로나19) 재확산에 따라 2학기 수업을 비대면...  \n",
       "\n",
       "[50672 rows x 5 columns]"
      ]
     },
     "execution_count": 157,
     "metadata": {},
     "output_type": "execute_result"
    }
   ],
   "source": [
    "total"
   ]
  },
  {
   "cell_type": "code",
   "execution_count": 164,
   "metadata": {},
   "outputs": [],
   "source": [
    "total.to_excel('article.xlsx')"
   ]
  },
  {
   "cell_type": "code",
   "execution_count": null,
   "metadata": {},
   "outputs": [],
   "source": []
  }
 ],
 "metadata": {
  "kernelspec": {
   "display_name": "Python 3",
   "language": "python",
   "name": "python3"
  },
  "language_info": {
   "codemirror_mode": {
    "name": "ipython",
    "version": 3
   },
   "file_extension": ".py",
   "mimetype": "text/x-python",
   "name": "python",
   "nbconvert_exporter": "python",
   "pygments_lexer": "ipython3",
   "version": "3.7.4"
  }
 },
 "nbformat": 4,
 "nbformat_minor": 2
}
