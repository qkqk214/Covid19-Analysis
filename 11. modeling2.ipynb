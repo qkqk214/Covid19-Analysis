{
 "cells": [
  {
   "cell_type": "code",
   "execution_count": 1,
   "metadata": {},
   "outputs": [],
   "source": [
    "import pandas as pd\n",
    "import numpy as np\n",
    "import matplotlib.pyplot as plt\n",
    "import seaborn as sns\n",
    "import math\n",
    "import warnings\n",
    "warnings.filterwarnings(action='ignore')\n",
    "\n",
    "from IPython.core.interactiveshell import InteractiveShell\n",
    "InteractiveShell.ast_node_interactivity ='all'\n",
    "\n",
    "import time\n",
    "from tqdm.notebook import tqdm\n",
    "\n",
    "import datetime\n",
    "from datetime import timedelta\n",
    "import re\n",
    "\n",
    "import networkx as nx\n",
    "import chart_studio\n",
    "chart_studio.tools.set_credentials_file(username='username', api_key='api_key')\n",
    "import chart_studio.plotly as py\n",
    "import plotly.express as px\n",
    "from matplotlib import font_manager, rc\n",
    "\n",
    "rc('font',family = 'Malgun Gothic')\n",
    "plt.style.use('ggplot')"
   ]
  },
  {
   "cell_type": "code",
   "execution_count": 2,
   "metadata": {},
   "outputs": [],
   "source": [
    "data = pd.read_excel('network.xlsx')"
   ]
  },
  {
   "cell_type": "code",
   "execution_count": 3,
   "metadata": {},
   "outputs": [],
   "source": [
    "data=data.sort_values(by='날짜').reset_index(drop=True)"
   ]
  },
  {
   "cell_type": "code",
   "execution_count": 8,
   "metadata": {},
   "outputs": [
    {
     "data": {
      "text/html": [
       "<div>\n",
       "<style scoped>\n",
       "    .dataframe tbody tr th:only-of-type {\n",
       "        vertical-align: middle;\n",
       "    }\n",
       "\n",
       "    .dataframe tbody tr th {\n",
       "        vertical-align: top;\n",
       "    }\n",
       "\n",
       "    .dataframe thead th {\n",
       "        text-align: right;\n",
       "    }\n",
       "</style>\n",
       "<table border=\"1\" class=\"dataframe\">\n",
       "  <thead>\n",
       "    <tr style=\"text-align: right;\">\n",
       "      <th></th>\n",
       "      <th>거주지</th>\n",
       "      <th>날짜</th>\n",
       "      <th>세부정보</th>\n",
       "      <th>퇴원현황</th>\n",
       "      <th>환자번호</th>\n",
       "      <th>virus_route</th>\n",
       "    </tr>\n",
       "  </thead>\n",
       "  <tbody>\n",
       "    <tr>\n",
       "      <td>0</td>\n",
       "      <td>종로구</td>\n",
       "      <td>2020-01-30</td>\n",
       "      <td>이동경로 공개기간 경과</td>\n",
       "      <td>퇴원</td>\n",
       "      <td>6</td>\n",
       "      <td>3</td>\n",
       "    </tr>\n",
       "    <tr>\n",
       "      <td>1</td>\n",
       "      <td>종로구</td>\n",
       "      <td>2020-01-31</td>\n",
       "      <td>이동경로 공개기간 경과</td>\n",
       "      <td>퇴원</td>\n",
       "      <td>11</td>\n",
       "      <td>6</td>\n",
       "    </tr>\n",
       "    <tr>\n",
       "      <td>2</td>\n",
       "      <td>성북구</td>\n",
       "      <td>2020-01-31</td>\n",
       "      <td>이동경로 공개기간 경과</td>\n",
       "      <td>퇴원</td>\n",
       "      <td>9</td>\n",
       "      <td>5</td>\n",
       "    </tr>\n",
       "    <tr>\n",
       "      <td>3</td>\n",
       "      <td>종로구</td>\n",
       "      <td>2020-01-31</td>\n",
       "      <td>이동경로 공개기간 경과</td>\n",
       "      <td>퇴원</td>\n",
       "      <td>10</td>\n",
       "      <td>6</td>\n",
       "    </tr>\n",
       "    <tr>\n",
       "      <td>4</td>\n",
       "      <td>성북구</td>\n",
       "      <td>2020-02-05</td>\n",
       "      <td>이동경로 공개기간 경과</td>\n",
       "      <td>퇴원</td>\n",
       "      <td>21</td>\n",
       "      <td>6</td>\n",
       "    </tr>\n",
       "    <tr>\n",
       "      <td>...</td>\n",
       "      <td>...</td>\n",
       "      <td>...</td>\n",
       "      <td>...</td>\n",
       "      <td>...</td>\n",
       "      <td>...</td>\n",
       "      <td>...</td>\n",
       "    </tr>\n",
       "    <tr>\n",
       "      <td>16931</td>\n",
       "      <td>도봉구</td>\n",
       "      <td>2020-12-31</td>\n",
       "      <td>기타 확진자 접촉</td>\n",
       "      <td>입원</td>\n",
       "      <td>61339</td>\n",
       "      <td>기타확진자</td>\n",
       "    </tr>\n",
       "    <tr>\n",
       "      <td>16932</td>\n",
       "      <td>중랑구</td>\n",
       "      <td>2020-12-31</td>\n",
       "      <td>기타 확진자 접촉</td>\n",
       "      <td>입원</td>\n",
       "      <td>60792</td>\n",
       "      <td>기타확진자</td>\n",
       "    </tr>\n",
       "    <tr>\n",
       "      <td>16933</td>\n",
       "      <td>광진구</td>\n",
       "      <td>2020-12-31</td>\n",
       "      <td>기타 확진자 접촉</td>\n",
       "      <td>입원</td>\n",
       "      <td>61634</td>\n",
       "      <td>기타확진자</td>\n",
       "    </tr>\n",
       "    <tr>\n",
       "      <td>16934</td>\n",
       "      <td>강북구</td>\n",
       "      <td>2020-12-31</td>\n",
       "      <td>감염경로 조사중</td>\n",
       "      <td>입원</td>\n",
       "      <td>61043</td>\n",
       "      <td>감염경로조사중</td>\n",
       "    </tr>\n",
       "    <tr>\n",
       "      <td>16935</td>\n",
       "      <td>영등포구</td>\n",
       "      <td>2020-12-31</td>\n",
       "      <td>감염경로 조사중</td>\n",
       "      <td>입원</td>\n",
       "      <td>61358</td>\n",
       "      <td>감염경로조사중</td>\n",
       "    </tr>\n",
       "  </tbody>\n",
       "</table>\n",
       "<p>16936 rows × 6 columns</p>\n",
       "</div>"
      ],
      "text/plain": [
       "        거주지         날짜          세부정보 퇴원현황   환자번호 virus_route\n",
       "0       종로구 2020-01-30  이동경로 공개기간 경과   퇴원      6           3\n",
       "1       종로구 2020-01-31  이동경로 공개기간 경과   퇴원     11           6\n",
       "2       성북구 2020-01-31  이동경로 공개기간 경과   퇴원      9           5\n",
       "3       종로구 2020-01-31  이동경로 공개기간 경과   퇴원     10           6\n",
       "4       성북구 2020-02-05  이동경로 공개기간 경과   퇴원     21           6\n",
       "...     ...        ...           ...  ...    ...         ...\n",
       "16931   도봉구 2020-12-31     기타 확진자 접촉   입원  61339       기타확진자\n",
       "16932   중랑구 2020-12-31     기타 확진자 접촉   입원  60792       기타확진자\n",
       "16933   광진구 2020-12-31     기타 확진자 접촉   입원  61634       기타확진자\n",
       "16934   강북구 2020-12-31      감염경로 조사중   입원  61043     감염경로조사중\n",
       "16935  영등포구 2020-12-31      감염경로 조사중   입원  61358     감염경로조사중\n",
       "\n",
       "[16936 rows x 6 columns]"
      ]
     },
     "execution_count": 8,
     "metadata": {},
     "output_type": "execute_result"
    }
   ],
   "source": [
    "# large = ['동부구치소','성북구사랑제일교회','해외']\n",
    "# data = data[~data['virus_route'].isin(large)].reset_index(drop=True)\n",
    "# data"
   ]
  },
  {
   "cell_type": "code",
   "execution_count": 43,
   "metadata": {},
   "outputs": [],
   "source": [
    "def Measure(data, start_month, start_day , time_delta,rep):  \n",
    "   \n",
    "    day = pd.to_datetime(\"2020-\"+str(start_month).zfill(2)+\"-\"+str(start_day))  # 시작날짜 초기화\n",
    "    start = day - timedelta(days=3)\n",
    "    end = day + timedelta(days=3)\n",
    "    output = pd.DataFrame() # 시기별 중심성지표 빈 데이터프레임 만들기\n",
    "    \n",
    "    def density(graph):\n",
    "        if len(graph.edges()) <2:\n",
    "            return 0\n",
    "        else:\n",
    "            return len(graph.edges()) / (len(graph.nodes()) * (len(graph.nodes()) - 1))\n",
    "    \n",
    "    def AVG_COEF(graph):\n",
    "        nodes = list(graph.nodes())\n",
    "        edges = list(graph.edges())\n",
    "        \n",
    "        if len(nodes) < 2:\n",
    "            return 0 \n",
    "        else:\n",
    "            deg = []  # deg()\n",
    "            for n in nodes:\n",
    "                a = []\n",
    "                for i in edges:\n",
    "                    if i[0] == n:\n",
    "                        a.append(i[1])   # 각 노드에 대한 degree 구하기\n",
    "                    elif i[1] == n:\n",
    "                        a.append(i[0])\n",
    "                    else:\n",
    "                        continue\n",
    "\n",
    "                if len(a) < 2 :\n",
    "                    deg.append(0)\n",
    "                else:\n",
    "                    deg.append(len(edges) / (len(a)*(len(a)-1)))\n",
    "                \n",
    "            return sum(deg) / len(nodes)\n",
    "\n",
    "    def modularity(graph):\n",
    "        nodes = list(graph.nodes())\n",
    "        edges = list(graph.edges())\n",
    "        deg = []\n",
    "        modular = []\n",
    "        if len(nodes) < 2 :\n",
    "            return 0\n",
    "        else:\n",
    "            for n in nodes:\n",
    "                a = []\n",
    "                for i in edges:\n",
    "                    if i[0] == n :\n",
    "                        a.append(i[1])   # 각 노드에 대한 degree 구하기\n",
    "                    elif i[1] == n:\n",
    "                        a.append(i[0])\n",
    "                    else:\n",
    "                        continue\n",
    "\n",
    "                deg.append(len(a))\n",
    "\n",
    "            for i in range(len(deg)):\n",
    "                for j in range(i+1,len(deg)):\n",
    "                    modular.append(deg[i]*deg[j] / (2*len(edges)))\n",
    "                \n",
    "        return sum(modular) / len(modular)    \n",
    "    \n",
    "    ## 그래프 형태에 따른 ADIndex\n",
    "    def ADIndex_pv(graph):\n",
    "        nodes = list(graph.nodes())\n",
    "        edges = list(graph.edges())\n",
    "        \n",
    "        if len(nodes) < 2 :\n",
    "            return 0\n",
    "        else:\n",
    "            return 6 / (len(nodes)*(len(nodes)+1))\n",
    "        \n",
    "    def ADIndex_sv(graph):\n",
    "        nodes = list(graph.nodes())\n",
    "        edges = list(graph.nodes())\n",
    "        \n",
    "        if len(nodes) < 2 :\n",
    "            return 0\n",
    "        else:\n",
    "            return 1/(len(nodes)-1)\n",
    "        \n",
    "    def ADIndex_cv(graph):\n",
    "        nodes = list(graph.nodes())\n",
    "        edges = list(graph.edges())\n",
    "        \n",
    "        if len(nodes) < 2 :\n",
    "            return 0\n",
    "        elif len(nodes) % 2 == 1:\n",
    "            return 8/(len(nodes)**2 -1)\n",
    "        else:\n",
    "            return 8/(len(nodes)**2)\n",
    "        \n",
    "    def B_sv(graph):\n",
    "        nodes = list(graph.nodes())\n",
    "        edges = list(graph.nodes())\n",
    "\n",
    "        if len(nodes) < 2 :\n",
    "            return 0\n",
    "        else:\n",
    "            return (3*len(nodes)-4)/(2*len(nodes)-3)\n",
    "\n",
    "    def B_cv(graph):\n",
    "        nodes = list(graph.nodes())\n",
    "        edges = list(graph.nodes())\n",
    "\n",
    "        if len(nodes) < 2 :\n",
    "            return 0\n",
    "        elif len(nodes) % 2 == 1:\n",
    "            return 8*len(nodes)/(len(nodes)**2 -1)\n",
    "        else:\n",
    "            return 8/(len(nodes))\n",
    "############################################################################################################\n",
    "\n",
    "    date = []   \n",
    "    dense = []\n",
    "    avg_coef =[]\n",
    "    modul = []\n",
    "    ad_pv = []\n",
    "    ad_sv = []\n",
    "    ad_cv = []\n",
    "    b_sv = []\n",
    "    b_cv = []\n",
    "    \n",
    "    for i in range(rep):\n",
    "        \n",
    "        df = data[ data['날짜'] >= start][data['날짜'] <=end].reset_index(drop=True) # 시작날짜 ~ 종료날짜 해당하는 DF 추출\n",
    "        edges = []   # Empty Edge list\n",
    "        for j in range(len(df)):\n",
    "            edges.append((str(df['virus_route'][j]),str(df['환자번호'][j]),1)) # Edge 만들기\n",
    "            \n",
    "        G = nx.Graph() # 그래프 생성\n",
    "        G.add_weighted_edges_from(edges) # 그래프 안에서 Edge 연결\n",
    "        \n",
    "        date.append(day)\n",
    "        dense.append(density(G))\n",
    "        avg_coef.append(AVG_COEF(G))\n",
    "        modul.append(modularity(G))\n",
    "        ad_pv.append(ADIndex_pv(G))\n",
    "        ad_sv.append(ADIndex_sv(G))\n",
    "        ad_cv.append(ADIndex_cv(G))\n",
    "        b_sv.append(B_sv(G))\n",
    "        b_cv.append(B_cv(G))\n",
    "        day = day + timedelta(days=time_delta)  # 종료날짜다음날부터를 시작날짜로 재설정\n",
    "        start = day - timedelta(days=3)\n",
    "        end = day + timedelta(days=3)        \n",
    "        \n",
    "    output = pd.DataFrame({'Date' : date , 'Density' : dense, 'AVG_COEF' : avg_coef , 'Modularity' : modul,\n",
    "                           'AD_Pv' : ad_pv, 'AD_Sv': ad_sv, 'AD_Cv': ad_cv, 'B_Sv':b_sv, 'B_Cv':b_cv})\n",
    "    \n",
    "\n",
    "    return output"
   ]
  },
  {
   "cell_type": "code",
   "execution_count": 45,
   "metadata": {},
   "outputs": [
    {
     "data": {
      "text/html": [
       "<div>\n",
       "<style scoped>\n",
       "    .dataframe tbody tr th:only-of-type {\n",
       "        vertical-align: middle;\n",
       "    }\n",
       "\n",
       "    .dataframe tbody tr th {\n",
       "        vertical-align: top;\n",
       "    }\n",
       "\n",
       "    .dataframe thead th {\n",
       "        text-align: right;\n",
       "    }\n",
       "</style>\n",
       "<table border=\"1\" class=\"dataframe\">\n",
       "  <thead>\n",
       "    <tr style=\"text-align: right;\">\n",
       "      <th></th>\n",
       "      <th>Date</th>\n",
       "      <th>Density</th>\n",
       "      <th>AVG_COEF</th>\n",
       "      <th>Modularity</th>\n",
       "      <th>AD_Pv</th>\n",
       "      <th>AD_Sv</th>\n",
       "      <th>AD_Cv</th>\n",
       "      <th>B_Sv</th>\n",
       "      <th>B_Cv</th>\n",
       "    </tr>\n",
       "  </thead>\n",
       "  <tbody>\n",
       "    <tr>\n",
       "      <td>0</td>\n",
       "      <td>2020-01-30</td>\n",
       "      <td>0.097222</td>\n",
       "      <td>0.648148</td>\n",
       "      <td>0.166667</td>\n",
       "      <td>0.066667</td>\n",
       "      <td>0.125000</td>\n",
       "      <td>0.100000</td>\n",
       "      <td>1.533333</td>\n",
       "      <td>0.900000</td>\n",
       "    </tr>\n",
       "    <tr>\n",
       "      <td>1</td>\n",
       "      <td>2020-01-31</td>\n",
       "      <td>0.097222</td>\n",
       "      <td>0.648148</td>\n",
       "      <td>0.166667</td>\n",
       "      <td>0.066667</td>\n",
       "      <td>0.125000</td>\n",
       "      <td>0.100000</td>\n",
       "      <td>1.533333</td>\n",
       "      <td>0.900000</td>\n",
       "    </tr>\n",
       "    <tr>\n",
       "      <td>2</td>\n",
       "      <td>2020-02-01</td>\n",
       "      <td>0.097222</td>\n",
       "      <td>0.648148</td>\n",
       "      <td>0.166667</td>\n",
       "      <td>0.066667</td>\n",
       "      <td>0.125000</td>\n",
       "      <td>0.100000</td>\n",
       "      <td>1.533333</td>\n",
       "      <td>0.900000</td>\n",
       "    </tr>\n",
       "    <tr>\n",
       "      <td>3</td>\n",
       "      <td>2020-02-02</td>\n",
       "      <td>0.081818</td>\n",
       "      <td>0.545455</td>\n",
       "      <td>0.141414</td>\n",
       "      <td>0.045455</td>\n",
       "      <td>0.100000</td>\n",
       "      <td>0.066667</td>\n",
       "      <td>1.526316</td>\n",
       "      <td>0.733333</td>\n",
       "    </tr>\n",
       "    <tr>\n",
       "      <td>4</td>\n",
       "      <td>2020-02-03</td>\n",
       "      <td>0.077778</td>\n",
       "      <td>0.233333</td>\n",
       "      <td>0.134921</td>\n",
       "      <td>0.054545</td>\n",
       "      <td>0.111111</td>\n",
       "      <td>0.080000</td>\n",
       "      <td>1.529412</td>\n",
       "      <td>0.800000</td>\n",
       "    </tr>\n",
       "  </tbody>\n",
       "</table>\n",
       "</div>"
      ],
      "text/plain": [
       "        Date   Density  AVG_COEF  Modularity     AD_Pv     AD_Sv     AD_Cv  \\\n",
       "0 2020-01-30  0.097222  0.648148    0.166667  0.066667  0.125000  0.100000   \n",
       "1 2020-01-31  0.097222  0.648148    0.166667  0.066667  0.125000  0.100000   \n",
       "2 2020-02-01  0.097222  0.648148    0.166667  0.066667  0.125000  0.100000   \n",
       "3 2020-02-02  0.081818  0.545455    0.141414  0.045455  0.100000  0.066667   \n",
       "4 2020-02-03  0.077778  0.233333    0.134921  0.054545  0.111111  0.080000   \n",
       "\n",
       "       B_Sv      B_Cv  \n",
       "0  1.533333  0.900000  \n",
       "1  1.533333  0.900000  \n",
       "2  1.533333  0.900000  \n",
       "3  1.526316  0.733333  \n",
       "4  1.529412  0.800000  "
      ]
     },
     "execution_count": 45,
     "metadata": {},
     "output_type": "execute_result"
    }
   ],
   "source": [
    "a = Measure(data, start_month=1, start_day=30 , time_delta=1,rep=368) # 276\n",
    "a.head()"
   ]
  },
  {
   "cell_type": "code",
   "execution_count": 5,
   "metadata": {},
   "outputs": [],
   "source": [
    "a = pd.read_csv('measure.csv')"
   ]
  },
  {
   "cell_type": "code",
   "execution_count": 6,
   "metadata": {},
   "outputs": [],
   "source": [
    "del a['Unnamed: 0']"
   ]
  },
  {
   "cell_type": "code",
   "execution_count": 7,
   "metadata": {},
   "outputs": [],
   "source": [
    "a['Date'] = pd.to_datetime(a['Date'])"
   ]
  },
  {
   "cell_type": "markdown",
   "metadata": {},
   "source": [
    "## Smoothing\n",
    "- data shape before processing smoothing"
   ]
  },
  {
   "cell_type": "code",
   "execution_count": 8,
   "metadata": {},
   "outputs": [
    {
     "data": {
      "text/html": [
       "<div>\n",
       "<style scoped>\n",
       "    .dataframe tbody tr th:only-of-type {\n",
       "        vertical-align: middle;\n",
       "    }\n",
       "\n",
       "    .dataframe tbody tr th {\n",
       "        vertical-align: top;\n",
       "    }\n",
       "\n",
       "    .dataframe thead th {\n",
       "        text-align: right;\n",
       "    }\n",
       "</style>\n",
       "<table border=\"1\" class=\"dataframe\">\n",
       "  <thead>\n",
       "    <tr style=\"text-align: right;\">\n",
       "      <th></th>\n",
       "      <th>Date</th>\n",
       "      <th>확진자수</th>\n",
       "      <th>Density</th>\n",
       "      <th>AVG_COEF</th>\n",
       "      <th>Modularity</th>\n",
       "      <th>AD_Pv</th>\n",
       "      <th>AD_Sv</th>\n",
       "      <th>AD_Cv</th>\n",
       "      <th>B_Sv</th>\n",
       "      <th>B_Cv</th>\n",
       "    </tr>\n",
       "  </thead>\n",
       "  <tbody>\n",
       "    <tr>\n",
       "      <td>0</td>\n",
       "      <td>2020-01-30</td>\n",
       "      <td>3.0</td>\n",
       "      <td>0.097222</td>\n",
       "      <td>0.648148</td>\n",
       "      <td>0.166667</td>\n",
       "      <td>0.066667</td>\n",
       "      <td>0.125000</td>\n",
       "      <td>0.100000</td>\n",
       "      <td>1.533333</td>\n",
       "      <td>0.900000</td>\n",
       "    </tr>\n",
       "    <tr>\n",
       "      <td>1</td>\n",
       "      <td>2020-01-31</td>\n",
       "      <td>3.0</td>\n",
       "      <td>0.097222</td>\n",
       "      <td>0.648148</td>\n",
       "      <td>0.166667</td>\n",
       "      <td>0.066667</td>\n",
       "      <td>0.125000</td>\n",
       "      <td>0.100000</td>\n",
       "      <td>1.533333</td>\n",
       "      <td>0.900000</td>\n",
       "    </tr>\n",
       "    <tr>\n",
       "      <td>2</td>\n",
       "      <td>2020-02-01</td>\n",
       "      <td>0.0</td>\n",
       "      <td>0.097222</td>\n",
       "      <td>0.648148</td>\n",
       "      <td>0.166667</td>\n",
       "      <td>0.066667</td>\n",
       "      <td>0.125000</td>\n",
       "      <td>0.100000</td>\n",
       "      <td>1.533333</td>\n",
       "      <td>0.900000</td>\n",
       "    </tr>\n",
       "    <tr>\n",
       "      <td>3</td>\n",
       "      <td>2020-02-02</td>\n",
       "      <td>1.0</td>\n",
       "      <td>0.081818</td>\n",
       "      <td>0.545455</td>\n",
       "      <td>0.141414</td>\n",
       "      <td>0.045455</td>\n",
       "      <td>0.100000</td>\n",
       "      <td>0.066667</td>\n",
       "      <td>1.526316</td>\n",
       "      <td>0.733333</td>\n",
       "    </tr>\n",
       "    <tr>\n",
       "      <td>4</td>\n",
       "      <td>2020-02-03</td>\n",
       "      <td>0.0</td>\n",
       "      <td>0.077778</td>\n",
       "      <td>0.233333</td>\n",
       "      <td>0.134921</td>\n",
       "      <td>0.054545</td>\n",
       "      <td>0.111111</td>\n",
       "      <td>0.080000</td>\n",
       "      <td>1.529412</td>\n",
       "      <td>0.800000</td>\n",
       "    </tr>\n",
       "  </tbody>\n",
       "</table>\n",
       "</div>"
      ],
      "text/plain": [
       "        Date  확진자수   Density  AVG_COEF  Modularity     AD_Pv     AD_Sv  \\\n",
       "0 2020-01-30   3.0  0.097222  0.648148    0.166667  0.066667  0.125000   \n",
       "1 2020-01-31   3.0  0.097222  0.648148    0.166667  0.066667  0.125000   \n",
       "2 2020-02-01   0.0  0.097222  0.648148    0.166667  0.066667  0.125000   \n",
       "3 2020-02-02   1.0  0.081818  0.545455    0.141414  0.045455  0.100000   \n",
       "4 2020-02-03   0.0  0.077778  0.233333    0.134921  0.054545  0.111111   \n",
       "\n",
       "      AD_Cv      B_Sv      B_Cv  \n",
       "0  0.100000  1.533333  0.900000  \n",
       "1  0.100000  1.533333  0.900000  \n",
       "2  0.100000  1.533333  0.900000  \n",
       "3  0.066667  1.526316  0.733333  \n",
       "4  0.080000  1.529412  0.800000  "
      ]
     },
     "execution_count": 8,
     "metadata": {},
     "output_type": "execute_result"
    }
   ],
   "source": [
    "cum = pd.pivot_table(data,index='날짜',aggfunc='count').reset_index().iloc[:,0:2]\n",
    "cum.rename(columns={'virus_route':'확진자수'},inplace=True)\n",
    "cum2 = pd.DataFrame({'날짜':pd.date_range(start='1/30/2020', end='1/31/2021')})\n",
    "cum2 = pd.merge(cum2,cum,how='left').fillna(0)\n",
    "cum2.rename(columns={'날짜':'Date'},inplace=True)\n",
    "cum3 = pd.merge(cum2,a,how='left')\n",
    "cum3.head()"
   ]
  },
  {
   "cell_type": "code",
   "execution_count": 9,
   "metadata": {},
   "outputs": [],
   "source": [
    "toto = cum3[['Date','확진자수']]\n",
    "toto.to_excel('일일확진자.xlsx',index=False)"
   ]
  },
  {
   "cell_type": "markdown",
   "metadata": {},
   "source": [
    "- smoothing"
   ]
  },
  {
   "cell_type": "code",
   "execution_count": 60,
   "metadata": {},
   "outputs": [],
   "source": [
    "current_day= []\n",
    "num = []\n",
    "density = []\n",
    "avg_coef = []\n",
    "modul = []\n",
    "adpv = []\n",
    "adsv = []\n",
    "adcv = []\n",
    "bsv = []\n",
    "bcv = []\n",
    "\n",
    "for i in pd.date_range(start='1/30/2020',end='1/31/2021'):\n",
    "    day = i\n",
    "    start = day - timedelta(days=3)\n",
    "    end = day + timedelta(days=3)\n",
    "    df = cum3[ cum3['Date'] >= start][cum3['Date'] <=end].reset_index(drop=True)\n",
    "\n",
    "    current_day.append(day)\n",
    "    num.append(df['확진자수'].sum()/7)\n",
    "    density.append(df['Density'].sum()/7)\n",
    "    avg_coef.append(df['AVG_COEF'].sum()/7)\n",
    "    modul.append(df['Modularity'].sum()/7)\n",
    "    adpv.append(df['AD_Pv'].sum()/7)\n",
    "    adsv.append(df['AD_Sv'].sum()/7)\n",
    "    adcv.append(df['AD_Cv'].sum()/7)\n",
    "    bsv.append(df['B_Sv'].sum()/7)\n",
    "    bcv.append(df['B_Cv'].sum()/7)"
   ]
  },
  {
   "cell_type": "code",
   "execution_count": 61,
   "metadata": {},
   "outputs": [
    {
     "data": {
      "text/plain": [
       "(368, 368, 368, 368, 368, 368, 368, 368, 368, 368)"
      ]
     },
     "execution_count": 61,
     "metadata": {},
     "output_type": "execute_result"
    }
   ],
   "source": [
    "len(current_day) , len(num), len(density), len(avg_coef) , len(modul) , len(adpv) , len(adsv), len(adcv) , len(bsv), len(bcv)"
   ]
  },
  {
   "cell_type": "markdown",
   "metadata": {},
   "source": [
    "- final data"
   ]
  },
  {
   "cell_type": "code",
   "execution_count": 379,
   "metadata": {},
   "outputs": [
    {
     "data": {
      "text/html": [
       "<div>\n",
       "<style scoped>\n",
       "    .dataframe tbody tr th:only-of-type {\n",
       "        vertical-align: middle;\n",
       "    }\n",
       "\n",
       "    .dataframe tbody tr th {\n",
       "        vertical-align: top;\n",
       "    }\n",
       "\n",
       "    .dataframe thead th {\n",
       "        text-align: right;\n",
       "    }\n",
       "</style>\n",
       "<table border=\"1\" class=\"dataframe\">\n",
       "  <thead>\n",
       "    <tr style=\"text-align: right;\">\n",
       "      <th></th>\n",
       "      <th>Date</th>\n",
       "      <th>infected</th>\n",
       "      <th>Density</th>\n",
       "      <th>AVG_COEF</th>\n",
       "      <th>Modularity</th>\n",
       "    </tr>\n",
       "  </thead>\n",
       "  <tbody>\n",
       "    <tr>\n",
       "      <td>0</td>\n",
       "      <td>2020-01-30</td>\n",
       "      <td>1.0</td>\n",
       "      <td>0.053355</td>\n",
       "      <td>0.355700</td>\n",
       "      <td>0.091631</td>\n",
       "    </tr>\n",
       "    <tr>\n",
       "      <td>1</td>\n",
       "      <td>2020-01-31</td>\n",
       "      <td>1.0</td>\n",
       "      <td>0.064466</td>\n",
       "      <td>0.389033</td>\n",
       "      <td>0.110905</td>\n",
       "    </tr>\n",
       "    <tr>\n",
       "      <td>2</td>\n",
       "      <td>2020-02-01</td>\n",
       "      <td>1.0</td>\n",
       "      <td>0.081473</td>\n",
       "      <td>0.397537</td>\n",
       "      <td>0.137436</td>\n",
       "    </tr>\n",
       "  </tbody>\n",
       "</table>\n",
       "</div>"
      ],
      "text/plain": [
       "        Date  infected   Density  AVG_COEF  Modularity\n",
       "0 2020-01-30       1.0  0.053355  0.355700    0.091631\n",
       "1 2020-01-31       1.0  0.064466  0.389033    0.110905\n",
       "2 2020-02-01       1.0  0.081473  0.397537    0.137436"
      ]
     },
     "execution_count": 379,
     "metadata": {},
     "output_type": "execute_result"
    }
   ],
   "source": [
    "total = pd.DataFrame({'Date' : current_day , 'infected' : num , 'Density' : density , 'AVG_COEF' : avg_coef,\n",
    "                      'Modularity' : modul})\n",
    "total.head(3)"
   ]
  },
  {
   "cell_type": "code",
   "execution_count": 380,
   "metadata": {},
   "outputs": [],
   "source": [
    "# N주전 변수 추가 함수 \n",
    "def add_nweeks_before(data,column,week):\n",
    "    avg_infected = [] \n",
    "    for k in pd.date_range(start='01/30/2020',end='1/31/2021'):\n",
    "        day = k\n",
    "        start = day - timedelta(days= week * 7)\n",
    "        end = day - timedelta(days=1)\n",
    "        df = data[ data['Date'] >= start][data['Date'] <=end].reset_index(drop=True)\n",
    "        avg_infected.append(sum(df[column]/(week*7)))\n",
    "    col_name = str(week)+'week_before_' + column\n",
    "    data[col_name] = avg_infected\n",
    "    return data"
   ]
  },
  {
   "cell_type": "code",
   "execution_count": 381,
   "metadata": {},
   "outputs": [],
   "source": [
    "# 모든 컬럼에 대해 2주전까지의 지표와 상관성을 보기위해서 기존 컬럼들과 n주차 조합을 통해 새로운 데이터 생성하기\n",
    "colnames = total.columns.tolist()[1:]\n",
    "nweek = [1,2,3,4]"
   ]
  },
  {
   "cell_type": "code",
   "execution_count": 382,
   "metadata": {},
   "outputs": [],
   "source": [
    "for col in colnames:\n",
    "    for weeks in nweek:\n",
    "        total = add_nweeks_before(total , col , weeks)\n",
    "\n",
    "# 기존 컬럼들 지우기\n",
    "total = total[total.columns.difference(colnames[1:])] # infected는 남겨"
   ]
  },
  {
   "cell_type": "markdown",
   "metadata": {},
   "source": [
    "### 1. Modeling with linear & nonlinear regression"
   ]
  },
  {
   "cell_type": "code",
   "execution_count": 260,
   "metadata": {},
   "outputs": [],
   "source": [
    "from sklearn.linear_model import LinearRegression\n",
    "from sklearn.ensemble import RandomForestRegressor\n",
    "from sklearn.model_selection import train_test_split\n",
    "from sklearn.model_selection import KFold\n",
    "from sklearn.metrics import mean_squared_error"
   ]
  },
  {
   "cell_type": "code",
   "execution_count": 383,
   "metadata": {},
   "outputs": [],
   "source": [
    "train = total[(total['Date']>='2020-01-30') & (total['Date']<='2020-10-28')] # 12월 1일 스무딩에 들어가는 11/28 ~ 30 은 제거해줌\n",
    "test = total[(total['Date']>='2020-11-01') & (total['Date']<='2021-01-28')]"
   ]
  },
  {
   "cell_type": "markdown",
   "metadata": {},
   "source": [
    "- 1 . Simple Linear Regression"
   ]
  },
  {
   "cell_type": "code",
   "execution_count": 367,
   "metadata": {
    "scrolled": true
   },
   "outputs": [
    {
     "data": {
      "text/plain": [
       "LinearRegression(copy_X=True, fit_intercept=True, n_jobs=None, normalize=False)"
      ]
     },
     "execution_count": 367,
     "metadata": {},
     "output_type": "execute_result"
    },
    {
     "data": {
      "text/plain": [
       "LinearRegression(copy_X=True, fit_intercept=True, n_jobs=None, normalize=False)"
      ]
     },
     "execution_count": 367,
     "metadata": {},
     "output_type": "execute_result"
    },
    {
     "data": {
      "text/plain": [
       "LinearRegression(copy_X=True, fit_intercept=True, n_jobs=None, normalize=False)"
      ]
     },
     "execution_count": 367,
     "metadata": {},
     "output_type": "execute_result"
    },
    {
     "data": {
      "text/plain": [
       "LinearRegression(copy_X=True, fit_intercept=True, n_jobs=None, normalize=False)"
      ]
     },
     "execution_count": 367,
     "metadata": {},
     "output_type": "execute_result"
    },
    {
     "data": {
      "text/plain": [
       "LinearRegression(copy_X=True, fit_intercept=True, n_jobs=None, normalize=False)"
      ]
     },
     "execution_count": 367,
     "metadata": {},
     "output_type": "execute_result"
    },
    {
     "data": {
      "text/plain": [
       "LinearRegression(copy_X=True, fit_intercept=True, n_jobs=None, normalize=False)"
      ]
     },
     "execution_count": 367,
     "metadata": {},
     "output_type": "execute_result"
    },
    {
     "data": {
      "text/plain": [
       "LinearRegression(copy_X=True, fit_intercept=True, n_jobs=None, normalize=False)"
      ]
     },
     "execution_count": 367,
     "metadata": {},
     "output_type": "execute_result"
    },
    {
     "data": {
      "text/plain": [
       "LinearRegression(copy_X=True, fit_intercept=True, n_jobs=None, normalize=False)"
      ]
     },
     "execution_count": 367,
     "metadata": {},
     "output_type": "execute_result"
    },
    {
     "data": {
      "text/plain": [
       "LinearRegression(copy_X=True, fit_intercept=True, n_jobs=None, normalize=False)"
      ]
     },
     "execution_count": 367,
     "metadata": {},
     "output_type": "execute_result"
    },
    {
     "data": {
      "text/plain": [
       "LinearRegression(copy_X=True, fit_intercept=True, n_jobs=None, normalize=False)"
      ]
     },
     "execution_count": 367,
     "metadata": {},
     "output_type": "execute_result"
    },
    {
     "data": {
      "text/plain": [
       "LinearRegression(copy_X=True, fit_intercept=True, n_jobs=None, normalize=False)"
      ]
     },
     "execution_count": 367,
     "metadata": {},
     "output_type": "execute_result"
    },
    {
     "data": {
      "text/plain": [
       "LinearRegression(copy_X=True, fit_intercept=True, n_jobs=None, normalize=False)"
      ]
     },
     "execution_count": 367,
     "metadata": {},
     "output_type": "execute_result"
    },
    {
     "data": {
      "text/plain": [
       "LinearRegression(copy_X=True, fit_intercept=True, n_jobs=None, normalize=False)"
      ]
     },
     "execution_count": 367,
     "metadata": {},
     "output_type": "execute_result"
    },
    {
     "data": {
      "text/plain": [
       "LinearRegression(copy_X=True, fit_intercept=True, n_jobs=None, normalize=False)"
      ]
     },
     "execution_count": 367,
     "metadata": {},
     "output_type": "execute_result"
    },
    {
     "data": {
      "text/plain": [
       "LinearRegression(copy_X=True, fit_intercept=True, n_jobs=None, normalize=False)"
      ]
     },
     "execution_count": 367,
     "metadata": {},
     "output_type": "execute_result"
    },
    {
     "data": {
      "text/plain": [
       "LinearRegression(copy_X=True, fit_intercept=True, n_jobs=None, normalize=False)"
      ]
     },
     "execution_count": 367,
     "metadata": {},
     "output_type": "execute_result"
    }
   ],
   "source": [
    "scores = []\n",
    "coef = []\n",
    "for i in range(16):\n",
    "    X_train , y_train = train.iloc[:,i] , train.iloc[:,17] # 20번째 컬럼이 infected y변수\n",
    "    X_test  , y_test  = test.iloc[:,i] , test.iloc[:,17]\n",
    "    model = LinearRegression()\n",
    "    model.fit(np.array(X_train).reshape(-1,1), y_train)\n",
    "    y_pred = model.predict(np.array(X_test).reshape(-1,1))\n",
    "    scores.append(mean_squared_error(y_test,y_pred))\n",
    "    coef.append(model.coef_[0])"
   ]
  },
  {
   "cell_type": "code",
   "execution_count": 384,
   "metadata": {},
   "outputs": [
    {
     "data": {
      "text/html": [
       "<div>\n",
       "<style scoped>\n",
       "    .dataframe tbody tr th:only-of-type {\n",
       "        vertical-align: middle;\n",
       "    }\n",
       "\n",
       "    .dataframe tbody tr th {\n",
       "        vertical-align: top;\n",
       "    }\n",
       "\n",
       "    .dataframe thead th {\n",
       "        text-align: right;\n",
       "    }\n",
       "</style>\n",
       "<table border=\"1\" class=\"dataframe\">\n",
       "  <thead>\n",
       "    <tr style=\"text-align: right;\">\n",
       "      <th></th>\n",
       "      <th>var</th>\n",
       "      <th>mse</th>\n",
       "      <th>coef</th>\n",
       "    </tr>\n",
       "  </thead>\n",
       "  <tbody>\n",
       "    <tr>\n",
       "      <td>3</td>\n",
       "      <td>1week_before_infected</td>\n",
       "      <td>1427.431413</td>\n",
       "      <td>0.940702</td>\n",
       "    </tr>\n",
       "    <tr>\n",
       "      <td>7</td>\n",
       "      <td>2week_before_infected</td>\n",
       "      <td>4090.821889</td>\n",
       "      <td>0.859341</td>\n",
       "    </tr>\n",
       "    <tr>\n",
       "      <td>11</td>\n",
       "      <td>3week_before_infected</td>\n",
       "      <td>7681.636063</td>\n",
       "      <td>0.780185</td>\n",
       "    </tr>\n",
       "    <tr>\n",
       "      <td>15</td>\n",
       "      <td>4week_before_infected</td>\n",
       "      <td>11204.409010</td>\n",
       "      <td>0.727397</td>\n",
       "    </tr>\n",
       "    <tr>\n",
       "      <td>8</td>\n",
       "      <td>3week_before_AVG_COEF</td>\n",
       "      <td>29797.000844</td>\n",
       "      <td>15.958607</td>\n",
       "    </tr>\n",
       "    <tr>\n",
       "      <td>12</td>\n",
       "      <td>4week_before_AVG_COEF</td>\n",
       "      <td>30321.228665</td>\n",
       "      <td>15.242842</td>\n",
       "    </tr>\n",
       "    <tr>\n",
       "      <td>4</td>\n",
       "      <td>2week_before_AVG_COEF</td>\n",
       "      <td>30357.661597</td>\n",
       "      <td>15.365092</td>\n",
       "    </tr>\n",
       "    <tr>\n",
       "      <td>0</td>\n",
       "      <td>1week_before_AVG_COEF</td>\n",
       "      <td>31569.666032</td>\n",
       "      <td>14.097731</td>\n",
       "    </tr>\n",
       "    <tr>\n",
       "      <td>14</td>\n",
       "      <td>4week_before_Modularity</td>\n",
       "      <td>38955.597005</td>\n",
       "      <td>-192.779085</td>\n",
       "    </tr>\n",
       "    <tr>\n",
       "      <td>13</td>\n",
       "      <td>4week_before_Density</td>\n",
       "      <td>39111.567175</td>\n",
       "      <td>-297.980945</td>\n",
       "    </tr>\n",
       "    <tr>\n",
       "      <td>10</td>\n",
       "      <td>3week_before_Modularity</td>\n",
       "      <td>39229.000073</td>\n",
       "      <td>-170.741820</td>\n",
       "    </tr>\n",
       "    <tr>\n",
       "      <td>9</td>\n",
       "      <td>3week_before_Density</td>\n",
       "      <td>39378.377018</td>\n",
       "      <td>-264.012093</td>\n",
       "    </tr>\n",
       "    <tr>\n",
       "      <td>6</td>\n",
       "      <td>2week_before_Modularity</td>\n",
       "      <td>39471.881451</td>\n",
       "      <td>-151.580294</td>\n",
       "    </tr>\n",
       "    <tr>\n",
       "      <td>2</td>\n",
       "      <td>1week_before_Modularity</td>\n",
       "      <td>39603.556175</td>\n",
       "      <td>-140.712986</td>\n",
       "    </tr>\n",
       "    <tr>\n",
       "      <td>5</td>\n",
       "      <td>2week_before_Density</td>\n",
       "      <td>39618.064732</td>\n",
       "      <td>-234.132192</td>\n",
       "    </tr>\n",
       "    <tr>\n",
       "      <td>1</td>\n",
       "      <td>1week_before_Density</td>\n",
       "      <td>39755.233619</td>\n",
       "      <td>-216.573063</td>\n",
       "    </tr>\n",
       "  </tbody>\n",
       "</table>\n",
       "</div>"
      ],
      "text/plain": [
       "                        var           mse        coef\n",
       "3     1week_before_infected   1427.431413    0.940702\n",
       "7     2week_before_infected   4090.821889    0.859341\n",
       "11    3week_before_infected   7681.636063    0.780185\n",
       "15    4week_before_infected  11204.409010    0.727397\n",
       "8     3week_before_AVG_COEF  29797.000844   15.958607\n",
       "12    4week_before_AVG_COEF  30321.228665   15.242842\n",
       "4     2week_before_AVG_COEF  30357.661597   15.365092\n",
       "0     1week_before_AVG_COEF  31569.666032   14.097731\n",
       "14  4week_before_Modularity  38955.597005 -192.779085\n",
       "13     4week_before_Density  39111.567175 -297.980945\n",
       "10  3week_before_Modularity  39229.000073 -170.741820\n",
       "9      3week_before_Density  39378.377018 -264.012093\n",
       "6   2week_before_Modularity  39471.881451 -151.580294\n",
       "2   1week_before_Modularity  39603.556175 -140.712986\n",
       "5      2week_before_Density  39618.064732 -234.132192\n",
       "1      1week_before_Density  39755.233619 -216.573063"
      ]
     },
     "execution_count": 384,
     "metadata": {},
     "output_type": "execute_result"
    }
   ],
   "source": [
    "pd.DataFrame({'var':train.columns[:16], 'mse' : scores , 'coef' : coef}).sort_values(by='mse')"
   ]
  },
  {
   "cell_type": "markdown",
   "metadata": {},
   "source": [
    "### 2 . Multiple Linear Regression"
   ]
  },
  {
   "cell_type": "markdown",
   "metadata": {},
   "source": [
    "- Using all features"
   ]
  },
  {
   "cell_type": "code",
   "execution_count": 402,
   "metadata": {},
   "outputs": [
    {
     "data": {
      "text/plain": [
       "LinearRegression(copy_X=True, fit_intercept=True, n_jobs=None, normalize=False)"
      ]
     },
     "execution_count": 402,
     "metadata": {},
     "output_type": "execute_result"
    },
    {
     "data": {
      "text/plain": [
       "array([-3.40087108e+00,  2.86284335e+02, -1.70766090e+02,  2.00424133e+00,\n",
       "        1.60248347e+01, -2.33191931e+02,  1.71405023e+02, -1.39961967e+00,\n",
       "       -1.02159504e+01, -4.59880355e+01, -3.36357544e+01, -2.09109324e-02,\n",
       "       -1.50317377e+00,  2.02172073e+02, -1.09141474e+02,  3.13750840e-01])"
      ]
     },
     "execution_count": 402,
     "metadata": {},
     "output_type": "execute_result"
    }
   ],
   "source": [
    "X_train, y_train = train[train.columns.difference(['Date','infected'])] , train['infected']\n",
    "X_test, y_test = test[test.columns.difference(['Date','infected'])] , test['infected']\n",
    "\n",
    "model = LinearRegression()\n",
    "model.fit(X_train,y_train)\n",
    "model.coef_  "
   ]
  },
  {
   "cell_type": "markdown",
   "metadata": {},
   "source": [
    "- predict"
   ]
  },
  {
   "cell_type": "code",
   "execution_count": 403,
   "metadata": {},
   "outputs": [
    {
     "data": {
      "text/plain": [
       "990.9411012519836"
      ]
     },
     "execution_count": 403,
     "metadata": {},
     "output_type": "execute_result"
    }
   ],
   "source": [
    "y_pred = model.predict(X_test)\n",
    "mean_squared_error(y_test, y_pred)"
   ]
  },
  {
   "cell_type": "markdown",
   "metadata": {},
   "source": [
    "- 비교"
   ]
  },
  {
   "cell_type": "code",
   "execution_count": 404,
   "metadata": {},
   "outputs": [
    {
     "data": {
      "text/plain": [
       "array([ 42.06866575,  45.7075708 ,  47.60267572,  48.05340973,\n",
       "        47.57132763,  47.56195334,  47.66061521,  47.069865  ,\n",
       "        45.62906976,  45.65783124,  47.18376879,  49.25086509,\n",
       "        51.36891096,  54.8921246 ,  60.42949956,  68.29582659,\n",
       "        76.85597929,  86.88592506,  97.25019867, 107.49770089,\n",
       "       116.39831469, 124.34456569, 132.46736247, 140.34615832,\n",
       "       145.44810459, 150.68397693, 156.63637133, 163.17335997,\n",
       "       170.32805901, 175.60089096, 181.45940761, 189.11857053,\n",
       "       197.86417782, 207.35843104, 217.23680472, 226.66518098,\n",
       "       235.16064378, 239.44686212, 245.36294455, 251.87187692,\n",
       "       254.43009181, 256.07826724, 259.82265168, 269.54167349,\n",
       "       286.30166018, 298.29392246, 302.20520627, 311.75035516,\n",
       "       322.52008087, 328.82901117, 324.45135883, 318.09830804,\n",
       "       316.99967959, 326.3350459 , 330.08244594, 337.20064713,\n",
       "       346.40616332, 364.28186532, 371.86633196, 365.12535696,\n",
       "       347.44923301, 332.68824654, 301.57260195, 266.51297876,\n",
       "       225.78930914, 191.16918511, 173.80970635, 164.46905913,\n",
       "       148.98264607, 148.96516583, 150.87120025, 151.54046519,\n",
       "       153.67748737, 147.30263359, 137.5395048 , 135.02999536,\n",
       "       126.80956241, 121.49255987, 121.47057953, 121.72492119,\n",
       "       123.45812575, 126.40960035, 124.3542901 , 123.67910245,\n",
       "       120.82512603, 115.77999871, 110.39233781, 106.72688931,\n",
       "       102.48240429])"
      ]
     },
     "execution_count": 404,
     "metadata": {},
     "output_type": "execute_result"
    },
    {
     "data": {
      "text/plain": [
       "array([ 40.28571429,  38.57142857,  37.28571429,  38.57142857,\n",
       "        41.57142857,  43.        ,  43.28571429,  44.        ,\n",
       "        48.85714286,  53.42857143,  57.85714286,  62.71428571,\n",
       "        70.71428571,  77.42857143,  85.42857143,  93.71428571,\n",
       "       106.14285714, 111.28571429, 115.85714286, 121.71428571,\n",
       "       128.85714286, 143.57142857, 153.85714286, 157.        ,\n",
       "       162.14285714, 168.57142857, 172.14285714, 179.42857143,\n",
       "       186.14285714, 199.28571429, 206.85714286, 220.57142857,\n",
       "       233.        , 241.71428571, 250.85714286, 249.57142857,\n",
       "       243.28571429, 262.        , 282.        , 278.42857143,\n",
       "       283.42857143, 300.28571429, 325.28571429, 345.57142857,\n",
       "       344.28571429, 324.14285714, 339.28571429, 348.14285714,\n",
       "       346.85714286, 329.71428571, 352.42857143, 368.14285714,\n",
       "       382.85714286, 380.42857143, 410.        , 411.71428571,\n",
       "       420.71428571, 392.57142857, 344.14285714, 320.71428571,\n",
       "       323.85714286, 277.28571429, 260.42857143, 250.42857143,\n",
       "       226.85714286, 235.85714286, 235.14285714, 208.        ,\n",
       "       204.14285714, 188.14285714, 165.28571429, 155.14285714,\n",
       "       150.57142857, 144.71428571, 143.14285714, 133.85714286,\n",
       "       133.57142857, 131.42857143, 130.28571429, 126.28571429,\n",
       "       124.42857143, 109.85714286, 106.        , 103.71428571,\n",
       "       101.        , 101.14285714, 104.57142857, 100.14285714,\n",
       "       111.57142857])"
      ]
     },
     "execution_count": 404,
     "metadata": {},
     "output_type": "execute_result"
    }
   ],
   "source": [
    "np.array(y_pred)\n",
    "np.array(y_test)\n",
    "\n",
    "## 가장 영향력 있는 변수는 AVG_COEFF"
   ]
  },
  {
   "cell_type": "markdown",
   "metadata": {},
   "source": [
    "- 유의미한 변수만"
   ]
  },
  {
   "cell_type": "markdown",
   "metadata": {},
   "source": [
    "- ,'1week_before_AVG_COEF','1week_before_Density','1week_before_Modularity'"
   ]
  },
  {
   "cell_type": "code",
   "execution_count": 421,
   "metadata": {},
   "outputs": [],
   "source": [
    "sig_features = ['4week_before_infected','4week_before_AVG_COEF']\n",
    "X_train, y_train = train[sig_features] , train['infected']\n",
    "X_test, y_test = test[sig_features] , test['infected']"
   ]
  },
  {
   "cell_type": "markdown",
   "metadata": {},
   "source": [
    "- fitting & predicting"
   ]
  },
  {
   "cell_type": "code",
   "execution_count": 422,
   "metadata": {},
   "outputs": [
    {
     "data": {
      "text/plain": [
       "LinearRegression(copy_X=True, fit_intercept=True, n_jobs=None, normalize=False)"
      ]
     },
     "execution_count": 422,
     "metadata": {},
     "output_type": "execute_result"
    },
    {
     "data": {
      "text/plain": [
       "array([ 0.73085532, -0.14732276])"
      ]
     },
     "execution_count": 422,
     "metadata": {},
     "output_type": "execute_result"
    },
    {
     "data": {
      "text/plain": [
       "11194.611287312871"
      ]
     },
     "execution_count": 422,
     "metadata": {},
     "output_type": "execute_result"
    }
   ],
   "source": [
    "model = LinearRegression()\n",
    "model.fit(X_train,y_train)\n",
    "model.coef_  \n",
    "\n",
    "y_pred = model.predict(X_test)\n",
    "mean_squared_error(y_test, y_pred)"
   ]
  },
  {
   "cell_type": "markdown",
   "metadata": {},
   "source": [
    "- 비교"
   ]
  },
  {
   "cell_type": "code",
   "execution_count": 423,
   "metadata": {},
   "outputs": [
    {
     "data": {
      "text/plain": [
       "array([ 23.87337098,  24.40014523,  24.8429392 ,  25.25655753,\n",
       "        25.67415353,  26.12513987,  26.60508138,  27.12013578,\n",
       "        27.63330933,  28.28558074,  29.08155115,  30.0086816 ,\n",
       "        31.1223288 ,  32.47252935,  34.02914442,  35.82100292,\n",
       "        37.82158504,  40.13178316,  42.58517469,  45.1271112 ,\n",
       "        47.78980268,  50.57456345,  53.69549367,  56.96601139,\n",
       "        60.22879243,  63.52261335,  66.97587895,  70.51495917,\n",
       "        74.19986305,  77.99473636,  82.17565477,  86.58717245,\n",
       "        91.32291273,  96.30579733, 101.480302  , 106.88663469,\n",
       "       112.24258442, 117.30949542, 122.74687171, 128.59036155,\n",
       "       134.2128366 , 139.75457057, 145.55907294, 151.80614695,\n",
       "       158.36718118, 164.57121303, 170.11835917, 175.94431604,\n",
       "       181.85369154, 187.54657019, 192.41088311, 197.60222965,\n",
       "       203.12370281, 208.89596346, 214.43975606, 220.66217162,\n",
       "       226.73877063, 232.87467954, 237.93267958, 241.52787391,\n",
       "       244.15145765, 246.53020607, 247.46448444, 247.72111452,\n",
       "       247.74966127, 247.32698412, 246.65116824, 245.43520118,\n",
       "       243.60415885, 241.54287083, 238.62386275, 234.45677422,\n",
       "       229.49482249, 224.44605165, 219.77005651, 214.65578589,\n",
       "       209.06478269, 203.49793279, 198.31923498, 192.51387334,\n",
       "       186.19146034, 179.43492551, 172.36036775, 164.41372419,\n",
       "       156.36347355, 148.00986913, 140.39817601, 134.1422618 ,\n",
       "       128.38409637])"
      ]
     },
     "execution_count": 423,
     "metadata": {},
     "output_type": "execute_result"
    },
    {
     "data": {
      "text/plain": [
       "array([ 40.28571429,  38.57142857,  37.28571429,  38.57142857,\n",
       "        41.57142857,  43.        ,  43.28571429,  44.        ,\n",
       "        48.85714286,  53.42857143,  57.85714286,  62.71428571,\n",
       "        70.71428571,  77.42857143,  85.42857143,  93.71428571,\n",
       "       106.14285714, 111.28571429, 115.85714286, 121.71428571,\n",
       "       128.85714286, 143.57142857, 153.85714286, 157.        ,\n",
       "       162.14285714, 168.57142857, 172.14285714, 179.42857143,\n",
       "       186.14285714, 199.28571429, 206.85714286, 220.57142857,\n",
       "       233.        , 241.71428571, 250.85714286, 249.57142857,\n",
       "       243.28571429, 262.        , 282.        , 278.42857143,\n",
       "       283.42857143, 300.28571429, 325.28571429, 345.57142857,\n",
       "       344.28571429, 324.14285714, 339.28571429, 348.14285714,\n",
       "       346.85714286, 329.71428571, 352.42857143, 368.14285714,\n",
       "       382.85714286, 380.42857143, 410.        , 411.71428571,\n",
       "       420.71428571, 392.57142857, 344.14285714, 320.71428571,\n",
       "       323.85714286, 277.28571429, 260.42857143, 250.42857143,\n",
       "       226.85714286, 235.85714286, 235.14285714, 208.        ,\n",
       "       204.14285714, 188.14285714, 165.28571429, 155.14285714,\n",
       "       150.57142857, 144.71428571, 143.14285714, 133.85714286,\n",
       "       133.57142857, 131.42857143, 130.28571429, 126.28571429,\n",
       "       124.42857143, 109.85714286, 106.        , 103.71428571,\n",
       "       101.        , 101.14285714, 104.57142857, 100.14285714,\n",
       "       111.57142857])"
      ]
     },
     "execution_count": 423,
     "metadata": {},
     "output_type": "execute_result"
    }
   ],
   "source": [
    "np.array(y_pred)\n",
    "np.array(y_test)\n",
    "## 가장 영향력 있는 변수는 AVG_COEFF"
   ]
  },
  {
   "cell_type": "markdown",
   "metadata": {},
   "source": [
    "- test 예측"
   ]
  },
  {
   "cell_type": "code",
   "execution_count": 424,
   "metadata": {},
   "outputs": [],
   "source": [
    "sam = pd.DataFrame({'actual':y_test, 'pred':y_pred,'4주전':X_test['4week_before_infected'],\n",
    "                    'date':pd.date_range(start='11/01/2020',end='1/28/2021')})"
   ]
  },
  {
   "cell_type": "code",
   "execution_count": 425,
   "metadata": {},
   "outputs": [
    {
     "data": {
      "application/vnd.plotly.v1+json": {
       "config": {
        "plotlyServerURL": "https://plot.ly"
       },
       "data": [
        {
         "hovertemplate": "variable=actual<br>date=%{x}<br>value=%{y}<extra></extra>",
         "legendgroup": "actual",
         "line": {
          "color": "#636efa",
          "dash": "solid"
         },
         "mode": "lines",
         "name": "actual",
         "orientation": "v",
         "showlegend": true,
         "type": "scatter",
         "x": [
          "2020-11-01T00:00:00",
          "2020-11-02T00:00:00",
          "2020-11-03T00:00:00",
          "2020-11-04T00:00:00",
          "2020-11-05T00:00:00",
          "2020-11-06T00:00:00",
          "2020-11-07T00:00:00",
          "2020-11-08T00:00:00",
          "2020-11-09T00:00:00",
          "2020-11-10T00:00:00",
          "2020-11-11T00:00:00",
          "2020-11-12T00:00:00",
          "2020-11-13T00:00:00",
          "2020-11-14T00:00:00",
          "2020-11-15T00:00:00",
          "2020-11-16T00:00:00",
          "2020-11-17T00:00:00",
          "2020-11-18T00:00:00",
          "2020-11-19T00:00:00",
          "2020-11-20T00:00:00",
          "2020-11-21T00:00:00",
          "2020-11-22T00:00:00",
          "2020-11-23T00:00:00",
          "2020-11-24T00:00:00",
          "2020-11-25T00:00:00",
          "2020-11-26T00:00:00",
          "2020-11-27T00:00:00",
          "2020-11-28T00:00:00",
          "2020-11-29T00:00:00",
          "2020-11-30T00:00:00",
          "2020-12-01T00:00:00",
          "2020-12-02T00:00:00",
          "2020-12-03T00:00:00",
          "2020-12-04T00:00:00",
          "2020-12-05T00:00:00",
          "2020-12-06T00:00:00",
          "2020-12-07T00:00:00",
          "2020-12-08T00:00:00",
          "2020-12-09T00:00:00",
          "2020-12-10T00:00:00",
          "2020-12-11T00:00:00",
          "2020-12-12T00:00:00",
          "2020-12-13T00:00:00",
          "2020-12-14T00:00:00",
          "2020-12-15T00:00:00",
          "2020-12-16T00:00:00",
          "2020-12-17T00:00:00",
          "2020-12-18T00:00:00",
          "2020-12-19T00:00:00",
          "2020-12-20T00:00:00",
          "2020-12-21T00:00:00",
          "2020-12-22T00:00:00",
          "2020-12-23T00:00:00",
          "2020-12-24T00:00:00",
          "2020-12-25T00:00:00",
          "2020-12-26T00:00:00",
          "2020-12-27T00:00:00",
          "2020-12-28T00:00:00",
          "2020-12-29T00:00:00",
          "2020-12-30T00:00:00",
          "2020-12-31T00:00:00",
          "2021-01-01T00:00:00",
          "2021-01-02T00:00:00",
          "2021-01-03T00:00:00",
          "2021-01-04T00:00:00",
          "2021-01-05T00:00:00",
          "2021-01-06T00:00:00",
          "2021-01-07T00:00:00",
          "2021-01-08T00:00:00",
          "2021-01-09T00:00:00",
          "2021-01-10T00:00:00",
          "2021-01-11T00:00:00",
          "2021-01-12T00:00:00",
          "2021-01-13T00:00:00",
          "2021-01-14T00:00:00",
          "2021-01-15T00:00:00",
          "2021-01-16T00:00:00",
          "2021-01-17T00:00:00",
          "2021-01-18T00:00:00",
          "2021-01-19T00:00:00",
          "2021-01-20T00:00:00",
          "2021-01-21T00:00:00",
          "2021-01-22T00:00:00",
          "2021-01-23T00:00:00",
          "2021-01-24T00:00:00",
          "2021-01-25T00:00:00",
          "2021-01-26T00:00:00",
          "2021-01-27T00:00:00",
          "2021-01-28T00:00:00"
         ],
         "xaxis": "x",
         "y": [
          40.285714285714285,
          38.57142857142857,
          37.285714285714285,
          38.57142857142857,
          41.57142857142857,
          43,
          43.285714285714285,
          44,
          48.857142857142854,
          53.42857142857143,
          57.857142857142854,
          62.714285714285715,
          70.71428571428571,
          77.42857142857143,
          85.42857142857143,
          93.71428571428571,
          106.14285714285714,
          111.28571428571429,
          115.85714285714286,
          121.71428571428571,
          128.85714285714286,
          143.57142857142858,
          153.85714285714286,
          157,
          162.14285714285714,
          168.57142857142858,
          172.14285714285714,
          179.42857142857142,
          186.14285714285714,
          199.28571428571428,
          206.85714285714286,
          220.57142857142858,
          233,
          241.71428571428572,
          250.85714285714286,
          249.57142857142858,
          243.28571428571428,
          262,
          282,
          278.42857142857144,
          283.42857142857144,
          300.2857142857143,
          325.2857142857143,
          345.57142857142856,
          344.2857142857143,
          324.14285714285717,
          339.2857142857143,
          348.14285714285717,
          346.85714285714283,
          329.7142857142857,
          352.42857142857144,
          368.14285714285717,
          382.85714285714283,
          380.42857142857144,
          410,
          411.7142857142857,
          420.7142857142857,
          392.57142857142856,
          344.14285714285717,
          320.7142857142857,
          323.85714285714283,
          277.2857142857143,
          260.42857142857144,
          250.42857142857142,
          226.85714285714286,
          235.85714285714286,
          235.14285714285714,
          208,
          204.14285714285714,
          188.14285714285714,
          165.28571428571428,
          155.14285714285714,
          150.57142857142858,
          144.71428571428572,
          143.14285714285714,
          133.85714285714286,
          133.57142857142858,
          131.42857142857142,
          130.28571428571428,
          126.28571428571429,
          124.42857142857143,
          109.85714285714286,
          106,
          103.71428571428571,
          101,
          101.14285714285714,
          104.57142857142857,
          100.14285714285714,
          111.57142857142857
         ],
         "yaxis": "y"
        },
        {
         "hovertemplate": "variable=pred<br>date=%{x}<br>value=%{y}<extra></extra>",
         "legendgroup": "pred",
         "line": {
          "color": "#EF553B",
          "dash": "solid"
         },
         "mode": "lines",
         "name": "pred",
         "orientation": "v",
         "showlegend": true,
         "type": "scatter",
         "x": [
          "2020-11-01T00:00:00",
          "2020-11-02T00:00:00",
          "2020-11-03T00:00:00",
          "2020-11-04T00:00:00",
          "2020-11-05T00:00:00",
          "2020-11-06T00:00:00",
          "2020-11-07T00:00:00",
          "2020-11-08T00:00:00",
          "2020-11-09T00:00:00",
          "2020-11-10T00:00:00",
          "2020-11-11T00:00:00",
          "2020-11-12T00:00:00",
          "2020-11-13T00:00:00",
          "2020-11-14T00:00:00",
          "2020-11-15T00:00:00",
          "2020-11-16T00:00:00",
          "2020-11-17T00:00:00",
          "2020-11-18T00:00:00",
          "2020-11-19T00:00:00",
          "2020-11-20T00:00:00",
          "2020-11-21T00:00:00",
          "2020-11-22T00:00:00",
          "2020-11-23T00:00:00",
          "2020-11-24T00:00:00",
          "2020-11-25T00:00:00",
          "2020-11-26T00:00:00",
          "2020-11-27T00:00:00",
          "2020-11-28T00:00:00",
          "2020-11-29T00:00:00",
          "2020-11-30T00:00:00",
          "2020-12-01T00:00:00",
          "2020-12-02T00:00:00",
          "2020-12-03T00:00:00",
          "2020-12-04T00:00:00",
          "2020-12-05T00:00:00",
          "2020-12-06T00:00:00",
          "2020-12-07T00:00:00",
          "2020-12-08T00:00:00",
          "2020-12-09T00:00:00",
          "2020-12-10T00:00:00",
          "2020-12-11T00:00:00",
          "2020-12-12T00:00:00",
          "2020-12-13T00:00:00",
          "2020-12-14T00:00:00",
          "2020-12-15T00:00:00",
          "2020-12-16T00:00:00",
          "2020-12-17T00:00:00",
          "2020-12-18T00:00:00",
          "2020-12-19T00:00:00",
          "2020-12-20T00:00:00",
          "2020-12-21T00:00:00",
          "2020-12-22T00:00:00",
          "2020-12-23T00:00:00",
          "2020-12-24T00:00:00",
          "2020-12-25T00:00:00",
          "2020-12-26T00:00:00",
          "2020-12-27T00:00:00",
          "2020-12-28T00:00:00",
          "2020-12-29T00:00:00",
          "2020-12-30T00:00:00",
          "2020-12-31T00:00:00",
          "2021-01-01T00:00:00",
          "2021-01-02T00:00:00",
          "2021-01-03T00:00:00",
          "2021-01-04T00:00:00",
          "2021-01-05T00:00:00",
          "2021-01-06T00:00:00",
          "2021-01-07T00:00:00",
          "2021-01-08T00:00:00",
          "2021-01-09T00:00:00",
          "2021-01-10T00:00:00",
          "2021-01-11T00:00:00",
          "2021-01-12T00:00:00",
          "2021-01-13T00:00:00",
          "2021-01-14T00:00:00",
          "2021-01-15T00:00:00",
          "2021-01-16T00:00:00",
          "2021-01-17T00:00:00",
          "2021-01-18T00:00:00",
          "2021-01-19T00:00:00",
          "2021-01-20T00:00:00",
          "2021-01-21T00:00:00",
          "2021-01-22T00:00:00",
          "2021-01-23T00:00:00",
          "2021-01-24T00:00:00",
          "2021-01-25T00:00:00",
          "2021-01-26T00:00:00",
          "2021-01-27T00:00:00",
          "2021-01-28T00:00:00"
         ],
         "xaxis": "x",
         "y": [
          23.87337098465445,
          24.400145229950226,
          24.842939197235367,
          25.25655753090404,
          25.674153531483647,
          26.125139870612784,
          26.605081383370177,
          27.12013578390024,
          27.633309333496527,
          28.28558073726689,
          29.08155114925551,
          30.008681604880984,
          31.122328795276246,
          32.47252935225247,
          34.02914441824985,
          35.821002917001636,
          37.821585038094604,
          40.13178316288858,
          42.58517469152734,
          45.12711119799836,
          47.789802675990956,
          50.574563452909736,
          53.695493667279926,
          56.966011391861834,
          60.22879242666979,
          63.522613348459934,
          66.97587894594787,
          70.51495917387734,
          74.19986305468886,
          77.99473636097444,
          82.17565477164754,
          86.58717245377623,
          91.32291272677654,
          96.30579733243063,
          101.48030199983937,
          106.88663468775918,
          112.24258441955755,
          117.30949542034124,
          122.74687170876943,
          128.59036155017372,
          134.21283660337838,
          139.75457057437305,
          145.5590729367007,
          151.80614695470985,
          158.36718118473695,
          164.57121302944327,
          170.11835916717982,
          175.94431603675991,
          181.85369153550812,
          187.54657019010875,
          192.4108831142271,
          197.60222964872793,
          203.1237028108659,
          208.89596346249553,
          214.4397560624274,
          220.6621716170248,
          226.73877062910842,
          232.87467954483466,
          237.93267957995184,
          241.52787391427992,
          244.15145764532255,
          246.5302060740313,
          247.4644844378318,
          247.72111451969707,
          247.74966126802215,
          247.3269841245372,
          246.65116824164394,
          245.43520118214286,
          243.60415885020666,
          241.54287082722797,
          238.62386274515836,
          234.45677421729,
          229.4948224850262,
          224.44605165439964,
          219.77005650888069,
          214.65578589270987,
          209.06478268958654,
          203.4979327875558,
          198.31923498415804,
          192.5138733432318,
          186.19146033743655,
          179.4349255096791,
          172.360367746516,
          164.41372418634637,
          156.36347355475644,
          148.00986912736636,
          140.39817601424522,
          134.14226179724244,
          128.38409636815166
         ],
         "yaxis": "y"
        },
        {
         "hovertemplate": "variable=4주전<br>date=%{x}<br>value=%{y}<extra></extra>",
         "legendgroup": "4주전",
         "line": {
          "color": "#00cc96",
          "dash": "solid"
         },
         "mode": "lines",
         "name": "4주전",
         "orientation": "v",
         "showlegend": true,
         "type": "scatter",
         "x": [
          "2020-11-01T00:00:00",
          "2020-11-02T00:00:00",
          "2020-11-03T00:00:00",
          "2020-11-04T00:00:00",
          "2020-11-05T00:00:00",
          "2020-11-06T00:00:00",
          "2020-11-07T00:00:00",
          "2020-11-08T00:00:00",
          "2020-11-09T00:00:00",
          "2020-11-10T00:00:00",
          "2020-11-11T00:00:00",
          "2020-11-12T00:00:00",
          "2020-11-13T00:00:00",
          "2020-11-14T00:00:00",
          "2020-11-15T00:00:00",
          "2020-11-16T00:00:00",
          "2020-11-17T00:00:00",
          "2020-11-18T00:00:00",
          "2020-11-19T00:00:00",
          "2020-11-20T00:00:00",
          "2020-11-21T00:00:00",
          "2020-11-22T00:00:00",
          "2020-11-23T00:00:00",
          "2020-11-24T00:00:00",
          "2020-11-25T00:00:00",
          "2020-11-26T00:00:00",
          "2020-11-27T00:00:00",
          "2020-11-28T00:00:00",
          "2020-11-29T00:00:00",
          "2020-11-30T00:00:00",
          "2020-12-01T00:00:00",
          "2020-12-02T00:00:00",
          "2020-12-03T00:00:00",
          "2020-12-04T00:00:00",
          "2020-12-05T00:00:00",
          "2020-12-06T00:00:00",
          "2020-12-07T00:00:00",
          "2020-12-08T00:00:00",
          "2020-12-09T00:00:00",
          "2020-12-10T00:00:00",
          "2020-12-11T00:00:00",
          "2020-12-12T00:00:00",
          "2020-12-13T00:00:00",
          "2020-12-14T00:00:00",
          "2020-12-15T00:00:00",
          "2020-12-16T00:00:00",
          "2020-12-17T00:00:00",
          "2020-12-18T00:00:00",
          "2020-12-19T00:00:00",
          "2020-12-20T00:00:00",
          "2020-12-21T00:00:00",
          "2020-12-22T00:00:00",
          "2020-12-23T00:00:00",
          "2020-12-24T00:00:00",
          "2020-12-25T00:00:00",
          "2020-12-26T00:00:00",
          "2020-12-27T00:00:00",
          "2020-12-28T00:00:00",
          "2020-12-29T00:00:00",
          "2020-12-30T00:00:00",
          "2020-12-31T00:00:00",
          "2021-01-01T00:00:00",
          "2021-01-02T00:00:00",
          "2021-01-03T00:00:00",
          "2021-01-04T00:00:00",
          "2021-01-05T00:00:00",
          "2021-01-06T00:00:00",
          "2021-01-07T00:00:00",
          "2021-01-08T00:00:00",
          "2021-01-09T00:00:00",
          "2021-01-10T00:00:00",
          "2021-01-11T00:00:00",
          "2021-01-12T00:00:00",
          "2021-01-13T00:00:00",
          "2021-01-14T00:00:00",
          "2021-01-15T00:00:00",
          "2021-01-16T00:00:00",
          "2021-01-17T00:00:00",
          "2021-01-18T00:00:00",
          "2021-01-19T00:00:00",
          "2021-01-20T00:00:00",
          "2021-01-21T00:00:00",
          "2021-01-22T00:00:00",
          "2021-01-23T00:00:00",
          "2021-01-24T00:00:00",
          "2021-01-25T00:00:00",
          "2021-01-26T00:00:00",
          "2021-01-27T00:00:00",
          "2021-01-28T00:00:00"
         ],
         "xaxis": "x",
         "y": [
          23.637755102040813,
          24.362244897959187,
          24.96938775510204,
          25.53571428571429,
          26.107142857142858,
          26.724489795918366,
          27.382653061224488,
          28.091836734693874,
          28.801020408163264,
          29.70408163265306,
          30.806122448979593,
          32.08673469387755,
          33.62244897959184,
          35.4795918367347,
          37.61734693877551,
          40.076530612244895,
          42.82142857142858,
          45.98979591836735,
          49.357142857142854,
          52.846938775510196,
          56.505102040816325,
          60.33163265306121,
          64.61734693877551,
          69.10714285714285,
          73.58673469387755,
          78.10714285714285,
          82.8469387755102,
          87.70408163265304,
          92.76020408163265,
          97.96938775510202,
          103.70918367346937,
          109.76530612244898,
          116.26530612244895,
          123.1020408163265,
          130.19897959183672,
          137.6122448979592,
          144.95408163265301,
          151.89795918367344,
          159.34693877551015,
          167.3520408163265,
          175.05612244897958,
          182.6530612244898,
          190.6122448979592,
          199.17857142857144,
          208.17346938775515,
          216.67857142857147,
          224.280612244898,
          232.2602040816327,
          240.34693877551024,
          248.13265306122454,
          254.78061224489798,
          261.87244897959187,
          269.4132653061225,
          277.295918367347,
          284.8622448979592,
          293.35714285714283,
          301.6530612244898,
          310.03061224489795,
          316.93367346938777,
          321.83673469387753,
          325.41326530612247,
          328.6581632653061,
          329.92857142857144,
          330.2704081632653,
          330.30102040816325,
          329.7142857142857,
          328.78061224489795,
          327.10714285714283,
          324.5918367346939,
          321.7602040816327,
          317.7551020408164,
          312.0408163265306,
          305.2397959183674,
          298.3214285714286,
          291.91326530612247,
          284.9081632653061,
          277.25510204081627,
          269.6377551020407,
          262.5561224489796,
          254.62244897959175,
          245.98469387755094,
          236.7551020408163,
          227.0918367346938,
          216.23469387755097,
          205.234693877551,
          193.81632653061223,
          183.40816326530614,
          174.85204081632654,
          166.9744897959184
         ],
         "yaxis": "y"
        }
       ],
       "layout": {
        "height": 600,
        "legend": {
         "title": {
          "text": "variable"
         },
         "tracegroupgap": 0
        },
        "margin": {
         "t": 60
        },
        "plot_bgcolor": "white",
        "template": {
         "data": {
          "bar": [
           {
            "error_x": {
             "color": "#2a3f5f"
            },
            "error_y": {
             "color": "#2a3f5f"
            },
            "marker": {
             "line": {
              "color": "#E5ECF6",
              "width": 0.5
             }
            },
            "type": "bar"
           }
          ],
          "barpolar": [
           {
            "marker": {
             "line": {
              "color": "#E5ECF6",
              "width": 0.5
             }
            },
            "type": "barpolar"
           }
          ],
          "carpet": [
           {
            "aaxis": {
             "endlinecolor": "#2a3f5f",
             "gridcolor": "white",
             "linecolor": "white",
             "minorgridcolor": "white",
             "startlinecolor": "#2a3f5f"
            },
            "baxis": {
             "endlinecolor": "#2a3f5f",
             "gridcolor": "white",
             "linecolor": "white",
             "minorgridcolor": "white",
             "startlinecolor": "#2a3f5f"
            },
            "type": "carpet"
           }
          ],
          "choropleth": [
           {
            "colorbar": {
             "outlinewidth": 0,
             "ticks": ""
            },
            "type": "choropleth"
           }
          ],
          "contour": [
           {
            "colorbar": {
             "outlinewidth": 0,
             "ticks": ""
            },
            "colorscale": [
             [
              0,
              "#0d0887"
             ],
             [
              0.1111111111111111,
              "#46039f"
             ],
             [
              0.2222222222222222,
              "#7201a8"
             ],
             [
              0.3333333333333333,
              "#9c179e"
             ],
             [
              0.4444444444444444,
              "#bd3786"
             ],
             [
              0.5555555555555556,
              "#d8576b"
             ],
             [
              0.6666666666666666,
              "#ed7953"
             ],
             [
              0.7777777777777778,
              "#fb9f3a"
             ],
             [
              0.8888888888888888,
              "#fdca26"
             ],
             [
              1,
              "#f0f921"
             ]
            ],
            "type": "contour"
           }
          ],
          "contourcarpet": [
           {
            "colorbar": {
             "outlinewidth": 0,
             "ticks": ""
            },
            "type": "contourcarpet"
           }
          ],
          "heatmap": [
           {
            "colorbar": {
             "outlinewidth": 0,
             "ticks": ""
            },
            "colorscale": [
             [
              0,
              "#0d0887"
             ],
             [
              0.1111111111111111,
              "#46039f"
             ],
             [
              0.2222222222222222,
              "#7201a8"
             ],
             [
              0.3333333333333333,
              "#9c179e"
             ],
             [
              0.4444444444444444,
              "#bd3786"
             ],
             [
              0.5555555555555556,
              "#d8576b"
             ],
             [
              0.6666666666666666,
              "#ed7953"
             ],
             [
              0.7777777777777778,
              "#fb9f3a"
             ],
             [
              0.8888888888888888,
              "#fdca26"
             ],
             [
              1,
              "#f0f921"
             ]
            ],
            "type": "heatmap"
           }
          ],
          "heatmapgl": [
           {
            "colorbar": {
             "outlinewidth": 0,
             "ticks": ""
            },
            "colorscale": [
             [
              0,
              "#0d0887"
             ],
             [
              0.1111111111111111,
              "#46039f"
             ],
             [
              0.2222222222222222,
              "#7201a8"
             ],
             [
              0.3333333333333333,
              "#9c179e"
             ],
             [
              0.4444444444444444,
              "#bd3786"
             ],
             [
              0.5555555555555556,
              "#d8576b"
             ],
             [
              0.6666666666666666,
              "#ed7953"
             ],
             [
              0.7777777777777778,
              "#fb9f3a"
             ],
             [
              0.8888888888888888,
              "#fdca26"
             ],
             [
              1,
              "#f0f921"
             ]
            ],
            "type": "heatmapgl"
           }
          ],
          "histogram": [
           {
            "marker": {
             "colorbar": {
              "outlinewidth": 0,
              "ticks": ""
             }
            },
            "type": "histogram"
           }
          ],
          "histogram2d": [
           {
            "colorbar": {
             "outlinewidth": 0,
             "ticks": ""
            },
            "colorscale": [
             [
              0,
              "#0d0887"
             ],
             [
              0.1111111111111111,
              "#46039f"
             ],
             [
              0.2222222222222222,
              "#7201a8"
             ],
             [
              0.3333333333333333,
              "#9c179e"
             ],
             [
              0.4444444444444444,
              "#bd3786"
             ],
             [
              0.5555555555555556,
              "#d8576b"
             ],
             [
              0.6666666666666666,
              "#ed7953"
             ],
             [
              0.7777777777777778,
              "#fb9f3a"
             ],
             [
              0.8888888888888888,
              "#fdca26"
             ],
             [
              1,
              "#f0f921"
             ]
            ],
            "type": "histogram2d"
           }
          ],
          "histogram2dcontour": [
           {
            "colorbar": {
             "outlinewidth": 0,
             "ticks": ""
            },
            "colorscale": [
             [
              0,
              "#0d0887"
             ],
             [
              0.1111111111111111,
              "#46039f"
             ],
             [
              0.2222222222222222,
              "#7201a8"
             ],
             [
              0.3333333333333333,
              "#9c179e"
             ],
             [
              0.4444444444444444,
              "#bd3786"
             ],
             [
              0.5555555555555556,
              "#d8576b"
             ],
             [
              0.6666666666666666,
              "#ed7953"
             ],
             [
              0.7777777777777778,
              "#fb9f3a"
             ],
             [
              0.8888888888888888,
              "#fdca26"
             ],
             [
              1,
              "#f0f921"
             ]
            ],
            "type": "histogram2dcontour"
           }
          ],
          "mesh3d": [
           {
            "colorbar": {
             "outlinewidth": 0,
             "ticks": ""
            },
            "type": "mesh3d"
           }
          ],
          "parcoords": [
           {
            "line": {
             "colorbar": {
              "outlinewidth": 0,
              "ticks": ""
             }
            },
            "type": "parcoords"
           }
          ],
          "pie": [
           {
            "automargin": true,
            "type": "pie"
           }
          ],
          "scatter": [
           {
            "marker": {
             "colorbar": {
              "outlinewidth": 0,
              "ticks": ""
             }
            },
            "type": "scatter"
           }
          ],
          "scatter3d": [
           {
            "line": {
             "colorbar": {
              "outlinewidth": 0,
              "ticks": ""
             }
            },
            "marker": {
             "colorbar": {
              "outlinewidth": 0,
              "ticks": ""
             }
            },
            "type": "scatter3d"
           }
          ],
          "scattercarpet": [
           {
            "marker": {
             "colorbar": {
              "outlinewidth": 0,
              "ticks": ""
             }
            },
            "type": "scattercarpet"
           }
          ],
          "scattergeo": [
           {
            "marker": {
             "colorbar": {
              "outlinewidth": 0,
              "ticks": ""
             }
            },
            "type": "scattergeo"
           }
          ],
          "scattergl": [
           {
            "marker": {
             "colorbar": {
              "outlinewidth": 0,
              "ticks": ""
             }
            },
            "type": "scattergl"
           }
          ],
          "scattermapbox": [
           {
            "marker": {
             "colorbar": {
              "outlinewidth": 0,
              "ticks": ""
             }
            },
            "type": "scattermapbox"
           }
          ],
          "scatterpolar": [
           {
            "marker": {
             "colorbar": {
              "outlinewidth": 0,
              "ticks": ""
             }
            },
            "type": "scatterpolar"
           }
          ],
          "scatterpolargl": [
           {
            "marker": {
             "colorbar": {
              "outlinewidth": 0,
              "ticks": ""
             }
            },
            "type": "scatterpolargl"
           }
          ],
          "scatterternary": [
           {
            "marker": {
             "colorbar": {
              "outlinewidth": 0,
              "ticks": ""
             }
            },
            "type": "scatterternary"
           }
          ],
          "surface": [
           {
            "colorbar": {
             "outlinewidth": 0,
             "ticks": ""
            },
            "colorscale": [
             [
              0,
              "#0d0887"
             ],
             [
              0.1111111111111111,
              "#46039f"
             ],
             [
              0.2222222222222222,
              "#7201a8"
             ],
             [
              0.3333333333333333,
              "#9c179e"
             ],
             [
              0.4444444444444444,
              "#bd3786"
             ],
             [
              0.5555555555555556,
              "#d8576b"
             ],
             [
              0.6666666666666666,
              "#ed7953"
             ],
             [
              0.7777777777777778,
              "#fb9f3a"
             ],
             [
              0.8888888888888888,
              "#fdca26"
             ],
             [
              1,
              "#f0f921"
             ]
            ],
            "type": "surface"
           }
          ],
          "table": [
           {
            "cells": {
             "fill": {
              "color": "#EBF0F8"
             },
             "line": {
              "color": "white"
             }
            },
            "header": {
             "fill": {
              "color": "#C8D4E3"
             },
             "line": {
              "color": "white"
             }
            },
            "type": "table"
           }
          ]
         },
         "layout": {
          "annotationdefaults": {
           "arrowcolor": "#2a3f5f",
           "arrowhead": 0,
           "arrowwidth": 1
          },
          "coloraxis": {
           "colorbar": {
            "outlinewidth": 0,
            "ticks": ""
           }
          },
          "colorscale": {
           "diverging": [
            [
             0,
             "#8e0152"
            ],
            [
             0.1,
             "#c51b7d"
            ],
            [
             0.2,
             "#de77ae"
            ],
            [
             0.3,
             "#f1b6da"
            ],
            [
             0.4,
             "#fde0ef"
            ],
            [
             0.5,
             "#f7f7f7"
            ],
            [
             0.6,
             "#e6f5d0"
            ],
            [
             0.7,
             "#b8e186"
            ],
            [
             0.8,
             "#7fbc41"
            ],
            [
             0.9,
             "#4d9221"
            ],
            [
             1,
             "#276419"
            ]
           ],
           "sequential": [
            [
             0,
             "#0d0887"
            ],
            [
             0.1111111111111111,
             "#46039f"
            ],
            [
             0.2222222222222222,
             "#7201a8"
            ],
            [
             0.3333333333333333,
             "#9c179e"
            ],
            [
             0.4444444444444444,
             "#bd3786"
            ],
            [
             0.5555555555555556,
             "#d8576b"
            ],
            [
             0.6666666666666666,
             "#ed7953"
            ],
            [
             0.7777777777777778,
             "#fb9f3a"
            ],
            [
             0.8888888888888888,
             "#fdca26"
            ],
            [
             1,
             "#f0f921"
            ]
           ],
           "sequentialminus": [
            [
             0,
             "#0d0887"
            ],
            [
             0.1111111111111111,
             "#46039f"
            ],
            [
             0.2222222222222222,
             "#7201a8"
            ],
            [
             0.3333333333333333,
             "#9c179e"
            ],
            [
             0.4444444444444444,
             "#bd3786"
            ],
            [
             0.5555555555555556,
             "#d8576b"
            ],
            [
             0.6666666666666666,
             "#ed7953"
            ],
            [
             0.7777777777777778,
             "#fb9f3a"
            ],
            [
             0.8888888888888888,
             "#fdca26"
            ],
            [
             1,
             "#f0f921"
            ]
           ]
          },
          "colorway": [
           "#636efa",
           "#EF553B",
           "#00cc96",
           "#ab63fa",
           "#FFA15A",
           "#19d3f3",
           "#FF6692",
           "#B6E880",
           "#FF97FF",
           "#FECB52"
          ],
          "font": {
           "color": "#2a3f5f"
          },
          "geo": {
           "bgcolor": "white",
           "lakecolor": "white",
           "landcolor": "#E5ECF6",
           "showlakes": true,
           "showland": true,
           "subunitcolor": "white"
          },
          "hoverlabel": {
           "align": "left"
          },
          "hovermode": "closest",
          "mapbox": {
           "style": "light"
          },
          "paper_bgcolor": "white",
          "plot_bgcolor": "#E5ECF6",
          "polar": {
           "angularaxis": {
            "gridcolor": "white",
            "linecolor": "white",
            "ticks": ""
           },
           "bgcolor": "#E5ECF6",
           "radialaxis": {
            "gridcolor": "white",
            "linecolor": "white",
            "ticks": ""
           }
          },
          "scene": {
           "xaxis": {
            "backgroundcolor": "#E5ECF6",
            "gridcolor": "white",
            "gridwidth": 2,
            "linecolor": "white",
            "showbackground": true,
            "ticks": "",
            "zerolinecolor": "white"
           },
           "yaxis": {
            "backgroundcolor": "#E5ECF6",
            "gridcolor": "white",
            "gridwidth": 2,
            "linecolor": "white",
            "showbackground": true,
            "ticks": "",
            "zerolinecolor": "white"
           },
           "zaxis": {
            "backgroundcolor": "#E5ECF6",
            "gridcolor": "white",
            "gridwidth": 2,
            "linecolor": "white",
            "showbackground": true,
            "ticks": "",
            "zerolinecolor": "white"
           }
          },
          "shapedefaults": {
           "line": {
            "color": "#2a3f5f"
           }
          },
          "ternary": {
           "aaxis": {
            "gridcolor": "white",
            "linecolor": "white",
            "ticks": ""
           },
           "baxis": {
            "gridcolor": "white",
            "linecolor": "white",
            "ticks": ""
           },
           "bgcolor": "#E5ECF6",
           "caxis": {
            "gridcolor": "white",
            "linecolor": "white",
            "ticks": ""
           }
          },
          "title": {
           "x": 0.05
          },
          "xaxis": {
           "automargin": true,
           "gridcolor": "white",
           "linecolor": "white",
           "ticks": "",
           "title": {
            "standoff": 15
           },
           "zerolinecolor": "white",
           "zerolinewidth": 2
          },
          "yaxis": {
           "automargin": true,
           "gridcolor": "white",
           "linecolor": "white",
           "ticks": "",
           "title": {
            "standoff": 15
           },
           "zerolinecolor": "white",
           "zerolinewidth": 2
          }
         }
        },
        "title": {
         "text": "1주전Infected"
        },
        "width": 900,
        "xaxis": {
         "anchor": "y",
         "domain": [
          0,
          1
         ],
         "showgrid": false,
         "title": {
          "text": "date"
         }
        },
        "yaxis": {
         "anchor": "x",
         "domain": [
          0,
          1
         ],
         "showgrid": false,
         "title": {
          "text": "value"
         }
        }
       }
      },
      "text/html": [
       "<div>\n",
       "        \n",
       "        \n",
       "            <div id=\"beca6437-85a8-43e9-b85c-f779ba9263b5\" class=\"plotly-graph-div\" style=\"height:600px; width:900px;\"></div>\n",
       "            <script type=\"text/javascript\">\n",
       "                require([\"plotly\"], function(Plotly) {\n",
       "                    window.PLOTLYENV=window.PLOTLYENV || {};\n",
       "                    \n",
       "                if (document.getElementById(\"beca6437-85a8-43e9-b85c-f779ba9263b5\")) {\n",
       "                    Plotly.newPlot(\n",
       "                        'beca6437-85a8-43e9-b85c-f779ba9263b5',\n",
       "                        [{\"hovertemplate\": \"variable=actual<br>date=%{x}<br>value=%{y}<extra></extra>\", \"legendgroup\": \"actual\", \"line\": {\"color\": \"#636efa\", \"dash\": \"solid\"}, \"mode\": \"lines\", \"name\": \"actual\", \"orientation\": \"v\", \"showlegend\": true, \"type\": \"scatter\", \"x\": [\"2020-11-01T00:00:00\", \"2020-11-02T00:00:00\", \"2020-11-03T00:00:00\", \"2020-11-04T00:00:00\", \"2020-11-05T00:00:00\", \"2020-11-06T00:00:00\", \"2020-11-07T00:00:00\", \"2020-11-08T00:00:00\", \"2020-11-09T00:00:00\", \"2020-11-10T00:00:00\", \"2020-11-11T00:00:00\", \"2020-11-12T00:00:00\", \"2020-11-13T00:00:00\", \"2020-11-14T00:00:00\", \"2020-11-15T00:00:00\", \"2020-11-16T00:00:00\", \"2020-11-17T00:00:00\", \"2020-11-18T00:00:00\", \"2020-11-19T00:00:00\", \"2020-11-20T00:00:00\", \"2020-11-21T00:00:00\", \"2020-11-22T00:00:00\", \"2020-11-23T00:00:00\", \"2020-11-24T00:00:00\", \"2020-11-25T00:00:00\", \"2020-11-26T00:00:00\", \"2020-11-27T00:00:00\", \"2020-11-28T00:00:00\", \"2020-11-29T00:00:00\", \"2020-11-30T00:00:00\", \"2020-12-01T00:00:00\", \"2020-12-02T00:00:00\", \"2020-12-03T00:00:00\", \"2020-12-04T00:00:00\", \"2020-12-05T00:00:00\", \"2020-12-06T00:00:00\", \"2020-12-07T00:00:00\", \"2020-12-08T00:00:00\", \"2020-12-09T00:00:00\", \"2020-12-10T00:00:00\", \"2020-12-11T00:00:00\", \"2020-12-12T00:00:00\", \"2020-12-13T00:00:00\", \"2020-12-14T00:00:00\", \"2020-12-15T00:00:00\", \"2020-12-16T00:00:00\", \"2020-12-17T00:00:00\", \"2020-12-18T00:00:00\", \"2020-12-19T00:00:00\", \"2020-12-20T00:00:00\", \"2020-12-21T00:00:00\", \"2020-12-22T00:00:00\", \"2020-12-23T00:00:00\", \"2020-12-24T00:00:00\", \"2020-12-25T00:00:00\", \"2020-12-26T00:00:00\", \"2020-12-27T00:00:00\", \"2020-12-28T00:00:00\", \"2020-12-29T00:00:00\", \"2020-12-30T00:00:00\", \"2020-12-31T00:00:00\", \"2021-01-01T00:00:00\", \"2021-01-02T00:00:00\", \"2021-01-03T00:00:00\", \"2021-01-04T00:00:00\", \"2021-01-05T00:00:00\", \"2021-01-06T00:00:00\", \"2021-01-07T00:00:00\", \"2021-01-08T00:00:00\", \"2021-01-09T00:00:00\", \"2021-01-10T00:00:00\", \"2021-01-11T00:00:00\", \"2021-01-12T00:00:00\", \"2021-01-13T00:00:00\", \"2021-01-14T00:00:00\", \"2021-01-15T00:00:00\", \"2021-01-16T00:00:00\", \"2021-01-17T00:00:00\", \"2021-01-18T00:00:00\", \"2021-01-19T00:00:00\", \"2021-01-20T00:00:00\", \"2021-01-21T00:00:00\", \"2021-01-22T00:00:00\", \"2021-01-23T00:00:00\", \"2021-01-24T00:00:00\", \"2021-01-25T00:00:00\", \"2021-01-26T00:00:00\", \"2021-01-27T00:00:00\", \"2021-01-28T00:00:00\"], \"xaxis\": \"x\", \"y\": [40.285714285714285, 38.57142857142857, 37.285714285714285, 38.57142857142857, 41.57142857142857, 43.0, 43.285714285714285, 44.0, 48.857142857142854, 53.42857142857143, 57.857142857142854, 62.714285714285715, 70.71428571428571, 77.42857142857143, 85.42857142857143, 93.71428571428571, 106.14285714285714, 111.28571428571429, 115.85714285714286, 121.71428571428571, 128.85714285714286, 143.57142857142858, 153.85714285714286, 157.0, 162.14285714285714, 168.57142857142858, 172.14285714285714, 179.42857142857142, 186.14285714285714, 199.28571428571428, 206.85714285714286, 220.57142857142858, 233.0, 241.71428571428572, 250.85714285714286, 249.57142857142858, 243.28571428571428, 262.0, 282.0, 278.42857142857144, 283.42857142857144, 300.2857142857143, 325.2857142857143, 345.57142857142856, 344.2857142857143, 324.14285714285717, 339.2857142857143, 348.14285714285717, 346.85714285714283, 329.7142857142857, 352.42857142857144, 368.14285714285717, 382.85714285714283, 380.42857142857144, 410.0, 411.7142857142857, 420.7142857142857, 392.57142857142856, 344.14285714285717, 320.7142857142857, 323.85714285714283, 277.2857142857143, 260.42857142857144, 250.42857142857142, 226.85714285714286, 235.85714285714286, 235.14285714285714, 208.0, 204.14285714285714, 188.14285714285714, 165.28571428571428, 155.14285714285714, 150.57142857142858, 144.71428571428572, 143.14285714285714, 133.85714285714286, 133.57142857142858, 131.42857142857142, 130.28571428571428, 126.28571428571429, 124.42857142857143, 109.85714285714286, 106.0, 103.71428571428571, 101.0, 101.14285714285714, 104.57142857142857, 100.14285714285714, 111.57142857142857], \"yaxis\": \"y\"}, {\"hovertemplate\": \"variable=pred<br>date=%{x}<br>value=%{y}<extra></extra>\", \"legendgroup\": \"pred\", \"line\": {\"color\": \"#EF553B\", \"dash\": \"solid\"}, \"mode\": \"lines\", \"name\": \"pred\", \"orientation\": \"v\", \"showlegend\": true, \"type\": \"scatter\", \"x\": [\"2020-11-01T00:00:00\", \"2020-11-02T00:00:00\", \"2020-11-03T00:00:00\", \"2020-11-04T00:00:00\", \"2020-11-05T00:00:00\", \"2020-11-06T00:00:00\", \"2020-11-07T00:00:00\", \"2020-11-08T00:00:00\", \"2020-11-09T00:00:00\", \"2020-11-10T00:00:00\", \"2020-11-11T00:00:00\", \"2020-11-12T00:00:00\", \"2020-11-13T00:00:00\", \"2020-11-14T00:00:00\", \"2020-11-15T00:00:00\", \"2020-11-16T00:00:00\", \"2020-11-17T00:00:00\", \"2020-11-18T00:00:00\", \"2020-11-19T00:00:00\", \"2020-11-20T00:00:00\", \"2020-11-21T00:00:00\", \"2020-11-22T00:00:00\", \"2020-11-23T00:00:00\", \"2020-11-24T00:00:00\", \"2020-11-25T00:00:00\", \"2020-11-26T00:00:00\", \"2020-11-27T00:00:00\", \"2020-11-28T00:00:00\", \"2020-11-29T00:00:00\", \"2020-11-30T00:00:00\", \"2020-12-01T00:00:00\", \"2020-12-02T00:00:00\", \"2020-12-03T00:00:00\", \"2020-12-04T00:00:00\", \"2020-12-05T00:00:00\", \"2020-12-06T00:00:00\", \"2020-12-07T00:00:00\", \"2020-12-08T00:00:00\", \"2020-12-09T00:00:00\", \"2020-12-10T00:00:00\", \"2020-12-11T00:00:00\", \"2020-12-12T00:00:00\", \"2020-12-13T00:00:00\", \"2020-12-14T00:00:00\", \"2020-12-15T00:00:00\", \"2020-12-16T00:00:00\", \"2020-12-17T00:00:00\", \"2020-12-18T00:00:00\", \"2020-12-19T00:00:00\", \"2020-12-20T00:00:00\", \"2020-12-21T00:00:00\", \"2020-12-22T00:00:00\", \"2020-12-23T00:00:00\", \"2020-12-24T00:00:00\", \"2020-12-25T00:00:00\", \"2020-12-26T00:00:00\", \"2020-12-27T00:00:00\", \"2020-12-28T00:00:00\", \"2020-12-29T00:00:00\", \"2020-12-30T00:00:00\", \"2020-12-31T00:00:00\", \"2021-01-01T00:00:00\", \"2021-01-02T00:00:00\", \"2021-01-03T00:00:00\", \"2021-01-04T00:00:00\", \"2021-01-05T00:00:00\", \"2021-01-06T00:00:00\", \"2021-01-07T00:00:00\", \"2021-01-08T00:00:00\", \"2021-01-09T00:00:00\", \"2021-01-10T00:00:00\", \"2021-01-11T00:00:00\", \"2021-01-12T00:00:00\", \"2021-01-13T00:00:00\", \"2021-01-14T00:00:00\", \"2021-01-15T00:00:00\", \"2021-01-16T00:00:00\", \"2021-01-17T00:00:00\", \"2021-01-18T00:00:00\", \"2021-01-19T00:00:00\", \"2021-01-20T00:00:00\", \"2021-01-21T00:00:00\", \"2021-01-22T00:00:00\", \"2021-01-23T00:00:00\", \"2021-01-24T00:00:00\", \"2021-01-25T00:00:00\", \"2021-01-26T00:00:00\", \"2021-01-27T00:00:00\", \"2021-01-28T00:00:00\"], \"xaxis\": \"x\", \"y\": [23.87337098465445, 24.400145229950226, 24.842939197235367, 25.25655753090404, 25.674153531483647, 26.125139870612784, 26.605081383370177, 27.12013578390024, 27.633309333496527, 28.28558073726689, 29.08155114925551, 30.008681604880984, 31.122328795276246, 32.47252935225247, 34.02914441824985, 35.821002917001636, 37.821585038094604, 40.13178316288858, 42.58517469152734, 45.12711119799836, 47.789802675990956, 50.574563452909736, 53.695493667279926, 56.966011391861834, 60.22879242666979, 63.522613348459934, 66.97587894594787, 70.51495917387734, 74.19986305468886, 77.99473636097444, 82.17565477164754, 86.58717245377623, 91.32291272677654, 96.30579733243063, 101.48030199983937, 106.88663468775918, 112.24258441955755, 117.30949542034124, 122.74687170876943, 128.59036155017372, 134.21283660337838, 139.75457057437305, 145.5590729367007, 151.80614695470985, 158.36718118473695, 164.57121302944327, 170.11835916717982, 175.94431603675991, 181.85369153550812, 187.54657019010875, 192.4108831142271, 197.60222964872793, 203.1237028108659, 208.89596346249553, 214.4397560624274, 220.6621716170248, 226.73877062910842, 232.87467954483466, 237.93267957995184, 241.52787391427992, 244.15145764532255, 246.5302060740313, 247.4644844378318, 247.72111451969707, 247.74966126802215, 247.3269841245372, 246.65116824164394, 245.43520118214286, 243.60415885020666, 241.54287082722797, 238.62386274515836, 234.45677421729, 229.4948224850262, 224.44605165439964, 219.77005650888069, 214.65578589270987, 209.06478268958654, 203.4979327875558, 198.31923498415804, 192.5138733432318, 186.19146033743655, 179.4349255096791, 172.360367746516, 164.41372418634637, 156.36347355475644, 148.00986912736636, 140.39817601424522, 134.14226179724244, 128.38409636815166], \"yaxis\": \"y\"}, {\"hovertemplate\": \"variable=4\\uc8fc\\uc804<br>date=%{x}<br>value=%{y}<extra></extra>\", \"legendgroup\": \"4\\uc8fc\\uc804\", \"line\": {\"color\": \"#00cc96\", \"dash\": \"solid\"}, \"mode\": \"lines\", \"name\": \"4\\uc8fc\\uc804\", \"orientation\": \"v\", \"showlegend\": true, \"type\": \"scatter\", \"x\": [\"2020-11-01T00:00:00\", \"2020-11-02T00:00:00\", \"2020-11-03T00:00:00\", \"2020-11-04T00:00:00\", \"2020-11-05T00:00:00\", \"2020-11-06T00:00:00\", \"2020-11-07T00:00:00\", \"2020-11-08T00:00:00\", \"2020-11-09T00:00:00\", \"2020-11-10T00:00:00\", \"2020-11-11T00:00:00\", \"2020-11-12T00:00:00\", \"2020-11-13T00:00:00\", \"2020-11-14T00:00:00\", \"2020-11-15T00:00:00\", \"2020-11-16T00:00:00\", \"2020-11-17T00:00:00\", \"2020-11-18T00:00:00\", \"2020-11-19T00:00:00\", \"2020-11-20T00:00:00\", \"2020-11-21T00:00:00\", \"2020-11-22T00:00:00\", \"2020-11-23T00:00:00\", \"2020-11-24T00:00:00\", \"2020-11-25T00:00:00\", \"2020-11-26T00:00:00\", \"2020-11-27T00:00:00\", \"2020-11-28T00:00:00\", \"2020-11-29T00:00:00\", \"2020-11-30T00:00:00\", \"2020-12-01T00:00:00\", \"2020-12-02T00:00:00\", \"2020-12-03T00:00:00\", \"2020-12-04T00:00:00\", \"2020-12-05T00:00:00\", \"2020-12-06T00:00:00\", \"2020-12-07T00:00:00\", \"2020-12-08T00:00:00\", \"2020-12-09T00:00:00\", \"2020-12-10T00:00:00\", \"2020-12-11T00:00:00\", \"2020-12-12T00:00:00\", \"2020-12-13T00:00:00\", \"2020-12-14T00:00:00\", \"2020-12-15T00:00:00\", \"2020-12-16T00:00:00\", \"2020-12-17T00:00:00\", \"2020-12-18T00:00:00\", \"2020-12-19T00:00:00\", \"2020-12-20T00:00:00\", \"2020-12-21T00:00:00\", \"2020-12-22T00:00:00\", \"2020-12-23T00:00:00\", \"2020-12-24T00:00:00\", \"2020-12-25T00:00:00\", \"2020-12-26T00:00:00\", \"2020-12-27T00:00:00\", \"2020-12-28T00:00:00\", \"2020-12-29T00:00:00\", \"2020-12-30T00:00:00\", \"2020-12-31T00:00:00\", \"2021-01-01T00:00:00\", \"2021-01-02T00:00:00\", \"2021-01-03T00:00:00\", \"2021-01-04T00:00:00\", \"2021-01-05T00:00:00\", \"2021-01-06T00:00:00\", \"2021-01-07T00:00:00\", \"2021-01-08T00:00:00\", \"2021-01-09T00:00:00\", \"2021-01-10T00:00:00\", \"2021-01-11T00:00:00\", \"2021-01-12T00:00:00\", \"2021-01-13T00:00:00\", \"2021-01-14T00:00:00\", \"2021-01-15T00:00:00\", \"2021-01-16T00:00:00\", \"2021-01-17T00:00:00\", \"2021-01-18T00:00:00\", \"2021-01-19T00:00:00\", \"2021-01-20T00:00:00\", \"2021-01-21T00:00:00\", \"2021-01-22T00:00:00\", \"2021-01-23T00:00:00\", \"2021-01-24T00:00:00\", \"2021-01-25T00:00:00\", \"2021-01-26T00:00:00\", \"2021-01-27T00:00:00\", \"2021-01-28T00:00:00\"], \"xaxis\": \"x\", \"y\": [23.637755102040813, 24.362244897959187, 24.96938775510204, 25.53571428571429, 26.107142857142858, 26.724489795918366, 27.382653061224488, 28.091836734693874, 28.801020408163264, 29.70408163265306, 30.806122448979593, 32.08673469387755, 33.62244897959184, 35.4795918367347, 37.61734693877551, 40.076530612244895, 42.82142857142858, 45.98979591836735, 49.357142857142854, 52.846938775510196, 56.505102040816325, 60.33163265306121, 64.61734693877551, 69.10714285714285, 73.58673469387755, 78.10714285714285, 82.8469387755102, 87.70408163265304, 92.76020408163265, 97.96938775510202, 103.70918367346937, 109.76530612244898, 116.26530612244895, 123.1020408163265, 130.19897959183672, 137.6122448979592, 144.95408163265301, 151.89795918367344, 159.34693877551015, 167.3520408163265, 175.05612244897958, 182.6530612244898, 190.6122448979592, 199.17857142857144, 208.17346938775515, 216.67857142857147, 224.280612244898, 232.2602040816327, 240.34693877551024, 248.13265306122454, 254.78061224489798, 261.87244897959187, 269.4132653061225, 277.295918367347, 284.8622448979592, 293.35714285714283, 301.6530612244898, 310.03061224489795, 316.93367346938777, 321.83673469387753, 325.41326530612247, 328.6581632653061, 329.92857142857144, 330.2704081632653, 330.30102040816325, 329.7142857142857, 328.78061224489795, 327.10714285714283, 324.5918367346939, 321.7602040816327, 317.7551020408164, 312.0408163265306, 305.2397959183674, 298.3214285714286, 291.91326530612247, 284.9081632653061, 277.25510204081627, 269.6377551020407, 262.5561224489796, 254.62244897959175, 245.98469387755094, 236.7551020408163, 227.0918367346938, 216.23469387755097, 205.234693877551, 193.81632653061223, 183.40816326530614, 174.85204081632654, 166.9744897959184], \"yaxis\": \"y\"}],\n",
       "                        {\"height\": 600, \"legend\": {\"title\": {\"text\": \"variable\"}, \"tracegroupgap\": 0}, \"margin\": {\"t\": 60}, \"plot_bgcolor\": \"white\", \"template\": {\"data\": {\"bar\": [{\"error_x\": {\"color\": \"#2a3f5f\"}, \"error_y\": {\"color\": \"#2a3f5f\"}, \"marker\": {\"line\": {\"color\": \"#E5ECF6\", \"width\": 0.5}}, \"type\": \"bar\"}], \"barpolar\": [{\"marker\": {\"line\": {\"color\": \"#E5ECF6\", \"width\": 0.5}}, \"type\": \"barpolar\"}], \"carpet\": [{\"aaxis\": {\"endlinecolor\": \"#2a3f5f\", \"gridcolor\": \"white\", \"linecolor\": \"white\", \"minorgridcolor\": \"white\", \"startlinecolor\": \"#2a3f5f\"}, \"baxis\": {\"endlinecolor\": \"#2a3f5f\", \"gridcolor\": \"white\", \"linecolor\": \"white\", \"minorgridcolor\": \"white\", \"startlinecolor\": \"#2a3f5f\"}, \"type\": \"carpet\"}], \"choropleth\": [{\"colorbar\": {\"outlinewidth\": 0, \"ticks\": \"\"}, \"type\": \"choropleth\"}], \"contour\": [{\"colorbar\": {\"outlinewidth\": 0, \"ticks\": \"\"}, \"colorscale\": [[0.0, \"#0d0887\"], [0.1111111111111111, \"#46039f\"], [0.2222222222222222, \"#7201a8\"], [0.3333333333333333, \"#9c179e\"], [0.4444444444444444, \"#bd3786\"], [0.5555555555555556, \"#d8576b\"], [0.6666666666666666, \"#ed7953\"], [0.7777777777777778, \"#fb9f3a\"], [0.8888888888888888, \"#fdca26\"], [1.0, \"#f0f921\"]], \"type\": \"contour\"}], \"contourcarpet\": [{\"colorbar\": {\"outlinewidth\": 0, \"ticks\": \"\"}, \"type\": \"contourcarpet\"}], \"heatmap\": [{\"colorbar\": {\"outlinewidth\": 0, \"ticks\": \"\"}, \"colorscale\": [[0.0, \"#0d0887\"], [0.1111111111111111, \"#46039f\"], [0.2222222222222222, \"#7201a8\"], [0.3333333333333333, \"#9c179e\"], [0.4444444444444444, \"#bd3786\"], [0.5555555555555556, \"#d8576b\"], [0.6666666666666666, \"#ed7953\"], [0.7777777777777778, \"#fb9f3a\"], [0.8888888888888888, \"#fdca26\"], [1.0, \"#f0f921\"]], \"type\": \"heatmap\"}], \"heatmapgl\": [{\"colorbar\": {\"outlinewidth\": 0, \"ticks\": \"\"}, \"colorscale\": [[0.0, \"#0d0887\"], [0.1111111111111111, \"#46039f\"], [0.2222222222222222, \"#7201a8\"], [0.3333333333333333, \"#9c179e\"], [0.4444444444444444, \"#bd3786\"], [0.5555555555555556, \"#d8576b\"], [0.6666666666666666, \"#ed7953\"], [0.7777777777777778, \"#fb9f3a\"], [0.8888888888888888, \"#fdca26\"], [1.0, \"#f0f921\"]], \"type\": \"heatmapgl\"}], \"histogram\": [{\"marker\": {\"colorbar\": {\"outlinewidth\": 0, \"ticks\": \"\"}}, \"type\": \"histogram\"}], \"histogram2d\": [{\"colorbar\": {\"outlinewidth\": 0, \"ticks\": \"\"}, \"colorscale\": [[0.0, \"#0d0887\"], [0.1111111111111111, \"#46039f\"], [0.2222222222222222, \"#7201a8\"], [0.3333333333333333, \"#9c179e\"], [0.4444444444444444, \"#bd3786\"], [0.5555555555555556, \"#d8576b\"], [0.6666666666666666, \"#ed7953\"], [0.7777777777777778, \"#fb9f3a\"], [0.8888888888888888, \"#fdca26\"], [1.0, \"#f0f921\"]], \"type\": \"histogram2d\"}], \"histogram2dcontour\": [{\"colorbar\": {\"outlinewidth\": 0, \"ticks\": \"\"}, \"colorscale\": [[0.0, \"#0d0887\"], [0.1111111111111111, \"#46039f\"], [0.2222222222222222, \"#7201a8\"], [0.3333333333333333, \"#9c179e\"], [0.4444444444444444, \"#bd3786\"], [0.5555555555555556, \"#d8576b\"], [0.6666666666666666, \"#ed7953\"], [0.7777777777777778, \"#fb9f3a\"], [0.8888888888888888, \"#fdca26\"], [1.0, \"#f0f921\"]], \"type\": \"histogram2dcontour\"}], \"mesh3d\": [{\"colorbar\": {\"outlinewidth\": 0, \"ticks\": \"\"}, \"type\": \"mesh3d\"}], \"parcoords\": [{\"line\": {\"colorbar\": {\"outlinewidth\": 0, \"ticks\": \"\"}}, \"type\": \"parcoords\"}], \"pie\": [{\"automargin\": true, \"type\": \"pie\"}], \"scatter\": [{\"marker\": {\"colorbar\": {\"outlinewidth\": 0, \"ticks\": \"\"}}, \"type\": \"scatter\"}], \"scatter3d\": [{\"line\": {\"colorbar\": {\"outlinewidth\": 0, \"ticks\": \"\"}}, \"marker\": {\"colorbar\": {\"outlinewidth\": 0, \"ticks\": \"\"}}, \"type\": \"scatter3d\"}], \"scattercarpet\": [{\"marker\": {\"colorbar\": {\"outlinewidth\": 0, \"ticks\": \"\"}}, \"type\": \"scattercarpet\"}], \"scattergeo\": [{\"marker\": {\"colorbar\": {\"outlinewidth\": 0, \"ticks\": \"\"}}, \"type\": \"scattergeo\"}], \"scattergl\": [{\"marker\": {\"colorbar\": {\"outlinewidth\": 0, \"ticks\": \"\"}}, \"type\": \"scattergl\"}], \"scattermapbox\": [{\"marker\": {\"colorbar\": {\"outlinewidth\": 0, \"ticks\": \"\"}}, \"type\": \"scattermapbox\"}], \"scatterpolar\": [{\"marker\": {\"colorbar\": {\"outlinewidth\": 0, \"ticks\": \"\"}}, \"type\": \"scatterpolar\"}], \"scatterpolargl\": [{\"marker\": {\"colorbar\": {\"outlinewidth\": 0, \"ticks\": \"\"}}, \"type\": \"scatterpolargl\"}], \"scatterternary\": [{\"marker\": {\"colorbar\": {\"outlinewidth\": 0, \"ticks\": \"\"}}, \"type\": \"scatterternary\"}], \"surface\": [{\"colorbar\": {\"outlinewidth\": 0, \"ticks\": \"\"}, \"colorscale\": [[0.0, \"#0d0887\"], [0.1111111111111111, \"#46039f\"], [0.2222222222222222, \"#7201a8\"], [0.3333333333333333, \"#9c179e\"], [0.4444444444444444, \"#bd3786\"], [0.5555555555555556, \"#d8576b\"], [0.6666666666666666, \"#ed7953\"], [0.7777777777777778, \"#fb9f3a\"], [0.8888888888888888, \"#fdca26\"], [1.0, \"#f0f921\"]], \"type\": \"surface\"}], \"table\": [{\"cells\": {\"fill\": {\"color\": \"#EBF0F8\"}, \"line\": {\"color\": \"white\"}}, \"header\": {\"fill\": {\"color\": \"#C8D4E3\"}, \"line\": {\"color\": \"white\"}}, \"type\": \"table\"}]}, \"layout\": {\"annotationdefaults\": {\"arrowcolor\": \"#2a3f5f\", \"arrowhead\": 0, \"arrowwidth\": 1}, \"coloraxis\": {\"colorbar\": {\"outlinewidth\": 0, \"ticks\": \"\"}}, \"colorscale\": {\"diverging\": [[0, \"#8e0152\"], [0.1, \"#c51b7d\"], [0.2, \"#de77ae\"], [0.3, \"#f1b6da\"], [0.4, \"#fde0ef\"], [0.5, \"#f7f7f7\"], [0.6, \"#e6f5d0\"], [0.7, \"#b8e186\"], [0.8, \"#7fbc41\"], [0.9, \"#4d9221\"], [1, \"#276419\"]], \"sequential\": [[0.0, \"#0d0887\"], [0.1111111111111111, \"#46039f\"], [0.2222222222222222, \"#7201a8\"], [0.3333333333333333, \"#9c179e\"], [0.4444444444444444, \"#bd3786\"], [0.5555555555555556, \"#d8576b\"], [0.6666666666666666, \"#ed7953\"], [0.7777777777777778, \"#fb9f3a\"], [0.8888888888888888, \"#fdca26\"], [1.0, \"#f0f921\"]], \"sequentialminus\": [[0.0, \"#0d0887\"], [0.1111111111111111, \"#46039f\"], [0.2222222222222222, \"#7201a8\"], [0.3333333333333333, \"#9c179e\"], [0.4444444444444444, \"#bd3786\"], [0.5555555555555556, \"#d8576b\"], [0.6666666666666666, \"#ed7953\"], [0.7777777777777778, \"#fb9f3a\"], [0.8888888888888888, \"#fdca26\"], [1.0, \"#f0f921\"]]}, \"colorway\": [\"#636efa\", \"#EF553B\", \"#00cc96\", \"#ab63fa\", \"#FFA15A\", \"#19d3f3\", \"#FF6692\", \"#B6E880\", \"#FF97FF\", \"#FECB52\"], \"font\": {\"color\": \"#2a3f5f\"}, \"geo\": {\"bgcolor\": \"white\", \"lakecolor\": \"white\", \"landcolor\": \"#E5ECF6\", \"showlakes\": true, \"showland\": true, \"subunitcolor\": \"white\"}, \"hoverlabel\": {\"align\": \"left\"}, \"hovermode\": \"closest\", \"mapbox\": {\"style\": \"light\"}, \"paper_bgcolor\": \"white\", \"plot_bgcolor\": \"#E5ECF6\", \"polar\": {\"angularaxis\": {\"gridcolor\": \"white\", \"linecolor\": \"white\", \"ticks\": \"\"}, \"bgcolor\": \"#E5ECF6\", \"radialaxis\": {\"gridcolor\": \"white\", \"linecolor\": \"white\", \"ticks\": \"\"}}, \"scene\": {\"xaxis\": {\"backgroundcolor\": \"#E5ECF6\", \"gridcolor\": \"white\", \"gridwidth\": 2, \"linecolor\": \"white\", \"showbackground\": true, \"ticks\": \"\", \"zerolinecolor\": \"white\"}, \"yaxis\": {\"backgroundcolor\": \"#E5ECF6\", \"gridcolor\": \"white\", \"gridwidth\": 2, \"linecolor\": \"white\", \"showbackground\": true, \"ticks\": \"\", \"zerolinecolor\": \"white\"}, \"zaxis\": {\"backgroundcolor\": \"#E5ECF6\", \"gridcolor\": \"white\", \"gridwidth\": 2, \"linecolor\": \"white\", \"showbackground\": true, \"ticks\": \"\", \"zerolinecolor\": \"white\"}}, \"shapedefaults\": {\"line\": {\"color\": \"#2a3f5f\"}}, \"ternary\": {\"aaxis\": {\"gridcolor\": \"white\", \"linecolor\": \"white\", \"ticks\": \"\"}, \"baxis\": {\"gridcolor\": \"white\", \"linecolor\": \"white\", \"ticks\": \"\"}, \"bgcolor\": \"#E5ECF6\", \"caxis\": {\"gridcolor\": \"white\", \"linecolor\": \"white\", \"ticks\": \"\"}}, \"title\": {\"x\": 0.05}, \"xaxis\": {\"automargin\": true, \"gridcolor\": \"white\", \"linecolor\": \"white\", \"ticks\": \"\", \"title\": {\"standoff\": 15}, \"zerolinecolor\": \"white\", \"zerolinewidth\": 2}, \"yaxis\": {\"automargin\": true, \"gridcolor\": \"white\", \"linecolor\": \"white\", \"ticks\": \"\", \"title\": {\"standoff\": 15}, \"zerolinecolor\": \"white\", \"zerolinewidth\": 2}}}, \"title\": {\"text\": \"1\\uc8fc\\uc804Infected\"}, \"width\": 900, \"xaxis\": {\"anchor\": \"y\", \"domain\": [0.0, 1.0], \"showgrid\": false, \"title\": {\"text\": \"date\"}}, \"yaxis\": {\"anchor\": \"x\", \"domain\": [0.0, 1.0], \"showgrid\": false, \"title\": {\"text\": \"value\"}}},\n",
       "                        {\"responsive\": true}\n",
       "                    ).then(function(){\n",
       "                            \n",
       "var gd = document.getElementById('beca6437-85a8-43e9-b85c-f779ba9263b5');\n",
       "var x = new MutationObserver(function (mutations, observer) {{\n",
       "        var display = window.getComputedStyle(gd).display;\n",
       "        if (!display || display === 'none') {{\n",
       "            console.log([gd, 'removed!']);\n",
       "            Plotly.purge(gd);\n",
       "            observer.disconnect();\n",
       "        }}\n",
       "}});\n",
       "\n",
       "// Listen for the removal of the full notebook cells\n",
       "var notebookContainer = gd.closest('#notebook-container');\n",
       "if (notebookContainer) {{\n",
       "    x.observe(notebookContainer, {childList: true});\n",
       "}}\n",
       "\n",
       "// Listen for the clearing of the current output cell\n",
       "var outputEl = gd.closest('.output');\n",
       "if (outputEl) {{\n",
       "    x.observe(outputEl, {childList: true});\n",
       "}}\n",
       "\n",
       "                        })\n",
       "                };\n",
       "                });\n",
       "            </script>\n",
       "        </div>"
      ]
     },
     "metadata": {},
     "output_type": "display_data"
    },
    {
     "data": {
      "text/plain": [
       "<matplotlib.axes._subplots.AxesSubplot at 0x21081d3e5c8>"
      ]
     },
     "execution_count": 425,
     "metadata": {},
     "output_type": "execute_result"
    },
    {
     "data": {
      "text/plain": [
       "0.6006459523702631"
      ]
     },
     "execution_count": 425,
     "metadata": {},
     "output_type": "execute_result"
    },
    {
     "data": {
      "image/png": "[encoded data removed]",
      "text/plain": [
       "<Figure size 432x288 with 1 Axes>"
      ]
     },
     "metadata": {},
     "output_type": "display_data"
    }
   ],
   "source": [
    "#fig = px.line(sam, x=\"date\", y=[\"actual\",\"pred\",\"1주전\",\"2주전\",\"3주전\",\"4주전\"])\n",
    "fig = px.line(sam, x=\"date\", y=[\"actual\",\"pred\",\"4주전\"])\n",
    "fig.update_layout(plot_bgcolor='white',xaxis_showgrid=False, \n",
    "              yaxis_showgrid=False,width=900, height=600,\n",
    "              title='1주전Infected')\n",
    "\n",
    "## 다소 선행\n",
    "sns.regplot(data = sam,x='actual',y='pred')\n",
    "sam['actual'].corr(sam['pred'])"
   ]
  },
  {
   "cell_type": "markdown",
   "metadata": {},
   "source": [
    "- train 예측"
   ]
  },
  {
   "cell_type": "code",
   "execution_count": 29,
   "metadata": {},
   "outputs": [
    {
     "data": {
      "text/plain": [
       "LinearRegression(copy_X=True, fit_intercept=True, n_jobs=None, normalize=False)"
      ]
     },
     "execution_count": 29,
     "metadata": {},
     "output_type": "execute_result"
    },
    {
     "data": {
      "text/plain": [
       "array([-0.984252 ,  1.9278887])"
      ]
     },
     "execution_count": 29,
     "metadata": {},
     "output_type": "execute_result"
    },
    {
     "data": {
      "text/plain": [
       "1088.7903736428411"
      ]
     },
     "execution_count": 29,
     "metadata": {},
     "output_type": "execute_result"
    }
   ],
   "source": [
    "sig_features = ['2week_before_infected','1week_before_infected']\n",
    "X_train, y_train = train[sig_features] , train['infected']\n",
    "X_test, y_test = test[sig_features] , test['infected']\n",
    "model = LinearRegression()\n",
    "model.fit(X_train,y_train)\n",
    "model.coef_  \n",
    "\n",
    "y_pred = model.predict(X_test)\n",
    "mean_squared_error(y_test, y_pred)"
   ]
  },
  {
   "cell_type": "code",
   "execution_count": 30,
   "metadata": {},
   "outputs": [
    {
     "data": {
      "application/vnd.plotly.v1+json": {
       "config": {
        "plotlyServerURL": "https://plot.ly"
       },
       "data": [
        {
         "hovertemplate": "variable=actual<br>date=%{x}<br>value=%{y}<extra></extra>",
         "legendgroup": "actual",
         "line": {
          "color": "#636efa",
          "dash": "solid"
         },
         "mode": "lines",
         "name": "actual",
         "orientation": "v",
         "showlegend": true,
         "type": "scatter",
         "x": [
          "2020-12-01T00:00:00",
          "2020-12-02T00:00:00",
          "2020-12-03T00:00:00",
          "2020-12-04T00:00:00",
          "2020-12-05T00:00:00",
          "2020-12-06T00:00:00",
          "2020-12-07T00:00:00",
          "2020-12-08T00:00:00",
          "2020-12-09T00:00:00",
          "2020-12-10T00:00:00",
          "2020-12-11T00:00:00",
          "2020-12-12T00:00:00",
          "2020-12-13T00:00:00",
          "2020-12-14T00:00:00",
          "2020-12-15T00:00:00",
          "2020-12-16T00:00:00",
          "2020-12-17T00:00:00",
          "2020-12-18T00:00:00",
          "2020-12-19T00:00:00",
          "2020-12-20T00:00:00",
          "2020-12-21T00:00:00",
          "2020-12-22T00:00:00",
          "2020-12-23T00:00:00",
          "2020-12-24T00:00:00",
          "2020-12-25T00:00:00",
          "2020-12-26T00:00:00",
          "2020-12-27T00:00:00",
          "2020-12-28T00:00:00",
          "2020-12-29T00:00:00",
          "2020-12-30T00:00:00",
          "2020-12-31T00:00:00"
         ],
         "xaxis": "x",
         "y": [
          204.28571428571428,
          218.28571428571428,
          228.57142857142858,
          237.14285714285714,
          245.57142857142858,
          244.42857142857142,
          238.42857142857142,
          257,
          276.7142857142857,
          274.2857142857143,
          278.42857142857144,
          294.85714285714283,
          319,
          338.85714285714283,
          337.14285714285717,
          317,
          333.14285714285717,
          341.7142857142857,
          341.14285714285717,
          323.14285714285717,
          305,
          319.2857142857143,
          333.14285714285717,
          329.2857142857143,
          326.57142857142856,
          326.2857142857143,
          331.57142857142856,
          326.57142857142856,
          263,
          213.71428571428572,
          171.28571428571428
         ],
         "yaxis": "y"
        },
        {
         "hovertemplate": "variable=pred<br>date=%{x}<br>value=%{y}<extra></extra>",
         "legendgroup": "pred",
         "line": {
          "color": "#EF553B",
          "dash": "solid"
         },
         "mode": "lines",
         "name": "pred",
         "orientation": "v",
         "showlegend": true,
         "type": "scatter",
         "x": [
          "2020-12-01T00:00:00",
          "2020-12-02T00:00:00",
          "2020-12-03T00:00:00",
          "2020-12-04T00:00:00",
          "2020-12-05T00:00:00",
          "2020-12-06T00:00:00",
          "2020-12-07T00:00:00",
          "2020-12-08T00:00:00",
          "2020-12-09T00:00:00",
          "2020-12-10T00:00:00",
          "2020-12-11T00:00:00",
          "2020-12-12T00:00:00",
          "2020-12-13T00:00:00",
          "2020-12-14T00:00:00",
          "2020-12-15T00:00:00",
          "2020-12-16T00:00:00",
          "2020-12-17T00:00:00",
          "2020-12-18T00:00:00",
          "2020-12-19T00:00:00",
          "2020-12-20T00:00:00",
          "2020-12-21T00:00:00",
          "2020-12-22T00:00:00",
          "2020-12-23T00:00:00",
          "2020-12-24T00:00:00",
          "2020-12-25T00:00:00",
          "2020-12-26T00:00:00",
          "2020-12-27T00:00:00",
          "2020-12-28T00:00:00",
          "2020-12-29T00:00:00",
          "2020-12-30T00:00:00",
          "2020-12-31T00:00:00"
         ],
         "xaxis": "x",
         "y": [
          189.2403732279026,
          195.88103044261916,
          204.4371431109212,
          213.5650935691825,
          223.83993835388395,
          234.24037387843606,
          243.44350456394403,
          248.72699161969987,
          256.0340215306817,
          263.87032581766357,
          268.8477315159557,
          272.57532236057335,
          277.8835245438654,
          288.96056972646,
          306.64678694215655,
          319.37879480728276,
          323.5340101193038,
          332.39225330219386,
          342.47018117563846,
          348.4988270495695,
          344.1059157788973,
          330.10101092498326,
          320.80401045523865,
          321.2828197315282,
          316.35380944367114,
          308.7986530381903,
          302.4972623292593,
          303.93477958987296,
          310.739555715666,
          300.45027496513427,
          274.81950229949547
         ],
         "yaxis": "y"
        }
       ],
       "layout": {
        "height": 600,
        "legend": {
         "title": {
          "text": "variable"
         },
         "tracegroupgap": 0
        },
        "margin": {
         "t": 60
        },
        "plot_bgcolor": "white",
        "template": {
         "data": {
          "bar": [
           {
            "error_x": {
             "color": "#2a3f5f"
            },
            "error_y": {
             "color": "#2a3f5f"
            },
            "marker": {
             "line": {
              "color": "#E5ECF6",
              "width": 0.5
             }
            },
            "type": "bar"
           }
          ],
          "barpolar": [
           {
            "marker": {
             "line": {
              "color": "#E5ECF6",
              "width": 0.5
             }
            },
            "type": "barpolar"
           }
          ],
          "carpet": [
           {
            "aaxis": {
             "endlinecolor": "#2a3f5f",
             "gridcolor": "white",
             "linecolor": "white",
             "minorgridcolor": "white",
             "startlinecolor": "#2a3f5f"
            },
            "baxis": {
             "endlinecolor": "#2a3f5f",
             "gridcolor": "white",
             "linecolor": "white",
             "minorgridcolor": "white",
             "startlinecolor": "#2a3f5f"
            },
            "type": "carpet"
           }
          ],
          "choropleth": [
           {
            "colorbar": {
             "outlinewidth": 0,
             "ticks": ""
            },
            "type": "choropleth"
           }
          ],
          "contour": [
           {
            "colorbar": {
             "outlinewidth": 0,
             "ticks": ""
            },
            "colorscale": [
             [
              0,
              "#0d0887"
             ],
             [
              0.1111111111111111,
              "#46039f"
             ],
             [
              0.2222222222222222,
              "#7201a8"
             ],
             [
              0.3333333333333333,
              "#9c179e"
             ],
             [
              0.4444444444444444,
              "#bd3786"
             ],
             [
              0.5555555555555556,
              "#d8576b"
             ],
             [
              0.6666666666666666,
              "#ed7953"
             ],
             [
              0.7777777777777778,
              "#fb9f3a"
             ],
             [
              0.8888888888888888,
              "#fdca26"
             ],
             [
              1,
              "#f0f921"
             ]
            ],
            "type": "contour"
           }
          ],
          "contourcarpet": [
           {
            "colorbar": {
             "outlinewidth": 0,
             "ticks": ""
            },
            "type": "contourcarpet"
           }
          ],
          "heatmap": [
           {
            "colorbar": {
             "outlinewidth": 0,
             "ticks": ""
            },
            "colorscale": [
             [
              0,
              "#0d0887"
             ],
             [
              0.1111111111111111,
              "#46039f"
             ],
             [
              0.2222222222222222,
              "#7201a8"
             ],
             [
              0.3333333333333333,
              "#9c179e"
             ],
             [
              0.4444444444444444,
              "#bd3786"
             ],
             [
              0.5555555555555556,
              "#d8576b"
             ],
             [
              0.6666666666666666,
              "#ed7953"
             ],
             [
              0.7777777777777778,
              "#fb9f3a"
             ],
             [
              0.8888888888888888,
              "#fdca26"
             ],
             [
              1,
              "#f0f921"
             ]
            ],
            "type": "heatmap"
           }
          ],
          "heatmapgl": [
           {
            "colorbar": {
             "outlinewidth": 0,
             "ticks": ""
            },
            "colorscale": [
             [
              0,
              "#0d0887"
             ],
             [
              0.1111111111111111,
              "#46039f"
             ],
             [
              0.2222222222222222,
              "#7201a8"
             ],
             [
              0.3333333333333333,
              "#9c179e"
             ],
             [
              0.4444444444444444,
              "#bd3786"
             ],
             [
              0.5555555555555556,
              "#d8576b"
             ],
             [
              0.6666666666666666,
              "#ed7953"
             ],
             [
              0.7777777777777778,
              "#fb9f3a"
             ],
             [
              0.8888888888888888,
              "#fdca26"
             ],
             [
              1,
              "#f0f921"
             ]
            ],
            "type": "heatmapgl"
           }
          ],
          "histogram": [
           {
            "marker": {
             "colorbar": {
              "outlinewidth": 0,
              "ticks": ""
             }
            },
            "type": "histogram"
           }
          ],
          "histogram2d": [
           {
            "colorbar": {
             "outlinewidth": 0,
             "ticks": ""
            },
            "colorscale": [
             [
              0,
              "#0d0887"
             ],
             [
              0.1111111111111111,
              "#46039f"
             ],
             [
              0.2222222222222222,
              "#7201a8"
             ],
             [
              0.3333333333333333,
              "#9c179e"
             ],
             [
              0.4444444444444444,
              "#bd3786"
             ],
             [
              0.5555555555555556,
              "#d8576b"
             ],
             [
              0.6666666666666666,
              "#ed7953"
             ],
             [
              0.7777777777777778,
              "#fb9f3a"
             ],
             [
              0.8888888888888888,
              "#fdca26"
             ],
             [
              1,
              "#f0f921"
             ]
            ],
            "type": "histogram2d"
           }
          ],
          "histogram2dcontour": [
           {
            "colorbar": {
             "outlinewidth": 0,
             "ticks": ""
            },
            "colorscale": [
             [
              0,
              "#0d0887"
             ],
             [
              0.1111111111111111,
              "#46039f"
             ],
             [
              0.2222222222222222,
              "#7201a8"
             ],
             [
              0.3333333333333333,
              "#9c179e"
             ],
             [
              0.4444444444444444,
              "#bd3786"
             ],
             [
              0.5555555555555556,
              "#d8576b"
             ],
             [
              0.6666666666666666,
              "#ed7953"
             ],
             [
              0.7777777777777778,
              "#fb9f3a"
             ],
             [
              0.8888888888888888,
              "#fdca26"
             ],
             [
              1,
              "#f0f921"
             ]
            ],
            "type": "histogram2dcontour"
           }
          ],
          "mesh3d": [
           {
            "colorbar": {
             "outlinewidth": 0,
             "ticks": ""
            },
            "type": "mesh3d"
           }
          ],
          "parcoords": [
           {
            "line": {
             "colorbar": {
              "outlinewidth": 0,
              "ticks": ""
             }
            },
            "type": "parcoords"
           }
          ],
          "pie": [
           {
            "automargin": true,
            "type": "pie"
           }
          ],
          "scatter": [
           {
            "marker": {
             "colorbar": {
              "outlinewidth": 0,
              "ticks": ""
             }
            },
            "type": "scatter"
           }
          ],
          "scatter3d": [
           {
            "line": {
             "colorbar": {
              "outlinewidth": 0,
              "ticks": ""
             }
            },
            "marker": {
             "colorbar": {
              "outlinewidth": 0,
              "ticks": ""
             }
            },
            "type": "scatter3d"
           }
          ],
          "scattercarpet": [
           {
            "marker": {
             "colorbar": {
              "outlinewidth": 0,
              "ticks": ""
             }
            },
            "type": "scattercarpet"
           }
          ],
          "scattergeo": [
           {
            "marker": {
             "colorbar": {
              "outlinewidth": 0,
              "ticks": ""
             }
            },
            "type": "scattergeo"
           }
          ],
          "scattergl": [
           {
            "marker": {
             "colorbar": {
              "outlinewidth": 0,
              "ticks": ""
             }
            },
            "type": "scattergl"
           }
          ],
          "scattermapbox": [
           {
            "marker": {
             "colorbar": {
              "outlinewidth": 0,
              "ticks": ""
             }
            },
            "type": "scattermapbox"
           }
          ],
          "scatterpolar": [
           {
            "marker": {
             "colorbar": {
              "outlinewidth": 0,
              "ticks": ""
             }
            },
            "type": "scatterpolar"
           }
          ],
          "scatterpolargl": [
           {
            "marker": {
             "colorbar": {
              "outlinewidth": 0,
              "ticks": ""
             }
            },
            "type": "scatterpolargl"
           }
          ],
          "scatterternary": [
           {
            "marker": {
             "colorbar": {
              "outlinewidth": 0,
              "ticks": ""
             }
            },
            "type": "scatterternary"
           }
          ],
          "surface": [
           {
            "colorbar": {
             "outlinewidth": 0,
             "ticks": ""
            },
            "colorscale": [
             [
              0,
              "#0d0887"
             ],
             [
              0.1111111111111111,
              "#46039f"
             ],
             [
              0.2222222222222222,
              "#7201a8"
             ],
             [
              0.3333333333333333,
              "#9c179e"
             ],
             [
              0.4444444444444444,
              "#bd3786"
             ],
             [
              0.5555555555555556,
              "#d8576b"
             ],
             [
              0.6666666666666666,
              "#ed7953"
             ],
             [
              0.7777777777777778,
              "#fb9f3a"
             ],
             [
              0.8888888888888888,
              "#fdca26"
             ],
             [
              1,
              "#f0f921"
             ]
            ],
            "type": "surface"
           }
          ],
          "table": [
           {
            "cells": {
             "fill": {
              "color": "#EBF0F8"
             },
             "line": {
              "color": "white"
             }
            },
            "header": {
             "fill": {
              "color": "#C8D4E3"
             },
             "line": {
              "color": "white"
             }
            },
            "type": "table"
           }
          ]
         },
         "layout": {
          "annotationdefaults": {
           "arrowcolor": "#2a3f5f",
           "arrowhead": 0,
           "arrowwidth": 1
          },
          "coloraxis": {
           "colorbar": {
            "outlinewidth": 0,
            "ticks": ""
           }
          },
          "colorscale": {
           "diverging": [
            [
             0,
             "#8e0152"
            ],
            [
             0.1,
             "#c51b7d"
            ],
            [
             0.2,
             "#de77ae"
            ],
            [
             0.3,
             "#f1b6da"
            ],
            [
             0.4,
             "#fde0ef"
            ],
            [
             0.5,
             "#f7f7f7"
            ],
            [
             0.6,
             "#e6f5d0"
            ],
            [
             0.7,
             "#b8e186"
            ],
            [
             0.8,
             "#7fbc41"
            ],
            [
             0.9,
             "#4d9221"
            ],
            [
             1,
             "#276419"
            ]
           ],
           "sequential": [
            [
             0,
             "#0d0887"
            ],
            [
             0.1111111111111111,
             "#46039f"
            ],
            [
             0.2222222222222222,
             "#7201a8"
            ],
            [
             0.3333333333333333,
             "#9c179e"
            ],
            [
             0.4444444444444444,
             "#bd3786"
            ],
            [
             0.5555555555555556,
             "#d8576b"
            ],
            [
             0.6666666666666666,
             "#ed7953"
            ],
            [
             0.7777777777777778,
             "#fb9f3a"
            ],
            [
             0.8888888888888888,
             "#fdca26"
            ],
            [
             1,
             "#f0f921"
            ]
           ],
           "sequentialminus": [
            [
             0,
             "#0d0887"
            ],
            [
             0.1111111111111111,
             "#46039f"
            ],
            [
             0.2222222222222222,
             "#7201a8"
            ],
            [
             0.3333333333333333,
             "#9c179e"
            ],
            [
             0.4444444444444444,
             "#bd3786"
            ],
            [
             0.5555555555555556,
             "#d8576b"
            ],
            [
             0.6666666666666666,
             "#ed7953"
            ],
            [
             0.7777777777777778,
             "#fb9f3a"
            ],
            [
             0.8888888888888888,
             "#fdca26"
            ],
            [
             1,
             "#f0f921"
            ]
           ]
          },
          "colorway": [
           "#636efa",
           "#EF553B",
           "#00cc96",
           "#ab63fa",
           "#FFA15A",
           "#19d3f3",
           "#FF6692",
           "#B6E880",
           "#FF97FF",
           "#FECB52"
          ],
          "font": {
           "color": "#2a3f5f"
          },
          "geo": {
           "bgcolor": "white",
           "lakecolor": "white",
           "landcolor": "#E5ECF6",
           "showlakes": true,
           "showland": true,
           "subunitcolor": "white"
          },
          "hoverlabel": {
           "align": "left"
          },
          "hovermode": "closest",
          "mapbox": {
           "style": "light"
          },
          "paper_bgcolor": "white",
          "plot_bgcolor": "#E5ECF6",
          "polar": {
           "angularaxis": {
            "gridcolor": "white",
            "linecolor": "white",
            "ticks": ""
           },
           "bgcolor": "#E5ECF6",
           "radialaxis": {
            "gridcolor": "white",
            "linecolor": "white",
            "ticks": ""
           }
          },
          "scene": {
           "xaxis": {
            "backgroundcolor": "#E5ECF6",
            "gridcolor": "white",
            "gridwidth": 2,
            "linecolor": "white",
            "showbackground": true,
            "ticks": "",
            "zerolinecolor": "white"
           },
           "yaxis": {
            "backgroundcolor": "#E5ECF6",
            "gridcolor": "white",
            "gridwidth": 2,
            "linecolor": "white",
            "showbackground": true,
            "ticks": "",
            "zerolinecolor": "white"
           },
           "zaxis": {
            "backgroundcolor": "#E5ECF6",
            "gridcolor": "white",
            "gridwidth": 2,
            "linecolor": "white",
            "showbackground": true,
            "ticks": "",
            "zerolinecolor": "white"
           }
          },
          "shapedefaults": {
           "line": {
            "color": "#2a3f5f"
           }
          },
          "ternary": {
           "aaxis": {
            "gridcolor": "white",
            "linecolor": "white",
            "ticks": ""
           },
           "baxis": {
            "gridcolor": "white",
            "linecolor": "white",
            "ticks": ""
           },
           "bgcolor": "#E5ECF6",
           "caxis": {
            "gridcolor": "white",
            "linecolor": "white",
            "ticks": ""
           }
          },
          "title": {
           "x": 0.05
          },
          "xaxis": {
           "automargin": true,
           "gridcolor": "white",
           "linecolor": "white",
           "ticks": "",
           "title": {
            "standoff": 15
           },
           "zerolinecolor": "white",
           "zerolinewidth": 2
          },
          "yaxis": {
           "automargin": true,
           "gridcolor": "white",
           "linecolor": "white",
           "ticks": "",
           "title": {
            "standoff": 15
           },
           "zerolinecolor": "white",
           "zerolinewidth": 2
          }
         }
        },
        "title": {
         "text": "Density"
        },
        "width": 900,
        "xaxis": {
         "anchor": "y",
         "domain": [
          0,
          1
         ],
         "showgrid": false,
         "title": {
          "text": "date"
         }
        },
        "yaxis": {
         "anchor": "x",
         "domain": [
          0,
          1
         ],
         "showgrid": false,
         "title": {
          "text": "value"
         }
        }
       }
      },
      "text/html": [
       "<div>\n",
       "        \n",
       "        \n",
       "            <div id=\"92e695c2-85e6-44e8-a768-9449e27b55e1\" class=\"plotly-graph-div\" style=\"height:600px; width:900px;\"></div>\n",
       "            <script type=\"text/javascript\">\n",
       "                require([\"plotly\"], function(Plotly) {\n",
       "                    window.PLOTLYENV=window.PLOTLYENV || {};\n",
       "                    \n",
       "                if (document.getElementById(\"92e695c2-85e6-44e8-a768-9449e27b55e1\")) {\n",
       "                    Plotly.newPlot(\n",
       "                        '92e695c2-85e6-44e8-a768-9449e27b55e1',\n",
       "                        [{\"hovertemplate\": \"variable=actual<br>date=%{x}<br>value=%{y}<extra></extra>\", \"legendgroup\": \"actual\", \"line\": {\"color\": \"#636efa\", \"dash\": \"solid\"}, \"mode\": \"lines\", \"name\": \"actual\", \"orientation\": \"v\", \"showlegend\": true, \"type\": \"scatter\", \"x\": [\"2020-12-01T00:00:00\", \"2020-12-02T00:00:00\", \"2020-12-03T00:00:00\", \"2020-12-04T00:00:00\", \"2020-12-05T00:00:00\", \"2020-12-06T00:00:00\", \"2020-12-07T00:00:00\", \"2020-12-08T00:00:00\", \"2020-12-09T00:00:00\", \"2020-12-10T00:00:00\", \"2020-12-11T00:00:00\", \"2020-12-12T00:00:00\", \"2020-12-13T00:00:00\", \"2020-12-14T00:00:00\", \"2020-12-15T00:00:00\", \"2020-12-16T00:00:00\", \"2020-12-17T00:00:00\", \"2020-12-18T00:00:00\", \"2020-12-19T00:00:00\", \"2020-12-20T00:00:00\", \"2020-12-21T00:00:00\", \"2020-12-22T00:00:00\", \"2020-12-23T00:00:00\", \"2020-12-24T00:00:00\", \"2020-12-25T00:00:00\", \"2020-12-26T00:00:00\", \"2020-12-27T00:00:00\", \"2020-12-28T00:00:00\", \"2020-12-29T00:00:00\", \"2020-12-30T00:00:00\", \"2020-12-31T00:00:00\"], \"xaxis\": \"x\", \"y\": [204.28571428571428, 218.28571428571428, 228.57142857142858, 237.14285714285714, 245.57142857142858, 244.42857142857142, 238.42857142857142, 257.0, 276.7142857142857, 274.2857142857143, 278.42857142857144, 294.85714285714283, 319.0, 338.85714285714283, 337.14285714285717, 317.0, 333.14285714285717, 341.7142857142857, 341.14285714285717, 323.14285714285717, 305.0, 319.2857142857143, 333.14285714285717, 329.2857142857143, 326.57142857142856, 326.2857142857143, 331.57142857142856, 326.57142857142856, 263.0, 213.71428571428572, 171.28571428571428], \"yaxis\": \"y\"}, {\"hovertemplate\": \"variable=pred<br>date=%{x}<br>value=%{y}<extra></extra>\", \"legendgroup\": \"pred\", \"line\": {\"color\": \"#EF553B\", \"dash\": \"solid\"}, \"mode\": \"lines\", \"name\": \"pred\", \"orientation\": \"v\", \"showlegend\": true, \"type\": \"scatter\", \"x\": [\"2020-12-01T00:00:00\", \"2020-12-02T00:00:00\", \"2020-12-03T00:00:00\", \"2020-12-04T00:00:00\", \"2020-12-05T00:00:00\", \"2020-12-06T00:00:00\", \"2020-12-07T00:00:00\", \"2020-12-08T00:00:00\", \"2020-12-09T00:00:00\", \"2020-12-10T00:00:00\", \"2020-12-11T00:00:00\", \"2020-12-12T00:00:00\", \"2020-12-13T00:00:00\", \"2020-12-14T00:00:00\", \"2020-12-15T00:00:00\", \"2020-12-16T00:00:00\", \"2020-12-17T00:00:00\", \"2020-12-18T00:00:00\", \"2020-12-19T00:00:00\", \"2020-12-20T00:00:00\", \"2020-12-21T00:00:00\", \"2020-12-22T00:00:00\", \"2020-12-23T00:00:00\", \"2020-12-24T00:00:00\", \"2020-12-25T00:00:00\", \"2020-12-26T00:00:00\", \"2020-12-27T00:00:00\", \"2020-12-28T00:00:00\", \"2020-12-29T00:00:00\", \"2020-12-30T00:00:00\", \"2020-12-31T00:00:00\"], \"xaxis\": \"x\", \"y\": [189.2403732279026, 195.88103044261916, 204.4371431109212, 213.5650935691825, 223.83993835388395, 234.24037387843606, 243.44350456394403, 248.72699161969987, 256.0340215306817, 263.87032581766357, 268.8477315159557, 272.57532236057335, 277.8835245438654, 288.96056972646, 306.64678694215655, 319.37879480728276, 323.5340101193038, 332.39225330219386, 342.47018117563846, 348.4988270495695, 344.1059157788973, 330.10101092498326, 320.80401045523865, 321.2828197315282, 316.35380944367114, 308.7986530381903, 302.4972623292593, 303.93477958987296, 310.739555715666, 300.45027496513427, 274.81950229949547], \"yaxis\": \"y\"}],\n",
       "                        {\"height\": 600, \"legend\": {\"title\": {\"text\": \"variable\"}, \"tracegroupgap\": 0}, \"margin\": {\"t\": 60}, \"plot_bgcolor\": \"white\", \"template\": {\"data\": {\"bar\": [{\"error_x\": {\"color\": \"#2a3f5f\"}, \"error_y\": {\"color\": \"#2a3f5f\"}, \"marker\": {\"line\": {\"color\": \"#E5ECF6\", \"width\": 0.5}}, \"type\": \"bar\"}], \"barpolar\": [{\"marker\": {\"line\": {\"color\": \"#E5ECF6\", \"width\": 0.5}}, \"type\": \"barpolar\"}], \"carpet\": [{\"aaxis\": {\"endlinecolor\": \"#2a3f5f\", \"gridcolor\": \"white\", \"linecolor\": \"white\", \"minorgridcolor\": \"white\", \"startlinecolor\": \"#2a3f5f\"}, \"baxis\": {\"endlinecolor\": \"#2a3f5f\", \"gridcolor\": \"white\", \"linecolor\": \"white\", \"minorgridcolor\": \"white\", \"startlinecolor\": \"#2a3f5f\"}, \"type\": \"carpet\"}], \"choropleth\": [{\"colorbar\": {\"outlinewidth\": 0, \"ticks\": \"\"}, \"type\": \"choropleth\"}], \"contour\": [{\"colorbar\": {\"outlinewidth\": 0, \"ticks\": \"\"}, \"colorscale\": [[0.0, \"#0d0887\"], [0.1111111111111111, \"#46039f\"], [0.2222222222222222, \"#7201a8\"], [0.3333333333333333, \"#9c179e\"], [0.4444444444444444, \"#bd3786\"], [0.5555555555555556, \"#d8576b\"], [0.6666666666666666, \"#ed7953\"], [0.7777777777777778, \"#fb9f3a\"], [0.8888888888888888, \"#fdca26\"], [1.0, \"#f0f921\"]], \"type\": \"contour\"}], \"contourcarpet\": [{\"colorbar\": {\"outlinewidth\": 0, \"ticks\": \"\"}, \"type\": \"contourcarpet\"}], \"heatmap\": [{\"colorbar\": {\"outlinewidth\": 0, \"ticks\": \"\"}, \"colorscale\": [[0.0, \"#0d0887\"], [0.1111111111111111, \"#46039f\"], [0.2222222222222222, \"#7201a8\"], [0.3333333333333333, \"#9c179e\"], [0.4444444444444444, \"#bd3786\"], [0.5555555555555556, \"#d8576b\"], [0.6666666666666666, \"#ed7953\"], [0.7777777777777778, \"#fb9f3a\"], [0.8888888888888888, \"#fdca26\"], [1.0, \"#f0f921\"]], \"type\": \"heatmap\"}], \"heatmapgl\": [{\"colorbar\": {\"outlinewidth\": 0, \"ticks\": \"\"}, \"colorscale\": [[0.0, \"#0d0887\"], [0.1111111111111111, \"#46039f\"], [0.2222222222222222, \"#7201a8\"], [0.3333333333333333, \"#9c179e\"], [0.4444444444444444, \"#bd3786\"], [0.5555555555555556, \"#d8576b\"], [0.6666666666666666, \"#ed7953\"], [0.7777777777777778, \"#fb9f3a\"], [0.8888888888888888, \"#fdca26\"], [1.0, \"#f0f921\"]], \"type\": \"heatmapgl\"}], \"histogram\": [{\"marker\": {\"colorbar\": {\"outlinewidth\": 0, \"ticks\": \"\"}}, \"type\": \"histogram\"}], \"histogram2d\": [{\"colorbar\": {\"outlinewidth\": 0, \"ticks\": \"\"}, \"colorscale\": [[0.0, \"#0d0887\"], [0.1111111111111111, \"#46039f\"], [0.2222222222222222, \"#7201a8\"], [0.3333333333333333, \"#9c179e\"], [0.4444444444444444, \"#bd3786\"], [0.5555555555555556, \"#d8576b\"], [0.6666666666666666, \"#ed7953\"], [0.7777777777777778, \"#fb9f3a\"], [0.8888888888888888, \"#fdca26\"], [1.0, \"#f0f921\"]], \"type\": \"histogram2d\"}], \"histogram2dcontour\": [{\"colorbar\": {\"outlinewidth\": 0, \"ticks\": \"\"}, \"colorscale\": [[0.0, \"#0d0887\"], [0.1111111111111111, \"#46039f\"], [0.2222222222222222, \"#7201a8\"], [0.3333333333333333, \"#9c179e\"], [0.4444444444444444, \"#bd3786\"], [0.5555555555555556, \"#d8576b\"], [0.6666666666666666, \"#ed7953\"], [0.7777777777777778, \"#fb9f3a\"], [0.8888888888888888, \"#fdca26\"], [1.0, \"#f0f921\"]], \"type\": \"histogram2dcontour\"}], \"mesh3d\": [{\"colorbar\": {\"outlinewidth\": 0, \"ticks\": \"\"}, \"type\": \"mesh3d\"}], \"parcoords\": [{\"line\": {\"colorbar\": {\"outlinewidth\": 0, \"ticks\": \"\"}}, \"type\": \"parcoords\"}], \"pie\": [{\"automargin\": true, \"type\": \"pie\"}], \"scatter\": [{\"marker\": {\"colorbar\": {\"outlinewidth\": 0, \"ticks\": \"\"}}, \"type\": \"scatter\"}], \"scatter3d\": [{\"line\": {\"colorbar\": {\"outlinewidth\": 0, \"ticks\": \"\"}}, \"marker\": {\"colorbar\": {\"outlinewidth\": 0, \"ticks\": \"\"}}, \"type\": \"scatter3d\"}], \"scattercarpet\": [{\"marker\": {\"colorbar\": {\"outlinewidth\": 0, \"ticks\": \"\"}}, \"type\": \"scattercarpet\"}], \"scattergeo\": [{\"marker\": {\"colorbar\": {\"outlinewidth\": 0, \"ticks\": \"\"}}, \"type\": \"scattergeo\"}], \"scattergl\": [{\"marker\": {\"colorbar\": {\"outlinewidth\": 0, \"ticks\": \"\"}}, \"type\": \"scattergl\"}], \"scattermapbox\": [{\"marker\": {\"colorbar\": {\"outlinewidth\": 0, \"ticks\": \"\"}}, \"type\": \"scattermapbox\"}], \"scatterpolar\": [{\"marker\": {\"colorbar\": {\"outlinewidth\": 0, \"ticks\": \"\"}}, \"type\": \"scatterpolar\"}], \"scatterpolargl\": [{\"marker\": {\"colorbar\": {\"outlinewidth\": 0, \"ticks\": \"\"}}, \"type\": \"scatterpolargl\"}], \"scatterternary\": [{\"marker\": {\"colorbar\": {\"outlinewidth\": 0, \"ticks\": \"\"}}, \"type\": \"scatterternary\"}], \"surface\": [{\"colorbar\": {\"outlinewidth\": 0, \"ticks\": \"\"}, \"colorscale\": [[0.0, \"#0d0887\"], [0.1111111111111111, \"#46039f\"], [0.2222222222222222, \"#7201a8\"], [0.3333333333333333, \"#9c179e\"], [0.4444444444444444, \"#bd3786\"], [0.5555555555555556, \"#d8576b\"], [0.6666666666666666, \"#ed7953\"], [0.7777777777777778, \"#fb9f3a\"], [0.8888888888888888, \"#fdca26\"], [1.0, \"#f0f921\"]], \"type\": \"surface\"}], \"table\": [{\"cells\": {\"fill\": {\"color\": \"#EBF0F8\"}, \"line\": {\"color\": \"white\"}}, \"header\": {\"fill\": {\"color\": \"#C8D4E3\"}, \"line\": {\"color\": \"white\"}}, \"type\": \"table\"}]}, \"layout\": {\"annotationdefaults\": {\"arrowcolor\": \"#2a3f5f\", \"arrowhead\": 0, \"arrowwidth\": 1}, \"coloraxis\": {\"colorbar\": {\"outlinewidth\": 0, \"ticks\": \"\"}}, \"colorscale\": {\"diverging\": [[0, \"#8e0152\"], [0.1, \"#c51b7d\"], [0.2, \"#de77ae\"], [0.3, \"#f1b6da\"], [0.4, \"#fde0ef\"], [0.5, \"#f7f7f7\"], [0.6, \"#e6f5d0\"], [0.7, \"#b8e186\"], [0.8, \"#7fbc41\"], [0.9, \"#4d9221\"], [1, \"#276419\"]], \"sequential\": [[0.0, \"#0d0887\"], [0.1111111111111111, \"#46039f\"], [0.2222222222222222, \"#7201a8\"], [0.3333333333333333, \"#9c179e\"], [0.4444444444444444, \"#bd3786\"], [0.5555555555555556, \"#d8576b\"], [0.6666666666666666, \"#ed7953\"], [0.7777777777777778, \"#fb9f3a\"], [0.8888888888888888, \"#fdca26\"], [1.0, \"#f0f921\"]], \"sequentialminus\": [[0.0, \"#0d0887\"], [0.1111111111111111, \"#46039f\"], [0.2222222222222222, \"#7201a8\"], [0.3333333333333333, \"#9c179e\"], [0.4444444444444444, \"#bd3786\"], [0.5555555555555556, \"#d8576b\"], [0.6666666666666666, \"#ed7953\"], [0.7777777777777778, \"#fb9f3a\"], [0.8888888888888888, \"#fdca26\"], [1.0, \"#f0f921\"]]}, \"colorway\": [\"#636efa\", \"#EF553B\", \"#00cc96\", \"#ab63fa\", \"#FFA15A\", \"#19d3f3\", \"#FF6692\", \"#B6E880\", \"#FF97FF\", \"#FECB52\"], \"font\": {\"color\": \"#2a3f5f\"}, \"geo\": {\"bgcolor\": \"white\", \"lakecolor\": \"white\", \"landcolor\": \"#E5ECF6\", \"showlakes\": true, \"showland\": true, \"subunitcolor\": \"white\"}, \"hoverlabel\": {\"align\": \"left\"}, \"hovermode\": \"closest\", \"mapbox\": {\"style\": \"light\"}, \"paper_bgcolor\": \"white\", \"plot_bgcolor\": \"#E5ECF6\", \"polar\": {\"angularaxis\": {\"gridcolor\": \"white\", \"linecolor\": \"white\", \"ticks\": \"\"}, \"bgcolor\": \"#E5ECF6\", \"radialaxis\": {\"gridcolor\": \"white\", \"linecolor\": \"white\", \"ticks\": \"\"}}, \"scene\": {\"xaxis\": {\"backgroundcolor\": \"#E5ECF6\", \"gridcolor\": \"white\", \"gridwidth\": 2, \"linecolor\": \"white\", \"showbackground\": true, \"ticks\": \"\", \"zerolinecolor\": \"white\"}, \"yaxis\": {\"backgroundcolor\": \"#E5ECF6\", \"gridcolor\": \"white\", \"gridwidth\": 2, \"linecolor\": \"white\", \"showbackground\": true, \"ticks\": \"\", \"zerolinecolor\": \"white\"}, \"zaxis\": {\"backgroundcolor\": \"#E5ECF6\", \"gridcolor\": \"white\", \"gridwidth\": 2, \"linecolor\": \"white\", \"showbackground\": true, \"ticks\": \"\", \"zerolinecolor\": \"white\"}}, \"shapedefaults\": {\"line\": {\"color\": \"#2a3f5f\"}}, \"ternary\": {\"aaxis\": {\"gridcolor\": \"white\", \"linecolor\": \"white\", \"ticks\": \"\"}, \"baxis\": {\"gridcolor\": \"white\", \"linecolor\": \"white\", \"ticks\": \"\"}, \"bgcolor\": \"#E5ECF6\", \"caxis\": {\"gridcolor\": \"white\", \"linecolor\": \"white\", \"ticks\": \"\"}}, \"title\": {\"x\": 0.05}, \"xaxis\": {\"automargin\": true, \"gridcolor\": \"white\", \"linecolor\": \"white\", \"ticks\": \"\", \"title\": {\"standoff\": 15}, \"zerolinecolor\": \"white\", \"zerolinewidth\": 2}, \"yaxis\": {\"automargin\": true, \"gridcolor\": \"white\", \"linecolor\": \"white\", \"ticks\": \"\", \"title\": {\"standoff\": 15}, \"zerolinecolor\": \"white\", \"zerolinewidth\": 2}}}, \"title\": {\"text\": \"Density\"}, \"width\": 900, \"xaxis\": {\"anchor\": \"y\", \"domain\": [0.0, 1.0], \"showgrid\": false, \"title\": {\"text\": \"date\"}}, \"yaxis\": {\"anchor\": \"x\", \"domain\": [0.0, 1.0], \"showgrid\": false, \"title\": {\"text\": \"value\"}}},\n",
       "                        {\"responsive\": true}\n",
       "                    ).then(function(){\n",
       "                            \n",
       "var gd = document.getElementById('92e695c2-85e6-44e8-a768-9449e27b55e1');\n",
       "var x = new MutationObserver(function (mutations, observer) {{\n",
       "        var display = window.getComputedStyle(gd).display;\n",
       "        if (!display || display === 'none') {{\n",
       "            console.log([gd, 'removed!']);\n",
       "            Plotly.purge(gd);\n",
       "            observer.disconnect();\n",
       "        }}\n",
       "}});\n",
       "\n",
       "// Listen for the removal of the full notebook cells\n",
       "var notebookContainer = gd.closest('#notebook-container');\n",
       "if (notebookContainer) {{\n",
       "    x.observe(notebookContainer, {childList: true});\n",
       "}}\n",
       "\n",
       "// Listen for the clearing of the current output cell\n",
       "var outputEl = gd.closest('.output');\n",
       "if (outputEl) {{\n",
       "    x.observe(outputEl, {childList: true});\n",
       "}}\n",
       "\n",
       "                        })\n",
       "                };\n",
       "                });\n",
       "            </script>\n",
       "        </div>"
      ]
     },
     "metadata": {},
     "output_type": "display_data"
    },
    {
     "data": {
      "text/plain": [
       "<matplotlib.axes._subplots.AxesSubplot at 0x210fafdda48>"
      ]
     },
     "execution_count": 30,
     "metadata": {},
     "output_type": "execute_result"
    },
    {
     "data": {
      "text/plain": [
       "0.7564631558187905"
      ]
     },
     "execution_count": 30,
     "metadata": {},
     "output_type": "execute_result"
    },
    {
     "data": {
      "image/png": "[encoded data removed]",
      "text/plain": [
       "<Figure size 432x288 with 1 Axes>"
      ]
     },
     "metadata": {
      "needs_background": "light"
     },
     "output_type": "display_data"
    }
   ],
   "source": [
    "sam = pd.DataFrame({'actual':y_test, 'pred':y_pred,'date':pd.date_range(start='11/01/2020',end='1/28/2021')})\n",
    "\n",
    "fig = px.line(sam, x=\"date\", y=[\"actual\",\"pred\"])\n",
    "fig.update_layout(plot_bgcolor='white',xaxis_showgrid=False, \n",
    "              yaxis_showgrid=False,width=900, height=600,\n",
    "              title='Density')\n",
    "\n",
    "## 다소 선행\n",
    "sns.regplot(data = sam,x='actual',y='pred')\n",
    "sam['actual'].corr(sam['pred'])"
   ]
  },
  {
   "cell_type": "code",
   "execution_count": 128,
   "metadata": {},
   "outputs": [],
   "source": [
    "predy = model.predict(X_train)"
   ]
  },
  {
   "cell_type": "code",
   "execution_count": 129,
   "metadata": {},
   "outputs": [
    {
     "data": {
      "text/plain": [
       "<matplotlib.axes._subplots.AxesSubplot at 0x1f6f06bec08>"
      ]
     },
     "execution_count": 129,
     "metadata": {},
     "output_type": "execute_result"
    },
    {
     "data": {
      "text/plain": [
       "0.9741971843128373"
      ]
     },
     "execution_count": 129,
     "metadata": {},
     "output_type": "execute_result"
    },
    {
     "data": {
      "image/png": "[encoded data removed]",
      "text/plain": [
       "<Figure size 432x288 with 1 Axes>"
      ]
     },
     "metadata": {
      "needs_background": "light"
     },
     "output_type": "display_data"
    }
   ],
   "source": [
    "tt = pd.DataFrame({'실제':y_train , '예측':predy})\n",
    "sns.regplot(data = tt,x='실제',y='예측')\n",
    "tt['실제'].corr(tt['예측'])"
   ]
  },
  {
   "cell_type": "markdown",
   "metadata": {},
   "source": [
    "### 3.  Tree-based RandomForest Regression"
   ]
  },
  {
   "cell_type": "code",
   "execution_count": 130,
   "metadata": {},
   "outputs": [
    {
     "data": {
      "text/plain": [
       "RandomForestRegressor(bootstrap=True, criterion='mse', max_depth=None,\n",
       "                      max_features='auto', max_leaf_nodes=None,\n",
       "                      min_impurity_decrease=0.0, min_impurity_split=None,\n",
       "                      min_samples_leaf=1, min_samples_split=2,\n",
       "                      min_weight_fraction_leaf=0.0, n_estimators=200,\n",
       "                      n_jobs=None, oob_score=False, random_state=25, verbose=0,\n",
       "                      warm_start=False)"
      ]
     },
     "execution_count": 130,
     "metadata": {},
     "output_type": "execute_result"
    },
    {
     "data": {
      "text/plain": [
       "29030.231556023577"
      ]
     },
     "execution_count": 130,
     "metadata": {},
     "output_type": "execute_result"
    },
    {
     "data": {
      "text/plain": [
       "array([156.12285714, 156.12285714, 156.12285714, 156.12285714,\n",
       "       156.12285714, 156.06714286, 156.06714286, 155.915     ,\n",
       "       155.76285714, 155.68642857, 155.68642857, 155.76285714,\n",
       "       155.76285714, 155.915     , 155.915     , 156.06714286,\n",
       "       156.06714286, 155.915     , 155.915     , 154.575     ,\n",
       "       152.125     , 151.18428571, 150.85642857, 151.30857143,\n",
       "       150.85357143, 150.305     , 151.22428571, 151.04214286,\n",
       "       143.34785714, 139.87928571, 140.12928571])"
      ]
     },
     "execution_count": 130,
     "metadata": {},
     "output_type": "execute_result"
    },
    {
     "data": {
      "text/plain": [
       "array([206.85714286, 220.57142857, 233.        , 241.71428571,\n",
       "       250.85714286, 249.57142857, 243.28571429, 262.        ,\n",
       "       282.        , 278.42857143, 283.42857143, 300.28571429,\n",
       "       325.        , 345.28571429, 343.28571429, 322.85714286,\n",
       "       338.        , 346.71428571, 345.28571429, 328.28571429,\n",
       "       350.85714286, 366.85714286, 381.85714286, 378.28571429,\n",
       "       408.        , 409.85714286, 418.71428571, 390.28571429,\n",
       "       324.57142857, 273.85714286, 231.        ])"
      ]
     },
     "execution_count": 130,
     "metadata": {},
     "output_type": "execute_result"
    }
   ],
   "source": [
    "X_train, y_train = train[train.columns.difference(['Date','infected'])] , train['infected']\n",
    "X_test, y_test = test[test.columns.difference(['Date','infected'])] , test['infected']\n",
    "\n",
    "regr = RandomForestRegressor(n_estimators=200 ,random_state=25)\n",
    "regr.fit(X_train, y_train)\n",
    "\n",
    "y_pred = regr.predict(X_test)\n",
    "mean_squared_error(y_test, y_pred)\n",
    "\n",
    "np.array(y_pred)\n",
    "np.array(y_test)"
   ]
  },
  {
   "cell_type": "code",
   "execution_count": 131,
   "metadata": {},
   "outputs": [
    {
     "data": {
      "text/plain": [
       "array([0.00463534, 0.00521042, 0.00397882, 0.01950621, 0.00475025,\n",
       "       0.00378032, 0.00529286, 0.00685404, 0.83346802, 0.00612124,\n",
       "       0.00599971, 0.0041317 , 0.07351894, 0.0038826 , 0.00351823,\n",
       "       0.00407128, 0.00348188, 0.00779814])"
      ]
     },
     "execution_count": 131,
     "metadata": {},
     "output_type": "execute_result"
    },
    {
     "data": {
      "text/html": [
       "<div>\n",
       "<style scoped>\n",
       "    .dataframe tbody tr th:only-of-type {\n",
       "        vertical-align: middle;\n",
       "    }\n",
       "\n",
       "    .dataframe tbody tr th {\n",
       "        vertical-align: top;\n",
       "    }\n",
       "\n",
       "    .dataframe thead th {\n",
       "        text-align: right;\n",
       "    }\n",
       "</style>\n",
       "<table border=\"1\" class=\"dataframe\">\n",
       "  <thead>\n",
       "    <tr style=\"text-align: right;\">\n",
       "      <th></th>\n",
       "      <th>importance</th>\n",
       "      <th>columns</th>\n",
       "    </tr>\n",
       "  </thead>\n",
       "  <tbody>\n",
       "    <tr>\n",
       "      <td>8</td>\n",
       "      <td>0.833468</td>\n",
       "      <td>1week_before_infected</td>\n",
       "    </tr>\n",
       "    <tr>\n",
       "      <td>12</td>\n",
       "      <td>0.073519</td>\n",
       "      <td>2week_before_AVG_COEF</td>\n",
       "    </tr>\n",
       "    <tr>\n",
       "      <td>3</td>\n",
       "      <td>0.019506</td>\n",
       "      <td>1week_before_AVG_COEF</td>\n",
       "    </tr>\n",
       "    <tr>\n",
       "      <td>17</td>\n",
       "      <td>0.007798</td>\n",
       "      <td>2week_before_infected</td>\n",
       "    </tr>\n",
       "    <tr>\n",
       "      <td>7</td>\n",
       "      <td>0.006854</td>\n",
       "      <td>1week_before_Modularity</td>\n",
       "    </tr>\n",
       "    <tr>\n",
       "      <td>9</td>\n",
       "      <td>0.006121</td>\n",
       "      <td>2week_before_AD_Cv</td>\n",
       "    </tr>\n",
       "    <tr>\n",
       "      <td>10</td>\n",
       "      <td>0.006000</td>\n",
       "      <td>2week_before_AD_Pv</td>\n",
       "    </tr>\n",
       "    <tr>\n",
       "      <td>6</td>\n",
       "      <td>0.005293</td>\n",
       "      <td>1week_before_Density</td>\n",
       "    </tr>\n",
       "    <tr>\n",
       "      <td>1</td>\n",
       "      <td>0.005210</td>\n",
       "      <td>1week_before_AD_Pv</td>\n",
       "    </tr>\n",
       "    <tr>\n",
       "      <td>4</td>\n",
       "      <td>0.004750</td>\n",
       "      <td>1week_before_B_Cv</td>\n",
       "    </tr>\n",
       "    <tr>\n",
       "      <td>0</td>\n",
       "      <td>0.004635</td>\n",
       "      <td>1week_before_AD_Cv</td>\n",
       "    </tr>\n",
       "    <tr>\n",
       "      <td>11</td>\n",
       "      <td>0.004132</td>\n",
       "      <td>2week_before_AD_Sv</td>\n",
       "    </tr>\n",
       "    <tr>\n",
       "      <td>15</td>\n",
       "      <td>0.004071</td>\n",
       "      <td>2week_before_Density</td>\n",
       "    </tr>\n",
       "    <tr>\n",
       "      <td>2</td>\n",
       "      <td>0.003979</td>\n",
       "      <td>1week_before_AD_Sv</td>\n",
       "    </tr>\n",
       "    <tr>\n",
       "      <td>13</td>\n",
       "      <td>0.003883</td>\n",
       "      <td>2week_before_B_Cv</td>\n",
       "    </tr>\n",
       "    <tr>\n",
       "      <td>5</td>\n",
       "      <td>0.003780</td>\n",
       "      <td>1week_before_B_Sv</td>\n",
       "    </tr>\n",
       "    <tr>\n",
       "      <td>14</td>\n",
       "      <td>0.003518</td>\n",
       "      <td>2week_before_B_Sv</td>\n",
       "    </tr>\n",
       "    <tr>\n",
       "      <td>16</td>\n",
       "      <td>0.003482</td>\n",
       "      <td>2week_before_Modularity</td>\n",
       "    </tr>\n",
       "  </tbody>\n",
       "</table>\n",
       "</div>"
      ],
      "text/plain": [
       "    importance                  columns\n",
       "8     0.833468    1week_before_infected\n",
       "12    0.073519    2week_before_AVG_COEF\n",
       "3     0.019506    1week_before_AVG_COEF\n",
       "17    0.007798    2week_before_infected\n",
       "7     0.006854  1week_before_Modularity\n",
       "9     0.006121       2week_before_AD_Cv\n",
       "10    0.006000       2week_before_AD_Pv\n",
       "6     0.005293     1week_before_Density\n",
       "1     0.005210       1week_before_AD_Pv\n",
       "4     0.004750        1week_before_B_Cv\n",
       "0     0.004635       1week_before_AD_Cv\n",
       "11    0.004132       2week_before_AD_Sv\n",
       "15    0.004071     2week_before_Density\n",
       "2     0.003979       1week_before_AD_Sv\n",
       "13    0.003883        2week_before_B_Cv\n",
       "5     0.003780        1week_before_B_Sv\n",
       "14    0.003518        2week_before_B_Sv\n",
       "16    0.003482  2week_before_Modularity"
      ]
     },
     "execution_count": 131,
     "metadata": {},
     "output_type": "execute_result"
    }
   ],
   "source": [
    "regr.feature_importances_\n",
    "pd.DataFrame({'importance':regr.feature_importances_,\n",
    "              'columns' : X_train.columns}).sort_values(by='importance',ascending=False)"
   ]
  },
  {
   "cell_type": "code",
   "execution_count": 132,
   "metadata": {},
   "outputs": [
    {
     "data": {
      "text/plain": [
       "RandomForestRegressor(bootstrap=True, criterion='mse', max_depth=None,\n",
       "                      max_features='auto', max_leaf_nodes=None,\n",
       "                      min_impurity_decrease=0.0, min_impurity_split=None,\n",
       "                      min_samples_leaf=1, min_samples_split=2,\n",
       "                      min_weight_fraction_leaf=0.0, n_estimators=200,\n",
       "                      n_jobs=None, oob_score=False, random_state=25, verbose=0,\n",
       "                      warm_start=False)"
      ]
     },
     "execution_count": 132,
     "metadata": {},
     "output_type": "execute_result"
    },
    {
     "data": {
      "text/plain": [
       "31816.07670916715"
      ]
     },
     "execution_count": 132,
     "metadata": {},
     "output_type": "execute_result"
    }
   ],
   "source": [
    "sig_features = ['1week_before_AVG_COEF','1week_before_infected','2week_before_AVG_COEF','2week_before_infected']\n",
    "X_train, y_train = train[sig_features] , train['infected']\n",
    "X_test, y_test = test[sig_features] , test['infected']\n",
    "\n",
    "regr = RandomForestRegressor(n_estimators=200 ,random_state=25)\n",
    "regr.fit(X_train, y_train)\n",
    "\n",
    "y_pred = regr.predict(X_test)\n",
    "mean_squared_error(y_test, y_pred)"
   ]
  },
  {
   "cell_type": "code",
   "execution_count": 133,
   "metadata": {},
   "outputs": [
    {
     "data": {
      "text/plain": [
       "array([0.03328767, 0.85723464, 0.08605479, 0.02342291])"
      ]
     },
     "execution_count": 133,
     "metadata": {},
     "output_type": "execute_result"
    },
    {
     "data": {
      "text/html": [
       "<div>\n",
       "<style scoped>\n",
       "    .dataframe tbody tr th:only-of-type {\n",
       "        vertical-align: middle;\n",
       "    }\n",
       "\n",
       "    .dataframe tbody tr th {\n",
       "        vertical-align: top;\n",
       "    }\n",
       "\n",
       "    .dataframe thead th {\n",
       "        text-align: right;\n",
       "    }\n",
       "</style>\n",
       "<table border=\"1\" class=\"dataframe\">\n",
       "  <thead>\n",
       "    <tr style=\"text-align: right;\">\n",
       "      <th></th>\n",
       "      <th>importance</th>\n",
       "      <th>columns</th>\n",
       "    </tr>\n",
       "  </thead>\n",
       "  <tbody>\n",
       "    <tr>\n",
       "      <td>1</td>\n",
       "      <td>0.857235</td>\n",
       "      <td>1week_before_infected</td>\n",
       "    </tr>\n",
       "    <tr>\n",
       "      <td>2</td>\n",
       "      <td>0.086055</td>\n",
       "      <td>2week_before_AVG_COEF</td>\n",
       "    </tr>\n",
       "    <tr>\n",
       "      <td>0</td>\n",
       "      <td>0.033288</td>\n",
       "      <td>1week_before_AVG_COEF</td>\n",
       "    </tr>\n",
       "    <tr>\n",
       "      <td>3</td>\n",
       "      <td>0.023423</td>\n",
       "      <td>2week_before_infected</td>\n",
       "    </tr>\n",
       "  </tbody>\n",
       "</table>\n",
       "</div>"
      ],
      "text/plain": [
       "   importance                columns\n",
       "1    0.857235  1week_before_infected\n",
       "2    0.086055  2week_before_AVG_COEF\n",
       "0    0.033288  1week_before_AVG_COEF\n",
       "3    0.023423  2week_before_infected"
      ]
     },
     "execution_count": 133,
     "metadata": {},
     "output_type": "execute_result"
    }
   ],
   "source": [
    "regr.feature_importances_\n",
    "pd.DataFrame({'importance':regr.feature_importances_,\n",
    "              'columns' : X_train.columns}).sort_values(by='importance',ascending=False)"
   ]
  },
  {
   "cell_type": "markdown",
   "metadata": {},
   "source": [
    "## 4. Nonlinear Regression  - > y변수에 지수함수 씌우고 예측"
   ]
  },
  {
   "cell_type": "code",
   "execution_count": 334,
   "metadata": {},
   "outputs": [],
   "source": [
    "idx = total.index[total['infected']==0]"
   ]
  },
  {
   "cell_type": "code",
   "execution_count": 335,
   "metadata": {},
   "outputs": [],
   "source": [
    "total.iloc[idx,17] = 0.1"
   ]
  },
  {
   "cell_type": "code",
   "execution_count": 336,
   "metadata": {},
   "outputs": [],
   "source": [
    "train = total[(total['Date']>='2020-01-31') & (total['Date']<='2020-10-28')] # 12월 1일 스무딩에 들어가는 11/28 ~ 30 은 제거해줌\n",
    "test = total[(total['Date']>='2020-11-01') & (total['Date']<='2021-01-28')]"
   ]
  },
  {
   "cell_type": "code",
   "execution_count": 322,
   "metadata": {
    "scrolled": true
   },
   "outputs": [
    {
     "data": {
      "text/plain": [
       "LinearRegression(copy_X=True, fit_intercept=False, n_jobs=None, normalize=False)"
      ]
     },
     "execution_count": 322,
     "metadata": {},
     "output_type": "execute_result"
    },
    {
     "name": "stdout",
     "output_type": "stream",
     "text": [
      "0\n"
     ]
    },
    {
     "data": {
      "text/plain": [
       "LinearRegression(copy_X=True, fit_intercept=False, n_jobs=None, normalize=False)"
      ]
     },
     "execution_count": 322,
     "metadata": {},
     "output_type": "execute_result"
    },
    {
     "name": "stdout",
     "output_type": "stream",
     "text": [
      "1\n"
     ]
    },
    {
     "data": {
      "text/plain": [
       "LinearRegression(copy_X=True, fit_intercept=False, n_jobs=None, normalize=False)"
      ]
     },
     "execution_count": 322,
     "metadata": {},
     "output_type": "execute_result"
    },
    {
     "name": "stdout",
     "output_type": "stream",
     "text": [
      "2\n"
     ]
    },
    {
     "data": {
      "text/plain": [
       "LinearRegression(copy_X=True, fit_intercept=False, n_jobs=None, normalize=False)"
      ]
     },
     "execution_count": 322,
     "metadata": {},
     "output_type": "execute_result"
    },
    {
     "name": "stdout",
     "output_type": "stream",
     "text": [
      "3\n"
     ]
    },
    {
     "data": {
      "text/plain": [
       "LinearRegression(copy_X=True, fit_intercept=False, n_jobs=None, normalize=False)"
      ]
     },
     "execution_count": 322,
     "metadata": {},
     "output_type": "execute_result"
    },
    {
     "name": "stdout",
     "output_type": "stream",
     "text": [
      "4\n"
     ]
    },
    {
     "data": {
      "text/plain": [
       "LinearRegression(copy_X=True, fit_intercept=False, n_jobs=None, normalize=False)"
      ]
     },
     "execution_count": 322,
     "metadata": {},
     "output_type": "execute_result"
    },
    {
     "name": "stdout",
     "output_type": "stream",
     "text": [
      "5\n"
     ]
    },
    {
     "data": {
      "text/plain": [
       "LinearRegression(copy_X=True, fit_intercept=False, n_jobs=None, normalize=False)"
      ]
     },
     "execution_count": 322,
     "metadata": {},
     "output_type": "execute_result"
    },
    {
     "name": "stdout",
     "output_type": "stream",
     "text": [
      "6\n"
     ]
    },
    {
     "data": {
      "text/plain": [
       "LinearRegression(copy_X=True, fit_intercept=False, n_jobs=None, normalize=False)"
      ]
     },
     "execution_count": 322,
     "metadata": {},
     "output_type": "execute_result"
    },
    {
     "name": "stdout",
     "output_type": "stream",
     "text": [
      "7\n"
     ]
    },
    {
     "data": {
      "text/plain": [
       "LinearRegression(copy_X=True, fit_intercept=False, n_jobs=None, normalize=False)"
      ]
     },
     "execution_count": 322,
     "metadata": {},
     "output_type": "execute_result"
    },
    {
     "name": "stdout",
     "output_type": "stream",
     "text": [
      "8\n"
     ]
    },
    {
     "data": {
      "text/plain": [
       "LinearRegression(copy_X=True, fit_intercept=False, n_jobs=None, normalize=False)"
      ]
     },
     "execution_count": 322,
     "metadata": {},
     "output_type": "execute_result"
    },
    {
     "name": "stdout",
     "output_type": "stream",
     "text": [
      "9\n"
     ]
    },
    {
     "data": {
      "text/plain": [
       "LinearRegression(copy_X=True, fit_intercept=False, n_jobs=None, normalize=False)"
      ]
     },
     "execution_count": 322,
     "metadata": {},
     "output_type": "execute_result"
    },
    {
     "name": "stdout",
     "output_type": "stream",
     "text": [
      "10\n"
     ]
    },
    {
     "data": {
      "text/plain": [
       "LinearRegression(copy_X=True, fit_intercept=False, n_jobs=None, normalize=False)"
      ]
     },
     "execution_count": 322,
     "metadata": {},
     "output_type": "execute_result"
    },
    {
     "name": "stdout",
     "output_type": "stream",
     "text": [
      "11\n"
     ]
    },
    {
     "data": {
      "text/plain": [
       "LinearRegression(copy_X=True, fit_intercept=False, n_jobs=None, normalize=False)"
      ]
     },
     "execution_count": 322,
     "metadata": {},
     "output_type": "execute_result"
    },
    {
     "name": "stdout",
     "output_type": "stream",
     "text": [
      "12\n"
     ]
    },
    {
     "data": {
      "text/plain": [
       "LinearRegression(copy_X=True, fit_intercept=False, n_jobs=None, normalize=False)"
      ]
     },
     "execution_count": 322,
     "metadata": {},
     "output_type": "execute_result"
    },
    {
     "name": "stdout",
     "output_type": "stream",
     "text": [
      "13\n"
     ]
    },
    {
     "data": {
      "text/plain": [
       "LinearRegression(copy_X=True, fit_intercept=False, n_jobs=None, normalize=False)"
      ]
     },
     "execution_count": 322,
     "metadata": {},
     "output_type": "execute_result"
    },
    {
     "name": "stdout",
     "output_type": "stream",
     "text": [
      "14\n"
     ]
    },
    {
     "data": {
      "text/plain": [
       "LinearRegression(copy_X=True, fit_intercept=False, n_jobs=None, normalize=False)"
      ]
     },
     "execution_count": 322,
     "metadata": {},
     "output_type": "execute_result"
    },
    {
     "name": "stdout",
     "output_type": "stream",
     "text": [
      "15\n"
     ]
    }
   ],
   "source": [
    "scores = []\n",
    "coef = []\n",
    "for i in range(16):\n",
    "    X_train , y_train = train.iloc[:,i] , np.exp(train.iloc[:,17]) # 20번째 컬럼이 infected y변수\n",
    "    X_test  , y_test  = test.iloc[:,i] , test.iloc[:,17]\n",
    "    model = LinearRegression(fit_intercept=False)   # 지수함수형태에서 교차항제거 -> 음수나옴\n",
    "    model.fit(np.array(X_train).reshape(-1,1), y_train)\n",
    "    y_pred = model.predict(np.array(X_test).reshape(-1,1))\n",
    "    y_pred = np.log(y_pred)\n",
    "    scores.append(mean_squared_error(y_test,y_pred))\n",
    "    coef.append(model.coef_[0])\n",
    "    print(i)"
   ]
  },
  {
   "cell_type": "code",
   "execution_count": 323,
   "metadata": {},
   "outputs": [
    {
     "data": {
      "text/html": [
       "<div>\n",
       "<style scoped>\n",
       "    .dataframe tbody tr th:only-of-type {\n",
       "        vertical-align: middle;\n",
       "    }\n",
       "\n",
       "    .dataframe tbody tr th {\n",
       "        vertical-align: top;\n",
       "    }\n",
       "\n",
       "    .dataframe thead th {\n",
       "        text-align: right;\n",
       "    }\n",
       "</style>\n",
       "<table border=\"1\" class=\"dataframe\">\n",
       "  <thead>\n",
       "    <tr style=\"text-align: right;\">\n",
       "      <th></th>\n",
       "      <th>var</th>\n",
       "      <th>mse</th>\n",
       "      <th>coef</th>\n",
       "    </tr>\n",
       "  </thead>\n",
       "  <tbody>\n",
       "    <tr>\n",
       "      <td>3</td>\n",
       "      <td>1week_before_infected</td>\n",
       "      <td>15626.338808</td>\n",
       "      <td>1.259032e+55</td>\n",
       "    </tr>\n",
       "    <tr>\n",
       "      <td>7</td>\n",
       "      <td>2week_before_infected</td>\n",
       "      <td>15648.318655</td>\n",
       "      <td>1.112271e+55</td>\n",
       "    </tr>\n",
       "    <tr>\n",
       "      <td>11</td>\n",
       "      <td>3week_before_infected</td>\n",
       "      <td>15693.553078</td>\n",
       "      <td>8.535972e+54</td>\n",
       "    </tr>\n",
       "    <tr>\n",
       "      <td>15</td>\n",
       "      <td>4week_before_infected</td>\n",
       "      <td>15732.690329</td>\n",
       "      <td>7.115741e+54</td>\n",
       "    </tr>\n",
       "    <tr>\n",
       "      <td>12</td>\n",
       "      <td>4week_before_AVG_COEF</td>\n",
       "      <td>15958.486940</td>\n",
       "      <td>9.128197e+55</td>\n",
       "    </tr>\n",
       "    <tr>\n",
       "      <td>8</td>\n",
       "      <td>3week_before_AVG_COEF</td>\n",
       "      <td>15959.843100</td>\n",
       "      <td>9.198557e+55</td>\n",
       "    </tr>\n",
       "    <tr>\n",
       "      <td>4</td>\n",
       "      <td>2week_before_AVG_COEF</td>\n",
       "      <td>15982.815717</td>\n",
       "      <td>8.109895e+55</td>\n",
       "    </tr>\n",
       "    <tr>\n",
       "      <td>0</td>\n",
       "      <td>1week_before_AVG_COEF</td>\n",
       "      <td>16002.338151</td>\n",
       "      <td>7.493986e+55</td>\n",
       "    </tr>\n",
       "    <tr>\n",
       "      <td>14</td>\n",
       "      <td>4week_before_Modularity</td>\n",
       "      <td>16945.026809</td>\n",
       "      <td>3.383204e+56</td>\n",
       "    </tr>\n",
       "    <tr>\n",
       "      <td>13</td>\n",
       "      <td>4week_before_Density</td>\n",
       "      <td>17001.897440</td>\n",
       "      <td>4.304553e+56</td>\n",
       "    </tr>\n",
       "    <tr>\n",
       "      <td>10</td>\n",
       "      <td>3week_before_Modularity</td>\n",
       "      <td>17055.146035</td>\n",
       "      <td>1.844646e+56</td>\n",
       "    </tr>\n",
       "    <tr>\n",
       "      <td>9</td>\n",
       "      <td>3week_before_Density</td>\n",
       "      <td>17112.257360</td>\n",
       "      <td>2.336050e+56</td>\n",
       "    </tr>\n",
       "    <tr>\n",
       "      <td>6</td>\n",
       "      <td>2week_before_Modularity</td>\n",
       "      <td>17207.417291</td>\n",
       "      <td>7.136176e+55</td>\n",
       "    </tr>\n",
       "    <tr>\n",
       "      <td>5</td>\n",
       "      <td>2week_before_Density</td>\n",
       "      <td>17262.685436</td>\n",
       "      <td>9.149931e+55</td>\n",
       "    </tr>\n",
       "    <tr>\n",
       "      <td>2</td>\n",
       "      <td>1week_before_Modularity</td>\n",
       "      <td>17295.776416</td>\n",
       "      <td>4.115804e+55</td>\n",
       "    </tr>\n",
       "    <tr>\n",
       "      <td>1</td>\n",
       "      <td>1week_before_Density</td>\n",
       "      <td>17353.369658</td>\n",
       "      <td>5.191301e+55</td>\n",
       "    </tr>\n",
       "  </tbody>\n",
       "</table>\n",
       "</div>"
      ],
      "text/plain": [
       "                        var           mse          coef\n",
       "3     1week_before_infected  15626.338808  1.259032e+55\n",
       "7     2week_before_infected  15648.318655  1.112271e+55\n",
       "11    3week_before_infected  15693.553078  8.535972e+54\n",
       "15    4week_before_infected  15732.690329  7.115741e+54\n",
       "12    4week_before_AVG_COEF  15958.486940  9.128197e+55\n",
       "8     3week_before_AVG_COEF  15959.843100  9.198557e+55\n",
       "4     2week_before_AVG_COEF  15982.815717  8.109895e+55\n",
       "0     1week_before_AVG_COEF  16002.338151  7.493986e+55\n",
       "14  4week_before_Modularity  16945.026809  3.383204e+56\n",
       "13     4week_before_Density  17001.897440  4.304553e+56\n",
       "10  3week_before_Modularity  17055.146035  1.844646e+56\n",
       "9      3week_before_Density  17112.257360  2.336050e+56\n",
       "6   2week_before_Modularity  17207.417291  7.136176e+55\n",
       "5      2week_before_Density  17262.685436  9.149931e+55\n",
       "2   1week_before_Modularity  17295.776416  4.115804e+55\n",
       "1      1week_before_Density  17353.369658  5.191301e+55"
      ]
     },
     "execution_count": 323,
     "metadata": {},
     "output_type": "execute_result"
    }
   ],
   "source": [
    "pd.DataFrame({'var':train.columns[:16], 'mse' : scores , 'coef' : coef}).sort_values(by='mse')"
   ]
  },
  {
   "cell_type": "markdown",
   "metadata": {},
   "source": [
    "- 변수설정하면 해당 변수의 영향 파악가능"
   ]
  },
  {
   "cell_type": "code",
   "execution_count": 399,
   "metadata": {},
   "outputs": [],
   "source": [
    "sig_features = ['4week_before_Modularity','4week_before_Density','4week_before_infected']\n",
    "X_train, y_train = train[sig_features] , train['infected']\n",
    "X_test, y_test = test[sig_features] , test['infected']"
   ]
  },
  {
   "cell_type": "code",
   "execution_count": 400,
   "metadata": {},
   "outputs": [
    {
     "data": {
      "text/plain": [
       "LinearRegression(copy_X=True, fit_intercept=False, n_jobs=None, normalize=False)"
      ]
     },
     "execution_count": 400,
     "metadata": {},
     "output_type": "execute_result"
    },
    {
     "data": {
      "text/plain": [
       "9712.30434561447"
      ]
     },
     "execution_count": 400,
     "metadata": {},
     "output_type": "execute_result"
    }
   ],
   "source": [
    "model = LinearRegression(fit_intercept=False)   # 지수함수형태에서 교차항제거 -> 음수나옴\n",
    "#model.fit(np.array(X_train).reshape(-1,1), y_train)\n",
    "model.fit(np.exp(X_train),np.exp(y_train))\n",
    "#y_pred = model.predict(np.array(X_test).reshape(-1,1))\n",
    "y_pred = model.predict(np.exp(X_test))\n",
    "y_pred = np.log(y_pred)\n",
    "mean_squared_error(y_test, y_pred)"
   ]
  },
  {
   "cell_type": "code",
   "execution_count": 340,
   "metadata": {},
   "outputs": [
    {
     "data": {
      "text/plain": [
       "LinearRegression(copy_X=True, fit_intercept=False, n_jobs=None, normalize=False)"
      ]
     },
     "execution_count": 340,
     "metadata": {},
     "output_type": "execute_result"
    },
    {
     "ename": "ValueError",
     "evalue": "Input contains NaN, infinity or a value too large for dtype('float64').",
     "output_type": "error",
     "traceback": [
      "\u001b[1;31m---------------------------------------------------------------------------\u001b[0m",
      "\u001b[1;31mValueError\u001b[0m                                Traceback (most recent call last)",
      "\u001b[1;32m<ipython-input-340-dcdf3ad7e9df>\u001b[0m in \u001b[0;36m<module>\u001b[1;34m\u001b[0m\n\u001b[0;32m      7\u001b[0m \u001b[0my_pred\u001b[0m \u001b[1;33m=\u001b[0m \u001b[0mmodel\u001b[0m\u001b[1;33m.\u001b[0m\u001b[0mpredict\u001b[0m\u001b[1;33m(\u001b[0m\u001b[0mX_test\u001b[0m\u001b[1;33m)\u001b[0m\u001b[1;33m\u001b[0m\u001b[1;33m\u001b[0m\u001b[0m\n\u001b[0;32m      8\u001b[0m \u001b[0my_pred\u001b[0m \u001b[1;33m=\u001b[0m \u001b[0mnp\u001b[0m\u001b[1;33m.\u001b[0m\u001b[0mlog\u001b[0m\u001b[1;33m(\u001b[0m\u001b[0my_pred\u001b[0m\u001b[1;33m)\u001b[0m\u001b[1;33m\u001b[0m\u001b[1;33m\u001b[0m\u001b[0m\n\u001b[1;32m----> 9\u001b[1;33m \u001b[0mmean_squared_error\u001b[0m\u001b[1;33m(\u001b[0m\u001b[0my_test\u001b[0m\u001b[1;33m,\u001b[0m \u001b[0my_pred\u001b[0m\u001b[1;33m)\u001b[0m\u001b[1;33m\u001b[0m\u001b[1;33m\u001b[0m\u001b[0m\n\u001b[0m",
      "\u001b[1;32m~\\Anaconda3\\lib\\site-packages\\sklearn\\metrics\\regression.py\u001b[0m in \u001b[0;36mmean_squared_error\u001b[1;34m(y_true, y_pred, sample_weight, multioutput)\u001b[0m\n\u001b[0;32m    239\u001b[0m     \"\"\"\n\u001b[0;32m    240\u001b[0m     y_type, y_true, y_pred, multioutput = _check_reg_targets(\n\u001b[1;32m--> 241\u001b[1;33m         y_true, y_pred, multioutput)\n\u001b[0m\u001b[0;32m    242\u001b[0m     \u001b[0mcheck_consistent_length\u001b[0m\u001b[1;33m(\u001b[0m\u001b[0my_true\u001b[0m\u001b[1;33m,\u001b[0m \u001b[0my_pred\u001b[0m\u001b[1;33m,\u001b[0m \u001b[0msample_weight\u001b[0m\u001b[1;33m)\u001b[0m\u001b[1;33m\u001b[0m\u001b[1;33m\u001b[0m\u001b[0m\n\u001b[0;32m    243\u001b[0m     output_errors = np.average((y_true - y_pred) ** 2, axis=0,\n",
      "\u001b[1;32m~\\Anaconda3\\lib\\site-packages\\sklearn\\metrics\\regression.py\u001b[0m in \u001b[0;36m_check_reg_targets\u001b[1;34m(y_true, y_pred, multioutput)\u001b[0m\n\u001b[0;32m     77\u001b[0m     \u001b[0mcheck_consistent_length\u001b[0m\u001b[1;33m(\u001b[0m\u001b[0my_true\u001b[0m\u001b[1;33m,\u001b[0m \u001b[0my_pred\u001b[0m\u001b[1;33m)\u001b[0m\u001b[1;33m\u001b[0m\u001b[1;33m\u001b[0m\u001b[0m\n\u001b[0;32m     78\u001b[0m     \u001b[0my_true\u001b[0m \u001b[1;33m=\u001b[0m \u001b[0mcheck_array\u001b[0m\u001b[1;33m(\u001b[0m\u001b[0my_true\u001b[0m\u001b[1;33m,\u001b[0m \u001b[0mensure_2d\u001b[0m\u001b[1;33m=\u001b[0m\u001b[1;32mFalse\u001b[0m\u001b[1;33m)\u001b[0m\u001b[1;33m\u001b[0m\u001b[1;33m\u001b[0m\u001b[0m\n\u001b[1;32m---> 79\u001b[1;33m     \u001b[0my_pred\u001b[0m \u001b[1;33m=\u001b[0m \u001b[0mcheck_array\u001b[0m\u001b[1;33m(\u001b[0m\u001b[0my_pred\u001b[0m\u001b[1;33m,\u001b[0m \u001b[0mensure_2d\u001b[0m\u001b[1;33m=\u001b[0m\u001b[1;32mFalse\u001b[0m\u001b[1;33m)\u001b[0m\u001b[1;33m\u001b[0m\u001b[1;33m\u001b[0m\u001b[0m\n\u001b[0m\u001b[0;32m     80\u001b[0m \u001b[1;33m\u001b[0m\u001b[0m\n\u001b[0;32m     81\u001b[0m     \u001b[1;32mif\u001b[0m \u001b[0my_true\u001b[0m\u001b[1;33m.\u001b[0m\u001b[0mndim\u001b[0m \u001b[1;33m==\u001b[0m \u001b[1;36m1\u001b[0m\u001b[1;33m:\u001b[0m\u001b[1;33m\u001b[0m\u001b[1;33m\u001b[0m\u001b[0m\n",
      "\u001b[1;32m~\\Anaconda3\\lib\\site-packages\\sklearn\\utils\\validation.py\u001b[0m in \u001b[0;36mcheck_array\u001b[1;34m(array, accept_sparse, accept_large_sparse, dtype, order, copy, force_all_finite, ensure_2d, allow_nd, ensure_min_samples, ensure_min_features, warn_on_dtype, estimator)\u001b[0m\n\u001b[0;32m    540\u001b[0m         \u001b[1;32mif\u001b[0m \u001b[0mforce_all_finite\u001b[0m\u001b[1;33m:\u001b[0m\u001b[1;33m\u001b[0m\u001b[1;33m\u001b[0m\u001b[0m\n\u001b[0;32m    541\u001b[0m             _assert_all_finite(array,\n\u001b[1;32m--> 542\u001b[1;33m                                allow_nan=force_all_finite == 'allow-nan')\n\u001b[0m\u001b[0;32m    543\u001b[0m \u001b[1;33m\u001b[0m\u001b[0m\n\u001b[0;32m    544\u001b[0m     \u001b[1;32mif\u001b[0m \u001b[0mensure_min_samples\u001b[0m \u001b[1;33m>\u001b[0m \u001b[1;36m0\u001b[0m\u001b[1;33m:\u001b[0m\u001b[1;33m\u001b[0m\u001b[1;33m\u001b[0m\u001b[0m\n",
      "\u001b[1;32m~\\Anaconda3\\lib\\site-packages\\sklearn\\utils\\validation.py\u001b[0m in \u001b[0;36m_assert_all_finite\u001b[1;34m(X, allow_nan)\u001b[0m\n\u001b[0;32m     54\u001b[0m                 not allow_nan and not np.isfinite(X).all()):\n\u001b[0;32m     55\u001b[0m             \u001b[0mtype_err\u001b[0m \u001b[1;33m=\u001b[0m \u001b[1;34m'infinity'\u001b[0m \u001b[1;32mif\u001b[0m \u001b[0mallow_nan\u001b[0m \u001b[1;32melse\u001b[0m \u001b[1;34m'NaN, infinity'\u001b[0m\u001b[1;33m\u001b[0m\u001b[1;33m\u001b[0m\u001b[0m\n\u001b[1;32m---> 56\u001b[1;33m             \u001b[1;32mraise\u001b[0m \u001b[0mValueError\u001b[0m\u001b[1;33m(\u001b[0m\u001b[0mmsg_err\u001b[0m\u001b[1;33m.\u001b[0m\u001b[0mformat\u001b[0m\u001b[1;33m(\u001b[0m\u001b[0mtype_err\u001b[0m\u001b[1;33m,\u001b[0m \u001b[0mX\u001b[0m\u001b[1;33m.\u001b[0m\u001b[0mdtype\u001b[0m\u001b[1;33m)\u001b[0m\u001b[1;33m)\u001b[0m\u001b[1;33m\u001b[0m\u001b[1;33m\u001b[0m\u001b[0m\n\u001b[0m\u001b[0;32m     57\u001b[0m     \u001b[1;31m# for object dtype data, we only check for NaNs (GH-13254)\u001b[0m\u001b[1;33m\u001b[0m\u001b[1;33m\u001b[0m\u001b[1;33m\u001b[0m\u001b[0m\n\u001b[0;32m     58\u001b[0m     \u001b[1;32melif\u001b[0m \u001b[0mX\u001b[0m\u001b[1;33m.\u001b[0m\u001b[0mdtype\u001b[0m \u001b[1;33m==\u001b[0m \u001b[0mnp\u001b[0m\u001b[1;33m.\u001b[0m\u001b[0mdtype\u001b[0m\u001b[1;33m(\u001b[0m\u001b[1;34m'object'\u001b[0m\u001b[1;33m)\u001b[0m \u001b[1;32mand\u001b[0m \u001b[1;32mnot\u001b[0m \u001b[0mallow_nan\u001b[0m\u001b[1;33m:\u001b[0m\u001b[1;33m\u001b[0m\u001b[1;33m\u001b[0m\u001b[0m\n",
      "\u001b[1;31mValueError\u001b[0m: Input contains NaN, infinity or a value too large for dtype('float64')."
     ]
    }
   ],
   "source": [
    "X_train , y_train = np.exp(train.iloc[:,:16]) , np.exp(train.iloc[:,17]) # 20번째 컬럼이 infected y변수\n",
    "X_test  , y_test  = np.exp(test.iloc[:,:16]) , test.iloc[:,17]\n",
    "model = LinearRegression(fit_intercept=False)   # 지수함수형태에서 교차항제거 -> 음수나옴\n",
    "#model.fit(np.array(X_train).reshape(-1,1), y_train)\n",
    "model.fit(X_train,y_train)\n",
    "#y_pred = model.predict(np.array(X_test).reshape(-1,1))\n",
    "y_pred = model.predict(X_test)\n",
    "y_pred = np.log(y_pred)\n",
    "mean_squared_error(y_test, y_pred)"
   ]
  },
  {
   "cell_type": "code",
   "execution_count": 401,
   "metadata": {},
   "outputs": [
    {
     "data": {
      "application/vnd.plotly.v1+json": {
       "config": {
        "plotlyServerURL": "https://plot.ly"
       },
       "data": [
        {
         "hovertemplate": "variable=actual<br>date=%{x}<br>value=%{y}<extra></extra>",
         "legendgroup": "actual",
         "line": {
          "color": "#636efa",
          "dash": "solid"
         },
         "mode": "lines",
         "name": "actual",
         "orientation": "v",
         "showlegend": true,
         "type": "scatter",
         "x": [
          "2020-11-01T00:00:00",
          "2020-11-02T00:00:00",
          "2020-11-03T00:00:00",
          "2020-11-04T00:00:00",
          "2020-11-05T00:00:00",
          "2020-11-06T00:00:00",
          "2020-11-07T00:00:00",
          "2020-11-08T00:00:00",
          "2020-11-09T00:00:00",
          "2020-11-10T00:00:00",
          "2020-11-11T00:00:00",
          "2020-11-12T00:00:00",
          "2020-11-13T00:00:00",
          "2020-11-14T00:00:00",
          "2020-11-15T00:00:00",
          "2020-11-16T00:00:00",
          "2020-11-17T00:00:00",
          "2020-11-18T00:00:00",
          "2020-11-19T00:00:00",
          "2020-11-20T00:00:00",
          "2020-11-21T00:00:00",
          "2020-11-22T00:00:00",
          "2020-11-23T00:00:00",
          "2020-11-24T00:00:00",
          "2020-11-25T00:00:00",
          "2020-11-26T00:00:00",
          "2020-11-27T00:00:00",
          "2020-11-28T00:00:00",
          "2020-11-29T00:00:00",
          "2020-11-30T00:00:00",
          "2020-12-01T00:00:00",
          "2020-12-02T00:00:00",
          "2020-12-03T00:00:00",
          "2020-12-04T00:00:00",
          "2020-12-05T00:00:00",
          "2020-12-06T00:00:00",
          "2020-12-07T00:00:00",
          "2020-12-08T00:00:00",
          "2020-12-09T00:00:00",
          "2020-12-10T00:00:00",
          "2020-12-11T00:00:00",
          "2020-12-12T00:00:00",
          "2020-12-13T00:00:00",
          "2020-12-14T00:00:00",
          "2020-12-15T00:00:00",
          "2020-12-16T00:00:00",
          "2020-12-17T00:00:00",
          "2020-12-18T00:00:00",
          "2020-12-19T00:00:00",
          "2020-12-20T00:00:00",
          "2020-12-21T00:00:00",
          "2020-12-22T00:00:00",
          "2020-12-23T00:00:00",
          "2020-12-24T00:00:00",
          "2020-12-25T00:00:00",
          "2020-12-26T00:00:00",
          "2020-12-27T00:00:00",
          "2020-12-28T00:00:00",
          "2020-12-29T00:00:00",
          "2020-12-30T00:00:00",
          "2020-12-31T00:00:00",
          "2021-01-01T00:00:00",
          "2021-01-02T00:00:00",
          "2021-01-03T00:00:00",
          "2021-01-04T00:00:00",
          "2021-01-05T00:00:00",
          "2021-01-06T00:00:00",
          "2021-01-07T00:00:00",
          "2021-01-08T00:00:00",
          "2021-01-09T00:00:00",
          "2021-01-10T00:00:00",
          "2021-01-11T00:00:00",
          "2021-01-12T00:00:00",
          "2021-01-13T00:00:00",
          "2021-01-14T00:00:00",
          "2021-01-15T00:00:00",
          "2021-01-16T00:00:00",
          "2021-01-17T00:00:00",
          "2021-01-18T00:00:00",
          "2021-01-19T00:00:00",
          "2021-01-20T00:00:00",
          "2021-01-21T00:00:00",
          "2021-01-22T00:00:00",
          "2021-01-23T00:00:00",
          "2021-01-24T00:00:00",
          "2021-01-25T00:00:00",
          "2021-01-26T00:00:00",
          "2021-01-27T00:00:00",
          "2021-01-28T00:00:00"
         ],
         "xaxis": "x",
         "y": [
          40.285714285714285,
          38.57142857142857,
          37.285714285714285,
          38.57142857142857,
          41.57142857142857,
          43,
          43.285714285714285,
          44,
          48.857142857142854,
          53.42857142857143,
          57.857142857142854,
          62.714285714285715,
          70.71428571428571,
          77.42857142857143,
          85.42857142857143,
          93.71428571428571,
          106.14285714285714,
          111.28571428571429,
          115.85714285714286,
          121.71428571428571,
          128.85714285714286,
          143.57142857142858,
          153.85714285714286,
          157,
          162.14285714285714,
          168.57142857142858,
          172.14285714285714,
          179.42857142857142,
          186.14285714285714,
          199.28571428571428,
          206.85714285714286,
          220.57142857142858,
          233,
          241.71428571428572,
          250.85714285714286,
          249.57142857142858,
          243.28571428571428,
          262,
          282,
          278.42857142857144,
          283.42857142857144,
          300.2857142857143,
          325.2857142857143,
          345.57142857142856,
          344.2857142857143,
          324.14285714285717,
          339.2857142857143,
          348.14285714285717,
          346.85714285714283,
          329.7142857142857,
          352.42857142857144,
          368.14285714285717,
          382.85714285714283,
          380.42857142857144,
          410,
          411.7142857142857,
          420.7142857142857,
          392.57142857142856,
          344.14285714285717,
          320.7142857142857,
          323.85714285714283,
          277.2857142857143,
          260.42857142857144,
          250.42857142857142,
          226.85714285714286,
          235.85714285714286,
          235.14285714285714,
          208,
          204.14285714285714,
          188.14285714285714,
          165.28571428571428,
          155.14285714285714,
          150.57142857142858,
          144.71428571428572,
          143.14285714285714,
          133.85714285714286,
          133.57142857142858,
          131.42857142857142,
          130.28571428571428,
          126.28571428571429,
          124.42857142857143,
          109.85714285714286,
          106,
          103.71428571428571,
          101,
          101.14285714285714,
          104.57142857142857,
          100.14285714285714,
          111.57142857142857
         ],
         "yaxis": "y"
        },
        {
         "hovertemplate": "variable=pred<br>date=%{x}<br>value=%{y}<extra></extra>",
         "legendgroup": "pred",
         "line": {
          "color": "#EF553B",
          "dash": "solid"
         },
         "mode": "lines",
         "name": "pred",
         "orientation": "v",
         "showlegend": true,
         "type": "scatter",
         "x": [
          "2020-11-01T00:00:00",
          "2020-11-02T00:00:00",
          "2020-11-03T00:00:00",
          "2020-11-04T00:00:00",
          "2020-11-05T00:00:00",
          "2020-11-06T00:00:00",
          "2020-11-07T00:00:00",
          "2020-11-08T00:00:00",
          "2020-11-09T00:00:00",
          "2020-11-10T00:00:00",
          "2020-11-11T00:00:00",
          "2020-11-12T00:00:00",
          "2020-11-13T00:00:00",
          "2020-11-14T00:00:00",
          "2020-11-15T00:00:00",
          "2020-11-16T00:00:00",
          "2020-11-17T00:00:00",
          "2020-11-18T00:00:00",
          "2020-11-19T00:00:00",
          "2020-11-20T00:00:00",
          "2020-11-21T00:00:00",
          "2020-11-22T00:00:00",
          "2020-11-23T00:00:00",
          "2020-11-24T00:00:00",
          "2020-11-25T00:00:00",
          "2020-11-26T00:00:00",
          "2020-11-27T00:00:00",
          "2020-11-28T00:00:00",
          "2020-11-29T00:00:00",
          "2020-11-30T00:00:00",
          "2020-12-01T00:00:00",
          "2020-12-02T00:00:00",
          "2020-12-03T00:00:00",
          "2020-12-04T00:00:00",
          "2020-12-05T00:00:00",
          "2020-12-06T00:00:00",
          "2020-12-07T00:00:00",
          "2020-12-08T00:00:00",
          "2020-12-09T00:00:00",
          "2020-12-10T00:00:00",
          "2020-12-11T00:00:00",
          "2020-12-12T00:00:00",
          "2020-12-13T00:00:00",
          "2020-12-14T00:00:00",
          "2020-12-15T00:00:00",
          "2020-12-16T00:00:00",
          "2020-12-17T00:00:00",
          "2020-12-18T00:00:00",
          "2020-12-19T00:00:00",
          "2020-12-20T00:00:00",
          "2020-12-21T00:00:00",
          "2020-12-22T00:00:00",
          "2020-12-23T00:00:00",
          "2020-12-24T00:00:00",
          "2020-12-25T00:00:00",
          "2020-12-26T00:00:00",
          "2020-12-27T00:00:00",
          "2020-12-28T00:00:00",
          "2020-12-29T00:00:00",
          "2020-12-30T00:00:00",
          "2020-12-31T00:00:00",
          "2021-01-01T00:00:00",
          "2021-01-02T00:00:00",
          "2021-01-03T00:00:00",
          "2021-01-04T00:00:00",
          "2021-01-05T00:00:00",
          "2021-01-06T00:00:00",
          "2021-01-07T00:00:00",
          "2021-01-08T00:00:00",
          "2021-01-09T00:00:00",
          "2021-01-10T00:00:00",
          "2021-01-11T00:00:00",
          "2021-01-12T00:00:00",
          "2021-01-13T00:00:00",
          "2021-01-14T00:00:00",
          "2021-01-15T00:00:00",
          "2021-01-16T00:00:00",
          "2021-01-17T00:00:00",
          "2021-01-18T00:00:00",
          "2021-01-19T00:00:00",
          "2021-01-20T00:00:00",
          "2021-01-21T00:00:00",
          "2021-01-22T00:00:00",
          "2021-01-23T00:00:00",
          "2021-01-24T00:00:00",
          "2021-01-25T00:00:00",
          "2021-01-26T00:00:00",
          "2021-01-27T00:00:00",
          "2021-01-28T00:00:00"
         ],
         "xaxis": "x",
         "y": [
          24.571229148534986,
          25.29571894445336,
          25.902861801596213,
          26.46918833220846,
          27.04061690363703,
          27.65796384241254,
          28.31612710771866,
          29.025310781188047,
          29.734494454657437,
          30.637555679147233,
          31.739596495473766,
          33.02020874037173,
          34.55592302608601,
          36.413065883228874,
          38.55082098526969,
          41.01000465873907,
          43.75490261792275,
          46.923269964861525,
          50.29061690363703,
          53.78041282200437,
          57.4385760873105,
          61.26510669955539,
          65.55082098526968,
          70.04061690363702,
          74.52020874037171,
          79.04061690363702,
          83.78041282200437,
          88.63755567914721,
          93.69367812812682,
          98.90286180159619,
          104.64265771996354,
          110.69878016894314,
          117.19878016894312,
          124.03551486282066,
          131.1324536383309,
          138.54571894445337,
          145.8875556791472,
          152.83143323016762,
          160.28041282200434,
          168.2855148628207,
          175.98959649547376,
          183.58653527098397,
          191.54571894445337,
          200.11204547506563,
          209.10694343424933,
          217.61204547506566,
          225.2140862913922,
          233.1936781281269,
          241.28041282200442,
          249.06612710771873,
          255.71408629139216,
          262.805923026086,
          270.3467393526167,
          278.22939241384114,
          285.79571894445337,
          294.290616903637,
          302.586535270984,
          310.9640862913921,
          317.8671475158819,
          322.7702087403717,
          326.3467393526166,
          329.59163731180024,
          330.8620454750656,
          331.20388220975946,
          331.2344944546574,
          330.6477597607799,
          329.7140862913921,
          328.040616903637,
          325.52531078118807,
          322.69367812812686,
          318.68857608731054,
          312.97429037302476,
          306.17326996486156,
          299.25490261792277,
          292.8467393526166,
          285.84163731180024,
          278.1885760873104,
          270.5712291485349,
          263.48959649547373,
          255.55592302608594,
          246.91816792404512,
          237.68857608731048,
          228.02531078118798,
          217.16816792404515,
          206.16816792404518,
          194.7498005771064,
          184.34163731180033,
          175.78551486282072,
          167.90796384241258
         ],
         "yaxis": "y"
        },
        {
         "hovertemplate": "variable=4주전<br>date=%{x}<br>value=%{y}<extra></extra>",
         "legendgroup": "4주전",
         "line": {
          "color": "#00cc96",
          "dash": "solid"
         },
         "mode": "lines",
         "name": "4주전",
         "orientation": "v",
         "showlegend": true,
         "type": "scatter",
         "x": [
          "2020-11-01T00:00:00",
          "2020-11-02T00:00:00",
          "2020-11-03T00:00:00",
          "2020-11-04T00:00:00",
          "2020-11-05T00:00:00",
          "2020-11-06T00:00:00",
          "2020-11-07T00:00:00",
          "2020-11-08T00:00:00",
          "2020-11-09T00:00:00",
          "2020-11-10T00:00:00",
          "2020-11-11T00:00:00",
          "2020-11-12T00:00:00",
          "2020-11-13T00:00:00",
          "2020-11-14T00:00:00",
          "2020-11-15T00:00:00",
          "2020-11-16T00:00:00",
          "2020-11-17T00:00:00",
          "2020-11-18T00:00:00",
          "2020-11-19T00:00:00",
          "2020-11-20T00:00:00",
          "2020-11-21T00:00:00",
          "2020-11-22T00:00:00",
          "2020-11-23T00:00:00",
          "2020-11-24T00:00:00",
          "2020-11-25T00:00:00",
          "2020-11-26T00:00:00",
          "2020-11-27T00:00:00",
          "2020-11-28T00:00:00",
          "2020-11-29T00:00:00",
          "2020-11-30T00:00:00",
          "2020-12-01T00:00:00",
          "2020-12-02T00:00:00",
          "2020-12-03T00:00:00",
          "2020-12-04T00:00:00",
          "2020-12-05T00:00:00",
          "2020-12-06T00:00:00",
          "2020-12-07T00:00:00",
          "2020-12-08T00:00:00",
          "2020-12-09T00:00:00",
          "2020-12-10T00:00:00",
          "2020-12-11T00:00:00",
          "2020-12-12T00:00:00",
          "2020-12-13T00:00:00",
          "2020-12-14T00:00:00",
          "2020-12-15T00:00:00",
          "2020-12-16T00:00:00",
          "2020-12-17T00:00:00",
          "2020-12-18T00:00:00",
          "2020-12-19T00:00:00",
          "2020-12-20T00:00:00",
          "2020-12-21T00:00:00",
          "2020-12-22T00:00:00",
          "2020-12-23T00:00:00",
          "2020-12-24T00:00:00",
          "2020-12-25T00:00:00",
          "2020-12-26T00:00:00",
          "2020-12-27T00:00:00",
          "2020-12-28T00:00:00",
          "2020-12-29T00:00:00",
          "2020-12-30T00:00:00",
          "2020-12-31T00:00:00",
          "2021-01-01T00:00:00",
          "2021-01-02T00:00:00",
          "2021-01-03T00:00:00",
          "2021-01-04T00:00:00",
          "2021-01-05T00:00:00",
          "2021-01-06T00:00:00",
          "2021-01-07T00:00:00",
          "2021-01-08T00:00:00",
          "2021-01-09T00:00:00",
          "2021-01-10T00:00:00",
          "2021-01-11T00:00:00",
          "2021-01-12T00:00:00",
          "2021-01-13T00:00:00",
          "2021-01-14T00:00:00",
          "2021-01-15T00:00:00",
          "2021-01-16T00:00:00",
          "2021-01-17T00:00:00",
          "2021-01-18T00:00:00",
          "2021-01-19T00:00:00",
          "2021-01-20T00:00:00",
          "2021-01-21T00:00:00",
          "2021-01-22T00:00:00",
          "2021-01-23T00:00:00",
          "2021-01-24T00:00:00",
          "2021-01-25T00:00:00",
          "2021-01-26T00:00:00",
          "2021-01-27T00:00:00",
          "2021-01-28T00:00:00"
         ],
         "xaxis": "x",
         "y": [
          23.637755102040813,
          24.362244897959187,
          24.96938775510204,
          25.53571428571429,
          26.107142857142858,
          26.724489795918366,
          27.382653061224488,
          28.091836734693874,
          28.801020408163264,
          29.70408163265306,
          30.806122448979593,
          32.08673469387755,
          33.62244897959184,
          35.4795918367347,
          37.61734693877551,
          40.076530612244895,
          42.82142857142858,
          45.98979591836735,
          49.357142857142854,
          52.846938775510196,
          56.505102040816325,
          60.33163265306121,
          64.61734693877551,
          69.10714285714285,
          73.58673469387755,
          78.10714285714285,
          82.8469387755102,
          87.70408163265304,
          92.76020408163265,
          97.96938775510202,
          103.70918367346937,
          109.76530612244898,
          116.26530612244895,
          123.1020408163265,
          130.19897959183672,
          137.6122448979592,
          144.95408163265301,
          151.89795918367344,
          159.34693877551015,
          167.3520408163265,
          175.05612244897958,
          182.6530612244898,
          190.6122448979592,
          199.17857142857144,
          208.17346938775515,
          216.67857142857147,
          224.280612244898,
          232.2602040816327,
          240.34693877551024,
          248.13265306122454,
          254.78061224489798,
          261.87244897959187,
          269.4132653061225,
          277.295918367347,
          284.8622448979592,
          293.35714285714283,
          301.6530612244898,
          310.03061224489795,
          316.93367346938777,
          321.83673469387753,
          325.41326530612247,
          328.6581632653061,
          329.92857142857144,
          330.2704081632653,
          330.30102040816325,
          329.7142857142857,
          328.78061224489795,
          327.10714285714283,
          324.5918367346939,
          321.7602040816327,
          317.7551020408164,
          312.0408163265306,
          305.2397959183674,
          298.3214285714286,
          291.91326530612247,
          284.9081632653061,
          277.25510204081627,
          269.6377551020407,
          262.5561224489796,
          254.62244897959175,
          245.98469387755094,
          236.7551020408163,
          227.0918367346938,
          216.23469387755097,
          205.234693877551,
          193.81632653061223,
          183.40816326530614,
          174.85204081632654,
          166.9744897959184
         ],
         "yaxis": "y"
        }
       ],
       "layout": {
        "height": 600,
        "legend": {
         "title": {
          "text": "variable"
         },
         "tracegroupgap": 0
        },
        "margin": {
         "t": 60
        },
        "plot_bgcolor": "white",
        "template": {
         "data": {
          "bar": [
           {
            "error_x": {
             "color": "#2a3f5f"
            },
            "error_y": {
             "color": "#2a3f5f"
            },
            "marker": {
             "line": {
              "color": "#E5ECF6",
              "width": 0.5
             }
            },
            "type": "bar"
           }
          ],
          "barpolar": [
           {
            "marker": {
             "line": {
              "color": "#E5ECF6",
              "width": 0.5
             }
            },
            "type": "barpolar"
           }
          ],
          "carpet": [
           {
            "aaxis": {
             "endlinecolor": "#2a3f5f",
             "gridcolor": "white",
             "linecolor": "white",
             "minorgridcolor": "white",
             "startlinecolor": "#2a3f5f"
            },
            "baxis": {
             "endlinecolor": "#2a3f5f",
             "gridcolor": "white",
             "linecolor": "white",
             "minorgridcolor": "white",
             "startlinecolor": "#2a3f5f"
            },
            "type": "carpet"
           }
          ],
          "choropleth": [
           {
            "colorbar": {
             "outlinewidth": 0,
             "ticks": ""
            },
            "type": "choropleth"
           }
          ],
          "contour": [
           {
            "colorbar": {
             "outlinewidth": 0,
             "ticks": ""
            },
            "colorscale": [
             [
              0,
              "#0d0887"
             ],
             [
              0.1111111111111111,
              "#46039f"
             ],
             [
              0.2222222222222222,
              "#7201a8"
             ],
             [
              0.3333333333333333,
              "#9c179e"
             ],
             [
              0.4444444444444444,
              "#bd3786"
             ],
             [
              0.5555555555555556,
              "#d8576b"
             ],
             [
              0.6666666666666666,
              "#ed7953"
             ],
             [
              0.7777777777777778,
              "#fb9f3a"
             ],
             [
              0.8888888888888888,
              "#fdca26"
             ],
             [
              1,
              "#f0f921"
             ]
            ],
            "type": "contour"
           }
          ],
          "contourcarpet": [
           {
            "colorbar": {
             "outlinewidth": 0,
             "ticks": ""
            },
            "type": "contourcarpet"
           }
          ],
          "heatmap": [
           {
            "colorbar": {
             "outlinewidth": 0,
             "ticks": ""
            },
            "colorscale": [
             [
              0,
              "#0d0887"
             ],
             [
              0.1111111111111111,
              "#46039f"
             ],
             [
              0.2222222222222222,
              "#7201a8"
             ],
             [
              0.3333333333333333,
              "#9c179e"
             ],
             [
              0.4444444444444444,
              "#bd3786"
             ],
             [
              0.5555555555555556,
              "#d8576b"
             ],
             [
              0.6666666666666666,
              "#ed7953"
             ],
             [
              0.7777777777777778,
              "#fb9f3a"
             ],
             [
              0.8888888888888888,
              "#fdca26"
             ],
             [
              1,
              "#f0f921"
             ]
            ],
            "type": "heatmap"
           }
          ],
          "heatmapgl": [
           {
            "colorbar": {
             "outlinewidth": 0,
             "ticks": ""
            },
            "colorscale": [
             [
              0,
              "#0d0887"
             ],
             [
              0.1111111111111111,
              "#46039f"
             ],
             [
              0.2222222222222222,
              "#7201a8"
             ],
             [
              0.3333333333333333,
              "#9c179e"
             ],
             [
              0.4444444444444444,
              "#bd3786"
             ],
             [
              0.5555555555555556,
              "#d8576b"
             ],
             [
              0.6666666666666666,
              "#ed7953"
             ],
             [
              0.7777777777777778,
              "#fb9f3a"
             ],
             [
              0.8888888888888888,
              "#fdca26"
             ],
             [
              1,
              "#f0f921"
             ]
            ],
            "type": "heatmapgl"
           }
          ],
          "histogram": [
           {
            "marker": {
             "colorbar": {
              "outlinewidth": 0,
              "ticks": ""
             }
            },
            "type": "histogram"
           }
          ],
          "histogram2d": [
           {
            "colorbar": {
             "outlinewidth": 0,
             "ticks": ""
            },
            "colorscale": [
             [
              0,
              "#0d0887"
             ],
             [
              0.1111111111111111,
              "#46039f"
             ],
             [
              0.2222222222222222,
              "#7201a8"
             ],
             [
              0.3333333333333333,
              "#9c179e"
             ],
             [
              0.4444444444444444,
              "#bd3786"
             ],
             [
              0.5555555555555556,
              "#d8576b"
             ],
             [
              0.6666666666666666,
              "#ed7953"
             ],
             [
              0.7777777777777778,
              "#fb9f3a"
             ],
             [
              0.8888888888888888,
              "#fdca26"
             ],
             [
              1,
              "#f0f921"
             ]
            ],
            "type": "histogram2d"
           }
          ],
          "histogram2dcontour": [
           {
            "colorbar": {
             "outlinewidth": 0,
             "ticks": ""
            },
            "colorscale": [
             [
              0,
              "#0d0887"
             ],
             [
              0.1111111111111111,
              "#46039f"
             ],
             [
              0.2222222222222222,
              "#7201a8"
             ],
             [
              0.3333333333333333,
              "#9c179e"
             ],
             [
              0.4444444444444444,
              "#bd3786"
             ],
             [
              0.5555555555555556,
              "#d8576b"
             ],
             [
              0.6666666666666666,
              "#ed7953"
             ],
             [
              0.7777777777777778,
              "#fb9f3a"
             ],
             [
              0.8888888888888888,
              "#fdca26"
             ],
             [
              1,
              "#f0f921"
             ]
            ],
            "type": "histogram2dcontour"
           }
          ],
          "mesh3d": [
           {
            "colorbar": {
             "outlinewidth": 0,
             "ticks": ""
            },
            "type": "mesh3d"
           }
          ],
          "parcoords": [
           {
            "line": {
             "colorbar": {
              "outlinewidth": 0,
              "ticks": ""
             }
            },
            "type": "parcoords"
           }
          ],
          "pie": [
           {
            "automargin": true,
            "type": "pie"
           }
          ],
          "scatter": [
           {
            "marker": {
             "colorbar": {
              "outlinewidth": 0,
              "ticks": ""
             }
            },
            "type": "scatter"
           }
          ],
          "scatter3d": [
           {
            "line": {
             "colorbar": {
              "outlinewidth": 0,
              "ticks": ""
             }
            },
            "marker": {
             "colorbar": {
              "outlinewidth": 0,
              "ticks": ""
             }
            },
            "type": "scatter3d"
           }
          ],
          "scattercarpet": [
           {
            "marker": {
             "colorbar": {
              "outlinewidth": 0,
              "ticks": ""
             }
            },
            "type": "scattercarpet"
           }
          ],
          "scattergeo": [
           {
            "marker": {
             "colorbar": {
              "outlinewidth": 0,
              "ticks": ""
             }
            },
            "type": "scattergeo"
           }
          ],
          "scattergl": [
           {
            "marker": {
             "colorbar": {
              "outlinewidth": 0,
              "ticks": ""
             }
            },
            "type": "scattergl"
           }
          ],
          "scattermapbox": [
           {
            "marker": {
             "colorbar": {
              "outlinewidth": 0,
              "ticks": ""
             }
            },
            "type": "scattermapbox"
           }
          ],
          "scatterpolar": [
           {
            "marker": {
             "colorbar": {
              "outlinewidth": 0,
              "ticks": ""
             }
            },
            "type": "scatterpolar"
           }
          ],
          "scatterpolargl": [
           {
            "marker": {
             "colorbar": {
              "outlinewidth": 0,
              "ticks": ""
             }
            },
            "type": "scatterpolargl"
           }
          ],
          "scatterternary": [
           {
            "marker": {
             "colorbar": {
              "outlinewidth": 0,
              "ticks": ""
             }
            },
            "type": "scatterternary"
           }
          ],
          "surface": [
           {
            "colorbar": {
             "outlinewidth": 0,
             "ticks": ""
            },
            "colorscale": [
             [
              0,
              "#0d0887"
             ],
             [
              0.1111111111111111,
              "#46039f"
             ],
             [
              0.2222222222222222,
              "#7201a8"
             ],
             [
              0.3333333333333333,
              "#9c179e"
             ],
             [
              0.4444444444444444,
              "#bd3786"
             ],
             [
              0.5555555555555556,
              "#d8576b"
             ],
             [
              0.6666666666666666,
              "#ed7953"
             ],
             [
              0.7777777777777778,
              "#fb9f3a"
             ],
             [
              0.8888888888888888,
              "#fdca26"
             ],
             [
              1,
              "#f0f921"
             ]
            ],
            "type": "surface"
           }
          ],
          "table": [
           {
            "cells": {
             "fill": {
              "color": "#EBF0F8"
             },
             "line": {
              "color": "white"
             }
            },
            "header": {
             "fill": {
              "color": "#C8D4E3"
             },
             "line": {
              "color": "white"
             }
            },
            "type": "table"
           }
          ]
         },
         "layout": {
          "annotationdefaults": {
           "arrowcolor": "#2a3f5f",
           "arrowhead": 0,
           "arrowwidth": 1
          },
          "coloraxis": {
           "colorbar": {
            "outlinewidth": 0,
            "ticks": ""
           }
          },
          "colorscale": {
           "diverging": [
            [
             0,
             "#8e0152"
            ],
            [
             0.1,
             "#c51b7d"
            ],
            [
             0.2,
             "#de77ae"
            ],
            [
             0.3,
             "#f1b6da"
            ],
            [
             0.4,
             "#fde0ef"
            ],
            [
             0.5,
             "#f7f7f7"
            ],
            [
             0.6,
             "#e6f5d0"
            ],
            [
             0.7,
             "#b8e186"
            ],
            [
             0.8,
             "#7fbc41"
            ],
            [
             0.9,
             "#4d9221"
            ],
            [
             1,
             "#276419"
            ]
           ],
           "sequential": [
            [
             0,
             "#0d0887"
            ],
            [
             0.1111111111111111,
             "#46039f"
            ],
            [
             0.2222222222222222,
             "#7201a8"
            ],
            [
             0.3333333333333333,
             "#9c179e"
            ],
            [
             0.4444444444444444,
             "#bd3786"
            ],
            [
             0.5555555555555556,
             "#d8576b"
            ],
            [
             0.6666666666666666,
             "#ed7953"
            ],
            [
             0.7777777777777778,
             "#fb9f3a"
            ],
            [
             0.8888888888888888,
             "#fdca26"
            ],
            [
             1,
             "#f0f921"
            ]
           ],
           "sequentialminus": [
            [
             0,
             "#0d0887"
            ],
            [
             0.1111111111111111,
             "#46039f"
            ],
            [
             0.2222222222222222,
             "#7201a8"
            ],
            [
             0.3333333333333333,
             "#9c179e"
            ],
            [
             0.4444444444444444,
             "#bd3786"
            ],
            [
             0.5555555555555556,
             "#d8576b"
            ],
            [
             0.6666666666666666,
             "#ed7953"
            ],
            [
             0.7777777777777778,
             "#fb9f3a"
            ],
            [
             0.8888888888888888,
             "#fdca26"
            ],
            [
             1,
             "#f0f921"
            ]
           ]
          },
          "colorway": [
           "#636efa",
           "#EF553B",
           "#00cc96",
           "#ab63fa",
           "#FFA15A",
           "#19d3f3",
           "#FF6692",
           "#B6E880",
           "#FF97FF",
           "#FECB52"
          ],
          "font": {
           "color": "#2a3f5f"
          },
          "geo": {
           "bgcolor": "white",
           "lakecolor": "white",
           "landcolor": "#E5ECF6",
           "showlakes": true,
           "showland": true,
           "subunitcolor": "white"
          },
          "hoverlabel": {
           "align": "left"
          },
          "hovermode": "closest",
          "mapbox": {
           "style": "light"
          },
          "paper_bgcolor": "white",
          "plot_bgcolor": "#E5ECF6",
          "polar": {
           "angularaxis": {
            "gridcolor": "white",
            "linecolor": "white",
            "ticks": ""
           },
           "bgcolor": "#E5ECF6",
           "radialaxis": {
            "gridcolor": "white",
            "linecolor": "white",
            "ticks": ""
           }
          },
          "scene": {
           "xaxis": {
            "backgroundcolor": "#E5ECF6",
            "gridcolor": "white",
            "gridwidth": 2,
            "linecolor": "white",
            "showbackground": true,
            "ticks": "",
            "zerolinecolor": "white"
           },
           "yaxis": {
            "backgroundcolor": "#E5ECF6",
            "gridcolor": "white",
            "gridwidth": 2,
            "linecolor": "white",
            "showbackground": true,
            "ticks": "",
            "zerolinecolor": "white"
           },
           "zaxis": {
            "backgroundcolor": "#E5ECF6",
            "gridcolor": "white",
            "gridwidth": 2,
            "linecolor": "white",
            "showbackground": true,
            "ticks": "",
            "zerolinecolor": "white"
           }
          },
          "shapedefaults": {
           "line": {
            "color": "#2a3f5f"
           }
          },
          "ternary": {
           "aaxis": {
            "gridcolor": "white",
            "linecolor": "white",
            "ticks": ""
           },
           "baxis": {
            "gridcolor": "white",
            "linecolor": "white",
            "ticks": ""
           },
           "bgcolor": "#E5ECF6",
           "caxis": {
            "gridcolor": "white",
            "linecolor": "white",
            "ticks": ""
           }
          },
          "title": {
           "x": 0.05
          },
          "xaxis": {
           "automargin": true,
           "gridcolor": "white",
           "linecolor": "white",
           "ticks": "",
           "title": {
            "standoff": 15
           },
           "zerolinecolor": "white",
           "zerolinewidth": 2
          },
          "yaxis": {
           "automargin": true,
           "gridcolor": "white",
           "linecolor": "white",
           "ticks": "",
           "title": {
            "standoff": 15
           },
           "zerolinecolor": "white",
           "zerolinewidth": 2
          }
         }
        },
        "title": {
         "text": "Density"
        },
        "width": 900,
        "xaxis": {
         "anchor": "y",
         "domain": [
          0,
          1
         ],
         "showgrid": false,
         "title": {
          "text": "date"
         }
        },
        "yaxis": {
         "anchor": "x",
         "domain": [
          0,
          1
         ],
         "showgrid": false,
         "title": {
          "text": "value"
         }
        }
       }
      },
      "text/html": [
       "<div>\n",
       "        \n",
       "        \n",
       "            <div id=\"a6496f39-c8f5-4e60-9b5d-a85b0fc7e004\" class=\"plotly-graph-div\" style=\"height:600px; width:900px;\"></div>\n",
       "            <script type=\"text/javascript\">\n",
       "                require([\"plotly\"], function(Plotly) {\n",
       "                    window.PLOTLYENV=window.PLOTLYENV || {};\n",
       "                    \n",
       "                if (document.getElementById(\"a6496f39-c8f5-4e60-9b5d-a85b0fc7e004\")) {\n",
       "                    Plotly.newPlot(\n",
       "                        'a6496f39-c8f5-4e60-9b5d-a85b0fc7e004',\n",
       "                        [{\"hovertemplate\": \"variable=actual<br>date=%{x}<br>value=%{y}<extra></extra>\", \"legendgroup\": \"actual\", \"line\": {\"color\": \"#636efa\", \"dash\": \"solid\"}, \"mode\": \"lines\", \"name\": \"actual\", \"orientation\": \"v\", \"showlegend\": true, \"type\": \"scatter\", \"x\": [\"2020-11-01T00:00:00\", \"2020-11-02T00:00:00\", \"2020-11-03T00:00:00\", \"2020-11-04T00:00:00\", \"2020-11-05T00:00:00\", \"2020-11-06T00:00:00\", \"2020-11-07T00:00:00\", \"2020-11-08T00:00:00\", \"2020-11-09T00:00:00\", \"2020-11-10T00:00:00\", \"2020-11-11T00:00:00\", \"2020-11-12T00:00:00\", \"2020-11-13T00:00:00\", \"2020-11-14T00:00:00\", \"2020-11-15T00:00:00\", \"2020-11-16T00:00:00\", \"2020-11-17T00:00:00\", \"2020-11-18T00:00:00\", \"2020-11-19T00:00:00\", \"2020-11-20T00:00:00\", \"2020-11-21T00:00:00\", \"2020-11-22T00:00:00\", \"2020-11-23T00:00:00\", \"2020-11-24T00:00:00\", \"2020-11-25T00:00:00\", \"2020-11-26T00:00:00\", \"2020-11-27T00:00:00\", \"2020-11-28T00:00:00\", \"2020-11-29T00:00:00\", \"2020-11-30T00:00:00\", \"2020-12-01T00:00:00\", \"2020-12-02T00:00:00\", \"2020-12-03T00:00:00\", \"2020-12-04T00:00:00\", \"2020-12-05T00:00:00\", \"2020-12-06T00:00:00\", \"2020-12-07T00:00:00\", \"2020-12-08T00:00:00\", \"2020-12-09T00:00:00\", \"2020-12-10T00:00:00\", \"2020-12-11T00:00:00\", \"2020-12-12T00:00:00\", \"2020-12-13T00:00:00\", \"2020-12-14T00:00:00\", \"2020-12-15T00:00:00\", \"2020-12-16T00:00:00\", \"2020-12-17T00:00:00\", \"2020-12-18T00:00:00\", \"2020-12-19T00:00:00\", \"2020-12-20T00:00:00\", \"2020-12-21T00:00:00\", \"2020-12-22T00:00:00\", \"2020-12-23T00:00:00\", \"2020-12-24T00:00:00\", \"2020-12-25T00:00:00\", \"2020-12-26T00:00:00\", \"2020-12-27T00:00:00\", \"2020-12-28T00:00:00\", \"2020-12-29T00:00:00\", \"2020-12-30T00:00:00\", \"2020-12-31T00:00:00\", \"2021-01-01T00:00:00\", \"2021-01-02T00:00:00\", \"2021-01-03T00:00:00\", \"2021-01-04T00:00:00\", \"2021-01-05T00:00:00\", \"2021-01-06T00:00:00\", \"2021-01-07T00:00:00\", \"2021-01-08T00:00:00\", \"2021-01-09T00:00:00\", \"2021-01-10T00:00:00\", \"2021-01-11T00:00:00\", \"2021-01-12T00:00:00\", \"2021-01-13T00:00:00\", \"2021-01-14T00:00:00\", \"2021-01-15T00:00:00\", \"2021-01-16T00:00:00\", \"2021-01-17T00:00:00\", \"2021-01-18T00:00:00\", \"2021-01-19T00:00:00\", \"2021-01-20T00:00:00\", \"2021-01-21T00:00:00\", \"2021-01-22T00:00:00\", \"2021-01-23T00:00:00\", \"2021-01-24T00:00:00\", \"2021-01-25T00:00:00\", \"2021-01-26T00:00:00\", \"2021-01-27T00:00:00\", \"2021-01-28T00:00:00\"], \"xaxis\": \"x\", \"y\": [40.285714285714285, 38.57142857142857, 37.285714285714285, 38.57142857142857, 41.57142857142857, 43.0, 43.285714285714285, 44.0, 48.857142857142854, 53.42857142857143, 57.857142857142854, 62.714285714285715, 70.71428571428571, 77.42857142857143, 85.42857142857143, 93.71428571428571, 106.14285714285714, 111.28571428571429, 115.85714285714286, 121.71428571428571, 128.85714285714286, 143.57142857142858, 153.85714285714286, 157.0, 162.14285714285714, 168.57142857142858, 172.14285714285714, 179.42857142857142, 186.14285714285714, 199.28571428571428, 206.85714285714286, 220.57142857142858, 233.0, 241.71428571428572, 250.85714285714286, 249.57142857142858, 243.28571428571428, 262.0, 282.0, 278.42857142857144, 283.42857142857144, 300.2857142857143, 325.2857142857143, 345.57142857142856, 344.2857142857143, 324.14285714285717, 339.2857142857143, 348.14285714285717, 346.85714285714283, 329.7142857142857, 352.42857142857144, 368.14285714285717, 382.85714285714283, 380.42857142857144, 410.0, 411.7142857142857, 420.7142857142857, 392.57142857142856, 344.14285714285717, 320.7142857142857, 323.85714285714283, 277.2857142857143, 260.42857142857144, 250.42857142857142, 226.85714285714286, 235.85714285714286, 235.14285714285714, 208.0, 204.14285714285714, 188.14285714285714, 165.28571428571428, 155.14285714285714, 150.57142857142858, 144.71428571428572, 143.14285714285714, 133.85714285714286, 133.57142857142858, 131.42857142857142, 130.28571428571428, 126.28571428571429, 124.42857142857143, 109.85714285714286, 106.0, 103.71428571428571, 101.0, 101.14285714285714, 104.57142857142857, 100.14285714285714, 111.57142857142857], \"yaxis\": \"y\"}, {\"hovertemplate\": \"variable=pred<br>date=%{x}<br>value=%{y}<extra></extra>\", \"legendgroup\": \"pred\", \"line\": {\"color\": \"#EF553B\", \"dash\": \"solid\"}, \"mode\": \"lines\", \"name\": \"pred\", \"orientation\": \"v\", \"showlegend\": true, \"type\": \"scatter\", \"x\": [\"2020-11-01T00:00:00\", \"2020-11-02T00:00:00\", \"2020-11-03T00:00:00\", \"2020-11-04T00:00:00\", \"2020-11-05T00:00:00\", \"2020-11-06T00:00:00\", \"2020-11-07T00:00:00\", \"2020-11-08T00:00:00\", \"2020-11-09T00:00:00\", \"2020-11-10T00:00:00\", \"2020-11-11T00:00:00\", \"2020-11-12T00:00:00\", \"2020-11-13T00:00:00\", \"2020-11-14T00:00:00\", \"2020-11-15T00:00:00\", \"2020-11-16T00:00:00\", \"2020-11-17T00:00:00\", \"2020-11-18T00:00:00\", \"2020-11-19T00:00:00\", \"2020-11-20T00:00:00\", \"2020-11-21T00:00:00\", \"2020-11-22T00:00:00\", \"2020-11-23T00:00:00\", \"2020-11-24T00:00:00\", \"2020-11-25T00:00:00\", \"2020-11-26T00:00:00\", \"2020-11-27T00:00:00\", \"2020-11-28T00:00:00\", \"2020-11-29T00:00:00\", \"2020-11-30T00:00:00\", \"2020-12-01T00:00:00\", \"2020-12-02T00:00:00\", \"2020-12-03T00:00:00\", \"2020-12-04T00:00:00\", \"2020-12-05T00:00:00\", \"2020-12-06T00:00:00\", \"2020-12-07T00:00:00\", \"2020-12-08T00:00:00\", \"2020-12-09T00:00:00\", \"2020-12-10T00:00:00\", \"2020-12-11T00:00:00\", \"2020-12-12T00:00:00\", \"2020-12-13T00:00:00\", \"2020-12-14T00:00:00\", \"2020-12-15T00:00:00\", \"2020-12-16T00:00:00\", \"2020-12-17T00:00:00\", \"2020-12-18T00:00:00\", \"2020-12-19T00:00:00\", \"2020-12-20T00:00:00\", \"2020-12-21T00:00:00\", \"2020-12-22T00:00:00\", \"2020-12-23T00:00:00\", \"2020-12-24T00:00:00\", \"2020-12-25T00:00:00\", \"2020-12-26T00:00:00\", \"2020-12-27T00:00:00\", \"2020-12-28T00:00:00\", \"2020-12-29T00:00:00\", \"2020-12-30T00:00:00\", \"2020-12-31T00:00:00\", \"2021-01-01T00:00:00\", \"2021-01-02T00:00:00\", \"2021-01-03T00:00:00\", \"2021-01-04T00:00:00\", \"2021-01-05T00:00:00\", \"2021-01-06T00:00:00\", \"2021-01-07T00:00:00\", \"2021-01-08T00:00:00\", \"2021-01-09T00:00:00\", \"2021-01-10T00:00:00\", \"2021-01-11T00:00:00\", \"2021-01-12T00:00:00\", \"2021-01-13T00:00:00\", \"2021-01-14T00:00:00\", \"2021-01-15T00:00:00\", \"2021-01-16T00:00:00\", \"2021-01-17T00:00:00\", \"2021-01-18T00:00:00\", \"2021-01-19T00:00:00\", \"2021-01-20T00:00:00\", \"2021-01-21T00:00:00\", \"2021-01-22T00:00:00\", \"2021-01-23T00:00:00\", \"2021-01-24T00:00:00\", \"2021-01-25T00:00:00\", \"2021-01-26T00:00:00\", \"2021-01-27T00:00:00\", \"2021-01-28T00:00:00\"], \"xaxis\": \"x\", \"y\": [24.571229148534986, 25.29571894445336, 25.902861801596213, 26.46918833220846, 27.04061690363703, 27.65796384241254, 28.31612710771866, 29.025310781188047, 29.734494454657437, 30.637555679147233, 31.739596495473766, 33.02020874037173, 34.55592302608601, 36.413065883228874, 38.55082098526969, 41.01000465873907, 43.75490261792275, 46.923269964861525, 50.29061690363703, 53.78041282200437, 57.4385760873105, 61.26510669955539, 65.55082098526968, 70.04061690363702, 74.52020874037171, 79.04061690363702, 83.78041282200437, 88.63755567914721, 93.69367812812682, 98.90286180159619, 104.64265771996354, 110.69878016894314, 117.19878016894312, 124.03551486282066, 131.1324536383309, 138.54571894445337, 145.8875556791472, 152.83143323016762, 160.28041282200434, 168.2855148628207, 175.98959649547376, 183.58653527098397, 191.54571894445337, 200.11204547506563, 209.10694343424933, 217.61204547506566, 225.2140862913922, 233.1936781281269, 241.28041282200442, 249.06612710771873, 255.71408629139216, 262.805923026086, 270.3467393526167, 278.22939241384114, 285.79571894445337, 294.290616903637, 302.586535270984, 310.9640862913921, 317.8671475158819, 322.7702087403717, 326.3467393526166, 329.59163731180024, 330.8620454750656, 331.20388220975946, 331.2344944546574, 330.6477597607799, 329.7140862913921, 328.040616903637, 325.52531078118807, 322.69367812812686, 318.68857608731054, 312.97429037302476, 306.17326996486156, 299.25490261792277, 292.8467393526166, 285.84163731180024, 278.1885760873104, 270.5712291485349, 263.48959649547373, 255.55592302608594, 246.91816792404512, 237.68857608731048, 228.02531078118798, 217.16816792404515, 206.16816792404518, 194.7498005771064, 184.34163731180033, 175.78551486282072, 167.90796384241258], \"yaxis\": \"y\"}, {\"hovertemplate\": \"variable=4\\uc8fc\\uc804<br>date=%{x}<br>value=%{y}<extra></extra>\", \"legendgroup\": \"4\\uc8fc\\uc804\", \"line\": {\"color\": \"#00cc96\", \"dash\": \"solid\"}, \"mode\": \"lines\", \"name\": \"4\\uc8fc\\uc804\", \"orientation\": \"v\", \"showlegend\": true, \"type\": \"scatter\", \"x\": [\"2020-11-01T00:00:00\", \"2020-11-02T00:00:00\", \"2020-11-03T00:00:00\", \"2020-11-04T00:00:00\", \"2020-11-05T00:00:00\", \"2020-11-06T00:00:00\", \"2020-11-07T00:00:00\", \"2020-11-08T00:00:00\", \"2020-11-09T00:00:00\", \"2020-11-10T00:00:00\", \"2020-11-11T00:00:00\", \"2020-11-12T00:00:00\", \"2020-11-13T00:00:00\", \"2020-11-14T00:00:00\", \"2020-11-15T00:00:00\", \"2020-11-16T00:00:00\", \"2020-11-17T00:00:00\", \"2020-11-18T00:00:00\", \"2020-11-19T00:00:00\", \"2020-11-20T00:00:00\", \"2020-11-21T00:00:00\", \"2020-11-22T00:00:00\", \"2020-11-23T00:00:00\", \"2020-11-24T00:00:00\", \"2020-11-25T00:00:00\", \"2020-11-26T00:00:00\", \"2020-11-27T00:00:00\", \"2020-11-28T00:00:00\", \"2020-11-29T00:00:00\", \"2020-11-30T00:00:00\", \"2020-12-01T00:00:00\", \"2020-12-02T00:00:00\", \"2020-12-03T00:00:00\", \"2020-12-04T00:00:00\", \"2020-12-05T00:00:00\", \"2020-12-06T00:00:00\", \"2020-12-07T00:00:00\", \"2020-12-08T00:00:00\", \"2020-12-09T00:00:00\", \"2020-12-10T00:00:00\", \"2020-12-11T00:00:00\", \"2020-12-12T00:00:00\", \"2020-12-13T00:00:00\", \"2020-12-14T00:00:00\", \"2020-12-15T00:00:00\", \"2020-12-16T00:00:00\", \"2020-12-17T00:00:00\", \"2020-12-18T00:00:00\", \"2020-12-19T00:00:00\", \"2020-12-20T00:00:00\", \"2020-12-21T00:00:00\", \"2020-12-22T00:00:00\", \"2020-12-23T00:00:00\", \"2020-12-24T00:00:00\", \"2020-12-25T00:00:00\", \"2020-12-26T00:00:00\", \"2020-12-27T00:00:00\", \"2020-12-28T00:00:00\", \"2020-12-29T00:00:00\", \"2020-12-30T00:00:00\", \"2020-12-31T00:00:00\", \"2021-01-01T00:00:00\", \"2021-01-02T00:00:00\", \"2021-01-03T00:00:00\", \"2021-01-04T00:00:00\", \"2021-01-05T00:00:00\", \"2021-01-06T00:00:00\", \"2021-01-07T00:00:00\", \"2021-01-08T00:00:00\", \"2021-01-09T00:00:00\", \"2021-01-10T00:00:00\", \"2021-01-11T00:00:00\", \"2021-01-12T00:00:00\", \"2021-01-13T00:00:00\", \"2021-01-14T00:00:00\", \"2021-01-15T00:00:00\", \"2021-01-16T00:00:00\", \"2021-01-17T00:00:00\", \"2021-01-18T00:00:00\", \"2021-01-19T00:00:00\", \"2021-01-20T00:00:00\", \"2021-01-21T00:00:00\", \"2021-01-22T00:00:00\", \"2021-01-23T00:00:00\", \"2021-01-24T00:00:00\", \"2021-01-25T00:00:00\", \"2021-01-26T00:00:00\", \"2021-01-27T00:00:00\", \"2021-01-28T00:00:00\"], \"xaxis\": \"x\", \"y\": [23.637755102040813, 24.362244897959187, 24.96938775510204, 25.53571428571429, 26.107142857142858, 26.724489795918366, 27.382653061224488, 28.091836734693874, 28.801020408163264, 29.70408163265306, 30.806122448979593, 32.08673469387755, 33.62244897959184, 35.4795918367347, 37.61734693877551, 40.076530612244895, 42.82142857142858, 45.98979591836735, 49.357142857142854, 52.846938775510196, 56.505102040816325, 60.33163265306121, 64.61734693877551, 69.10714285714285, 73.58673469387755, 78.10714285714285, 82.8469387755102, 87.70408163265304, 92.76020408163265, 97.96938775510202, 103.70918367346937, 109.76530612244898, 116.26530612244895, 123.1020408163265, 130.19897959183672, 137.6122448979592, 144.95408163265301, 151.89795918367344, 159.34693877551015, 167.3520408163265, 175.05612244897958, 182.6530612244898, 190.6122448979592, 199.17857142857144, 208.17346938775515, 216.67857142857147, 224.280612244898, 232.2602040816327, 240.34693877551024, 248.13265306122454, 254.78061224489798, 261.87244897959187, 269.4132653061225, 277.295918367347, 284.8622448979592, 293.35714285714283, 301.6530612244898, 310.03061224489795, 316.93367346938777, 321.83673469387753, 325.41326530612247, 328.6581632653061, 329.92857142857144, 330.2704081632653, 330.30102040816325, 329.7142857142857, 328.78061224489795, 327.10714285714283, 324.5918367346939, 321.7602040816327, 317.7551020408164, 312.0408163265306, 305.2397959183674, 298.3214285714286, 291.91326530612247, 284.9081632653061, 277.25510204081627, 269.6377551020407, 262.5561224489796, 254.62244897959175, 245.98469387755094, 236.7551020408163, 227.0918367346938, 216.23469387755097, 205.234693877551, 193.81632653061223, 183.40816326530614, 174.85204081632654, 166.9744897959184], \"yaxis\": \"y\"}],\n",
       "                        {\"height\": 600, \"legend\": {\"title\": {\"text\": \"variable\"}, \"tracegroupgap\": 0}, \"margin\": {\"t\": 60}, \"plot_bgcolor\": \"white\", \"template\": {\"data\": {\"bar\": [{\"error_x\": {\"color\": \"#2a3f5f\"}, \"error_y\": {\"color\": \"#2a3f5f\"}, \"marker\": {\"line\": {\"color\": \"#E5ECF6\", \"width\": 0.5}}, \"type\": \"bar\"}], \"barpolar\": [{\"marker\": {\"line\": {\"color\": \"#E5ECF6\", \"width\": 0.5}}, \"type\": \"barpolar\"}], \"carpet\": [{\"aaxis\": {\"endlinecolor\": \"#2a3f5f\", \"gridcolor\": \"white\", \"linecolor\": \"white\", \"minorgridcolor\": \"white\", \"startlinecolor\": \"#2a3f5f\"}, \"baxis\": {\"endlinecolor\": \"#2a3f5f\", \"gridcolor\": \"white\", \"linecolor\": \"white\", \"minorgridcolor\": \"white\", \"startlinecolor\": \"#2a3f5f\"}, \"type\": \"carpet\"}], \"choropleth\": [{\"colorbar\": {\"outlinewidth\": 0, \"ticks\": \"\"}, \"type\": \"choropleth\"}], \"contour\": [{\"colorbar\": {\"outlinewidth\": 0, \"ticks\": \"\"}, \"colorscale\": [[0.0, \"#0d0887\"], [0.1111111111111111, \"#46039f\"], [0.2222222222222222, \"#7201a8\"], [0.3333333333333333, \"#9c179e\"], [0.4444444444444444, \"#bd3786\"], [0.5555555555555556, \"#d8576b\"], [0.6666666666666666, \"#ed7953\"], [0.7777777777777778, \"#fb9f3a\"], [0.8888888888888888, \"#fdca26\"], [1.0, \"#f0f921\"]], \"type\": \"contour\"}], \"contourcarpet\": [{\"colorbar\": {\"outlinewidth\": 0, \"ticks\": \"\"}, \"type\": \"contourcarpet\"}], \"heatmap\": [{\"colorbar\": {\"outlinewidth\": 0, \"ticks\": \"\"}, \"colorscale\": [[0.0, \"#0d0887\"], [0.1111111111111111, \"#46039f\"], [0.2222222222222222, \"#7201a8\"], [0.3333333333333333, \"#9c179e\"], [0.4444444444444444, \"#bd3786\"], [0.5555555555555556, \"#d8576b\"], [0.6666666666666666, \"#ed7953\"], [0.7777777777777778, \"#fb9f3a\"], [0.8888888888888888, \"#fdca26\"], [1.0, \"#f0f921\"]], \"type\": \"heatmap\"}], \"heatmapgl\": [{\"colorbar\": {\"outlinewidth\": 0, \"ticks\": \"\"}, \"colorscale\": [[0.0, \"#0d0887\"], [0.1111111111111111, \"#46039f\"], [0.2222222222222222, \"#7201a8\"], [0.3333333333333333, \"#9c179e\"], [0.4444444444444444, \"#bd3786\"], [0.5555555555555556, \"#d8576b\"], [0.6666666666666666, \"#ed7953\"], [0.7777777777777778, \"#fb9f3a\"], [0.8888888888888888, \"#fdca26\"], [1.0, \"#f0f921\"]], \"type\": \"heatmapgl\"}], \"histogram\": [{\"marker\": {\"colorbar\": {\"outlinewidth\": 0, \"ticks\": \"\"}}, \"type\": \"histogram\"}], \"histogram2d\": [{\"colorbar\": {\"outlinewidth\": 0, \"ticks\": \"\"}, \"colorscale\": [[0.0, \"#0d0887\"], [0.1111111111111111, \"#46039f\"], [0.2222222222222222, \"#7201a8\"], [0.3333333333333333, \"#9c179e\"], [0.4444444444444444, \"#bd3786\"], [0.5555555555555556, \"#d8576b\"], [0.6666666666666666, \"#ed7953\"], [0.7777777777777778, \"#fb9f3a\"], [0.8888888888888888, \"#fdca26\"], [1.0, \"#f0f921\"]], \"type\": \"histogram2d\"}], \"histogram2dcontour\": [{\"colorbar\": {\"outlinewidth\": 0, \"ticks\": \"\"}, \"colorscale\": [[0.0, \"#0d0887\"], [0.1111111111111111, \"#46039f\"], [0.2222222222222222, \"#7201a8\"], [0.3333333333333333, \"#9c179e\"], [0.4444444444444444, \"#bd3786\"], [0.5555555555555556, \"#d8576b\"], [0.6666666666666666, \"#ed7953\"], [0.7777777777777778, \"#fb9f3a\"], [0.8888888888888888, \"#fdca26\"], [1.0, \"#f0f921\"]], \"type\": \"histogram2dcontour\"}], \"mesh3d\": [{\"colorbar\": {\"outlinewidth\": 0, \"ticks\": \"\"}, \"type\": \"mesh3d\"}], \"parcoords\": [{\"line\": {\"colorbar\": {\"outlinewidth\": 0, \"ticks\": \"\"}}, \"type\": \"parcoords\"}], \"pie\": [{\"automargin\": true, \"type\": \"pie\"}], \"scatter\": [{\"marker\": {\"colorbar\": {\"outlinewidth\": 0, \"ticks\": \"\"}}, \"type\": \"scatter\"}], \"scatter3d\": [{\"line\": {\"colorbar\": {\"outlinewidth\": 0, \"ticks\": \"\"}}, \"marker\": {\"colorbar\": {\"outlinewidth\": 0, \"ticks\": \"\"}}, \"type\": \"scatter3d\"}], \"scattercarpet\": [{\"marker\": {\"colorbar\": {\"outlinewidth\": 0, \"ticks\": \"\"}}, \"type\": \"scattercarpet\"}], \"scattergeo\": [{\"marker\": {\"colorbar\": {\"outlinewidth\": 0, \"ticks\": \"\"}}, \"type\": \"scattergeo\"}], \"scattergl\": [{\"marker\": {\"colorbar\": {\"outlinewidth\": 0, \"ticks\": \"\"}}, \"type\": \"scattergl\"}], \"scattermapbox\": [{\"marker\": {\"colorbar\": {\"outlinewidth\": 0, \"ticks\": \"\"}}, \"type\": \"scattermapbox\"}], \"scatterpolar\": [{\"marker\": {\"colorbar\": {\"outlinewidth\": 0, \"ticks\": \"\"}}, \"type\": \"scatterpolar\"}], \"scatterpolargl\": [{\"marker\": {\"colorbar\": {\"outlinewidth\": 0, \"ticks\": \"\"}}, \"type\": \"scatterpolargl\"}], \"scatterternary\": [{\"marker\": {\"colorbar\": {\"outlinewidth\": 0, \"ticks\": \"\"}}, \"type\": \"scatterternary\"}], \"surface\": [{\"colorbar\": {\"outlinewidth\": 0, \"ticks\": \"\"}, \"colorscale\": [[0.0, \"#0d0887\"], [0.1111111111111111, \"#46039f\"], [0.2222222222222222, \"#7201a8\"], [0.3333333333333333, \"#9c179e\"], [0.4444444444444444, \"#bd3786\"], [0.5555555555555556, \"#d8576b\"], [0.6666666666666666, \"#ed7953\"], [0.7777777777777778, \"#fb9f3a\"], [0.8888888888888888, \"#fdca26\"], [1.0, \"#f0f921\"]], \"type\": \"surface\"}], \"table\": [{\"cells\": {\"fill\": {\"color\": \"#EBF0F8\"}, \"line\": {\"color\": \"white\"}}, \"header\": {\"fill\": {\"color\": \"#C8D4E3\"}, \"line\": {\"color\": \"white\"}}, \"type\": \"table\"}]}, \"layout\": {\"annotationdefaults\": {\"arrowcolor\": \"#2a3f5f\", \"arrowhead\": 0, \"arrowwidth\": 1}, \"coloraxis\": {\"colorbar\": {\"outlinewidth\": 0, \"ticks\": \"\"}}, \"colorscale\": {\"diverging\": [[0, \"#8e0152\"], [0.1, \"#c51b7d\"], [0.2, \"#de77ae\"], [0.3, \"#f1b6da\"], [0.4, \"#fde0ef\"], [0.5, \"#f7f7f7\"], [0.6, \"#e6f5d0\"], [0.7, \"#b8e186\"], [0.8, \"#7fbc41\"], [0.9, \"#4d9221\"], [1, \"#276419\"]], \"sequential\": [[0.0, \"#0d0887\"], [0.1111111111111111, \"#46039f\"], [0.2222222222222222, \"#7201a8\"], [0.3333333333333333, \"#9c179e\"], [0.4444444444444444, \"#bd3786\"], [0.5555555555555556, \"#d8576b\"], [0.6666666666666666, \"#ed7953\"], [0.7777777777777778, \"#fb9f3a\"], [0.8888888888888888, \"#fdca26\"], [1.0, \"#f0f921\"]], \"sequentialminus\": [[0.0, \"#0d0887\"], [0.1111111111111111, \"#46039f\"], [0.2222222222222222, \"#7201a8\"], [0.3333333333333333, \"#9c179e\"], [0.4444444444444444, \"#bd3786\"], [0.5555555555555556, \"#d8576b\"], [0.6666666666666666, \"#ed7953\"], [0.7777777777777778, \"#fb9f3a\"], [0.8888888888888888, \"#fdca26\"], [1.0, \"#f0f921\"]]}, \"colorway\": [\"#636efa\", \"#EF553B\", \"#00cc96\", \"#ab63fa\", \"#FFA15A\", \"#19d3f3\", \"#FF6692\", \"#B6E880\", \"#FF97FF\", \"#FECB52\"], \"font\": {\"color\": \"#2a3f5f\"}, \"geo\": {\"bgcolor\": \"white\", \"lakecolor\": \"white\", \"landcolor\": \"#E5ECF6\", \"showlakes\": true, \"showland\": true, \"subunitcolor\": \"white\"}, \"hoverlabel\": {\"align\": \"left\"}, \"hovermode\": \"closest\", \"mapbox\": {\"style\": \"light\"}, \"paper_bgcolor\": \"white\", \"plot_bgcolor\": \"#E5ECF6\", \"polar\": {\"angularaxis\": {\"gridcolor\": \"white\", \"linecolor\": \"white\", \"ticks\": \"\"}, \"bgcolor\": \"#E5ECF6\", \"radialaxis\": {\"gridcolor\": \"white\", \"linecolor\": \"white\", \"ticks\": \"\"}}, \"scene\": {\"xaxis\": {\"backgroundcolor\": \"#E5ECF6\", \"gridcolor\": \"white\", \"gridwidth\": 2, \"linecolor\": \"white\", \"showbackground\": true, \"ticks\": \"\", \"zerolinecolor\": \"white\"}, \"yaxis\": {\"backgroundcolor\": \"#E5ECF6\", \"gridcolor\": \"white\", \"gridwidth\": 2, \"linecolor\": \"white\", \"showbackground\": true, \"ticks\": \"\", \"zerolinecolor\": \"white\"}, \"zaxis\": {\"backgroundcolor\": \"#E5ECF6\", \"gridcolor\": \"white\", \"gridwidth\": 2, \"linecolor\": \"white\", \"showbackground\": true, \"ticks\": \"\", \"zerolinecolor\": \"white\"}}, \"shapedefaults\": {\"line\": {\"color\": \"#2a3f5f\"}}, \"ternary\": {\"aaxis\": {\"gridcolor\": \"white\", \"linecolor\": \"white\", \"ticks\": \"\"}, \"baxis\": {\"gridcolor\": \"white\", \"linecolor\": \"white\", \"ticks\": \"\"}, \"bgcolor\": \"#E5ECF6\", \"caxis\": {\"gridcolor\": \"white\", \"linecolor\": \"white\", \"ticks\": \"\"}}, \"title\": {\"x\": 0.05}, \"xaxis\": {\"automargin\": true, \"gridcolor\": \"white\", \"linecolor\": \"white\", \"ticks\": \"\", \"title\": {\"standoff\": 15}, \"zerolinecolor\": \"white\", \"zerolinewidth\": 2}, \"yaxis\": {\"automargin\": true, \"gridcolor\": \"white\", \"linecolor\": \"white\", \"ticks\": \"\", \"title\": {\"standoff\": 15}, \"zerolinecolor\": \"white\", \"zerolinewidth\": 2}}}, \"title\": {\"text\": \"Density\"}, \"width\": 900, \"xaxis\": {\"anchor\": \"y\", \"domain\": [0.0, 1.0], \"showgrid\": false, \"title\": {\"text\": \"date\"}}, \"yaxis\": {\"anchor\": \"x\", \"domain\": [0.0, 1.0], \"showgrid\": false, \"title\": {\"text\": \"value\"}}},\n",
       "                        {\"responsive\": true}\n",
       "                    ).then(function(){\n",
       "                            \n",
       "var gd = document.getElementById('a6496f39-c8f5-4e60-9b5d-a85b0fc7e004');\n",
       "var x = new MutationObserver(function (mutations, observer) {{\n",
       "        var display = window.getComputedStyle(gd).display;\n",
       "        if (!display || display === 'none') {{\n",
       "            console.log([gd, 'removed!']);\n",
       "            Plotly.purge(gd);\n",
       "            observer.disconnect();\n",
       "        }}\n",
       "}});\n",
       "\n",
       "// Listen for the removal of the full notebook cells\n",
       "var notebookContainer = gd.closest('#notebook-container');\n",
       "if (notebookContainer) {{\n",
       "    x.observe(notebookContainer, {childList: true});\n",
       "}}\n",
       "\n",
       "// Listen for the clearing of the current output cell\n",
       "var outputEl = gd.closest('.output');\n",
       "if (outputEl) {{\n",
       "    x.observe(outputEl, {childList: true});\n",
       "}}\n",
       "\n",
       "                        })\n",
       "                };\n",
       "                });\n",
       "            </script>\n",
       "        </div>"
      ]
     },
     "metadata": {},
     "output_type": "display_data"
    },
    {
     "data": {
      "text/plain": [
       "<matplotlib.axes._subplots.AxesSubplot at 0x21083d418c8>"
      ]
     },
     "execution_count": 401,
     "metadata": {},
     "output_type": "execute_result"
    },
    {
     "data": {
      "text/plain": [
       "0.6013764891365475"
      ]
     },
     "execution_count": 401,
     "metadata": {},
     "output_type": "execute_result"
    },
    {
     "data": {
      "image/png": "[encoded data removed]",
      "text/plain": [
       "<Figure size 432x288 with 1 Axes>"
      ]
     },
     "metadata": {},
     "output_type": "display_data"
    }
   ],
   "source": [
    "sam = pd.DataFrame({'actual':y_test, 'pred':y_pred,'4주전':(X_test['4week_before_infected']),\n",
    "                    'date':pd.date_range(start='11/01/2020',end='1/28/2021')})\n",
    "\n",
    "fig = px.line(sam, x=\"date\", y=[\"actual\",\"pred\",\"4주전\"])\n",
    "fig.update_layout(plot_bgcolor='white',xaxis_showgrid=False, \n",
    "              yaxis_showgrid=False,width=900, height=600,\n",
    "              title='Density')\n",
    "\n",
    "sns.regplot(data = sam,x='actual',y='pred')\n",
    "sam['actual'].corr(sam['pred'])"
   ]
  },
  {
   "cell_type": "markdown",
   "metadata": {},
   "source": [
    "### train은 잘맞추나"
   ]
  },
  {
   "cell_type": "code",
   "execution_count": 140,
   "metadata": {},
   "outputs": [],
   "source": [
    "predy = model.predict(X_train)"
   ]
  },
  {
   "cell_type": "code",
   "execution_count": 141,
   "metadata": {},
   "outputs": [
    {
     "data": {
      "application/vnd.plotly.v1+json": {
       "config": {
        "plotlyServerURL": "https://plot.ly"
       },
       "data": [
        {
         "hovertemplate": "variable=pred<br>actual=%{x}<br>value=%{y}<extra></extra>",
         "legendgroup": "pred",
         "line": {
          "color": "#636efa",
          "dash": "solid"
         },
         "mode": "lines",
         "name": "pred",
         "orientation": "v",
         "showlegend": true,
         "type": "scatter",
         "x": [
          1,
          1,
          1,
          1.2857142857142858,
          1,
          0.7142857142857143,
          0.7142857142857143,
          0.5714285714285714,
          0.5714285714285714,
          0.5714285714285714,
          0.2857142857142857,
          0.14285714285714285,
          0.1,
          0.1,
          0.2857142857142857,
          0.2857142857142857,
          0.2857142857142857,
          0.5714285714285714,
          1.2857142857142858,
          1.5714285714285714,
          2.142857142857143,
          2.4285714285714284,
          3,
          5.285714285714286,
          6.428571428571429,
          7.571428571428571,
          8.428571428571429,
          8.571428571428571,
          8.857142857142858,
          9.142857142857142,
          7,
          6.285714285714286,
          4.571428571428571,
          4.428571428571429,
          4.714285714285714,
          5.285714285714286,
          8.142857142857142,
          14.571428571428571,
          16.285714285714285,
          17.857142857142858,
          18.142857142857142,
          18.285714285714285,
          17.714285714285715,
          15.857142857142858,
          9.857142857142858,
          9,
          9.714285714285714,
          10.857142857142858,
          10.857142857142858,
          10.857142857142858,
          9.714285714285714,
          11.142857142857142,
          11.428571428571429,
          11,
          10.714285714285714,
          12.714285714285714,
          15,
          17,
          18.428571428571427,
          18.857142857142858,
          19.571428571428573,
          20.285714285714285,
          19.857142857142858,
          18.285714285714285,
          16.714285714285715,
          14.714285714285714,
          14,
          12,
          9.571428571428571,
          7.142857142857143,
          6.714285714285714,
          6,
          5.285714285714286,
          3.857142857142857,
          3.4285714285714284,
          3.2857142857142856,
          3.142857142857143,
          2.142857142857143,
          1.8571428571428572,
          1.4285714285714286,
          1.2857142857142858,
          1,
          0.8571428571428571,
          0.7142857142857143,
          0.5714285714285714,
          1,
          0.7142857142857143,
          0.7142857142857143,
          0.8571428571428571,
          0.8571428571428571,
          1.1428571428571428,
          1.1428571428571428,
          11.285714285714286,
          13.857142857142858,
          17.142857142857142,
          19.142857142857142,
          19.714285714285715,
          18.857142857142858,
          19.571428571428573,
          21,
          21.428571428571427,
          19,
          17.857142857142858,
          16.857142857142858,
          16.857142857142858,
          17.571428571428573,
          16.571428571428573,
          14.571428571428571,
          15,
          15.142857142857142,
          14.142857142857142,
          13.571428571428571,
          11.428571428571429,
          11.285714285714286,
          11.428571428571429,
          11.285714285714286,
          11.142857142857142,
          11.714285714285714,
          11.571428571428571,
          12.142857142857142,
          11.285714285714286,
          9.857142857142858,
          10.142857142857142,
          9.571428571428571,
          8.857142857142858,
          9,
          8.285714285714286,
          7.857142857142857,
          8,
          6.714285714285714,
          8.142857142857142,
          8.714285714285714,
          8.142857142857142,
          8,
          8.142857142857142,
          7.857142857142857,
          8.285714285714286,
          6.857142857142857,
          8.857142857142858,
          10.428571428571429,
          11,
          12.714285714285714,
          13.428571428571429,
          13,
          13.857142857142858,
          11.714285714285714,
          10.571428571428571,
          9.428571428571429,
          7.714285714285714,
          6.428571428571429,
          6,
          5.428571428571429,
          5.857142857142857,
          5.428571428571429,
          6.285714285714286,
          6.285714285714286,
          8.428571428571429,
          9.714285714285714,
          10.857142857142858,
          10.428571428571429,
          11.714285714285714,
          14.142857142857142,
          17.571428571428573,
          25.571428571428573,
          44.57142857142857,
          55.714285714285715,
          73.71428571428571,
          93.14285714285714,
          108.42857142857143,
          121.57142857142857,
          129.28571428571428,
          128.42857142857142,
          129.28571428571428,
          129.85714285714286,
          125,
          127.85714285714286,
          132.71428571428572,
          131.14285714285714,
          134.57142857142858,
          130.28571428571428,
          124.71428571428571,
          119.57142857142857,
          105.57142857142857,
          88.57142857142857,
          79.85714285714286,
          64.71428571428571,
          61.42857142857143,
          58.42857142857143,
          51.142857142857146,
          50,
          53.42857142857143,
          52.57142857142857,
          49.142857142857146,
          48.714285714285715,
          43,
          45.714285714285715,
          47.857142857142854,
          44.857142857142854,
          43.57142857142857,
          42.714285714285715,
          40.142857142857146,
          40.57142857142857,
          39.285714285714285,
          34,
          35.57142857142857,
          33.42857142857143,
          34.42857142857143,
          33.714285714285715,
          31.857142857142858,
          31.285714285714285,
          32,
          25.857142857142858,
          26,
          23.285714285714285,
          23.428571428571427,
          22.285714285714285,
          21.428571428571427,
          20,
          21.571428571428573,
          21.428571428571427,
          22.571428571428573,
          24.285714285714285,
          24.571428571428573,
          23.428571428571427,
          24.142857142857142,
          23.571428571428573,
          22.571428571428573,
          22,
          19.714285714285715,
          18.714285714285715,
          17.571428571428573,
          16.571428571428573,
          16.857142857142858,
          17.428571428571427,
          17,
          18.142857142857142,
          19.285714285714285,
          21.714285714285715,
          23.571428571428573,
          28.142857142857142,
          31.571428571428573,
          35.57142857142857,
          35.857142857142854,
          36.142857142857146,
          37.857142857142854,
          40.285714285714285,
          38.57142857142857,
          37.285714285714285,
          38.57142857142857,
          41.57142857142857,
          43,
          43.285714285714285,
          44,
          48.857142857142854,
          53.42857142857143,
          57.857142857142854,
          62.714285714285715,
          70.71428571428571,
          77.42857142857143,
          85.42857142857143,
          93.71428571428571,
          106.14285714285714,
          111.28571428571429,
          115.85714285714286,
          121.57142857142857,
          128.71428571428572,
          143.42857142857142,
          153.71428571428572,
          156.85714285714286,
          162,
          168.42857142857142,
          172.14285714285714
         ],
         "xaxis": "x",
         "y": [
          -272571651609.9279,
          -289833269135.0054,
          -307924555182.9625,
          -326838080081.3364,
          -352332282052.2816,
          -373033372291.25244,
          -388255807641.21857,
          -403812704408.202,
          -430318240198.56287,
          -457352999571.894,
          -484973179478.41425,
          -507231702690.6483,
          -521109711111.58136,
          -527042609830.6633,
          -532399974029.621,
          -505431982757.2353,
          -479824837487.7655,
          -455510071317.79144,
          -428819884016.7871,
          -430457884049.52936,
          -447433553664.841,
          -478519595707.8211,
          -526503137115.6906,
          -590724440247.407,
          -708967742135.2823,
          -814398490072.8754,
          -729218505928.0668,
          453612250162.772,
          4586795833287.981,
          17855337382997.152,
          52225560992327.85,
          55412475649253.875,
          25960540745890.668,
          -32922271071452.75,
          -86603088599588.36,
          -128732864760580.73,
          -172113126651736.38,
          -256391452412866.78,
          -485752937773010.4,
          -907112645485883.4,
          -1223010067458304.2,
          2500896618041280.5,
          39121372292985970,
          266295849138180830,
          824719842473485300,
          401397281067172300,
          113532871393497070,
          -9565509002592846,
          -74055427868456140,
          -135232259791689780,
          -207850418609328770,
          -234085812160912600,
          -182855851600463870,
          -128473838961354000,
          -77807425314627890,
          -45038651435650910,
          -29095426379763748,
          -21621383946378340,
          -15930900716818076,
          -17337281007688770,
          -5055353239032202,
          127673702205082780,
          917854352589614700,
          2909473921984516000,
          4572388706870661600,
          3462885868885843500,
          479024953446764900,
          -1770374833151657500,
          -3128711104788396000,
          -3282677458264872400,
          -2267304565892903700,
          -1261731335409042400,
          -576002731919650200,
          -225386575678896220,
          -77222271220530600,
          -24377770472993224,
          -7236660449347770,
          -2191446727713219.8,
          -691073798406949.6,
          -238765885373848.47,
          -92249127872094.33,
          -37037129054671.945,
          -16782951159254.75,
          -8959076860992.242,
          -5645647915293.256,
          -3619137903092.814,
          -2511754024776.7266,
          -1794278731115.9128,
          -1422657656094.289,
          -1171934602159.634,
          -972596307760.323,
          -827472238933.0571,
          10074723030093244,
          5617994515929738,
          539618726063417.06,
          -7704225814459953,
          -20913554341952930,
          -69370056129375600,
          -180347263702929570,
          -18221329230280764,
          2046342104633437700,
          8134805966396030000,
          9958522179656090000,
          5165675342086817000,
          -1053238383001323100,
          -5660400459178937000,
          -13152701057018368000,
          -23482617343085834000,
          -26377356049733403000,
          -22904836372258910000,
          -17250498102535960000,
          -11584538482635753000,
          -7956095233493659000,
          -4468850451462391300,
          -2234647527724717000,
          -1089586254819577500,
          -627772758888607200,
          -389212705515986800,
          -269467891016643800,
          -184440395913512860,
          -123739237976493820,
          -83676462327708980,
          -59442597942249290,
          -41599976499913810,
          -27626105681296650,
          -18979781634041560,
          -13730520841203268,
          -11173089565842036,
          -8835705355551831,
          -6921557556708878,
          -5020273738833272,
          -4050696061753329.5,
          -3248025650860528,
          -2530143988197537,
          -1858861166616438,
          -1460097152314262.8,
          -1253615783302726.2,
          -1058377155014227.5,
          -870736241000760.5,
          -868479495622417.6,
          -930642296619505,
          -1080026071611764.2,
          -1407503891279673,
          -1734931967820252.8,
          -2318960598690739.5,
          -1077334944179183.5,
          95655860709764.42,
          -1256329314807403.2,
          -3946878315650454.5,
          -7006624326633200,
          -8060609154119816,
          -7420274388657648,
          -6964858445904486,
          -5670650536507559,
          -3980132208250303.5,
          -2844277208415493.5,
          -1793810041374925.8,
          -1246105729647398,
          -968231721627270.1,
          -737578469450931.4,
          -602355568936541.9,
          -469748915541488.9,
          -106903716645638.95,
          2812807209979000.5,
          49878757661147820,
          8405103650614566000,
          5.179703573354084e+21,
          4.376228553925809e+25,
          4.9329124422435415e+30,
          3.4896688228221984e+36,
          9.889159308836162e+42,
          2.690346558612395e+49,
          4.290213030979377e+54,
          1.5739919032785547e+59,
          4.7887426884983075e+62,
          4.5363290804714384e+64,
          7.279362018058105e+65,
          3.576178832581966e+66,
          4.662729318728102e+66,
          1.1213818337534025e+67,
          1.2923916300119336e+67,
          5.745600262252077e+66,
          -1.7537800796051917e+65,
          -2.3542865886920125e+66,
          -2.339215445701999e+65,
          -6.857040881451896e+63,
          -7.238734545331313e+61,
          -5.684129000794268e+59,
          -3.4584042237596234e+57,
          -1.7690934806960606e+55,
          -6.800512974583714e+52,
          -2.3605695546608865e+50,
          -8.622829746529433e+47,
          -1.9300437620974727e+45,
          -5.690324883790211e+42,
          -1.660639597002299e+40,
          -8.494739891030931e+37,
          -1.3765065281360554e+36,
          -6.0621838189005195e+34,
          -4.5366336754189333e+33,
          -9.417230235537225e+32,
          -2.0576353517879667e+32,
          -5.7269690722520125e+31,
          -2.456262729243035e+31,
          -7.856766770983658e+30,
          -2.194554440768669e+30,
          -5.5922851667380225e+29,
          -1.955443482284947e+29,
          -6.695815048122865e+28,
          -3.0231683444497956e+28,
          -1.0787812532574126e+28,
          -3.4701787991865395e+27,
          -8.932806561186802e+26,
          -2.5448257904643482e+26,
          -6.3565479104481285e+25,
          -1.9275283840062952e+25,
          -5.221680190509245e+24,
          -1.4586935683330489e+24,
          -5.370717026727234e+23,
          -1.975027165201997e+23,
          -8.379239483023124e+22,
          -3.586638867584211e+22,
          -1.822162118789262e+22,
          -1.0730661807120018e+22,
          -5.991479920720597e+21,
          -3.1357342454714314e+21,
          -2.4647043865731326e+21,
          -1.712611128650891e+21,
          -1.5562859238140606e+21,
          -1.3405492735323325e+21,
          -1.1447011096312489e+21,
          -912844772103732900000,
          -740381329567679800000,
          -535232967568233300000,
          -404270414571790470000,
          -272204667257958920000,
          -175250967451544850000,
          -119574632904397590000,
          -104374113552909650000,
          -95309664005312230000,
          -104686658486969240000,
          14667390469953380000,
          3.343591338765383e+21,
          4.871542517183802e+22,
          5.587065480151059e+23,
          5.652298309005308e+24,
          6.173050086253971e+25,
          2.7379719332254297e+26,
          6.1777137105879404e+26,
          9.37194812019844e+26,
          2.0692460877156367e+27,
          5.265824836469491e+27,
          1.023580557589882e+28,
          1.1561248660156984e+28,
          4.982145331563286e+28,
          7.23412807781565e+29,
          1.3557314944904102e+31,
          2.9150427788192675e+32,
          1.555339374084457e+34,
          2.0514310268820177e+36,
          7.631980234735e+38,
          4.631107231533536e+41,
          8.633555654581204e+44,
          1.7824153312102982e+48,
          3.5326590152142104e+51,
          5.051078045856155e+54,
          7.678137682722313e+57,
          3.0457614706412054e+61,
          1.6077555560825905e+65,
          2.2523673576457223e+68,
          3.155429128879805e+71,
          5.76366354640196e+74
         ],
         "yaxis": "y"
        }
       ],
       "layout": {
        "height": 600,
        "legend": {
         "title": {
          "text": "variable"
         },
         "tracegroupgap": 0
        },
        "margin": {
         "t": 60
        },
        "plot_bgcolor": "white",
        "template": {
         "data": {
          "bar": [
           {
            "error_x": {
             "color": "#2a3f5f"
            },
            "error_y": {
             "color": "#2a3f5f"
            },
            "marker": {
             "line": {
              "color": "#E5ECF6",
              "width": 0.5
             }
            },
            "type": "bar"
           }
          ],
          "barpolar": [
           {
            "marker": {
             "line": {
              "color": "#E5ECF6",
              "width": 0.5
             }
            },
            "type": "barpolar"
           }
          ],
          "carpet": [
           {
            "aaxis": {
             "endlinecolor": "#2a3f5f",
             "gridcolor": "white",
             "linecolor": "white",
             "minorgridcolor": "white",
             "startlinecolor": "#2a3f5f"
            },
            "baxis": {
             "endlinecolor": "#2a3f5f",
             "gridcolor": "white",
             "linecolor": "white",
             "minorgridcolor": "white",
             "startlinecolor": "#2a3f5f"
            },
            "type": "carpet"
           }
          ],
          "choropleth": [
           {
            "colorbar": {
             "outlinewidth": 0,
             "ticks": ""
            },
            "type": "choropleth"
           }
          ],
          "contour": [
           {
            "colorbar": {
             "outlinewidth": 0,
             "ticks": ""
            },
            "colorscale": [
             [
              0,
              "#0d0887"
             ],
             [
              0.1111111111111111,
              "#46039f"
             ],
             [
              0.2222222222222222,
              "#7201a8"
             ],
             [
              0.3333333333333333,
              "#9c179e"
             ],
             [
              0.4444444444444444,
              "#bd3786"
             ],
             [
              0.5555555555555556,
              "#d8576b"
             ],
             [
              0.6666666666666666,
              "#ed7953"
             ],
             [
              0.7777777777777778,
              "#fb9f3a"
             ],
             [
              0.8888888888888888,
              "#fdca26"
             ],
             [
              1,
              "#f0f921"
             ]
            ],
            "type": "contour"
           }
          ],
          "contourcarpet": [
           {
            "colorbar": {
             "outlinewidth": 0,
             "ticks": ""
            },
            "type": "contourcarpet"
           }
          ],
          "heatmap": [
           {
            "colorbar": {
             "outlinewidth": 0,
             "ticks": ""
            },
            "colorscale": [
             [
              0,
              "#0d0887"
             ],
             [
              0.1111111111111111,
              "#46039f"
             ],
             [
              0.2222222222222222,
              "#7201a8"
             ],
             [
              0.3333333333333333,
              "#9c179e"
             ],
             [
              0.4444444444444444,
              "#bd3786"
             ],
             [
              0.5555555555555556,
              "#d8576b"
             ],
             [
              0.6666666666666666,
              "#ed7953"
             ],
             [
              0.7777777777777778,
              "#fb9f3a"
             ],
             [
              0.8888888888888888,
              "#fdca26"
             ],
             [
              1,
              "#f0f921"
             ]
            ],
            "type": "heatmap"
           }
          ],
          "heatmapgl": [
           {
            "colorbar": {
             "outlinewidth": 0,
             "ticks": ""
            },
            "colorscale": [
             [
              0,
              "#0d0887"
             ],
             [
              0.1111111111111111,
              "#46039f"
             ],
             [
              0.2222222222222222,
              "#7201a8"
             ],
             [
              0.3333333333333333,
              "#9c179e"
             ],
             [
              0.4444444444444444,
              "#bd3786"
             ],
             [
              0.5555555555555556,
              "#d8576b"
             ],
             [
              0.6666666666666666,
              "#ed7953"
             ],
             [
              0.7777777777777778,
              "#fb9f3a"
             ],
             [
              0.8888888888888888,
              "#fdca26"
             ],
             [
              1,
              "#f0f921"
             ]
            ],
            "type": "heatmapgl"
           }
          ],
          "histogram": [
           {
            "marker": {
             "colorbar": {
              "outlinewidth": 0,
              "ticks": ""
             }
            },
            "type": "histogram"
           }
          ],
          "histogram2d": [
           {
            "colorbar": {
             "outlinewidth": 0,
             "ticks": ""
            },
            "colorscale": [
             [
              0,
              "#0d0887"
             ],
             [
              0.1111111111111111,
              "#46039f"
             ],
             [
              0.2222222222222222,
              "#7201a8"
             ],
             [
              0.3333333333333333,
              "#9c179e"
             ],
             [
              0.4444444444444444,
              "#bd3786"
             ],
             [
              0.5555555555555556,
              "#d8576b"
             ],
             [
              0.6666666666666666,
              "#ed7953"
             ],
             [
              0.7777777777777778,
              "#fb9f3a"
             ],
             [
              0.8888888888888888,
              "#fdca26"
             ],
             [
              1,
              "#f0f921"
             ]
            ],
            "type": "histogram2d"
           }
          ],
          "histogram2dcontour": [
           {
            "colorbar": {
             "outlinewidth": 0,
             "ticks": ""
            },
            "colorscale": [
             [
              0,
              "#0d0887"
             ],
             [
              0.1111111111111111,
              "#46039f"
             ],
             [
              0.2222222222222222,
              "#7201a8"
             ],
             [
              0.3333333333333333,
              "#9c179e"
             ],
             [
              0.4444444444444444,
              "#bd3786"
             ],
             [
              0.5555555555555556,
              "#d8576b"
             ],
             [
              0.6666666666666666,
              "#ed7953"
             ],
             [
              0.7777777777777778,
              "#fb9f3a"
             ],
             [
              0.8888888888888888,
              "#fdca26"
             ],
             [
              1,
              "#f0f921"
             ]
            ],
            "type": "histogram2dcontour"
           }
          ],
          "mesh3d": [
           {
            "colorbar": {
             "outlinewidth": 0,
             "ticks": ""
            },
            "type": "mesh3d"
           }
          ],
          "parcoords": [
           {
            "line": {
             "colorbar": {
              "outlinewidth": 0,
              "ticks": ""
             }
            },
            "type": "parcoords"
           }
          ],
          "pie": [
           {
            "automargin": true,
            "type": "pie"
           }
          ],
          "scatter": [
           {
            "marker": {
             "colorbar": {
              "outlinewidth": 0,
              "ticks": ""
             }
            },
            "type": "scatter"
           }
          ],
          "scatter3d": [
           {
            "line": {
             "colorbar": {
              "outlinewidth": 0,
              "ticks": ""
             }
            },
            "marker": {
             "colorbar": {
              "outlinewidth": 0,
              "ticks": ""
             }
            },
            "type": "scatter3d"
           }
          ],
          "scattercarpet": [
           {
            "marker": {
             "colorbar": {
              "outlinewidth": 0,
              "ticks": ""
             }
            },
            "type": "scattercarpet"
           }
          ],
          "scattergeo": [
           {
            "marker": {
             "colorbar": {
              "outlinewidth": 0,
              "ticks": ""
             }
            },
            "type": "scattergeo"
           }
          ],
          "scattergl": [
           {
            "marker": {
             "colorbar": {
              "outlinewidth": 0,
              "ticks": ""
             }
            },
            "type": "scattergl"
           }
          ],
          "scattermapbox": [
           {
            "marker": {
             "colorbar": {
              "outlinewidth": 0,
              "ticks": ""
             }
            },
            "type": "scattermapbox"
           }
          ],
          "scatterpolar": [
           {
            "marker": {
             "colorbar": {
              "outlinewidth": 0,
              "ticks": ""
             }
            },
            "type": "scatterpolar"
           }
          ],
          "scatterpolargl": [
           {
            "marker": {
             "colorbar": {
              "outlinewidth": 0,
              "ticks": ""
             }
            },
            "type": "scatterpolargl"
           }
          ],
          "scatterternary": [
           {
            "marker": {
             "colorbar": {
              "outlinewidth": 0,
              "ticks": ""
             }
            },
            "type": "scatterternary"
           }
          ],
          "surface": [
           {
            "colorbar": {
             "outlinewidth": 0,
             "ticks": ""
            },
            "colorscale": [
             [
              0,
              "#0d0887"
             ],
             [
              0.1111111111111111,
              "#46039f"
             ],
             [
              0.2222222222222222,
              "#7201a8"
             ],
             [
              0.3333333333333333,
              "#9c179e"
             ],
             [
              0.4444444444444444,
              "#bd3786"
             ],
             [
              0.5555555555555556,
              "#d8576b"
             ],
             [
              0.6666666666666666,
              "#ed7953"
             ],
             [
              0.7777777777777778,
              "#fb9f3a"
             ],
             [
              0.8888888888888888,
              "#fdca26"
             ],
             [
              1,
              "#f0f921"
             ]
            ],
            "type": "surface"
           }
          ],
          "table": [
           {
            "cells": {
             "fill": {
              "color": "#EBF0F8"
             },
             "line": {
              "color": "white"
             }
            },
            "header": {
             "fill": {
              "color": "#C8D4E3"
             },
             "line": {
              "color": "white"
             }
            },
            "type": "table"
           }
          ]
         },
         "layout": {
          "annotationdefaults": {
           "arrowcolor": "#2a3f5f",
           "arrowhead": 0,
           "arrowwidth": 1
          },
          "coloraxis": {
           "colorbar": {
            "outlinewidth": 0,
            "ticks": ""
           }
          },
          "colorscale": {
           "diverging": [
            [
             0,
             "#8e0152"
            ],
            [
             0.1,
             "#c51b7d"
            ],
            [
             0.2,
             "#de77ae"
            ],
            [
             0.3,
             "#f1b6da"
            ],
            [
             0.4,
             "#fde0ef"
            ],
            [
             0.5,
             "#f7f7f7"
            ],
            [
             0.6,
             "#e6f5d0"
            ],
            [
             0.7,
             "#b8e186"
            ],
            [
             0.8,
             "#7fbc41"
            ],
            [
             0.9,
             "#4d9221"
            ],
            [
             1,
             "#276419"
            ]
           ],
           "sequential": [
            [
             0,
             "#0d0887"
            ],
            [
             0.1111111111111111,
             "#46039f"
            ],
            [
             0.2222222222222222,
             "#7201a8"
            ],
            [
             0.3333333333333333,
             "#9c179e"
            ],
            [
             0.4444444444444444,
             "#bd3786"
            ],
            [
             0.5555555555555556,
             "#d8576b"
            ],
            [
             0.6666666666666666,
             "#ed7953"
            ],
            [
             0.7777777777777778,
             "#fb9f3a"
            ],
            [
             0.8888888888888888,
             "#fdca26"
            ],
            [
             1,
             "#f0f921"
            ]
           ],
           "sequentialminus": [
            [
             0,
             "#0d0887"
            ],
            [
             0.1111111111111111,
             "#46039f"
            ],
            [
             0.2222222222222222,
             "#7201a8"
            ],
            [
             0.3333333333333333,
             "#9c179e"
            ],
            [
             0.4444444444444444,
             "#bd3786"
            ],
            [
             0.5555555555555556,
             "#d8576b"
            ],
            [
             0.6666666666666666,
             "#ed7953"
            ],
            [
             0.7777777777777778,
             "#fb9f3a"
            ],
            [
             0.8888888888888888,
             "#fdca26"
            ],
            [
             1,
             "#f0f921"
            ]
           ]
          },
          "colorway": [
           "#636efa",
           "#EF553B",
           "#00cc96",
           "#ab63fa",
           "#FFA15A",
           "#19d3f3",
           "#FF6692",
           "#B6E880",
           "#FF97FF",
           "#FECB52"
          ],
          "font": {
           "color": "#2a3f5f"
          },
          "geo": {
           "bgcolor": "white",
           "lakecolor": "white",
           "landcolor": "#E5ECF6",
           "showlakes": true,
           "showland": true,
           "subunitcolor": "white"
          },
          "hoverlabel": {
           "align": "left"
          },
          "hovermode": "closest",
          "mapbox": {
           "style": "light"
          },
          "paper_bgcolor": "white",
          "plot_bgcolor": "#E5ECF6",
          "polar": {
           "angularaxis": {
            "gridcolor": "white",
            "linecolor": "white",
            "ticks": ""
           },
           "bgcolor": "#E5ECF6",
           "radialaxis": {
            "gridcolor": "white",
            "linecolor": "white",
            "ticks": ""
           }
          },
          "scene": {
           "xaxis": {
            "backgroundcolor": "#E5ECF6",
            "gridcolor": "white",
            "gridwidth": 2,
            "linecolor": "white",
            "showbackground": true,
            "ticks": "",
            "zerolinecolor": "white"
           },
           "yaxis": {
            "backgroundcolor": "#E5ECF6",
            "gridcolor": "white",
            "gridwidth": 2,
            "linecolor": "white",
            "showbackground": true,
            "ticks": "",
            "zerolinecolor": "white"
           },
           "zaxis": {
            "backgroundcolor": "#E5ECF6",
            "gridcolor": "white",
            "gridwidth": 2,
            "linecolor": "white",
            "showbackground": true,
            "ticks": "",
            "zerolinecolor": "white"
           }
          },
          "shapedefaults": {
           "line": {
            "color": "#2a3f5f"
           }
          },
          "ternary": {
           "aaxis": {
            "gridcolor": "white",
            "linecolor": "white",
            "ticks": ""
           },
           "baxis": {
            "gridcolor": "white",
            "linecolor": "white",
            "ticks": ""
           },
           "bgcolor": "#E5ECF6",
           "caxis": {
            "gridcolor": "white",
            "linecolor": "white",
            "ticks": ""
           }
          },
          "title": {
           "x": 0.05
          },
          "xaxis": {
           "automargin": true,
           "gridcolor": "white",
           "linecolor": "white",
           "ticks": "",
           "title": {
            "standoff": 15
           },
           "zerolinecolor": "white",
           "zerolinewidth": 2
          },
          "yaxis": {
           "automargin": true,
           "gridcolor": "white",
           "linecolor": "white",
           "ticks": "",
           "title": {
            "standoff": 15
           },
           "zerolinecolor": "white",
           "zerolinewidth": 2
          }
         }
        },
        "title": {
         "text": "Density"
        },
        "width": 900,
        "xaxis": {
         "anchor": "y",
         "domain": [
          0,
          1
         ],
         "showgrid": false,
         "title": {
          "text": "actual"
         }
        },
        "yaxis": {
         "anchor": "x",
         "domain": [
          0,
          1
         ],
         "showgrid": false,
         "title": {
          "text": "value"
         }
        }
       }
      },
      "text/html": [
       "<div>\n",
       "        \n",
       "        \n",
       "            <div id=\"07c2d2c2-17ce-487e-a832-401f2d12a9ee\" class=\"plotly-graph-div\" style=\"height:600px; width:900px;\"></div>\n",
       "            <script type=\"text/javascript\">\n",
       "                require([\"plotly\"], function(Plotly) {\n",
       "                    window.PLOTLYENV=window.PLOTLYENV || {};\n",
       "                    \n",
       "                if (document.getElementById(\"07c2d2c2-17ce-487e-a832-401f2d12a9ee\")) {\n",
       "                    Plotly.newPlot(\n",
       "                        '07c2d2c2-17ce-487e-a832-401f2d12a9ee',\n",
       "                        [{\"hovertemplate\": \"variable=pred<br>actual=%{x}<br>value=%{y}<extra></extra>\", \"legendgroup\": \"pred\", \"line\": {\"color\": \"#636efa\", \"dash\": \"solid\"}, \"mode\": \"lines\", \"name\": \"pred\", \"orientation\": \"v\", \"showlegend\": true, \"type\": \"scatter\", \"x\": [1.0, 1.0, 1.0, 1.2857142857142858, 1.0, 0.7142857142857143, 0.7142857142857143, 0.5714285714285714, 0.5714285714285714, 0.5714285714285714, 0.2857142857142857, 0.14285714285714285, 0.1, 0.1, 0.2857142857142857, 0.2857142857142857, 0.2857142857142857, 0.5714285714285714, 1.2857142857142858, 1.5714285714285714, 2.142857142857143, 2.4285714285714284, 3.0, 5.285714285714286, 6.428571428571429, 7.571428571428571, 8.428571428571429, 8.571428571428571, 8.857142857142858, 9.142857142857142, 7.0, 6.285714285714286, 4.571428571428571, 4.428571428571429, 4.714285714285714, 5.285714285714286, 8.142857142857142, 14.571428571428571, 16.285714285714285, 17.857142857142858, 18.142857142857142, 18.285714285714285, 17.714285714285715, 15.857142857142858, 9.857142857142858, 9.0, 9.714285714285714, 10.857142857142858, 10.857142857142858, 10.857142857142858, 9.714285714285714, 11.142857142857142, 11.428571428571429, 11.0, 10.714285714285714, 12.714285714285714, 15.0, 17.0, 18.428571428571427, 18.857142857142858, 19.571428571428573, 20.285714285714285, 19.857142857142858, 18.285714285714285, 16.714285714285715, 14.714285714285714, 14.0, 12.0, 9.571428571428571, 7.142857142857143, 6.714285714285714, 6.0, 5.285714285714286, 3.857142857142857, 3.4285714285714284, 3.2857142857142856, 3.142857142857143, 2.142857142857143, 1.8571428571428572, 1.4285714285714286, 1.2857142857142858, 1.0, 0.8571428571428571, 0.7142857142857143, 0.5714285714285714, 1.0, 0.7142857142857143, 0.7142857142857143, 0.8571428571428571, 0.8571428571428571, 1.1428571428571428, 1.1428571428571428, 11.285714285714286, 13.857142857142858, 17.142857142857142, 19.142857142857142, 19.714285714285715, 18.857142857142858, 19.571428571428573, 21.0, 21.428571428571427, 19.0, 17.857142857142858, 16.857142857142858, 16.857142857142858, 17.571428571428573, 16.571428571428573, 14.571428571428571, 15.0, 15.142857142857142, 14.142857142857142, 13.571428571428571, 11.428571428571429, 11.285714285714286, 11.428571428571429, 11.285714285714286, 11.142857142857142, 11.714285714285714, 11.571428571428571, 12.142857142857142, 11.285714285714286, 9.857142857142858, 10.142857142857142, 9.571428571428571, 8.857142857142858, 9.0, 8.285714285714286, 7.857142857142857, 8.0, 6.714285714285714, 8.142857142857142, 8.714285714285714, 8.142857142857142, 8.0, 8.142857142857142, 7.857142857142857, 8.285714285714286, 6.857142857142857, 8.857142857142858, 10.428571428571429, 11.0, 12.714285714285714, 13.428571428571429, 13.0, 13.857142857142858, 11.714285714285714, 10.571428571428571, 9.428571428571429, 7.714285714285714, 6.428571428571429, 6.0, 5.428571428571429, 5.857142857142857, 5.428571428571429, 6.285714285714286, 6.285714285714286, 8.428571428571429, 9.714285714285714, 10.857142857142858, 10.428571428571429, 11.714285714285714, 14.142857142857142, 17.571428571428573, 25.571428571428573, 44.57142857142857, 55.714285714285715, 73.71428571428571, 93.14285714285714, 108.42857142857143, 121.57142857142857, 129.28571428571428, 128.42857142857142, 129.28571428571428, 129.85714285714286, 125.0, 127.85714285714286, 132.71428571428572, 131.14285714285714, 134.57142857142858, 130.28571428571428, 124.71428571428571, 119.57142857142857, 105.57142857142857, 88.57142857142857, 79.85714285714286, 64.71428571428571, 61.42857142857143, 58.42857142857143, 51.142857142857146, 50.0, 53.42857142857143, 52.57142857142857, 49.142857142857146, 48.714285714285715, 43.0, 45.714285714285715, 47.857142857142854, 44.857142857142854, 43.57142857142857, 42.714285714285715, 40.142857142857146, 40.57142857142857, 39.285714285714285, 34.0, 35.57142857142857, 33.42857142857143, 34.42857142857143, 33.714285714285715, 31.857142857142858, 31.285714285714285, 32.0, 25.857142857142858, 26.0, 23.285714285714285, 23.428571428571427, 22.285714285714285, 21.428571428571427, 20.0, 21.571428571428573, 21.428571428571427, 22.571428571428573, 24.285714285714285, 24.571428571428573, 23.428571428571427, 24.142857142857142, 23.571428571428573, 22.571428571428573, 22.0, 19.714285714285715, 18.714285714285715, 17.571428571428573, 16.571428571428573, 16.857142857142858, 17.428571428571427, 17.0, 18.142857142857142, 19.285714285714285, 21.714285714285715, 23.571428571428573, 28.142857142857142, 31.571428571428573, 35.57142857142857, 35.857142857142854, 36.142857142857146, 37.857142857142854, 40.285714285714285, 38.57142857142857, 37.285714285714285, 38.57142857142857, 41.57142857142857, 43.0, 43.285714285714285, 44.0, 48.857142857142854, 53.42857142857143, 57.857142857142854, 62.714285714285715, 70.71428571428571, 77.42857142857143, 85.42857142857143, 93.71428571428571, 106.14285714285714, 111.28571428571429, 115.85714285714286, 121.57142857142857, 128.71428571428572, 143.42857142857142, 153.71428571428572, 156.85714285714286, 162.0, 168.42857142857142, 172.14285714285714], \"xaxis\": \"x\", \"y\": [-272571651609.9279, -289833269135.0054, -307924555182.9625, -326838080081.3364, -352332282052.2816, -373033372291.25244, -388255807641.21857, -403812704408.202, -430318240198.56287, -457352999571.894, -484973179478.41425, -507231702690.6483, -521109711111.58136, -527042609830.6633, -532399974029.621, -505431982757.2353, -479824837487.7655, -455510071317.79144, -428819884016.7871, -430457884049.52936, -447433553664.841, -478519595707.8211, -526503137115.6906, -590724440247.407, -708967742135.2823, -814398490072.8754, -729218505928.0668, 453612250162.772, 4586795833287.981, 17855337382997.152, 52225560992327.85, 55412475649253.875, 25960540745890.668, -32922271071452.75, -86603088599588.36, -128732864760580.73, -172113126651736.38, -256391452412866.78, -485752937773010.4, -907112645485883.4, -1223010067458304.2, 2500896618041280.5, 3.912137229298597e+16, 2.6629584913818083e+17, 8.247198424734853e+17, 4.013972810671723e+17, 1.1353287139349707e+17, -9565509002592846.0, -7.405542786845614e+16, -1.3523225979168978e+17, -2.0785041860932877e+17, -2.340858121609126e+17, -1.8285585160046387e+17, -1.28473838961354e+17, -7.780742531462789e+16, -4.503865143565091e+16, -2.9095426379763748e+16, -2.162138394637834e+16, -1.5930900716818076e+16, -1.733728100768877e+16, -5055353239032202.0, 1.2767370220508278e+17, 9.178543525896147e+17, 2.909473921984516e+18, 4.5723887068706616e+18, 3.4628858688858435e+18, 4.790249534467649e+17, -1.7703748331516575e+18, -3.128711104788396e+18, -3.2826774582648724e+18, -2.2673045658929037e+18, -1.2617313354090424e+18, -5.760027319196502e+17, -2.2538657567889622e+17, -7.72222712205306e+16, -2.4377770472993224e+16, -7236660449347770.0, -2191446727713219.8, -691073798406949.6, -238765885373848.47, -92249127872094.33, -37037129054671.945, -16782951159254.75, -8959076860992.242, -5645647915293.256, -3619137903092.814, -2511754024776.7266, -1794278731115.9128, -1422657656094.289, -1171934602159.634, -972596307760.323, -827472238933.0571, 1.0074723030093244e+16, 5617994515929738.0, 539618726063417.06, -7704225814459953.0, -2.091355434195293e+16, -6.93700561293756e+16, -1.8034726370292957e+17, -1.8221329230280764e+16, 2.0463421046334377e+18, 8.13480596639603e+18, 9.95852217965609e+18, 5.165675342086817e+18, -1.0532383830013231e+18, -5.660400459178937e+18, -1.3152701057018368e+19, -2.3482617343085834e+19, -2.6377356049733403e+19, -2.290483637225891e+19, -1.725049810253596e+19, -1.1584538482635753e+19, -7.956095233493659e+18, -4.4688504514623913e+18, -2.234647527724717e+18, -1.0895862548195775e+18, -6.277727588886072e+17, -3.892127055159868e+17, -2.694678910166438e+17, -1.8444039591351286e+17, -1.2373923797649382e+17, -8.367646232770898e+16, -5.944259794224929e+16, -4.159997649991381e+16, -2.762610568129665e+16, -1.897978163404156e+16, -1.3730520841203268e+16, -1.1173089565842036e+16, -8835705355551831.0, -6921557556708878.0, -5020273738833272.0, -4050696061753329.5, -3248025650860528.0, -2530143988197537.0, -1858861166616438.0, -1460097152314262.8, -1253615783302726.2, -1058377155014227.5, -870736241000760.5, -868479495622417.6, -930642296619505.0, -1080026071611764.2, -1407503891279673.0, -1734931967820252.8, -2318960598690739.5, -1077334944179183.5, 95655860709764.42, -1256329314807403.2, -3946878315650454.5, -7006624326633200.0, -8060609154119816.0, -7420274388657648.0, -6964858445904486.0, -5670650536507559.0, -3980132208250303.5, -2844277208415493.5, -1793810041374925.8, -1246105729647398.0, -968231721627270.1, -737578469450931.4, -602355568936541.9, -469748915541488.9, -106903716645638.95, 2812807209979000.5, 4.987875766114782e+16, 8.405103650614566e+18, 5.179703573354084e+21, 4.376228553925809e+25, 4.9329124422435415e+30, 3.4896688228221984e+36, 9.889159308836162e+42, 2.690346558612395e+49, 4.290213030979377e+54, 1.5739919032785547e+59, 4.7887426884983075e+62, 4.5363290804714384e+64, 7.279362018058105e+65, 3.576178832581966e+66, 4.662729318728102e+66, 1.1213818337534025e+67, 1.2923916300119336e+67, 5.745600262252077e+66, -1.7537800796051917e+65, -2.3542865886920125e+66, -2.339215445701999e+65, -6.857040881451896e+63, -7.238734545331313e+61, -5.684129000794268e+59, -3.4584042237596234e+57, -1.7690934806960606e+55, -6.800512974583714e+52, -2.3605695546608865e+50, -8.622829746529433e+47, -1.9300437620974727e+45, -5.690324883790211e+42, -1.660639597002299e+40, -8.494739891030931e+37, -1.3765065281360554e+36, -6.0621838189005195e+34, -4.5366336754189333e+33, -9.417230235537225e+32, -2.0576353517879667e+32, -5.7269690722520125e+31, -2.456262729243035e+31, -7.856766770983658e+30, -2.194554440768669e+30, -5.5922851667380225e+29, -1.955443482284947e+29, -6.695815048122865e+28, -3.0231683444497956e+28, -1.0787812532574126e+28, -3.4701787991865395e+27, -8.932806561186802e+26, -2.5448257904643482e+26, -6.3565479104481285e+25, -1.9275283840062952e+25, -5.221680190509245e+24, -1.4586935683330489e+24, -5.370717026727234e+23, -1.975027165201997e+23, -8.379239483023124e+22, -3.586638867584211e+22, -1.822162118789262e+22, -1.0730661807120018e+22, -5.991479920720597e+21, -3.1357342454714314e+21, -2.4647043865731326e+21, -1.712611128650891e+21, -1.5562859238140606e+21, -1.3405492735323325e+21, -1.1447011096312489e+21, -9.128447721037329e+20, -7.403813295676798e+20, -5.352329675682333e+20, -4.0427041457179047e+20, -2.7220466725795892e+20, -1.7525096745154485e+20, -1.1957463290439759e+20, -1.0437411355290965e+20, -9.530966400531223e+19, -1.0468665848696924e+20, 1.466739046995338e+19, 3.343591338765383e+21, 4.871542517183802e+22, 5.587065480151059e+23, 5.652298309005308e+24, 6.173050086253971e+25, 2.7379719332254297e+26, 6.1777137105879404e+26, 9.37194812019844e+26, 2.0692460877156367e+27, 5.265824836469491e+27, 1.023580557589882e+28, 1.1561248660156984e+28, 4.982145331563286e+28, 7.23412807781565e+29, 1.3557314944904102e+31, 2.9150427788192675e+32, 1.555339374084457e+34, 2.0514310268820177e+36, 7.631980234735e+38, 4.631107231533536e+41, 8.633555654581204e+44, 1.7824153312102982e+48, 3.5326590152142104e+51, 5.051078045856155e+54, 7.678137682722313e+57, 3.0457614706412054e+61, 1.6077555560825905e+65, 2.2523673576457223e+68, 3.155429128879805e+71, 5.76366354640196e+74], \"yaxis\": \"y\"}],\n",
       "                        {\"height\": 600, \"legend\": {\"title\": {\"text\": \"variable\"}, \"tracegroupgap\": 0}, \"margin\": {\"t\": 60}, \"plot_bgcolor\": \"white\", \"template\": {\"data\": {\"bar\": [{\"error_x\": {\"color\": \"#2a3f5f\"}, \"error_y\": {\"color\": \"#2a3f5f\"}, \"marker\": {\"line\": {\"color\": \"#E5ECF6\", \"width\": 0.5}}, \"type\": \"bar\"}], \"barpolar\": [{\"marker\": {\"line\": {\"color\": \"#E5ECF6\", \"width\": 0.5}}, \"type\": \"barpolar\"}], \"carpet\": [{\"aaxis\": {\"endlinecolor\": \"#2a3f5f\", \"gridcolor\": \"white\", \"linecolor\": \"white\", \"minorgridcolor\": \"white\", \"startlinecolor\": \"#2a3f5f\"}, \"baxis\": {\"endlinecolor\": \"#2a3f5f\", \"gridcolor\": \"white\", \"linecolor\": \"white\", \"minorgridcolor\": \"white\", \"startlinecolor\": \"#2a3f5f\"}, \"type\": \"carpet\"}], \"choropleth\": [{\"colorbar\": {\"outlinewidth\": 0, \"ticks\": \"\"}, \"type\": \"choropleth\"}], \"contour\": [{\"colorbar\": {\"outlinewidth\": 0, \"ticks\": \"\"}, \"colorscale\": [[0.0, \"#0d0887\"], [0.1111111111111111, \"#46039f\"], [0.2222222222222222, \"#7201a8\"], [0.3333333333333333, \"#9c179e\"], [0.4444444444444444, \"#bd3786\"], [0.5555555555555556, \"#d8576b\"], [0.6666666666666666, \"#ed7953\"], [0.7777777777777778, \"#fb9f3a\"], [0.8888888888888888, \"#fdca26\"], [1.0, \"#f0f921\"]], \"type\": \"contour\"}], \"contourcarpet\": [{\"colorbar\": {\"outlinewidth\": 0, \"ticks\": \"\"}, \"type\": \"contourcarpet\"}], \"heatmap\": [{\"colorbar\": {\"outlinewidth\": 0, \"ticks\": \"\"}, \"colorscale\": [[0.0, \"#0d0887\"], [0.1111111111111111, \"#46039f\"], [0.2222222222222222, \"#7201a8\"], [0.3333333333333333, \"#9c179e\"], [0.4444444444444444, \"#bd3786\"], [0.5555555555555556, \"#d8576b\"], [0.6666666666666666, \"#ed7953\"], [0.7777777777777778, \"#fb9f3a\"], [0.8888888888888888, \"#fdca26\"], [1.0, \"#f0f921\"]], \"type\": \"heatmap\"}], \"heatmapgl\": [{\"colorbar\": {\"outlinewidth\": 0, \"ticks\": \"\"}, \"colorscale\": [[0.0, \"#0d0887\"], [0.1111111111111111, \"#46039f\"], [0.2222222222222222, \"#7201a8\"], [0.3333333333333333, \"#9c179e\"], [0.4444444444444444, \"#bd3786\"], [0.5555555555555556, \"#d8576b\"], [0.6666666666666666, \"#ed7953\"], [0.7777777777777778, \"#fb9f3a\"], [0.8888888888888888, \"#fdca26\"], [1.0, \"#f0f921\"]], \"type\": \"heatmapgl\"}], \"histogram\": [{\"marker\": {\"colorbar\": {\"outlinewidth\": 0, \"ticks\": \"\"}}, \"type\": \"histogram\"}], \"histogram2d\": [{\"colorbar\": {\"outlinewidth\": 0, \"ticks\": \"\"}, \"colorscale\": [[0.0, \"#0d0887\"], [0.1111111111111111, \"#46039f\"], [0.2222222222222222, \"#7201a8\"], [0.3333333333333333, \"#9c179e\"], [0.4444444444444444, \"#bd3786\"], [0.5555555555555556, \"#d8576b\"], [0.6666666666666666, \"#ed7953\"], [0.7777777777777778, \"#fb9f3a\"], [0.8888888888888888, \"#fdca26\"], [1.0, \"#f0f921\"]], \"type\": \"histogram2d\"}], \"histogram2dcontour\": [{\"colorbar\": {\"outlinewidth\": 0, \"ticks\": \"\"}, \"colorscale\": [[0.0, \"#0d0887\"], [0.1111111111111111, \"#46039f\"], [0.2222222222222222, \"#7201a8\"], [0.3333333333333333, \"#9c179e\"], [0.4444444444444444, \"#bd3786\"], [0.5555555555555556, \"#d8576b\"], [0.6666666666666666, \"#ed7953\"], [0.7777777777777778, \"#fb9f3a\"], [0.8888888888888888, \"#fdca26\"], [1.0, \"#f0f921\"]], \"type\": \"histogram2dcontour\"}], \"mesh3d\": [{\"colorbar\": {\"outlinewidth\": 0, \"ticks\": \"\"}, \"type\": \"mesh3d\"}], \"parcoords\": [{\"line\": {\"colorbar\": {\"outlinewidth\": 0, \"ticks\": \"\"}}, \"type\": \"parcoords\"}], \"pie\": [{\"automargin\": true, \"type\": \"pie\"}], \"scatter\": [{\"marker\": {\"colorbar\": {\"outlinewidth\": 0, \"ticks\": \"\"}}, \"type\": \"scatter\"}], \"scatter3d\": [{\"line\": {\"colorbar\": {\"outlinewidth\": 0, \"ticks\": \"\"}}, \"marker\": {\"colorbar\": {\"outlinewidth\": 0, \"ticks\": \"\"}}, \"type\": \"scatter3d\"}], \"scattercarpet\": [{\"marker\": {\"colorbar\": {\"outlinewidth\": 0, \"ticks\": \"\"}}, \"type\": \"scattercarpet\"}], \"scattergeo\": [{\"marker\": {\"colorbar\": {\"outlinewidth\": 0, \"ticks\": \"\"}}, \"type\": \"scattergeo\"}], \"scattergl\": [{\"marker\": {\"colorbar\": {\"outlinewidth\": 0, \"ticks\": \"\"}}, \"type\": \"scattergl\"}], \"scattermapbox\": [{\"marker\": {\"colorbar\": {\"outlinewidth\": 0, \"ticks\": \"\"}}, \"type\": \"scattermapbox\"}], \"scatterpolar\": [{\"marker\": {\"colorbar\": {\"outlinewidth\": 0, \"ticks\": \"\"}}, \"type\": \"scatterpolar\"}], \"scatterpolargl\": [{\"marker\": {\"colorbar\": {\"outlinewidth\": 0, \"ticks\": \"\"}}, \"type\": \"scatterpolargl\"}], \"scatterternary\": [{\"marker\": {\"colorbar\": {\"outlinewidth\": 0, \"ticks\": \"\"}}, \"type\": \"scatterternary\"}], \"surface\": [{\"colorbar\": {\"outlinewidth\": 0, \"ticks\": \"\"}, \"colorscale\": [[0.0, \"#0d0887\"], [0.1111111111111111, \"#46039f\"], [0.2222222222222222, \"#7201a8\"], [0.3333333333333333, \"#9c179e\"], [0.4444444444444444, \"#bd3786\"], [0.5555555555555556, \"#d8576b\"], [0.6666666666666666, \"#ed7953\"], [0.7777777777777778, \"#fb9f3a\"], [0.8888888888888888, \"#fdca26\"], [1.0, \"#f0f921\"]], \"type\": \"surface\"}], \"table\": [{\"cells\": {\"fill\": {\"color\": \"#EBF0F8\"}, \"line\": {\"color\": \"white\"}}, \"header\": {\"fill\": {\"color\": \"#C8D4E3\"}, \"line\": {\"color\": \"white\"}}, \"type\": \"table\"}]}, \"layout\": {\"annotationdefaults\": {\"arrowcolor\": \"#2a3f5f\", \"arrowhead\": 0, \"arrowwidth\": 1}, \"coloraxis\": {\"colorbar\": {\"outlinewidth\": 0, \"ticks\": \"\"}}, \"colorscale\": {\"diverging\": [[0, \"#8e0152\"], [0.1, \"#c51b7d\"], [0.2, \"#de77ae\"], [0.3, \"#f1b6da\"], [0.4, \"#fde0ef\"], [0.5, \"#f7f7f7\"], [0.6, \"#e6f5d0\"], [0.7, \"#b8e186\"], [0.8, \"#7fbc41\"], [0.9, \"#4d9221\"], [1, \"#276419\"]], \"sequential\": [[0.0, \"#0d0887\"], [0.1111111111111111, \"#46039f\"], [0.2222222222222222, \"#7201a8\"], [0.3333333333333333, \"#9c179e\"], [0.4444444444444444, \"#bd3786\"], [0.5555555555555556, \"#d8576b\"], [0.6666666666666666, \"#ed7953\"], [0.7777777777777778, \"#fb9f3a\"], [0.8888888888888888, \"#fdca26\"], [1.0, \"#f0f921\"]], \"sequentialminus\": [[0.0, \"#0d0887\"], [0.1111111111111111, \"#46039f\"], [0.2222222222222222, \"#7201a8\"], [0.3333333333333333, \"#9c179e\"], [0.4444444444444444, \"#bd3786\"], [0.5555555555555556, \"#d8576b\"], [0.6666666666666666, \"#ed7953\"], [0.7777777777777778, \"#fb9f3a\"], [0.8888888888888888, \"#fdca26\"], [1.0, \"#f0f921\"]]}, \"colorway\": [\"#636efa\", \"#EF553B\", \"#00cc96\", \"#ab63fa\", \"#FFA15A\", \"#19d3f3\", \"#FF6692\", \"#B6E880\", \"#FF97FF\", \"#FECB52\"], \"font\": {\"color\": \"#2a3f5f\"}, \"geo\": {\"bgcolor\": \"white\", \"lakecolor\": \"white\", \"landcolor\": \"#E5ECF6\", \"showlakes\": true, \"showland\": true, \"subunitcolor\": \"white\"}, \"hoverlabel\": {\"align\": \"left\"}, \"hovermode\": \"closest\", \"mapbox\": {\"style\": \"light\"}, \"paper_bgcolor\": \"white\", \"plot_bgcolor\": \"#E5ECF6\", \"polar\": {\"angularaxis\": {\"gridcolor\": \"white\", \"linecolor\": \"white\", \"ticks\": \"\"}, \"bgcolor\": \"#E5ECF6\", \"radialaxis\": {\"gridcolor\": \"white\", \"linecolor\": \"white\", \"ticks\": \"\"}}, \"scene\": {\"xaxis\": {\"backgroundcolor\": \"#E5ECF6\", \"gridcolor\": \"white\", \"gridwidth\": 2, \"linecolor\": \"white\", \"showbackground\": true, \"ticks\": \"\", \"zerolinecolor\": \"white\"}, \"yaxis\": {\"backgroundcolor\": \"#E5ECF6\", \"gridcolor\": \"white\", \"gridwidth\": 2, \"linecolor\": \"white\", \"showbackground\": true, \"ticks\": \"\", \"zerolinecolor\": \"white\"}, \"zaxis\": {\"backgroundcolor\": \"#E5ECF6\", \"gridcolor\": \"white\", \"gridwidth\": 2, \"linecolor\": \"white\", \"showbackground\": true, \"ticks\": \"\", \"zerolinecolor\": \"white\"}}, \"shapedefaults\": {\"line\": {\"color\": \"#2a3f5f\"}}, \"ternary\": {\"aaxis\": {\"gridcolor\": \"white\", \"linecolor\": \"white\", \"ticks\": \"\"}, \"baxis\": {\"gridcolor\": \"white\", \"linecolor\": \"white\", \"ticks\": \"\"}, \"bgcolor\": \"#E5ECF6\", \"caxis\": {\"gridcolor\": \"white\", \"linecolor\": \"white\", \"ticks\": \"\"}}, \"title\": {\"x\": 0.05}, \"xaxis\": {\"automargin\": true, \"gridcolor\": \"white\", \"linecolor\": \"white\", \"ticks\": \"\", \"title\": {\"standoff\": 15}, \"zerolinecolor\": \"white\", \"zerolinewidth\": 2}, \"yaxis\": {\"automargin\": true, \"gridcolor\": \"white\", \"linecolor\": \"white\", \"ticks\": \"\", \"title\": {\"standoff\": 15}, \"zerolinecolor\": \"white\", \"zerolinewidth\": 2}}}, \"title\": {\"text\": \"Density\"}, \"width\": 900, \"xaxis\": {\"anchor\": \"y\", \"domain\": [0.0, 1.0], \"showgrid\": false, \"title\": {\"text\": \"actual\"}}, \"yaxis\": {\"anchor\": \"x\", \"domain\": [0.0, 1.0], \"showgrid\": false, \"title\": {\"text\": \"value\"}}},\n",
       "                        {\"responsive\": true}\n",
       "                    ).then(function(){\n",
       "                            \n",
       "var gd = document.getElementById('07c2d2c2-17ce-487e-a832-401f2d12a9ee');\n",
       "var x = new MutationObserver(function (mutations, observer) {{\n",
       "        var display = window.getComputedStyle(gd).display;\n",
       "        if (!display || display === 'none') {{\n",
       "            console.log([gd, 'removed!']);\n",
       "            Plotly.purge(gd);\n",
       "            observer.disconnect();\n",
       "        }}\n",
       "}});\n",
       "\n",
       "// Listen for the removal of the full notebook cells\n",
       "var notebookContainer = gd.closest('#notebook-container');\n",
       "if (notebookContainer) {{\n",
       "    x.observe(notebookContainer, {childList: true});\n",
       "}}\n",
       "\n",
       "// Listen for the clearing of the current output cell\n",
       "var outputEl = gd.closest('.output');\n",
       "if (outputEl) {{\n",
       "    x.observe(outputEl, {childList: true});\n",
       "}}\n",
       "\n",
       "                        })\n",
       "                };\n",
       "                });\n",
       "            </script>\n",
       "        </div>"
      ]
     },
     "metadata": {},
     "output_type": "display_data"
    }
   ],
   "source": [
    "sam = pd.DataFrame({'actual':train.iloc[:,19], 'pred':predy})\n",
    "\n",
    "fig = px.line(sam, x=\"actual\", y=[\"pred\"])\n",
    "fig.update_layout(plot_bgcolor='white',xaxis_showgrid=False, \n",
    "              yaxis_showgrid=False,width=900, height=600,\n",
    "              title='Density')\n",
    "\n",
    "## 다소 선행"
   ]
  },
  {
   "cell_type": "code",
   "execution_count": 142,
   "metadata": {
    "scrolled": true
   },
   "outputs": [
    {
     "data": {
      "text/html": [
       "<div>\n",
       "<style scoped>\n",
       "    .dataframe tbody tr th:only-of-type {\n",
       "        vertical-align: middle;\n",
       "    }\n",
       "\n",
       "    .dataframe tbody tr th {\n",
       "        vertical-align: top;\n",
       "    }\n",
       "\n",
       "    .dataframe thead th {\n",
       "        text-align: right;\n",
       "    }\n",
       "</style>\n",
       "<table border=\"1\" class=\"dataframe\">\n",
       "  <thead>\n",
       "    <tr style=\"text-align: right;\">\n",
       "      <th></th>\n",
       "      <th>var</th>\n",
       "      <th>mse</th>\n",
       "      <th>coef</th>\n",
       "    </tr>\n",
       "  </thead>\n",
       "  <tbody>\n",
       "    <tr>\n",
       "      <td>8</td>\n",
       "      <td>1week_before_infected</td>\n",
       "      <td>23943.151123</td>\n",
       "      <td>1.680463e+71</td>\n",
       "    </tr>\n",
       "    <tr>\n",
       "      <td>17</td>\n",
       "      <td>2week_before_infected</td>\n",
       "      <td>23976.234073</td>\n",
       "      <td>1.636551e+71</td>\n",
       "    </tr>\n",
       "    <tr>\n",
       "      <td>3</td>\n",
       "      <td>1week_before_AVG_COEF</td>\n",
       "      <td>24394.711332</td>\n",
       "      <td>3.085144e+72</td>\n",
       "    </tr>\n",
       "    <tr>\n",
       "      <td>12</td>\n",
       "      <td>2week_before_AVG_COEF</td>\n",
       "      <td>24405.637036</td>\n",
       "      <td>2.613813e+72</td>\n",
       "    </tr>\n",
       "    <tr>\n",
       "      <td>14</td>\n",
       "      <td>2week_before_B_Sv</td>\n",
       "      <td>24842.244145</td>\n",
       "      <td>1.535408e+72</td>\n",
       "    </tr>\n",
       "    <tr>\n",
       "      <td>5</td>\n",
       "      <td>1week_before_B_Sv</td>\n",
       "      <td>24846.444480</td>\n",
       "      <td>1.514508e+72</td>\n",
       "    </tr>\n",
       "    <tr>\n",
       "      <td>15</td>\n",
       "      <td>2week_before_Density</td>\n",
       "      <td>26976.981899</td>\n",
       "      <td>3.553701e+72</td>\n",
       "    </tr>\n",
       "    <tr>\n",
       "      <td>6</td>\n",
       "      <td>1week_before_Density</td>\n",
       "      <td>27149.961309</td>\n",
       "      <td>2.169647e+72</td>\n",
       "    </tr>\n",
       "    <tr>\n",
       "      <td>16</td>\n",
       "      <td>2week_before_Modularity</td>\n",
       "      <td>27204.481723</td>\n",
       "      <td>9.013160e+71</td>\n",
       "    </tr>\n",
       "    <tr>\n",
       "      <td>7</td>\n",
       "      <td>1week_before_Modularity</td>\n",
       "      <td>27377.186479</td>\n",
       "      <td>5.562810e+71</td>\n",
       "    </tr>\n",
       "    <tr>\n",
       "      <td>13</td>\n",
       "      <td>2week_before_B_Cv</td>\n",
       "      <td>27524.037564</td>\n",
       "      <td>7.270849e+70</td>\n",
       "    </tr>\n",
       "    <tr>\n",
       "      <td>4</td>\n",
       "      <td>1week_before_B_Cv</td>\n",
       "      <td>27708.757251</td>\n",
       "      <td>4.323863e+70</td>\n",
       "    </tr>\n",
       "    <tr>\n",
       "      <td>11</td>\n",
       "      <td>2week_before_AD_Sv</td>\n",
       "      <td>27839.560405</td>\n",
       "      <td>2.101264e+71</td>\n",
       "    </tr>\n",
       "    <tr>\n",
       "      <td>2</td>\n",
       "      <td>1week_before_AD_Sv</td>\n",
       "      <td>28044.922540</td>\n",
       "      <td>1.174419e+71</td>\n",
       "    </tr>\n",
       "    <tr>\n",
       "      <td>10</td>\n",
       "      <td>2week_before_AD_Pv</td>\n",
       "      <td>31182.021550</td>\n",
       "      <td>1.995950e+69</td>\n",
       "    </tr>\n",
       "    <tr>\n",
       "      <td>9</td>\n",
       "      <td>2week_before_AD_Cv</td>\n",
       "      <td>31432.973417</td>\n",
       "      <td>7.033080e+68</td>\n",
       "    </tr>\n",
       "    <tr>\n",
       "      <td>1</td>\n",
       "      <td>1week_before_AD_Pv</td>\n",
       "      <td>31558.403774</td>\n",
       "      <td>7.598555e+68</td>\n",
       "    </tr>\n",
       "    <tr>\n",
       "      <td>0</td>\n",
       "      <td>1week_before_AD_Cv</td>\n",
       "      <td>31813.605713</td>\n",
       "      <td>2.657818e+68</td>\n",
       "    </tr>\n",
       "  </tbody>\n",
       "</table>\n",
       "</div>"
      ],
      "text/plain": [
       "                        var           mse          coef\n",
       "8     1week_before_infected  23943.151123  1.680463e+71\n",
       "17    2week_before_infected  23976.234073  1.636551e+71\n",
       "3     1week_before_AVG_COEF  24394.711332  3.085144e+72\n",
       "12    2week_before_AVG_COEF  24405.637036  2.613813e+72\n",
       "14        2week_before_B_Sv  24842.244145  1.535408e+72\n",
       "5         1week_before_B_Sv  24846.444480  1.514508e+72\n",
       "15     2week_before_Density  26976.981899  3.553701e+72\n",
       "6      1week_before_Density  27149.961309  2.169647e+72\n",
       "16  2week_before_Modularity  27204.481723  9.013160e+71\n",
       "7   1week_before_Modularity  27377.186479  5.562810e+71\n",
       "13        2week_before_B_Cv  27524.037564  7.270849e+70\n",
       "4         1week_before_B_Cv  27708.757251  4.323863e+70\n",
       "11       2week_before_AD_Sv  27839.560405  2.101264e+71\n",
       "2        1week_before_AD_Sv  28044.922540  1.174419e+71\n",
       "10       2week_before_AD_Pv  31182.021550  1.995950e+69\n",
       "9        2week_before_AD_Cv  31432.973417  7.033080e+68\n",
       "1        1week_before_AD_Pv  31558.403774  7.598555e+68\n",
       "0        1week_before_AD_Cv  31813.605713  2.657818e+68"
      ]
     },
     "execution_count": 142,
     "metadata": {},
     "output_type": "execute_result"
    }
   ],
   "source": [
    "pd.DataFrame({'var':train.columns[:18], 'mse' : scores , 'coef' : coef}).sort_values(by='mse')"
   ]
  },
  {
   "cell_type": "code",
   "execution_count": 143,
   "metadata": {},
   "outputs": [
    {
     "data": {
      "text/plain": [
       "<matplotlib.axes._subplots.AxesSubplot at 0x1f6f09e6948>"
      ]
     },
     "execution_count": 143,
     "metadata": {},
     "output_type": "execute_result"
    },
    {
     "data": {
      "text/plain": [
       "0.9487006346720146"
      ]
     },
     "execution_count": 143,
     "metadata": {},
     "output_type": "execute_result"
    },
    {
     "data": {
      "image/png": "[encoded data removed]",
      "text/plain": [
       "<Figure size 432x288 with 1 Axes>"
      ]
     },
     "metadata": {
      "needs_background": "light"
     },
     "output_type": "display_data"
    }
   ],
   "source": [
    "tt = pd.DataFrame({'실제':np.log(y_train) , '예측':np.log(predy)})\n",
    "sns.regplot(data = tt,x='실제',y='예측')\n",
    "tt['실제'].corr(tt['예측'])"
   ]
  },
  {
   "cell_type": "code",
   "execution_count": null,
   "metadata": {},
   "outputs": [],
   "source": []
  }
 ],
 "metadata": {
  "kernelspec": {
   "display_name": "Python 3",
   "language": "python",
   "name": "python3"
  },
  "language_info": {
   "codemirror_mode": {
    "name": "ipython",
    "version": 3
   },
   "file_extension": ".py",
   "mimetype": "text/x-python",
   "name": "python",
   "nbconvert_exporter": "python",
   "pygments_lexer": "ipython3",
   "version": "3.7.4"
  }
 },
 "nbformat": 4,
 "nbformat_minor": 2
}
